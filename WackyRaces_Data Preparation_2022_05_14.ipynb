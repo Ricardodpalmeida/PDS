{
 "cells": [
  {
   "cell_type": "markdown",
   "id": "3934adb9",
   "metadata": {},
   "source": [
    "# Dataset Preparation"
   ]
  },
  {
   "cell_type": "markdown",
   "id": "dcaa02bc",
   "metadata": {},
   "source": [
    "## Libraries"
   ]
  },
  {
   "cell_type": "markdown",
   "id": "c9a7b499",
   "metadata": {},
   "source": [
    "Teresa\n",
    "For the dataset preparation, we will be doing: web scrapping from several sites, requesting API access and using Azure databases. For that, we will require several libraries stated bellow:\n",
    "1. Web Scrappping: bs4, requests, re and urllib\n",
    "2. API requests: requests\n",
    "3. Azure access: pyobdc"
   ]
  },
  {
   "cell_type": "markdown",
   "id": "deb16d14",
   "metadata": {},
   "source": [
    "Nuno\n",
    "For the dataset preparation, since we will be doing web scrapping from several sites, requesting api access and also using Azure databases we will require several libraries stated bellow:"
   ]
  },
  {
   "cell_type": "code",
   "execution_count": 1,
   "id": "1da7ae47",
   "metadata": {},
   "outputs": [],
   "source": [
    "#Libraries for web scrapping\n",
    "#For further information\n",
    "#Beautiful Soup: https://beautiful-soup-4.readthedocs.io/en/latest/\n",
    "#https://docs.python-requests.org/en/latest/\n",
    "#https://docs.python.org/3/library/re.html\n",
    "#https://docs.python.org/3/library/urllib.request.html\n",
    "from bs4 import BeautifulSoup\n",
    "import requests\n",
    "import re\n",
    "import urllib.request\n",
    "\n",
    "#Module to work and make access Azure\n",
    "#For further Documentation visit: https://pypi.org/project/pyodbc/\n",
    "import pyodbc\n",
    "\n",
    "#NumPy and Pandas libraries\n",
    "import numpy as np\n",
    "import pandas as pd"
   ]
  },
  {
   "cell_type": "code",
   "execution_count": 2,
   "id": "2e36d501",
   "metadata": {},
   "outputs": [],
   "source": [
    "#Additional settings, from Pandas, to display all columns and 20 rows\n",
    "pd.set_option('display.max_columns', None)\n",
    "pd.set_option('display.max_rows', 20)"
   ]
  },
  {
   "cell_type": "markdown",
   "id": "62db0ae2",
   "metadata": {},
   "source": [
    "1. Web Scrappping: bs4, requests, re and  urllib\n",
    "2. API requests: requests\n",
    "3. Azure access: pyobdc"
   ]
  },
  {
   "cell_type": "markdown",
   "id": "186a5d7e",
   "metadata": {},
   "source": [
    "Teresa:\n",
    "\n",
    "To gather information from the web, we will require to repeat the same code several times, to extract the same information for each year (2015 to 2021). We defined four functions, because of the changes occured in the websites structures, in order to have more control over the information that we will be extracting.\n",
    "\n",
    "The four functions are:\n",
    "1. Links_Extraction\n",
    "2. fia_f1_data\n",
    "3. fia_f1_session\n",
    "4. f1_gp_circuits"
   ]
  },
  {
   "cell_type": "markdown",
   "id": "09ec474b",
   "metadata": {},
   "source": [
    "Nuno\n",
    "## Functions\n",
    "\n",
    "To gather information from the web we will require to repeat the same code several times, meaning that we will extract the same information for each year (2015 to 2021). The reason why we haven't coded only one function is because the website structures do change all over the years and this way we will have more control over the information we will be extracting.\n",
    "\n",
    "We have prepared 4 functions to help extracting the information each year:\n",
    "1. Links_Extraction\n",
    "2. fia_f1_data\n",
    "3. fia_f1_session\n",
    "4. f1_gp_circuits\n",
    "\n",
    "Let's cover a brief description on what they do."
   ]
  },
  {
   "cell_type": "markdown",
   "id": "47bdac8c",
   "metadata": {},
   "source": [
    "### Links_Extraction\n",
    "\n",
    "This function is used to extract all the relevant links to pass to another function for extraction. The output is a list.\n",
    "\n",
    "We have 2 paramenters **url** which is the page we want to know the links available, lets say https://www.fia.com/f1-archives?season=1108 and since these pages have a lot of links we are only interested in a few, we added another parameter called **url_string**, where we pass a string contained in the url that we want. In case we want the main information from the race we know that those links contain the string *'race-classification'* so we would search only for those.\n",
    "\n",
    "The function is defined below.\n"
   ]
  },
  {
   "cell_type": "code",
   "execution_count": 3,
   "id": "63f1e035",
   "metadata": {},
   "outputs": [],
   "source": [
    "\n",
    "def Links_Extraction(url, url_string):\n",
    "    '''\n",
    "    Description: Function to extract links from a given url and store it to a list\n",
    "    Parameters:\n",
    "        url: Webpage to search for any given links\n",
    "        url_string: Search for links that contain a specific string\n",
    "    Usage: \n",
    "        Links_Extraction(url = 'https://www.fia.com/f1-archives', url_string = 'session')\n",
    "    '''\n",
    "    \n",
    "    response = requests.get(url)\n",
    "    html_document = response.text\n",
    "    soup = BeautifulSoup(html_document, 'html.parser')\n",
    "    \n",
    "    links = []\n",
    "    for link in soup.find_all('a', attrs={'href': re.compile(url_string)}):\n",
    "        links.append(link.get('href'))\n",
    "    \n",
    "    return links"
   ]
  },
  {
   "cell_type": "markdown",
   "id": "4e20fd65",
   "metadata": {},
   "source": [
    "So let us try this code with the link provided above and for the *race classification* links:"
   ]
  },
  {
   "cell_type": "code",
   "execution_count": 4,
   "id": "a381b689",
   "metadata": {
    "scrolled": true
   },
   "outputs": [
    {
     "data": {
      "text/plain": [
       "['/events/fia-formula-one-world-championship/season-2021/bahrain-grand-prix/race-classification',\n",
       " '/events/fia-formula-one-world-championship/season-2021/emilia-romagna-grand-prix/race-classification',\n",
       " '/events/fia-formula-one-world-championship/season-2021/portuguese-grand-prix/race-classification',\n",
       " '/events/fia-formula-one-world-championship/season-2021/spanish-grand-prix/race-classification',\n",
       " '/events/fia-formula-one-world-championship/season-2021/monaco-grand-prix/race-classification',\n",
       " '/events/fia-formula-one-world-championship/season-2021/azerbaijan-grand-prix/race-classification',\n",
       " '/events/fia-formula-one-world-championship/season-2021/french-grand-prix/race-classification',\n",
       " '/events/fia-formula-one-world-championship/season-2021/styrian-grand-prix/race-classification',\n",
       " '/events/fia-formula-one-world-championship/season-2021/austrian-grand-prix/race-classification',\n",
       " '/events/fia-formula-one-world-championship/season-2021/british-grand-prix/race-classification',\n",
       " '/events/fia-formula-one-world-championship/season-2021/hungarian-grand-prix/race-classification',\n",
       " '/events/fia-formula-one-world-championship/season-2021/belgian-grand-prix/race-classification',\n",
       " '/events/fia-formula-one-world-championship/season-2021/dutch-grand-prix/race-classification',\n",
       " '/events/fia-formula-one-world-championship/season-2021/italian-grand-prix/race-classification',\n",
       " '/events/fia-formula-one-world-championship/season-2021/russian-grand-prix/race-classification',\n",
       " '/events/fia-formula-one-world-championship/season-2021/turkish-grand-prix/race-classification',\n",
       " '/events/fia-formula-one-world-championship/season-2021/united-states-grand-prix/race-classification',\n",
       " '/events/fia-formula-one-world-championship/season-2021/mexican-grand-prix/race-classification',\n",
       " '/events/fia-formula-one-world-championship/season-2021/brazilian-grand-prix/race-classification',\n",
       " '/events/fia-formula-one-world-championship/season-2021/qatar-grand-prix/race-classification',\n",
       " '/events/fia-formula-one-world-championship/season-2021/saudi-arabia-grand-prix/race-classification',\n",
       " '/events/fia-formula-one-world-championship/season-2021/abu-dhabi-grand-prix/race-classification']"
      ]
     },
     "execution_count": 4,
     "metadata": {},
     "output_type": "execute_result"
    }
   ],
   "source": [
    "Links_Extraction(url = 'https://www.fia.com/f1-archives?season=1108', url_string = 'race-classification')"
   ]
  },
  {
   "cell_type": "markdown",
   "id": "10f86720",
   "metadata": {},
   "source": [
    "If needed, we can tweek the output to just the relevant pages, meaning that during the COVID outbreak there were some cancelations and some grand prix pages were setup, but no data was added since they were cancelled. This function can the be applied to any page."
   ]
  },
  {
   "cell_type": "markdown",
   "id": "3be99d4f",
   "metadata": {},
   "source": [
    "### f1_gp_circuits\n",
    "\n",
    "This function extracts the name of the race and date of the actual Grand Prix (GP) from the espn.com website - https://www.espn.com/f1/schedule/_/year/2022. With this information, we will use it to check the links we will feed on the other functions.\n",
    "\n",
    "This function will do a small prerocessing on the race field in order to prepare a colummn called GP with a simple string to identify the Grand Prix, which will be used to merge more data at a later time.\n",
    "\n",
    "This function only uses one parameter - season and by default is 2022"
   ]
  },
  {
   "cell_type": "code",
   "execution_count": 5,
   "id": "6c9f9131",
   "metadata": {},
   "outputs": [],
   "source": [
    "# grand prix country list taken by date of ocorrence\n",
    "def f1_gp_circuits(season = 2022):\n",
    "    '''\n",
    "    Description: Extracts the Race Name and GP and ordered by date of occurence from espn.com\n",
    "    Parameters:\n",
    "        season: Year to which we want to retrieve information on the Grand Prix. By default season is set to 2022\n",
    "    Usage:\n",
    "        f1_gp_circuits(season = 2021)\n",
    "    '''\n",
    "    print('Season: ' + str(season) + ' | Source: espn.com')\n",
    "    url = f'https://www.espn.com/f1/schedule/_/year/{season}'\n",
    "\n",
    "    source = urllib.request.urlopen(url).read()\n",
    "    soup = BeautifulSoup(source,'lxml')\n",
    "    table = soup.find_all('table')[0]\n",
    "    df = pd.read_html(str(table), flavor='bs4', header=[0])[0]\n",
    "    df.drop(['Winner/Lights Out','TV'],axis=1, inplace=True)\n",
    "\n",
    "    gp = df['Race'].str.split(' GP',n = 1, expand = True)\n",
    "    df['GP'] = gp[0].str.lower()\n",
    "    # correction on the names that will feed the links\n",
    "    df['GP'] = df['GP'].str.replace('socar ', '')\n",
    "    df['GP'] = df['GP'].str.replace('vtb ', '')\n",
    "    df['GP'] = df['GP'].str.replace('arabian', 'arabia')\n",
    "    df['GP'] = df['GP'].str.replace('etihad airways ', '')\n",
    "    df['GP'] = df['GP'].str.replace(' ', '-')\n",
    "    df['GP'] = df['GP'].str.replace('singapore-airlines-singapore-gmarina-bay-street-circuit', 'singapore')\n",
    "    df['GP'] = df['GP'].str.replace('mercedes-benz-german', 'german')\n",
    "    df['GP'] = df['GP'].str.replace('rolex-british','british')\n",
    "    return df"
   ]
  },
  {
   "cell_type": "markdown",
   "id": "04450ed4",
   "metadata": {},
   "source": [
    "We can use this function by simply choosing a season."
   ]
  },
  {
   "cell_type": "code",
   "execution_count": 7,
   "id": "722fa377",
   "metadata": {},
   "outputs": [
    {
     "name": "stdout",
     "output_type": "stream",
     "text": [
      "Season: 2019 | Source: espn.com\n"
     ]
    },
    {
     "data": {
      "text/html": [
       "<div>\n",
       "<style scoped>\n",
       "    .dataframe tbody tr th:only-of-type {\n",
       "        vertical-align: middle;\n",
       "    }\n",
       "\n",
       "    .dataframe tbody tr th {\n",
       "        vertical-align: top;\n",
       "    }\n",
       "\n",
       "    .dataframe thead th {\n",
       "        text-align: right;\n",
       "    }\n",
       "</style>\n",
       "<table border=\"1\" class=\"dataframe\">\n",
       "  <thead>\n",
       "    <tr style=\"text-align: right;\">\n",
       "      <th></th>\n",
       "      <th>Date</th>\n",
       "      <th>Race</th>\n",
       "      <th>GP</th>\n",
       "    </tr>\n",
       "  </thead>\n",
       "  <tbody>\n",
       "    <tr>\n",
       "      <th>0</th>\n",
       "      <td>Mar 15 - 17</td>\n",
       "      <td>Australian GPMelbourne Grand Prix Circuit</td>\n",
       "      <td>australian</td>\n",
       "    </tr>\n",
       "    <tr>\n",
       "      <th>1</th>\n",
       "      <td>Mar 29 - 31</td>\n",
       "      <td>Bahrain GPBahrain International Circuit</td>\n",
       "      <td>bahrain</td>\n",
       "    </tr>\n",
       "    <tr>\n",
       "      <th>2</th>\n",
       "      <td>Apr 12 - 14</td>\n",
       "      <td>Chinese GPShanghai International Circuit</td>\n",
       "      <td>chinese</td>\n",
       "    </tr>\n",
       "    <tr>\n",
       "      <th>3</th>\n",
       "      <td>Apr 26 - 28</td>\n",
       "      <td>Socar Azerbaijan GPBaku City Circuit</td>\n",
       "      <td>azerbaijan</td>\n",
       "    </tr>\n",
       "    <tr>\n",
       "      <th>4</th>\n",
       "      <td>May 10 - 12</td>\n",
       "      <td>Spanish GPCircuit de Barcelona-Catalunya</td>\n",
       "      <td>spanish</td>\n",
       "    </tr>\n",
       "    <tr>\n",
       "      <th>...</th>\n",
       "      <td>...</td>\n",
       "      <td>...</td>\n",
       "      <td>...</td>\n",
       "    </tr>\n",
       "    <tr>\n",
       "      <th>16</th>\n",
       "      <td>Oct 11 - 13</td>\n",
       "      <td>Japanese GPSuzuka International Racing Course</td>\n",
       "      <td>japanese</td>\n",
       "    </tr>\n",
       "    <tr>\n",
       "      <th>17</th>\n",
       "      <td>Oct 25 - 27</td>\n",
       "      <td>Mexican GPAutodromo Hermanos Rodriguez</td>\n",
       "      <td>mexican</td>\n",
       "    </tr>\n",
       "    <tr>\n",
       "      <th>18</th>\n",
       "      <td>Nov 1 - 3</td>\n",
       "      <td>United States GPCircuit of the Americas</td>\n",
       "      <td>united-states</td>\n",
       "    </tr>\n",
       "    <tr>\n",
       "      <th>19</th>\n",
       "      <td>Nov 15 - 17</td>\n",
       "      <td>Brazilian GPAutodromo Jose Carlos Pace</td>\n",
       "      <td>brazilian</td>\n",
       "    </tr>\n",
       "    <tr>\n",
       "      <th>20</th>\n",
       "      <td>Nov 29 - Dec 1</td>\n",
       "      <td>Etihad Airways Abu Dhabi GPYas Marina Circuit</td>\n",
       "      <td>abu-dhabi</td>\n",
       "    </tr>\n",
       "  </tbody>\n",
       "</table>\n",
       "<p>21 rows × 3 columns</p>\n",
       "</div>"
      ],
      "text/plain": [
       "              Date                                           Race  \\\n",
       "0      Mar 15 - 17      Australian GPMelbourne Grand Prix Circuit   \n",
       "1      Mar 29 - 31        Bahrain GPBahrain International Circuit   \n",
       "2      Apr 12 - 14       Chinese GPShanghai International Circuit   \n",
       "3      Apr 26 - 28           Socar Azerbaijan GPBaku City Circuit   \n",
       "4      May 10 - 12       Spanish GPCircuit de Barcelona-Catalunya   \n",
       "..             ...                                            ...   \n",
       "16     Oct 11 - 13  Japanese GPSuzuka International Racing Course   \n",
       "17     Oct 25 - 27         Mexican GPAutodromo Hermanos Rodriguez   \n",
       "18       Nov 1 - 3        United States GPCircuit of the Americas   \n",
       "19     Nov 15 - 17         Brazilian GPAutodromo Jose Carlos Pace   \n",
       "20  Nov 29 - Dec 1  Etihad Airways Abu Dhabi GPYas Marina Circuit   \n",
       "\n",
       "               GP  \n",
       "0      australian  \n",
       "1         bahrain  \n",
       "2         chinese  \n",
       "3      azerbaijan  \n",
       "4         spanish  \n",
       "..            ...  \n",
       "16       japanese  \n",
       "17        mexican  \n",
       "18  united-states  \n",
       "19      brazilian  \n",
       "20      abu-dhabi  \n",
       "\n",
       "[21 rows x 3 columns]"
      ]
     },
     "execution_count": 7,
     "metadata": {},
     "output_type": "execute_result"
    }
   ],
   "source": [
    "f1_gp_circuits(season = 2019)"
   ]
  },
  {
   "cell_type": "markdown",
   "id": "f957f2df",
   "metadata": {},
   "source": [
    "### fia_f1 data and season functions\n",
    "\n",
    "Although, these are two different functions they work on the same principle, we feed them with the **season**, **gp_city** and the **gp_links** list we have prepared previously with the function Links_Extraction.\n",
    "\n",
    "#### fia_f1_data\n",
    "\n",
    "This function will extract data from the race classification page, regarding team, pilots, classification fastest laps, best sector times, speed traps, maximum speeds and pit stops for each GP.\n",
    "\n",
    "#### fia_f1_season\n",
    "\n",
    "This function will extract data from the season classification page, regarding initial qualification and grid for each GP.\n",
    "\n",
    "Both functions use BeautifulSoup package to extract information from the tables the page holds. That information is selected and renamed appropriately for each GP link we feed. In the end we have a data set that holds all this information for all the GP contained in that season.\n",
    "\n",
    "Check the code below for the two functions:"
   ]
  },
  {
   "cell_type": "code",
   "execution_count": 8,
   "id": "677c1ea0",
   "metadata": {},
   "outputs": [],
   "source": [
    "\n",
    "def fia_f1_data(season, gp_city, gp_link):\n",
    "    '''\n",
    "    Description: Prepare dataset by season for team, pilots, classification fastest laps, best sector times,\n",
    "    speed traps, maximum speeds and pit stops for each GP\n",
    "    Parmeters:\n",
    "        season: corresponding season (year)\n",
    "        gp_city: list generated by f1_gp_circuits function\n",
    "        gp_links: list of links corresponding to different races for the same season\n",
    "    Usage:\n",
    "        df_2021_data = fia_f1_session(2021, gp_city = city_21, gp_link = links_data_21)\n",
    "    '''\n",
    "    print('Season: ' + str(season) + ' | Source: fia.com')\n",
    "\n",
    "    dataset = pd.DataFrame()\n",
    "    n = 0\n",
    "    for i in gp_link:\n",
    "        url = f'https://www.fia.com{i}'\n",
    "        print('Circuit: ' + str(gp_city[n]) + ' | ' + url)\n",
    "        \n",
    "        source = urllib.request.urlopen(url).read()\n",
    "        soup = BeautifulSoup(source,'lxml')\n",
    "\n",
    "        # classification\n",
    "        table_class = soup.find_all('table')[0] \n",
    "        df_class = pd.read_html(str(table_class), flavor='bs4', header=[1])[0]\n",
    "        df_class.drop(['Unnamed: 5'],axis=1, inplace=True)\n",
    "        name = df_class['DRIVER'].str.split(' ',n = 1, expand = True)\n",
    "        df_class['DRIVER_SNAME'] = name[0].astype(str).str[0] + '. ' + name[1]\n",
    "        df_class['GRAND_PRIX'] = gp_city[n].capitalize()\n",
    "        df_class['SEASON'] = season\n",
    "        df_class = df_class.rename (columns={'POS': 'CLASS', 'TIME': 'RACE_TIME'}) \n",
    "        n = n + 1\n",
    "\n",
    "        # fastest laps\n",
    "        table_flaps = soup.find_all('table')[1] \n",
    "        df_flaps = pd.read_html(str(table_flaps), flavor='bs4', header=[1])[0]\n",
    "        df_flaps.drop(['Unnamed: 7','Unnamed: 8'],axis=1, inplace=True)\n",
    "        df_flaps = df_flaps.rename(columns={'POS': 'FLAP_POS', 'LAP TIME': 'FLAP_TIME', 'LAP': 'F_LAP', 'GAP': 'FLAP_GAP', 'KM/H': 'FLAP_KM/H', 'TIME': 'FLAP_HOUR'}) \n",
    "\n",
    "        # best sector times\n",
    "        table_bs = soup.find_all('table')[2] \n",
    "        df_bs = pd.read_html(str(table_bs), flavor='bs4', header=[2])[0]\n",
    "        df_bs.drop(['Unnamed: 7'],axis=1, inplace=True)\n",
    "        df_bs_1 = df_bs[['POS', 'DRIVER',   'TIME']]\n",
    "        df_bs_1 = df_bs_1.rename(columns={'POS': 'BS1_POS', 'DRIVER':   'BS1_DRIVER', 'TIME':   'BS1_TIME'}) \n",
    "        df_bs_2 = df_bs[['POS', 'DRIVER.1', 'TIME.1']]\n",
    "        df_bs_2 = df_bs_2.rename(columns={'POS': 'BS2_POS', 'DRIVER.1': 'BS2_DRIVER', 'TIME.1': 'BS2_TIME'}) \n",
    "        df_bs_3 = df_bs[['POS', 'DRIVER.2', 'TIME.2']]\n",
    "        df_bs_3 = df_bs_3.rename(columns={'POS': 'BS3_POS', 'DRIVER.2': 'BS3_DRIVER', 'TIME.2': 'BS3_TIME'}) \n",
    "\n",
    "        # speed traps\n",
    "        table_straps = soup.find_all('table')[3] \n",
    "        df_straps = pd.read_html(str(table_straps), flavor='bs4', header=[1])[0]\n",
    "        df_straps.drop(['TEAM','TIME','Unnamed: 5'],axis=1, inplace=True)\n",
    "        df_straps = df_straps.rename(columns={'POS': 'ST_POS', 'KM/H': 'ST_KM/H'})\n",
    "\n",
    "        # maximum speeds\n",
    "        table_mspeeds = soup.find_all('table')[4] \n",
    "        df_mspeeds = pd.read_html(str(table_mspeeds), flavor='bs4', header=[2])[0]\n",
    "        df_mspeeds.drop(['Unnamed: 7'],axis=1, inplace=True)\n",
    "        df_mspeeds_1 = df_mspeeds[['POS', 'DRIVER',   'KM/H']]\n",
    "        df_mspeeds_1 = df_mspeeds_1.rename(columns={'POS': 'I1_POS', 'DRIVER':   'I1_DRIVER', 'KM/H':   'I1_KM/H'}) \n",
    "        df_mspeeds_2 = df_mspeeds[['POS', 'DRIVER.1', 'KM/H.1']]\n",
    "        df_mspeeds_2 = df_mspeeds_2.rename(columns={'POS': 'I2_POS', 'DRIVER.1': 'I2_DRIVER', 'KM/H.1': 'I2_KM/H'}) \n",
    "        df_mspeeds_3 = df_mspeeds[['POS', 'DRIVER.2', 'KM/H.2']]\n",
    "        df_mspeeds_3 = df_mspeeds_3.rename(columns={'POS': 'FL_POS', 'DRIVER.2': 'FL_DRIVER', 'KM/H.2': 'FL_KM/H'}) \n",
    "\n",
    "        # pit stops\n",
    "        table_pstops = soup.find_all('table')[5] \n",
    "        df_pstops = pd.read_html(str(table_pstops), flavor='bs4', header=[1])[0]\n",
    "        df_pstops = df_pstops.rename(columns={'NO': 'DRIVER_NO', 'TOTAL TIME':   'PS_TOTAL_TIME'})\n",
    "        t = df_pstops.index[df_pstops['DRIVER_NO'] == 'RACE - PIT STOP - DETAIL'].to_list() \n",
    "        df_pstops = df_pstops[:t[0]]\n",
    "        df_pstops = df_pstops[['DRIVER_NO','DRIVER','STOPS','PS_TOTAL_TIME']]\n",
    "\n",
    "        # merge information for maximum speeds and best sector tables \n",
    "        fia_df = pd.merge(df_class, df_flaps, how='left', on=['DRIVER'])\n",
    "\n",
    "        fia_df = pd.merge(fia_df, df_bs_1,  how='left', left_on='DRIVER_SNAME', right_on='BS1_DRIVER')\n",
    "        fia_df = pd.merge(fia_df, df_bs_2,  how='left', left_on='DRIVER_SNAME', right_on='BS2_DRIVER')\n",
    "        fia_df = pd.merge(fia_df, df_bs_3,  how='left', left_on='DRIVER_SNAME', right_on='BS3_DRIVER')\n",
    "        fia_df.drop(['BS1_DRIVER','BS2_DRIVER','BS3_DRIVER'],axis=1, inplace=True)\n",
    "\n",
    "        fia_df = pd.merge(fia_df,   df_straps, how='left', on=['DRIVER'])\n",
    "\n",
    "        fia_df = pd.merge(fia_df, df_mspeeds_1,  how='left', left_on='DRIVER_SNAME', right_on='I1_DRIVER')\n",
    "        fia_df = pd.merge(fia_df, df_mspeeds_2,  how='left', left_on='DRIVER_SNAME', right_on='I2_DRIVER')\n",
    "        fia_df = pd.merge(fia_df, df_mspeeds_3,  how='left', left_on='DRIVER_SNAME', right_on='FL_DRIVER')\n",
    "        fia_df.drop(['I1_DRIVER','I2_DRIVER','FL_DRIVER'],axis=1, inplace=True)\n",
    "\n",
    "        fia_df = pd.merge(fia_df, df_pstops, how='left', on=['DRIVER'])\n",
    "\n",
    "        dataset = dataset.append(fia_df)\n",
    "        \n",
    "    return dataset"
   ]
  },
  {
   "cell_type": "code",
   "execution_count": null,
   "id": "8941cd24",
   "metadata": {},
   "outputs": [],
   "source": [
    "# function to prepare dataset by season - extracts qualification and grid position\n",
    "def fia_f1_session(season, gp_city, gp_link):\n",
    "    '''Insert the season = year and grand_prix as a list with fia links'''\n",
    "    print('Season: ' + str(season) + ' | Source: fia.com')\n",
    "\n",
    "    dataset = pd.DataFrame()\n",
    "    n = 0\n",
    "    for i in gp_link:\n",
    "        url = f'https://www.fia.com{i}'\n",
    "        print('Circuit: ' + str(gp_city[n]) + ' | ' + url)\n",
    "        \n",
    "        source = urllib.request.urlopen(url).read()\n",
    "        soup = BeautifulSoup(source,'lxml')    \n",
    "        \n",
    "        #qualification\n",
    "        table_qual = soup.find_all('table')[3] \n",
    "        df_qual = pd.read_html(str(table_qual), flavor='bs4', header=[1])[0]\n",
    "        df_qual = df_qual[['POS','DRIVER','Q1','LAPS','Q2','LAPS.1','Q3','LAPS.2']]\n",
    "        df_qual = df_qual.rename (columns={'POS': 'QL_CLASS', 'Q1': 'QL_TIME1','Q2': 'QL_TIME2','Q3': 'QL_TIME3',\n",
    "                                           'LAPS':'QL_LAPS1','LAPS.1':'QL_LAPS2','LAPS.2':'QL_LAPS3'})\n",
    "        df_qual['GRAND_PRIX'] = gp_city[n].capitalize()\n",
    "        df_qual['SEASON'] = season\n",
    "\n",
    "        #grid\n",
    "        table_grid = soup.find_all('table')[4] \n",
    "        df_grid = pd.read_html(str(table_grid), flavor='bs4', header=[1])[0]\n",
    "        df_grid = df_grid[['POS','DRIVER','TIME']]\n",
    "        df_grid = df_grid.rename (columns={'POS': 'GD_CLASS', 'TIME': 'GD_TIME'})\n",
    "\n",
    "        fia_df = pd.merge(df_qual, df_grid, how='left', on=['DRIVER'])\n",
    "        n = n + 1\n",
    "        dataset = dataset.append(fia_df)\n",
    "\n",
    "    return dataset"
   ]
  },
  {
   "cell_type": "markdown",
   "id": "fb2f064b",
   "metadata": {},
   "source": [
    "Please see the usage example on the race classification for the 2017 season:"
   ]
  },
  {
   "cell_type": "code",
   "execution_count": 9,
   "id": "e15e83c2",
   "metadata": {},
   "outputs": [
    {
     "name": "stdout",
     "output_type": "stream",
     "text": [
      "Season: 2017 | Source: espn.com\n",
      "Season: 2017 | Source: fia.com\n",
      "Circuit: australian | https://www.fia.com/events/fia-formula-one-world-championship/season-2017/race-classification\n",
      "Circuit: chinese | https://www.fia.com/events/fia-formula-one-world-championship/season-2017/race-classification-7\n",
      "Circuit: bahrain | https://www.fia.com/events/fia-formula-one-world-championship/season-2017/race-classification-0\n",
      "Circuit: russian | https://www.fia.com/events/fia-formula-one-world-championship/season-2017/race-classification-8\n",
      "Circuit: spanish | https://www.fia.com/events/fia-formula-one-world-championship/season-2017/race-classification-1\n",
      "Circuit: monaco | https://www.fia.com/events/fia-formula-one-world-championship/season-2017/race-classification-2\n",
      "Circuit: canadian | https://www.fia.com/events/fia-formula-one-world-championship/season-2017/race-classification-9\n",
      "Circuit: azerbaijan | https://www.fia.com/events/fia-formula-one-world-championship/season-2017/race-classification-10\n",
      "Circuit: austrian | https://www.fia.com/events/fia-formula-one-world-championship/season-2017/race-classification-11\n",
      "Circuit: british | https://www.fia.com/events/fia-formula-one-world-championship/season-2017/race-classification-3\n",
      "Circuit: hungarian | https://www.fia.com/events/fia-formula-one-world-championship/season-2017/race-classification-12\n",
      "Circuit: belgian | https://www.fia.com/events/fia-formula-one-world-championship/season-2017/race-classification-4\n",
      "Circuit: italian | https://www.fia.com/events/fia-formula-one-world-championship/season-2017/race-classification-5\n",
      "Circuit: singapore | https://www.fia.com/events/fia-formula-one-world-championship/season-2017/race-classification-13\n",
      "Circuit: malaysian | https://www.fia.com/events/fia-formula-one-world-championship/season-2017/race-classification-14\n",
      "Circuit: japanese | https://www.fia.com/events/fia-formula-one-world-championship/season-2017/race-classification-6\n",
      "Circuit: united-states | https://www.fia.com/events/fia-formula-one-world-championship/season-2017/race-classification-15\n",
      "Circuit: mexican | https://www.fia.com/events/fia-formula-one-world-championship/season-2017/race-classification-16\n",
      "Circuit: brazilian | https://www.fia.com/events/fia-formula-one-world-championship/season-2017/race-classification-17\n",
      "Circuit: abu-dhabi | https://www.fia.com/events/fia-formula-one-world-championship/season-2017/race-classification-18\n"
     ]
    },
    {
     "data": {
      "text/html": [
       "<div>\n",
       "<style scoped>\n",
       "    .dataframe tbody tr th:only-of-type {\n",
       "        vertical-align: middle;\n",
       "    }\n",
       "\n",
       "    .dataframe tbody tr th {\n",
       "        vertical-align: top;\n",
       "    }\n",
       "\n",
       "    .dataframe thead th {\n",
       "        text-align: right;\n",
       "    }\n",
       "</style>\n",
       "<table border=\"1\" class=\"dataframe\">\n",
       "  <thead>\n",
       "    <tr style=\"text-align: right;\">\n",
       "      <th></th>\n",
       "      <th>CLASS</th>\n",
       "      <th>DRIVER</th>\n",
       "      <th>TEAM</th>\n",
       "      <th>LAPS</th>\n",
       "      <th>RACE_TIME</th>\n",
       "      <th>DRIVER_SNAME</th>\n",
       "      <th>GRAND_PRIX</th>\n",
       "      <th>SEASON</th>\n",
       "      <th>FLAP_POS</th>\n",
       "      <th>FLAP_TIME</th>\n",
       "      <th>F_LAP</th>\n",
       "      <th>FLAP_GAP</th>\n",
       "      <th>FLAP_KM/H</th>\n",
       "      <th>FLAP_HOUR</th>\n",
       "      <th>BS1_POS</th>\n",
       "      <th>BS1_TIME</th>\n",
       "      <th>BS2_POS</th>\n",
       "      <th>BS2_TIME</th>\n",
       "      <th>BS3_POS</th>\n",
       "      <th>BS3_TIME</th>\n",
       "      <th>ST_POS</th>\n",
       "      <th>ST_KM/H</th>\n",
       "      <th>I1_POS</th>\n",
       "      <th>I1_KM/H</th>\n",
       "      <th>I2_POS</th>\n",
       "      <th>I2_KM/H</th>\n",
       "      <th>FL_POS</th>\n",
       "      <th>FL_KM/H</th>\n",
       "      <th>DRIVER_NO</th>\n",
       "      <th>STOPS</th>\n",
       "      <th>PS_TOTAL_TIME</th>\n",
       "    </tr>\n",
       "  </thead>\n",
       "  <tbody>\n",
       "    <tr>\n",
       "      <th>0</th>\n",
       "      <td>1</td>\n",
       "      <td>Sebastian Vettel</td>\n",
       "      <td>Scuderia Ferrari</td>\n",
       "      <td>57</td>\n",
       "      <td>1:24:11.672</td>\n",
       "      <td>S. Vettel</td>\n",
       "      <td>Australian</td>\n",
       "      <td>2017</td>\n",
       "      <td>3.0</td>\n",
       "      <td>1:26.638</td>\n",
       "      <td>53.0</td>\n",
       "      <td>0.100</td>\n",
       "      <td>220.351</td>\n",
       "      <td>17:24:49</td>\n",
       "      <td>6.0</td>\n",
       "      <td>29.083</td>\n",
       "      <td>2.0</td>\n",
       "      <td>23.164</td>\n",
       "      <td>1.0</td>\n",
       "      <td>34.385</td>\n",
       "      <td>9.0</td>\n",
       "      <td>314.6</td>\n",
       "      <td>4.0</td>\n",
       "      <td>280.8</td>\n",
       "      <td>3.0</td>\n",
       "      <td>298.8</td>\n",
       "      <td>5.0</td>\n",
       "      <td>305.1</td>\n",
       "      <td>5</td>\n",
       "      <td>1</td>\n",
       "      <td>21.988</td>\n",
       "    </tr>\n",
       "    <tr>\n",
       "      <th>1</th>\n",
       "      <td>2</td>\n",
       "      <td>Lewis Hamilton</td>\n",
       "      <td>Mercedes AMG Petronas F1 Team</td>\n",
       "      <td>57</td>\n",
       "      <td>1:24:21.647</td>\n",
       "      <td>L. Hamilton</td>\n",
       "      <td>Australian</td>\n",
       "      <td>2017</td>\n",
       "      <td>6.0</td>\n",
       "      <td>1:27.033</td>\n",
       "      <td>44.0</td>\n",
       "      <td>0.495</td>\n",
       "      <td>219.351</td>\n",
       "      <td>17:11:49</td>\n",
       "      <td>3.0</td>\n",
       "      <td>28.989</td>\n",
       "      <td>6.0</td>\n",
       "      <td>23.243</td>\n",
       "      <td>6.0</td>\n",
       "      <td>34.584</td>\n",
       "      <td>4.0</td>\n",
       "      <td>318.0</td>\n",
       "      <td>2.0</td>\n",
       "      <td>283.9</td>\n",
       "      <td>1.0</td>\n",
       "      <td>300.0</td>\n",
       "      <td>2.0</td>\n",
       "      <td>308.3</td>\n",
       "      <td>44</td>\n",
       "      <td>1</td>\n",
       "      <td>21.709</td>\n",
       "    </tr>\n",
       "    <tr>\n",
       "      <th>2</th>\n",
       "      <td>3</td>\n",
       "      <td>Valtteri Bottas</td>\n",
       "      <td>Mercedes AMG Petronas F1 Team</td>\n",
       "      <td>57</td>\n",
       "      <td>1:24:22.922</td>\n",
       "      <td>V. Bottas</td>\n",
       "      <td>Australian</td>\n",
       "      <td>2017</td>\n",
       "      <td>2.0</td>\n",
       "      <td>1:26.593</td>\n",
       "      <td>56.0</td>\n",
       "      <td>0.055</td>\n",
       "      <td>220.465</td>\n",
       "      <td>17:29:23</td>\n",
       "      <td>1.0</td>\n",
       "      <td>28.885</td>\n",
       "      <td>3.0</td>\n",
       "      <td>23.168</td>\n",
       "      <td>4.0</td>\n",
       "      <td>34.453</td>\n",
       "      <td>6.0</td>\n",
       "      <td>316.3</td>\n",
       "      <td>1.0</td>\n",
       "      <td>284.9</td>\n",
       "      <td>5.0</td>\n",
       "      <td>297.9</td>\n",
       "      <td>6.0</td>\n",
       "      <td>304.9</td>\n",
       "      <td>77</td>\n",
       "      <td>1</td>\n",
       "      <td>21.440</td>\n",
       "    </tr>\n",
       "    <tr>\n",
       "      <th>3</th>\n",
       "      <td>4</td>\n",
       "      <td>Kimi Raikkonen</td>\n",
       "      <td>Scuderia Ferrari</td>\n",
       "      <td>57</td>\n",
       "      <td>1:24:34.065</td>\n",
       "      <td>K. Raikkonen</td>\n",
       "      <td>Australian</td>\n",
       "      <td>2017</td>\n",
       "      <td>1.0</td>\n",
       "      <td>1:26.538</td>\n",
       "      <td>56.0</td>\n",
       "      <td>0.000</td>\n",
       "      <td>220.605</td>\n",
       "      <td>17:29:33</td>\n",
       "      <td>2.0</td>\n",
       "      <td>28.903</td>\n",
       "      <td>5.0</td>\n",
       "      <td>23.225</td>\n",
       "      <td>2.0</td>\n",
       "      <td>34.410</td>\n",
       "      <td>13.0</td>\n",
       "      <td>304.3</td>\n",
       "      <td>11.0</td>\n",
       "      <td>277.2</td>\n",
       "      <td>13.0</td>\n",
       "      <td>293.2</td>\n",
       "      <td>14.0</td>\n",
       "      <td>297.7</td>\n",
       "      <td>7</td>\n",
       "      <td>1</td>\n",
       "      <td>22.033</td>\n",
       "    </tr>\n",
       "    <tr>\n",
       "      <th>4</th>\n",
       "      <td>5</td>\n",
       "      <td>Max Verstappen</td>\n",
       "      <td>Red Bull Racing</td>\n",
       "      <td>57</td>\n",
       "      <td>1:24:40.499</td>\n",
       "      <td>M. Verstappen</td>\n",
       "      <td>Australian</td>\n",
       "      <td>2017</td>\n",
       "      <td>5.0</td>\n",
       "      <td>1:26.964</td>\n",
       "      <td>43.0</td>\n",
       "      <td>0.426</td>\n",
       "      <td>219.525</td>\n",
       "      <td>17:10:39</td>\n",
       "      <td>7.0</td>\n",
       "      <td>29.103</td>\n",
       "      <td>1.0</td>\n",
       "      <td>23.071</td>\n",
       "      <td>5.0</td>\n",
       "      <td>34.552</td>\n",
       "      <td>8.0</td>\n",
       "      <td>315.3</td>\n",
       "      <td>3.0</td>\n",
       "      <td>281.6</td>\n",
       "      <td>2.0</td>\n",
       "      <td>299.4</td>\n",
       "      <td>9.0</td>\n",
       "      <td>302.8</td>\n",
       "      <td>33</td>\n",
       "      <td>1</td>\n",
       "      <td>22.208</td>\n",
       "    </tr>\n",
       "  </tbody>\n",
       "</table>\n",
       "</div>"
      ],
      "text/plain": [
       "   CLASS            DRIVER                           TEAM  LAPS    RACE_TIME  \\\n",
       "0      1  Sebastian Vettel               Scuderia Ferrari    57  1:24:11.672   \n",
       "1      2    Lewis Hamilton  Mercedes AMG Petronas F1 Team    57  1:24:21.647   \n",
       "2      3   Valtteri Bottas  Mercedes AMG Petronas F1 Team    57  1:24:22.922   \n",
       "3      4    Kimi Raikkonen               Scuderia Ferrari    57  1:24:34.065   \n",
       "4      5    Max Verstappen                Red Bull Racing    57  1:24:40.499   \n",
       "\n",
       "    DRIVER_SNAME  GRAND_PRIX  SEASON  FLAP_POS FLAP_TIME  F_LAP  FLAP_GAP  \\\n",
       "0      S. Vettel  Australian    2017       3.0  1:26.638   53.0     0.100   \n",
       "1    L. Hamilton  Australian    2017       6.0  1:27.033   44.0     0.495   \n",
       "2      V. Bottas  Australian    2017       2.0  1:26.593   56.0     0.055   \n",
       "3   K. Raikkonen  Australian    2017       1.0  1:26.538   56.0     0.000   \n",
       "4  M. Verstappen  Australian    2017       5.0  1:26.964   43.0     0.426   \n",
       "\n",
       "   FLAP_KM/H FLAP_HOUR  BS1_POS  BS1_TIME  BS2_POS BS2_TIME  BS3_POS  \\\n",
       "0    220.351  17:24:49      6.0    29.083      2.0   23.164      1.0   \n",
       "1    219.351  17:11:49      3.0    28.989      6.0   23.243      6.0   \n",
       "2    220.465  17:29:23      1.0    28.885      3.0   23.168      4.0   \n",
       "3    220.605  17:29:33      2.0    28.903      5.0   23.225      2.0   \n",
       "4    219.525  17:10:39      7.0    29.103      1.0   23.071      5.0   \n",
       "\n",
       "   BS3_TIME  ST_POS  ST_KM/H  I1_POS  I1_KM/H  I2_POS  I2_KM/H  FL_POS  \\\n",
       "0    34.385     9.0    314.6     4.0    280.8     3.0    298.8     5.0   \n",
       "1    34.584     4.0    318.0     2.0    283.9     1.0    300.0     2.0   \n",
       "2    34.453     6.0    316.3     1.0    284.9     5.0    297.9     6.0   \n",
       "3    34.410    13.0    304.3    11.0    277.2    13.0    293.2    14.0   \n",
       "4    34.552     8.0    315.3     3.0    281.6     2.0    299.4     9.0   \n",
       "\n",
       "   FL_KM/H DRIVER_NO STOPS PS_TOTAL_TIME  \n",
       "0    305.1         5     1        21.988  \n",
       "1    308.3        44     1        21.709  \n",
       "2    304.9        77     1        21.440  \n",
       "3    297.7         7     1        22.033  \n",
       "4    302.8        33     1        22.208  "
      ]
     },
     "execution_count": 9,
     "metadata": {},
     "output_type": "execute_result"
    }
   ],
   "source": [
    "links_race_17 = Links_Extraction(url = 'https://www.fia.com/f1-archives?season=679', url_string = 'race-class')\n",
    "c_17 = f1_gp_circuits(season = 2017)\n",
    "city_17 = c_17['GP'].unique().tolist()\n",
    "\n",
    "df_2021_data = fia_f1_data(2017, gp_city = city_17, gp_link = links_race_17)\n",
    "df_2021_data.head()\n"
   ]
  },
  {
   "cell_type": "markdown",
   "id": "5ee67c4a",
   "metadata": {},
   "source": [
    "No examples areprovide for the fia_f1_season function, but the usage is the same as the example above and we can see the aplication bellow.\n",
    "\n",
    "After we run both functions we just need to merge both dataset by driver and GP, and move on to another season."
   ]
  },
  {
   "cell_type": "markdown",
   "id": "0470b5c5",
   "metadata": {},
   "source": [
    "# Web Scrapping\n",
    "\n",
    "We will now aplly the functions above for seasons from 2015 to 2021 on the fia and espn websites."
   ]
  },
  {
   "cell_type": "markdown",
   "id": "68055ca5",
   "metadata": {},
   "source": [
    "## 2021"
   ]
  },
  {
   "cell_type": "code",
   "execution_count": 10,
   "id": "11a30744",
   "metadata": {},
   "outputs": [],
   "source": [
    "links_race_21 = Links_Extraction(url = 'https://www.fia.com/f1-archives', url_string = 'race-classification')"
   ]
  },
  {
   "cell_type": "code",
   "execution_count": 11,
   "id": "8135271f",
   "metadata": {
    "scrolled": true
   },
   "outputs": [
    {
     "data": {
      "text/plain": [
       "['/events/fia-formula-one-world-championship/season-2021/bahrain-grand-prix/race-classification',\n",
       " '/events/fia-formula-one-world-championship/season-2021/emilia-romagna-grand-prix/race-classification',\n",
       " '/events/fia-formula-one-world-championship/season-2021/portuguese-grand-prix/race-classification',\n",
       " '/events/fia-formula-one-world-championship/season-2021/spanish-grand-prix/race-classification',\n",
       " '/events/fia-formula-one-world-championship/season-2021/monaco-grand-prix/race-classification',\n",
       " '/events/fia-formula-one-world-championship/season-2021/azerbaijan-grand-prix/race-classification',\n",
       " '/events/fia-formula-one-world-championship/season-2021/french-grand-prix/race-classification',\n",
       " '/events/fia-formula-one-world-championship/season-2021/styrian-grand-prix/race-classification',\n",
       " '/events/fia-formula-one-world-championship/season-2021/austrian-grand-prix/race-classification',\n",
       " '/events/fia-formula-one-world-championship/season-2021/british-grand-prix/race-classification',\n",
       " '/events/fia-formula-one-world-championship/season-2021/hungarian-grand-prix/race-classification',\n",
       " '/events/fia-formula-one-world-championship/season-2021/belgian-grand-prix/race-classification',\n",
       " '/events/fia-formula-one-world-championship/season-2021/dutch-grand-prix/race-classification',\n",
       " '/events/fia-formula-one-world-championship/season-2021/italian-grand-prix/race-classification',\n",
       " '/events/fia-formula-one-world-championship/season-2021/russian-grand-prix/race-classification',\n",
       " '/events/fia-formula-one-world-championship/season-2021/turkish-grand-prix/race-classification',\n",
       " '/events/fia-formula-one-world-championship/season-2021/united-states-grand-prix/race-classification',\n",
       " '/events/fia-formula-one-world-championship/season-2021/mexican-grand-prix/race-classification',\n",
       " '/events/fia-formula-one-world-championship/season-2021/brazilian-grand-prix/race-classification',\n",
       " '/events/fia-formula-one-world-championship/season-2021/qatar-grand-prix/race-classification',\n",
       " '/events/fia-formula-one-world-championship/season-2021/saudi-arabia-grand-prix/race-classification',\n",
       " '/events/fia-formula-one-world-championship/season-2021/abu-dhabi-grand-prix/race-classification']"
      ]
     },
     "execution_count": 11,
     "metadata": {},
     "output_type": "execute_result"
    }
   ],
   "source": [
    "links_race_21"
   ]
  },
  {
   "cell_type": "code",
   "execution_count": 12,
   "id": "84e1c1bc",
   "metadata": {},
   "outputs": [],
   "source": [
    "links_session_21 = Links_Extraction(url = 'https://www.fia.com/f1-archives', url_string = 'session')"
   ]
  },
  {
   "cell_type": "code",
   "execution_count": 13,
   "id": "0d1cd683",
   "metadata": {},
   "outputs": [
    {
     "name": "stdout",
     "output_type": "stream",
     "text": [
      "Season: 2021 | Source: espn.com\n"
     ]
    },
    {
     "data": {
      "text/html": [
       "<div>\n",
       "<style scoped>\n",
       "    .dataframe tbody tr th:only-of-type {\n",
       "        vertical-align: middle;\n",
       "    }\n",
       "\n",
       "    .dataframe tbody tr th {\n",
       "        vertical-align: top;\n",
       "    }\n",
       "\n",
       "    .dataframe thead th {\n",
       "        text-align: right;\n",
       "    }\n",
       "</style>\n",
       "<table border=\"1\" class=\"dataframe\">\n",
       "  <thead>\n",
       "    <tr style=\"text-align: right;\">\n",
       "      <th></th>\n",
       "      <th>Date</th>\n",
       "      <th>Race</th>\n",
       "      <th>GP</th>\n",
       "    </tr>\n",
       "  </thead>\n",
       "  <tbody>\n",
       "    <tr>\n",
       "      <th>0</th>\n",
       "      <td>Mar 26 - 28</td>\n",
       "      <td>Bahrain GPBahrain International Circuit</td>\n",
       "      <td>bahrain</td>\n",
       "    </tr>\n",
       "    <tr>\n",
       "      <th>1</th>\n",
       "      <td>Apr 16 - 18</td>\n",
       "      <td>Emilia Romagna GPAutodromo Enzo e Dino Ferrari</td>\n",
       "      <td>emilia-romagna</td>\n",
       "    </tr>\n",
       "    <tr>\n",
       "      <th>2</th>\n",
       "      <td>Apr 30 - May 2</td>\n",
       "      <td>Portuguese GPAutódromo Internacional Do Algarve</td>\n",
       "      <td>portuguese</td>\n",
       "    </tr>\n",
       "    <tr>\n",
       "      <th>3</th>\n",
       "      <td>May 7 - 9</td>\n",
       "      <td>Spanish GPCircuit de Barcelona-Catalunya</td>\n",
       "      <td>spanish</td>\n",
       "    </tr>\n",
       "    <tr>\n",
       "      <th>4</th>\n",
       "      <td>May 20 - 23</td>\n",
       "      <td>Monaco GPCircuit de Monaco</td>\n",
       "      <td>monaco</td>\n",
       "    </tr>\n",
       "    <tr>\n",
       "      <th>...</th>\n",
       "      <td>...</td>\n",
       "      <td>...</td>\n",
       "      <td>...</td>\n",
       "    </tr>\n",
       "    <tr>\n",
       "      <th>17</th>\n",
       "      <td>Nov 5 - 7</td>\n",
       "      <td>Mexican GPAutodromo Hermanos Rodriguez</td>\n",
       "      <td>mexican</td>\n",
       "    </tr>\n",
       "    <tr>\n",
       "      <th>18</th>\n",
       "      <td>Nov 12 - 14</td>\n",
       "      <td>Brazilian GPAutodromo Jose Carlos Pace</td>\n",
       "      <td>brazilian</td>\n",
       "    </tr>\n",
       "    <tr>\n",
       "      <th>19</th>\n",
       "      <td>Nov 19 - 21</td>\n",
       "      <td>Qatar GPLosail International Circuit</td>\n",
       "      <td>qatar</td>\n",
       "    </tr>\n",
       "    <tr>\n",
       "      <th>20</th>\n",
       "      <td>Dec 3 - 5</td>\n",
       "      <td>Saudi Arabian GPJeddah Street Circuit</td>\n",
       "      <td>saudi-arabia</td>\n",
       "    </tr>\n",
       "    <tr>\n",
       "      <th>21</th>\n",
       "      <td>Dec 10 - 12</td>\n",
       "      <td>Etihad Airways Abu Dhabi GPYas Marina Circuit</td>\n",
       "      <td>abu-dhabi</td>\n",
       "    </tr>\n",
       "  </tbody>\n",
       "</table>\n",
       "<p>22 rows × 3 columns</p>\n",
       "</div>"
      ],
      "text/plain": [
       "              Date                                             Race  \\\n",
       "0      Mar 26 - 28          Bahrain GPBahrain International Circuit   \n",
       "1      Apr 16 - 18   Emilia Romagna GPAutodromo Enzo e Dino Ferrari   \n",
       "2   Apr 30 - May 2  Portuguese GPAutódromo Internacional Do Algarve   \n",
       "3        May 7 - 9         Spanish GPCircuit de Barcelona-Catalunya   \n",
       "4      May 20 - 23                       Monaco GPCircuit de Monaco   \n",
       "..             ...                                              ...   \n",
       "17       Nov 5 - 7           Mexican GPAutodromo Hermanos Rodriguez   \n",
       "18     Nov 12 - 14           Brazilian GPAutodromo Jose Carlos Pace   \n",
       "19     Nov 19 - 21             Qatar GPLosail International Circuit   \n",
       "20       Dec 3 - 5            Saudi Arabian GPJeddah Street Circuit   \n",
       "21     Dec 10 - 12    Etihad Airways Abu Dhabi GPYas Marina Circuit   \n",
       "\n",
       "                GP  \n",
       "0          bahrain  \n",
       "1   emilia-romagna  \n",
       "2       portuguese  \n",
       "3          spanish  \n",
       "4           monaco  \n",
       "..             ...  \n",
       "17         mexican  \n",
       "18       brazilian  \n",
       "19           qatar  \n",
       "20    saudi-arabia  \n",
       "21       abu-dhabi  \n",
       "\n",
       "[22 rows x 3 columns]"
      ]
     },
     "execution_count": 13,
     "metadata": {},
     "output_type": "execute_result"
    }
   ],
   "source": [
    "c_21 = f1_gp_circuits(season = 2021)\n",
    "city_21 = c_21['GP'].tolist()\n",
    "c_21"
   ]
  },
  {
   "cell_type": "code",
   "execution_count": null,
   "id": "31f787d5",
   "metadata": {},
   "outputs": [],
   "source": [
    "df_2021 = fia_f1_data(2021, gp_city = city_21, gp_link = links_race_21)"
   ]
  },
  {
   "cell_type": "code",
   "execution_count": null,
   "id": "39d7e4fd",
   "metadata": {},
   "outputs": [],
   "source": [
    "df_2021"
   ]
  },
  {
   "cell_type": "code",
   "execution_count": null,
   "id": "82646dfa",
   "metadata": {
    "scrolled": true
   },
   "outputs": [],
   "source": [
    "df_2021_session = fia_f1_session(2021, gp_city = city_21, gp_link = links_session_21)"
   ]
  },
  {
   "cell_type": "code",
   "execution_count": null,
   "id": "0f993e98",
   "metadata": {},
   "outputs": [],
   "source": [
    "df_2021_session"
   ]
  },
  {
   "cell_type": "code",
   "execution_count": null,
   "id": "da25fad6",
   "metadata": {},
   "outputs": [],
   "source": [
    "f1_2021 = pd.merge(df_2021, df_2021_session, how='left', left_on=['DRIVER','GRAND_PRIX'], right_on = ['DRIVER','GRAND_PRIX'])"
   ]
  },
  {
   "cell_type": "code",
   "execution_count": null,
   "id": "7de3360b",
   "metadata": {},
   "outputs": [],
   "source": [
    "f1_2021"
   ]
  },
  {
   "cell_type": "markdown",
   "id": "4bbb7a4f",
   "metadata": {},
   "source": [
    "# 2020"
   ]
  },
  {
   "cell_type": "code",
   "execution_count": null,
   "id": "cd4d96c1",
   "metadata": {},
   "outputs": [],
   "source": [
    "Links_Extraction(url = 'https://www.fia.com/f1-archives?season=1059', url_string = 'race')"
   ]
  },
  {
   "cell_type": "code",
   "execution_count": null,
   "id": "e238978c",
   "metadata": {},
   "outputs": [],
   "source": [
    "links_race_20 = [\n",
    "'/events/fia-formula-one-world-championship/season-2020/austrian-grand-prix/race-classification',\n",
    "'/events/fia-formula-one-world-championship/season-2020/styrian-grand-prix/race-classification',\n",
    "'/events/fia-formula-one-world-championship/season-2020/hungarian-grand-prix/race-classification',\n",
    "'/events/fia-formula-one-world-championship/season-2020/british-grand-prix/race-classification',\n",
    "'/events/fia-formula-one-world-championship/season-2020/formula-1-70th-anniversary-grand-prix/race',\n",
    "'/events/fia-formula-one-world-championship/season-2020/spanish-grand-prix/race-classification',\n",
    "'/events/fia-formula-one-world-championship/season-2020/belgian-grand-prix/race-classification',\n",
    "'/events/fia-formula-one-world-championship/season-2020/italian-grand-prix/race-classification',\n",
    "'/events/fia-formula-one-world-championship/season-2020/tuscan-grand-prix/race-classification',\n",
    "'/events/fia-formula-one-world-championship/season-2020/russian-grand-prix/race-classification',\n",
    "'/events/fia-formula-one-world-championship/season-2020/eifel-grand-prix/race-classification',\n",
    "'/events/fia-formula-one-world-championship/season-2020/portuguese-grand-prix/race-classification',\n",
    "'/events/fia-formula-one-world-championship/season-2020/emilia-romagna-grand-prix/race-classification',\n",
    "'/events/fia-formula-one-world-championship/season-2020/turkish-grand-prix/race-classification',\n",
    "'/events/fia-formula-one-world-championship/season-2020/bahrain-grand-prix/race-classification-0',\n",
    "'/events/fia-formula-one-world-championship/season-2020/sakhir-grand-prix/race-classification',\n",
    "'/events/fia-formula-one-world-championship/season-2020/abu-dhabi-grand-prix/race-classification-0']"
   ]
  },
  {
   "cell_type": "code",
   "execution_count": null,
   "id": "cda365b1",
   "metadata": {},
   "outputs": [],
   "source": [
    "Links_Extraction(url = 'https://www.fia.com/f1-archives?season=1059', url_string = 'session')"
   ]
  },
  {
   "cell_type": "code",
   "execution_count": null,
   "id": "944662f0",
   "metadata": {},
   "outputs": [],
   "source": [
    "links_session_20 = [\n",
    " '/events/fia-formula-one-world-championship/season-2020/austrian-grand-prix/session-classifications'\n",
    ",'/events/fia-formula-one-world-championship/season-2020/styrian-grand-prix/session-classifications'\n",
    ",'/events/fia-formula-one-world-championship/season-2020/hungarian-grand-prix/session-classifications'\n",
    ",'/events/fia-formula-one-world-championship/season-2020/british-grand-prix/session-classifications'\n",
    ",'/events/fia-formula-one-world-championship/season-2020/formula-1-70th-anniversary-grand-prix/session'\n",
    ",'/events/fia-formula-one-world-championship/season-2020/spanish-grand-prix/session-classifications'\n",
    ",'/events/fia-formula-one-world-championship/season-2020/belgian-grand-prix/session-classifications'\n",
    ",'/events/fia-formula-one-world-championship/season-2020/italian-grand-prix/session-classifications'\n",
    ",'/events/fia-formula-one-world-championship/season-2020/tuscan-grand-prix/session-classifications'\n",
    ",'/events/fia-formula-one-world-championship/season-2020/russian-grand-prix/session-classifications'\n",
    ",'/events/fia-formula-one-world-championship/season-2020/eifel-grand-prix/session-classifications'\n",
    ",'/events/fia-formula-one-world-championship/season-2020/portuguese-grand-prix/session-classifications'\n",
    ",'/events/fia-formula-one-world-championship/season-2020/emilia-romagna-grand-prix/session'\n",
    ",'/events/fia-formula-one-world-championship/season-2020/turkish-grand-prix/session-classifications'\n",
    ",'/events/fia-formula-one-world-championship/season-2020/bahrain-grand-prix/session-classifications-0'\n",
    ",'/events/fia-formula-one-world-championship/season-2020/sakhir-grand-prix/session-classifications'\n",
    ",'/events/fia-formula-one-world-championship/season-2020/abu-dhabi-grand-prix/session-classifications-0']"
   ]
  },
  {
   "cell_type": "code",
   "execution_count": null,
   "id": "bfca11f3",
   "metadata": {},
   "outputs": [],
   "source": [
    "c_20 = f1_gp_circuits(season = 2020)\n",
    "city_20 = c_20['GP'].tolist()\n",
    "c_20['GP'][4] = '70th-anniversary'\n",
    "c_20"
   ]
  },
  {
   "cell_type": "code",
   "execution_count": null,
   "id": "b0005a1b",
   "metadata": {},
   "outputs": [],
   "source": [
    "df_2020 = fia_f1_data(2020, gp_city = city_20, gp_link = links_race_20)"
   ]
  },
  {
   "cell_type": "code",
   "execution_count": null,
   "id": "294614cc",
   "metadata": {},
   "outputs": [],
   "source": [
    "df_2020"
   ]
  },
  {
   "cell_type": "code",
   "execution_count": null,
   "id": "6b319e57",
   "metadata": {},
   "outputs": [],
   "source": [
    "df_2020_session = fia_f1_session(2020, gp_city = city_20, gp_link = links_session_20)"
   ]
  },
  {
   "cell_type": "code",
   "execution_count": null,
   "id": "4f17b200",
   "metadata": {},
   "outputs": [],
   "source": [
    "df_2020_session"
   ]
  },
  {
   "cell_type": "code",
   "execution_count": null,
   "id": "2bfd3ada",
   "metadata": {},
   "outputs": [],
   "source": [
    "f1_2020 = pd.merge(df_2020, df_2020_session, how='left', left_on=['DRIVER','GRAND_PRIX'], right_on = ['DRIVER','GRAND_PRIX'])"
   ]
  },
  {
   "cell_type": "code",
   "execution_count": null,
   "id": "b9ab0176",
   "metadata": {},
   "outputs": [],
   "source": [
    "f1_2020"
   ]
  },
  {
   "cell_type": "markdown",
   "id": "2a31ddd2",
   "metadata": {},
   "source": [
    "# 2019"
   ]
  },
  {
   "cell_type": "code",
   "execution_count": null,
   "id": "9262a24f",
   "metadata": {},
   "outputs": [],
   "source": [
    "Links_Extraction(url = 'https://www.fia.com/f1-archives?season=971', url_string = 'race-cl')"
   ]
  },
  {
   "cell_type": "code",
   "execution_count": null,
   "id": "f9068645",
   "metadata": {},
   "outputs": [],
   "source": [
    "links_race_19 = ['/events/fia-formula-one-world-championship/season-2019/australian-grand-prix/race-classification',\n",
    " '/events/fia-formula-one-world-championship/season-2019/bahrain-grand-prix/race-classification',\n",
    " '/events/fia-formula-one-world-championship/season-2019/chinese-grand-prix/race-classification',\n",
    " '/events/fia-formula-one-world-championship/season-2019/azerbaijan-grand-prix/race-classification',\n",
    " '/events/fia-formula-one-world-championship/season-2019/spanish-grand-prix/race-classification',\n",
    " '/events/fia-formula-one-world-championship/season-2019/monaco-grand-prix/race-classification',\n",
    " '/events/fia-formula-one-world-championship/season-2019/canadian-grand-prix/race-classification',\n",
    " '/events/fia-formula-one-world-championship/season-2019/french-grand-prix/race-classification',\n",
    " '/events/fia-formula-one-world-championship/season-2019/british-grand-prix/race-classification',\n",
    " '/events/fia-formula-one-world-championship/season-2019/german-grand-prix/race-classification-german',\n",
    " '/events/fia-formula-one-world-championship/season-2019/hungarian-grand-prix/race-classification',\n",
    " '/events/fia-formula-one-world-championship/season-2019/belgian-grand-prix/race-classification',\n",
    " '/events/fia-formula-one-world-championship/season-2019/italian-grand-prix/race-classification',\n",
    " '/events/fia-formula-one-world-championship/season-2019/singapore-grand-prix/race-classification',\n",
    " '/events/fia-formula-one-world-championship/season-2019/russian-grand-prix/race-classification',\n",
    " '/events/fia-formula-one-world-championship/season-2019/japanese-grand-prix/race-classification',\n",
    " '/events/fia-formula-one-world-championship/season-2019/united-states-grand-prix/race-classification',\n",
    " '/events/fia-formula-one-world-championship/season-2019/brazilian-grand-prix/race-classification',\n",
    " '/events/fia-formula-one-world-championship/season-2019/abu-dhabi-grand-prix/race-classification']"
   ]
  },
  {
   "cell_type": "code",
   "execution_count": null,
   "id": "faf3c43a",
   "metadata": {},
   "outputs": [],
   "source": [
    "Links_Extraction(url = 'https://www.fia.com/f1-archives?season=971', url_string = 'session')"
   ]
  },
  {
   "cell_type": "code",
   "execution_count": null,
   "id": "b745741e",
   "metadata": {},
   "outputs": [],
   "source": [
    "links_session_19 = ['/events/fia-formula-one-world-championship/season-2019/australian-grand-prix/session-classifications',\n",
    " '/events/fia-formula-one-world-championship/season-2019/bahrain-grand-prix/session-classifications',\n",
    " '/events/fia-formula-one-world-championship/season-2019/chinese-grand-prix/session-classifications',\n",
    " '/events/fia-formula-one-world-championship/season-2019/spanish-grand-prix/session-classifications',\n",
    " '/events/fia-formula-one-world-championship/season-2019/monaco-grand-prix/session-classifications',\n",
    " '/events/fia-formula-one-world-championship/season-2019/canadian-grand-prix/session-classifications',\n",
    " '/events/fia-formula-one-world-championship/season-2019/french-grand-prix/session-classifications',\n",
    " '/events/fia-formula-one-world-championship/season-2019/british-grand-prix/session-classifications',\n",
    " '/events/fia-formula-one-world-championship/season-2019/german-grand-prix/session-classifications',\n",
    " '/events/fia-formula-one-world-championship/season-2019/hungarian-grand-prix/session-classifications',\n",
    " '/events/fia-formula-one-world-championship/season-2019/belgian-grand-prix/session-classifications',\n",
    " '/events/fia-formula-one-world-championship/season-2019/italian-grand-prix/session-classifications',\n",
    " '/events/fia-formula-one-world-championship/season-2019/singapore-grand-prix/session-classifications',\n",
    " '/events/fia-formula-one-world-championship/season-2019/russian-grand-prix/session-classifications',\n",
    " '/events/fia-formula-one-world-championship/season-2019/japanese-grand-prix/session-classifications',\n",
    " '/events/fia-formula-one-world-championship/season-2019/united-states-grand-prix/session',\n",
    " '/events/fia-formula-one-world-championship/season-2019/brazilian-grand-prix/session-classifications',\n",
    " '/events/fia-formula-one-world-championship/season-2019/abu-dhabi-grand-prix/session-classifications']"
   ]
  },
  {
   "cell_type": "code",
   "execution_count": null,
   "id": "1772a8d1",
   "metadata": {},
   "outputs": [],
   "source": [
    "c_19 = f1_gp_circuits(season = 2019)\n",
    "c_19 = c_19.drop(index=8)\n",
    "c_19 = c_19.drop(index=17)\n",
    "city_19 = c_19['GP'].unique().tolist()\n",
    "c_19_2 = c_19.drop(index=3)\n",
    "c_19"
   ]
  },
  {
   "cell_type": "code",
   "execution_count": null,
   "id": "8fe6d6a2",
   "metadata": {},
   "outputs": [],
   "source": [
    "city_19_2 = c_19_2['GP'].tolist()"
   ]
  },
  {
   "cell_type": "code",
   "execution_count": null,
   "id": "f9d706f1",
   "metadata": {},
   "outputs": [],
   "source": [
    "df_2019 = fia_f1_data(2019, gp_city = city_19, gp_link = links_race_19)"
   ]
  },
  {
   "cell_type": "code",
   "execution_count": null,
   "id": "d09fa1e8",
   "metadata": {},
   "outputs": [],
   "source": [
    "#df_2019"
   ]
  },
  {
   "cell_type": "code",
   "execution_count": null,
   "id": "fe17b6f8",
   "metadata": {},
   "outputs": [],
   "source": [
    "df_2019_session = fia_f1_session(2019, gp_city = city_19_2, gp_link = links_session_19)"
   ]
  },
  {
   "cell_type": "code",
   "execution_count": null,
   "id": "9b1a1ade",
   "metadata": {},
   "outputs": [],
   "source": [
    "f1_2019 = pd.merge(df_2019, df_2019_session, how='left', left_on=['DRIVER','GRAND_PRIX'], right_on = ['DRIVER','GRAND_PRIX'])"
   ]
  },
  {
   "cell_type": "code",
   "execution_count": null,
   "id": "44fdef3c",
   "metadata": {},
   "outputs": [],
   "source": [
    "f1_2019"
   ]
  },
  {
   "cell_type": "markdown",
   "id": "e7ec977d",
   "metadata": {},
   "source": [
    "# 2018"
   ]
  },
  {
   "cell_type": "code",
   "execution_count": null,
   "id": "0bb6b96f",
   "metadata": {},
   "outputs": [],
   "source": [
    "Links_Extraction(url = 'https://www.fia.com/f1-archives?season=866', url_string = 'race-class')"
   ]
  },
  {
   "cell_type": "code",
   "execution_count": null,
   "id": "0dbd3edb",
   "metadata": {},
   "outputs": [],
   "source": [
    "links_race_18 = ['/events/fia-formula-one-world-championship/season-2018/race-classification',\n",
    " '/events/fia-formula-one-world-championship/season-2018/race-classification-0',\n",
    " '/events/fia-formula-one-world-championship/season-2018/race-classification-1',\n",
    " '/events/fia-formula-one-world-championship/season-2018/race-classification-25',\n",
    " '/events/fia-formula-one-world-championship/season-2018/race-classification-3',\n",
    " '/events/fia-formula-one-world-championship/season-2018/race-classification-23',\n",
    " '/events/fia-formula-one-world-championship/season-2018/race-classification-5',\n",
    " '/events/fia-formula-one-world-championship/season-2018/race-classification-6',\n",
    " '/events/fia-formula-one-world-championship/season-2018/race-classification-7',\n",
    " '/events/fia-formula-one-world-championship/season-2018/race-classification-8',\n",
    " '/events/fia-formula-one-world-championship/season-2018/race-classification-24',\n",
    " '/events/fia-formula-one-world-championship/season-2018/race-classification-26',\n",
    " '/events/fia-formula-one-world-championship/season-2018/race-classification-27',\n",
    " '/events/fia-formula-one-world-championship/season-2018/race-classification-28',\n",
    " '/events/fia-formula-one-world-championship/season-2018/race-classification-13',\n",
    " '/events/fia-formula-one-world-championship/season-2018/race-classification-29',\n",
    " '/events/fia-formula-one-world-championship/season-2018/race-classification-30',\n",
    " '/events/fia-formula-one-world-championship/season-2018/race-classification-22',\n",
    " '/events/fia-formula-one-world-championship/season-2018/race-classification-17',\n",
    " '/events/fia-formula-one-world-championship/season-2018/race-classification-18',\n",
    " '/events/fia-formula-one-world-championship/season-2018/race-classification-20']"
   ]
  },
  {
   "cell_type": "code",
   "execution_count": null,
   "id": "32f19a02",
   "metadata": {},
   "outputs": [],
   "source": [
    "Links_Extraction(url = 'https://www.fia.com/f1-archives?season=866', url_string = 'session')"
   ]
  },
  {
   "cell_type": "code",
   "execution_count": null,
   "id": "1b04abce",
   "metadata": {},
   "outputs": [],
   "source": [
    "links_session_18 = ['/events/fia-formula-one-world-championship/season-2018/session-classifications',\n",
    " '/events/fia-formula-one-world-championship/season-2018/session-classifications-0',\n",
    " '/events/fia-formula-one-world-championship/season-2018/session-classifications-1',\n",
    " '/events/fia-formula-one-world-championship/season-2018/session-classifications-25',\n",
    " '/events/fia-formula-one-world-championship/season-2018/session-classifications-3',\n",
    " '/events/fia-formula-one-world-championship/season-2018/session-classifications-23',\n",
    " '/events/fia-formula-one-world-championship/season-2018/session-classifications-5',\n",
    " '/events/fia-formula-one-world-championship/season-2018/session-classifications-6',\n",
    " '/events/fia-formula-one-world-championship/season-2018/session-classifications-7',\n",
    " '/events/fia-formula-one-world-championship/season-2018/session-classifications-8',\n",
    " '/events/fia-formula-one-world-championship/season-2018/session-classifications-24',\n",
    " '/events/fia-formula-one-world-championship/season-2018/session-classifications-26',\n",
    " '/events/fia-formula-one-world-championship/season-2018/session-classifications-27',\n",
    " '/events/fia-formula-one-world-championship/season-2018/session-classifications-28',\n",
    " '/events/fia-formula-one-world-championship/season-2018/session-classifications-13',\n",
    " '/events/fia-formula-one-world-championship/season-2018/session-classifications-29',\n",
    " '/events/fia-formula-one-world-championship/season-2018/session-classifications-30',\n",
    " '/events/fia-formula-one-world-championship/season-2018/session-classifications-22',\n",
    " '/events/fia-formula-one-world-championship/season-2018/session-classifications-17',\n",
    " '/events/fia-formula-one-world-championship/season-2018/session-classifications-18',\n",
    " '/events/fia-formula-one-world-championship/season-2018/session-classifications-19']"
   ]
  },
  {
   "cell_type": "code",
   "execution_count": null,
   "id": "4fa93c7b",
   "metadata": {},
   "outputs": [],
   "source": [
    "c_18 = f1_gp_circuits(season = 2018)\n",
    "city_18 = c_18['GP'].unique().tolist()\n",
    "c_18"
   ]
  },
  {
   "cell_type": "code",
   "execution_count": null,
   "id": "c3bcbf1c",
   "metadata": {},
   "outputs": [],
   "source": [
    "df_2018 = fia_f1_data(2018, gp_city = city_18, gp_link = links_race_18)"
   ]
  },
  {
   "cell_type": "code",
   "execution_count": null,
   "id": "57d22053",
   "metadata": {},
   "outputs": [],
   "source": [
    "df_2018_session = fia_f1_session(2018, gp_city = city_18, gp_link = links_session_18)"
   ]
  },
  {
   "cell_type": "code",
   "execution_count": null,
   "id": "4c7b357c",
   "metadata": {},
   "outputs": [],
   "source": [
    "f1_2018 = pd.merge(df_2018, df_2018_session, how='left', left_on=['DRIVER','GRAND_PRIX'], right_on = ['DRIVER','GRAND_PRIX'])"
   ]
  },
  {
   "cell_type": "code",
   "execution_count": null,
   "id": "8046f25b",
   "metadata": {},
   "outputs": [],
   "source": [
    "f1_2018"
   ]
  },
  {
   "cell_type": "markdown",
   "id": "d3182577",
   "metadata": {},
   "source": [
    "# 2017"
   ]
  },
  {
   "cell_type": "code",
   "execution_count": null,
   "id": "4cf06b53",
   "metadata": {},
   "outputs": [],
   "source": [
    "links_race_17 = Links_Extraction(url = 'https://www.fia.com/f1-archives?season=679', url_string = 'race-class')"
   ]
  },
  {
   "cell_type": "code",
   "execution_count": null,
   "id": "3e3da14f",
   "metadata": {},
   "outputs": [],
   "source": [
    "links_race_17"
   ]
  },
  {
   "cell_type": "code",
   "execution_count": null,
   "id": "fb2d53b9",
   "metadata": {},
   "outputs": [],
   "source": [
    "links_session_17 = Links_Extraction(url = 'https://www.fia.com/f1-archives?season=679', url_string = 'session')"
   ]
  },
  {
   "cell_type": "code",
   "execution_count": null,
   "id": "1454d297",
   "metadata": {},
   "outputs": [],
   "source": [
    "links_session_17"
   ]
  },
  {
   "cell_type": "code",
   "execution_count": null,
   "id": "195f9197",
   "metadata": {},
   "outputs": [],
   "source": [
    "c_17 = f1_gp_circuits(season = 2017)\n",
    "city_17 = c_17['GP'].unique().tolist()\n",
    "c_17"
   ]
  },
  {
   "cell_type": "code",
   "execution_count": null,
   "id": "cf53246b",
   "metadata": {},
   "outputs": [],
   "source": [
    "df_2017 = fia_f1_data(2017, gp_city = city_17, gp_link = links_race_17)"
   ]
  },
  {
   "cell_type": "code",
   "execution_count": null,
   "id": "a12ac5e3",
   "metadata": {},
   "outputs": [],
   "source": [
    "#df_2017"
   ]
  },
  {
   "cell_type": "code",
   "execution_count": null,
   "id": "6cf4fa46",
   "metadata": {},
   "outputs": [],
   "source": [
    "df_2017_session = fia_f1_session(2017, gp_city = city_17, gp_link = links_session_17)"
   ]
  },
  {
   "cell_type": "code",
   "execution_count": null,
   "id": "f1538e64",
   "metadata": {},
   "outputs": [],
   "source": [
    "#df_2017_session"
   ]
  },
  {
   "cell_type": "code",
   "execution_count": null,
   "id": "27f154d5",
   "metadata": {},
   "outputs": [],
   "source": [
    "f1_2017 = pd.merge(df_2017, df_2017_session, how='left', left_on=['DRIVER','GRAND_PRIX'], right_on = ['DRIVER','GRAND_PRIX'])"
   ]
  },
  {
   "cell_type": "code",
   "execution_count": null,
   "id": "618c7d1c",
   "metadata": {},
   "outputs": [],
   "source": [
    "f1_2017"
   ]
  },
  {
   "cell_type": "markdown",
   "id": "c0bfeb2e",
   "metadata": {},
   "source": [
    "# 2016"
   ]
  },
  {
   "cell_type": "code",
   "execution_count": null,
   "id": "ae5710f0",
   "metadata": {},
   "outputs": [],
   "source": [
    "links_race_16 = Links_Extraction(url = 'https://www.fia.com/f1-archives?season=644', url_string = 'race-class')"
   ]
  },
  {
   "cell_type": "code",
   "execution_count": null,
   "id": "5818d283",
   "metadata": {},
   "outputs": [],
   "source": [
    "links_race_16"
   ]
  },
  {
   "cell_type": "code",
   "execution_count": null,
   "id": "1cd2d693",
   "metadata": {},
   "outputs": [],
   "source": [
    "links_session_16 = Links_Extraction(url = 'https://www.fia.com/f1-archives?season=644', url_string = 'session')"
   ]
  },
  {
   "cell_type": "code",
   "execution_count": null,
   "id": "f63c86bf",
   "metadata": {},
   "outputs": [],
   "source": [
    "links_session_16"
   ]
  },
  {
   "cell_type": "code",
   "execution_count": null,
   "id": "097de5a6",
   "metadata": {},
   "outputs": [],
   "source": [
    "c_16 = f1_gp_circuits(season = 2016)\n",
    "city_16 = c_16['GP'].unique().tolist()\n",
    "c_16"
   ]
  },
  {
   "cell_type": "code",
   "execution_count": null,
   "id": "ee2ccbff",
   "metadata": {},
   "outputs": [],
   "source": [
    "df_2016 = fia_f1_data(2016, gp_city = city_16, gp_link = links_race_16)"
   ]
  },
  {
   "cell_type": "code",
   "execution_count": null,
   "id": "23aa73ac",
   "metadata": {},
   "outputs": [],
   "source": [
    "#df_2016"
   ]
  },
  {
   "cell_type": "code",
   "execution_count": null,
   "id": "8a8b7f18",
   "metadata": {},
   "outputs": [],
   "source": [
    "df_2016_session = fia_f1_session(2016, gp_city = city_16, gp_link = links_session_16)"
   ]
  },
  {
   "cell_type": "code",
   "execution_count": null,
   "id": "b607a776",
   "metadata": {},
   "outputs": [],
   "source": [
    "f1_2016 = pd.merge(df_2016, df_2016_session, how='left', left_on=['DRIVER','GRAND_PRIX'], right_on = ['DRIVER','GRAND_PRIX'])"
   ]
  },
  {
   "cell_type": "code",
   "execution_count": null,
   "id": "a6144062",
   "metadata": {},
   "outputs": [],
   "source": [
    "f1_2016"
   ]
  },
  {
   "cell_type": "markdown",
   "id": "5c6e6f43",
   "metadata": {},
   "source": [
    "# 2015"
   ]
  },
  {
   "cell_type": "code",
   "execution_count": null,
   "id": "7f0cc798",
   "metadata": {},
   "outputs": [],
   "source": [
    "links_race_15 = Links_Extraction(url = 'https://www.fia.com/f1-archives?season=249', url_string = 'race-class')"
   ]
  },
  {
   "cell_type": "code",
   "execution_count": null,
   "id": "87d4fe84",
   "metadata": {},
   "outputs": [],
   "source": [
    "links_race_15 = ['/events/fia-formula-one-world-championship/season-2015/race-classification',\n",
    " '/events/fia-formula-one-world-championship/season-2015/race-classification-0',\n",
    " '/events/fia-formula-one-world-championship/season-2015/race-classification-1',\n",
    " '/events/fia-formula-one-world-championship/season-2015/race-classification-2',\n",
    " '/events/fia-formula-one-world-championship/season-2015/race-classification-3',\n",
    " '/events/fia-formula-one-world-championship/season-2015/race-classification-4',\n",
    " '/events/fia-formula-one-world-championship/season-2015/race-classification-5',\n",
    " '/events/fia-formula-one-world-championship/season-2015/race-classification-6',\n",
    " '/events/fia-formula-one-world-championship/season-2015/race-classification-7',\n",
    " '/events/fia-formula-one-world-championship/season-2015/race-classification-9',\n",
    " '/events/fia-formula-one-world-championship/season-2015/race-classification-10',\n",
    " '/events/fia-formula-one-world-championship/season-2015/race-classification-11',\n",
    " '/events/fia-formula-one-world-championship/season-2015/race-classification-12',\n",
    " '/events/fia-formula-one-world-championship/season-2015/race-classification-13',\n",
    " '/events/fia-formula-one-world-championship/season-2015/race-classification-14',\n",
    " '/events/fia-formula-one-world-championship/season-2015/race-classification-15',\n",
    " '/events/fia-formula-one-world-championship/season-2015/race-classification-16',\n",
    " '/events/fia-formula-one-world-championship/season-2015/race-classification-17',\n",
    " '/events/fia-formula-one-world-championship/season-2015/race-classification-18']"
   ]
  },
  {
   "cell_type": "code",
   "execution_count": null,
   "id": "dc9050c7",
   "metadata": {},
   "outputs": [],
   "source": [
    "links_session_15 = Links_Extraction(url = 'https://www.fia.com/f1-archives?season=249', url_string = 'session')"
   ]
  },
  {
   "cell_type": "code",
   "execution_count": null,
   "id": "1f5d4feb",
   "metadata": {},
   "outputs": [],
   "source": [
    "links_session_15 = ['/events/fia-formula-one-world-championship/season-2015/session-classifications-0',\n",
    " '/events/fia-formula-one-world-championship/season-2015/session-classifications-1',\n",
    " '/events/fia-formula-one-world-championship/season-2015/session-classifications-2',\n",
    " '/events/fia-formula-one-world-championship/season-2015/session-classifications-3',\n",
    " '/events/fia-formula-one-world-championship/season-2015/session-classifications-4',\n",
    " '/events/fia-formula-one-world-championship/season-2015/session-classifications-5',\n",
    " '/events/fia-formula-one-world-championship/season-2015/session-classifications-6',\n",
    " '/events/fia-formula-one-world-championship/season-2015/session-classifications-7',\n",
    " '/events/fia-formula-one-world-championship/season-2015/session-classifications-8',\n",
    " '/events/fia-formula-one-world-championship/season-2015/session-classifications-10',\n",
    " '/events/fia-formula-one-world-championship/season-2015/session-classifications-11',\n",
    " '/events/fia-formula-one-world-championship/season-2015/session-classifications-12',\n",
    " '/events/fia-formula-one-world-championship/season-2015/session-classifications-13',\n",
    " '/events/fia-formula-one-world-championship/season-2015/session-classifications-14',\n",
    " '/events/fia-formula-one-world-championship/season-2015/session-classifications-15',\n",
    " '/events/fia-formula-one-world-championship/season-2015/session-classifications-16',\n",
    " '/events/fia-formula-one-world-championship/season-2015/session-classifications-17',\n",
    " '/events/fia-formula-one-world-championship/season-2015/session-classifications-18',\n",
    " '/events/fia-formula-one-world-championship/season-2015/session-classifications']"
   ]
  },
  {
   "cell_type": "code",
   "execution_count": null,
   "id": "a9b57c81",
   "metadata": {},
   "outputs": [],
   "source": [
    "c_15 = f1_gp_circuits(season = 2015)\n",
    "city_15 = c_15['GP'].unique().tolist()\n",
    "c_15"
   ]
  },
  {
   "cell_type": "code",
   "execution_count": null,
   "id": "bb1840f7",
   "metadata": {},
   "outputs": [],
   "source": [
    "df_2015 = fia_f1_data(2015, gp_city = city_15, gp_link = links_race_15)"
   ]
  },
  {
   "cell_type": "code",
   "execution_count": null,
   "id": "bcafa28a",
   "metadata": {},
   "outputs": [],
   "source": [
    "df_2015_session = fia_f1_session(2015, gp_city = city_15, gp_link = links_session_15)"
   ]
  },
  {
   "cell_type": "code",
   "execution_count": null,
   "id": "36a4613d",
   "metadata": {},
   "outputs": [],
   "source": [
    "f1_2015 = pd.merge(df_2015, df_2015_session, how='left', left_on=['DRIVER','GRAND_PRIX'], right_on = ['DRIVER','GRAND_PRIX'])"
   ]
  },
  {
   "cell_type": "code",
   "execution_count": null,
   "id": "4c512d53",
   "metadata": {},
   "outputs": [],
   "source": [
    "data = f1_2021.append(f1_2020, ignore_index = True)\n",
    "data = data.append(f1_2019, ignore_index = True)\n",
    "data = data.append(f1_2018, ignore_index = True)\n",
    "data = data.append(f1_2017, ignore_index = True)\n",
    "data = data.append(f1_2016, ignore_index = True)\n",
    "data = data.append(f1_2015, ignore_index = True)"
   ]
  },
  {
   "cell_type": "code",
   "execution_count": null,
   "id": "5637f134",
   "metadata": {},
   "outputs": [],
   "source": [
    "print('Shape: ' + str(data.shape))\n",
    "data.head()"
   ]
  },
  {
   "cell_type": "markdown",
   "id": "2c9dd062",
   "metadata": {},
   "source": [
    "The first part of the dataset preparation is concluded. We can export the data on to excel and take a first glance at the extracted data.\n",
    "\n",
    "On the next chapter we will do some preprocessing on some data."
   ]
  },
  {
   "cell_type": "markdown",
   "id": "5c56b126",
   "metadata": {},
   "source": [
    "## Pre Processing"
   ]
  },
  {
   "cell_type": "markdown",
   "id": "07c43025",
   "metadata": {},
   "source": [
    "Update the pilots names to be consistent throught the dataset, since names change from season to season. Also, there are also some caracters that weren't correct on the website and we need to correct it.\n",
    "\n",
    "These updates will allow us to merge more data from other data sources in order to complete our dataset."
   ]
  },
  {
   "cell_type": "code",
   "execution_count": null,
   "id": "38d26416",
   "metadata": {},
   "outputs": [],
   "source": [
    "df = data.copy() #checkpoint"
   ]
  },
  {
   "cell_type": "code",
   "execution_count": null,
   "id": "6906fb60",
   "metadata": {},
   "outputs": [],
   "source": [
    "df.drop(['SEASON_y'], axis = 1, inplace=True)\n",
    "df.rename(columns= {'SEASON_x':'SEASON'}, inplace=True)"
   ]
  },
  {
   "cell_type": "code",
   "execution_count": null,
   "id": "d76146c4",
   "metadata": {},
   "outputs": [],
   "source": [
    "df['DRIVER'] = df['DRIVER'].str.replace('Sergio Perez Mendoza','Sergio Perez')\n",
    "df['DRIVER_SNAME'] = df['DRIVER_SNAME'].str.replace('S. Perez Mendoza','S. Perez')"
   ]
  },
  {
   "cell_type": "code",
   "execution_count": null,
   "id": "301bf04d",
   "metadata": {},
   "outputs": [],
   "source": [
    "df['DRIVER'] = df['DRIVER'].str.replace(r'[^\\x00-\\x7f]', '')\n",
    "df['DRIVER'] = df['DRIVER'].str.replace('Esteban Gutirrez','Esteban Gutierrez')\n",
    "df['DRIVER_SNAME'] = df['DRIVER_SNAME'].str.replace(r'[^\\x00-\\x7f]', '')\n",
    "df['DRIVER_SNAME'] = df['DRIVER_SNAME'].str.replace('E. Gutirrez','E. Gutierrez')"
   ]
  },
  {
   "cell_type": "code",
   "execution_count": null,
   "id": "9415aecf",
   "metadata": {},
   "outputs": [],
   "source": [
    "df['DRIVER'] = df['DRIVER'].str.replace('Carlos Sainz Jr.','Carlos Sainz')\n",
    "df['DRIVER_SNAME'] = df['DRIVER_SNAME'].str.replace('C. Sainz Jr.','C. Sainz')"
   ]
  },
  {
   "cell_type": "code",
   "execution_count": null,
   "id": "40fd2f9f",
   "metadata": {},
   "outputs": [],
   "source": [
    "df['DRIVER'] = df['DRIVER'].str.replace('Roberto Merhi Muntan','Roberto Merhi')\n",
    "df['DRIVER_SNAME'] = df['DRIVER_SNAME'].str.replace('R. Merhi Muntan','R. Merhi')"
   ]
  },
  {
   "cell_type": "code",
   "execution_count": null,
   "id": "9318d018",
   "metadata": {},
   "outputs": [],
   "source": [
    "df['GRAND_PRIX'] = df['GRAND_PRIX'].str.lower()"
   ]
  },
  {
   "cell_type": "code",
   "execution_count": null,
   "id": "b1e26ee4",
   "metadata": {},
   "outputs": [],
   "source": [
    "web_data = df.copy() #checkpoint 2"
   ]
  },
  {
   "cell_type": "code",
   "execution_count": null,
   "id": "0dad58a4",
   "metadata": {},
   "outputs": [],
   "source": [
    "web_data"
   ]
  },
  {
   "cell_type": "code",
   "execution_count": null,
   "id": "f4b04d4b",
   "metadata": {},
   "outputs": [],
   "source": []
  },
  {
   "cell_type": "markdown",
   "id": "04b883c1",
   "metadata": {},
   "source": [
    "## Azure Database\n",
    "\n",
    "We would also like to demonstrate the connection from python notebooks to an Azure SQL database to retrive some information to add to our dataset.\n",
    "\n",
    "On the following site http://ergast.com/mrd/db/#csv we have downloaded the MySQL (5.7) data dumps and convert it to T-SQL in order to run this on Azure SQL Server database.\n",
    "\n",
    "After that we just need to setup the connection by getting the server, database, username and password."
   ]
  },
  {
   "cell_type": "code",
   "execution_count": null,
   "id": "104d2658",
   "metadata": {},
   "outputs": [],
   "source": [
    "server = 'f1server.database.windows.net'\n",
    "database = 'WackyRacesF1'\n",
    "username = 'PDS'\n",
    "password = '{Formula1}'  "
   ]
  },
  {
   "cell_type": "markdown",
   "id": "14f2fe11",
   "metadata": {},
   "source": [
    "We now needd to establish a connection with the database."
   ]
  },
  {
   "cell_type": "code",
   "execution_count": null,
   "id": "89fa9728",
   "metadata": {},
   "outputs": [],
   "source": [
    "cnxn = pyodbc.connect('DRIVER={ODBC Driver 17 for SQL Server};SERVER='+server+';DATABASE='+ database +';UID='+username+';PWD='+ password)"
   ]
  },
  {
   "cell_type": "markdown",
   "id": "7b5c29c6",
   "metadata": {},
   "source": [
    "Now, let's test the connection by doing a simple query on any table, for exampl select the top 5 rows from the table circuits. We setup our variable query and the results from the query to the variable df and then we just need to call it."
   ]
  },
  {
   "cell_type": "code",
   "execution_count": null,
   "id": "2b828815",
   "metadata": {},
   "outputs": [],
   "source": [
    "query = 'select top 5 * from dbo.circuits'\n",
    "\n",
    "df = pd.read_sql_query(query, cnxn)\n",
    "df"
   ]
  },
  {
   "cell_type": "markdown",
   "id": "2beab8db",
   "metadata": {},
   "source": [
    "<div class=\"alert alert-block alert-info\">\n",
    "<b>Note:</b> read_sql_query will allow the information returned to be displayed as an actual table, that we are used to use in pandas.\n",
    "</div>"
   ]
  },
  {
   "cell_type": "markdown",
   "id": "f9852b38",
   "metadata": {},
   "source": [
    "### Retrieve Information from Azure SQL Server\n",
    "\n",
    "We want to retrive the list of all drivers with the corresponding **date of birth** and **nationality** we might have on our scrapped dataset."
   ]
  },
  {
   "cell_type": "code",
   "execution_count": null,
   "id": "ee6270fa",
   "metadata": {},
   "outputs": [],
   "source": [
    "query = '''\n",
    "    SELECT [driverId] AS DRIVER_ID\n",
    "\t    , [forename] + ' '+ [surname] AS DRIVER\n",
    "        , [driverRef] as DRIVER_REF\n",
    "\t    , [code] AS DRIVER_CODE\n",
    "        , [dob] AS DOB\n",
    "        , [nationality] AS NATIONALITY\n",
    "    FROM [dbo].[drivers]\n",
    "    WHERE [number] IS NOT NULL\n",
    "    '''\n",
    "driver = pd.read_sql_query(query, cnxn)"
   ]
  },
  {
   "cell_type": "code",
   "execution_count": null,
   "id": "023129e4",
   "metadata": {},
   "outputs": [],
   "source": [
    "driver.head()"
   ]
  },
  {
   "cell_type": "markdown",
   "id": "7c954c2a",
   "metadata": {},
   "source": [
    "Additionally, we have retrived DRIVERREF, and DRIVER_CODE, which may come in handy to merge or display information in some graphics in the exploration phase.\n",
    "\n",
    "Before we can use this data we nee to perform some preprocessing to the names of the drivers to make them consistent among all datsets."
   ]
  },
  {
   "cell_type": "code",
   "execution_count": null,
   "id": "db10cad8",
   "metadata": {},
   "outputs": [],
   "source": [
    "driver['DRIVER'] = driver['DRIVER'].str.replace('Kimi Räikkönen','Kimi Raikkonen')\n",
    "driver['DRIVER'] = driver['DRIVER'].str.replace('Nico Hülkenberg','Nico Hulkenberg')\n",
    "driver['DRIVER'] = driver['DRIVER'].str.replace('Sergio Pérez','Sergio Perez')\n",
    "driver['DRIVER'] = driver['DRIVER'].str.replace('Jean-Éric Vergne','Jean-Eric Vergne')\n",
    "driver['DRIVER'] = driver['DRIVER'].str.replace('Esteban Gutiérrez','Esteban Gutierrez')"
   ]
  },
  {
   "cell_type": "code",
   "execution_count": null,
   "id": "297de43d",
   "metadata": {},
   "outputs": [],
   "source": [
    "driver.head()"
   ]
  },
  {
   "cell_type": "markdown",
   "id": "03626695",
   "metadata": {},
   "source": [
    "We have processed the data to use at a later date. We can now store this data in the database under a new schema.\n",
    "\n",
    "we will create a cursor to create a new schema in the database"
   ]
  },
  {
   "cell_type": "code",
   "execution_count": null,
   "id": "bd629445",
   "metadata": {},
   "outputs": [],
   "source": [
    "#cursor = cnxn.cursor()"
   ]
  },
  {
   "cell_type": "code",
   "execution_count": null,
   "id": "b823caaf",
   "metadata": {},
   "outputs": [],
   "source": [
    "# This was already run and a schema was created to store our data\n",
    "\n",
    "#cursor.execute('CREATE SCHEMA pfds')\n",
    "#cnxn.commit()\n"
   ]
  },
  {
   "cell_type": "markdown",
   "id": "3d695177",
   "metadata": {},
   "source": [
    "Before uploading the data into the database we need to create the table that will hold our information."
   ]
  },
  {
   "cell_type": "code",
   "execution_count": null,
   "id": "37709933",
   "metadata": {},
   "outputs": [],
   "source": [
    "# No need to recreate the table, we will just truncate the table.\n",
    "\n",
    "#cursor.execute('''\n",
    "#\tCREATE TABLE pfds.driver (\n",
    "#\tDRIVER_ID int,\n",
    "#\tDRIVER nvarchar(50),\n",
    "#\tDRIVER_REF nvarchar(50),\n",
    "#\tDRIVER_CODE nvarchar(3),\n",
    "#\tNATIONALITY nvarchar(50)\n",
    "#\t)\n",
    "#    ''')\n",
    "#cnxn.commit()"
   ]
  },
  {
   "cell_type": "code",
   "execution_count": null,
   "id": "d5759ddf",
   "metadata": {},
   "outputs": [],
   "source": [
    "# will remove all data from pfds.driver table in the Azure SQL server\n",
    "\n",
    "#cursor.execute('TRUNCATE TABLE pfds.driver')\n",
    "#cnxn.commit()"
   ]
  },
  {
   "cell_type": "code",
   "execution_count": null,
   "id": "0df4b5ea",
   "metadata": {},
   "outputs": [],
   "source": [
    "# Inserts the results from trhe query back to the Azure SQL Server database\n",
    "\n",
    "#for row in driver.itertuples():\n",
    "#    cursor.execute('''\n",
    "#                INSERT INTO pfds.driver (DRIVER_ID, DRIVER, DRIVER_REF, DRIVER_CODE, NATIONALITY)\n",
    "#                VALUES (?,?,?,?,?)\n",
    "#                ''',\n",
    "#                row.DRIVER_ID, \n",
    "#                row.DRIVER,\n",
    "#                row.DRIVER_REF,\n",
    "#                row.DRIVER_CODE,\n",
    "#                row.NATIONALITY\n",
    "#                )\n",
    "#cnxn.commit()"
   ]
  },
  {
   "cell_type": "markdown",
   "id": "6ccf3190",
   "metadata": {},
   "source": [
    "Note that this code was commented out, since this will drop and recreate tables in the server and this does take some time. Please feel free to do so in order to test these features.\n",
    "\n",
    "After we have imported the data into Azure SQL server we can query that data by just:"
   ]
  },
  {
   "cell_type": "code",
   "execution_count": null,
   "id": "885d3812",
   "metadata": {},
   "outputs": [],
   "source": [
    "query = 'SELECT * FROM pfds.driver'\n",
    "\n",
    "azure_driver = pd.read_sql_query(query, cnxn)"
   ]
  },
  {
   "cell_type": "code",
   "execution_count": null,
   "id": "54a1abc6",
   "metadata": {},
   "outputs": [],
   "source": [
    "azure_driver"
   ]
  },
  {
   "cell_type": "markdown",
   "id": "70784bc0",
   "metadata": {},
   "source": [
    "Let us save our data into an excel file."
   ]
  },
  {
   "cell_type": "code",
   "execution_count": null,
   "id": "7219adca",
   "metadata": {},
   "outputs": [],
   "source": [
    "driver.to_excel('f1_drivers_2015_2021.xlsx', index = False)"
   ]
  },
  {
   "cell_type": "markdown",
   "id": "2ea487ce",
   "metadata": {},
   "source": [
    "Now we need to retrieve information regarding the status of the race for each racer, meaning, we need to know if a driver finished the race or if had a malfunction and if so, which one was.\n",
    "\n",
    "Let us do another query, retrieving information from several tables including the one we have just uploaded."
   ]
  },
  {
   "cell_type": "code",
   "execution_count": null,
   "id": "3c66d434",
   "metadata": {},
   "outputs": [],
   "source": [
    "query = ''';WITH one AS (SELECT \n",
    "\t  drivers.driverId AS DRIVER_ID\n",
    "\t, D.DRIVER\n",
    "\t, results.number AS NUMBER\n",
    "\t, results.raceId AS RACE_ID\n",
    "\t, races.name as RACE_NAME\n",
    "\t, replace(races.name,' Grand Prix', '') AS RACE \n",
    "\t, results.StatusId AS STATUS_ID\n",
    "\t, status.status AS DRIVER_STATUS\n",
    "\t, circuits.circuitId AS CIRCUIT_ID\n",
    "\t, circuits.circuitREf AS CIRCUIT_REF\n",
    "\t, races.year AS SEASON\n",
    "\tFROM drivers\n",
    "\tleft join results\n",
    "\t\tON drivers.driverId = results.driverId\n",
    "\tleft join races\n",
    "\t\tON results.raceId = races.raceId\n",
    "\tleft join seasons\n",
    "\t\tON races.year = seasons.year\n",
    "\tleft join circuits\n",
    "\t\tON  races.circuitId = circuits.circuitId\n",
    "\tleft join status\n",
    "\t\tON  results.statusId = status.statusId\n",
    "\tleft join pfds.driver D\n",
    "\t\tON  drivers.driverId  = D.driver_Id)\n",
    "\t, two as (\n",
    "\tSELECT distinct * , replace(lower(RACE),' ', '-') AS GRAND_PRIX\n",
    "\tFROM one \n",
    "\tWHERE SEASON IN ('2015','2016','2017','2018','2019','2020','2021'))\n",
    "\tSELECT * FROM two\n",
    "\t'''\n",
    "\n",
    "status = pd.read_sql_query(query, cnxn)"
   ]
  },
  {
   "cell_type": "markdown",
   "id": "d572e760",
   "metadata": {},
   "source": [
    "When looking at the data we need to correct some information from the data base, so we run the following code"
   ]
  },
  {
   "cell_type": "code",
   "execution_count": null,
   "id": "4b90bed9",
   "metadata": {},
   "outputs": [],
   "source": [
    "status['RACE_NAME'] = status['RACE_NAME'].str.replace(r'[^\\x00-\\x7f]', '')\n",
    "status['RACE_NAME'] = status['RACE_NAME'].str.replace('So Paulo Grand Prix','Sao Paulo Grand Prix')\n",
    "\n",
    "status['RACE'] = status['RACE'].str.replace(r'[^\\x00-\\x7f]', '')\n",
    "status['RACE'] = status['RACE'].str.replace('So Paulo','So Paulo')\n",
    "\n",
    "status['GRAND_PRIX'] = status['GRAND_PRIX'].str.replace(r'[^\\x00-\\x7f]', '')\n",
    "status['GRAND_PRIX'] = status['GRAND_PRIX'].str.replace('So Paulo','brazilian')\n",
    "\n",
    "status['GRAND_PRIX'] = status['GRAND_PRIX'].str.replace('mexico-city','mexican')"
   ]
  },
  {
   "cell_type": "markdown",
   "id": "9a424f53",
   "metadata": {},
   "source": [
    "The data should be now ready to be merged with our main data set."
   ]
  },
  {
   "cell_type": "code",
   "execution_count": null,
   "id": "a10e98f5",
   "metadata": {},
   "outputs": [],
   "source": [
    "status"
   ]
  },
  {
   "cell_type": "code",
   "execution_count": null,
   "id": "df0002d7",
   "metadata": {},
   "outputs": [],
   "source": [
    "# No need to recreate the table, we will just truncate the table.\n",
    "\n",
    "#cursor.execute('''\n",
    "#\tCREATE TABLE pfds.status (\n",
    "#      DRIVER_ID\tint\n",
    "#    , DRIVER\tnvarchar(50)\n",
    "#    , NUMBER\tint\n",
    "#    , RACE_ID\tint\n",
    "#    , RACE_NAME\tnvarchar(100)\n",
    "#    , RACE\tnvarchar(50)\n",
    "#    , STATUS_ID\tint\n",
    "#    , DRIVER_STATUS\tnvarchar(50)\n",
    "#    , CIRCUIT_ID\tint\n",
    "#    , CIRCUIT_REF\tnvarchar(50)\n",
    "#    , SEASON\tnvarchar(4)\n",
    "#    , GRAND_PRIX\tnvarchar(50)\n",
    "#\t)\n",
    "#    ''')\n",
    "#cnxn.commit()"
   ]
  },
  {
   "cell_type": "code",
   "execution_count": null,
   "id": "6e6ada4d",
   "metadata": {},
   "outputs": [],
   "source": [
    "#cursor.execute('TRUNCATE TABLE pfds.status')\n",
    "#cnxn.commit()"
   ]
  },
  {
   "cell_type": "code",
   "execution_count": null,
   "id": "ecb573e2",
   "metadata": {},
   "outputs": [],
   "source": [
    "#for row in status.itertuples():\n",
    "#    cursor.execute('''\n",
    "#                INSERT INTO pfds.status (\n",
    "#                                          DRIVER_ID\t\n",
    "#                                        , DRIVER\n",
    "#                                        , NUMBER\n",
    "#                                        , RACE_ID\n",
    "#                                        , RACE_NAME\t\n",
    "#                                        , RACE\n",
    "#                                        , STATUS_ID\t\n",
    "#                                        , DRIVER_STATUS\n",
    "#                                        , CIRCUIT_ID\t\n",
    "#                                        , CIRCUIT_REF\t\n",
    "#                                        , SEASON\n",
    "#                                        , GRAND_PRIX\t\n",
    "#                                        )\n",
    "#                VALUES (?,?,?,?,?,?,?,?,?,?,?,?)\n",
    "#                ''',\n",
    "#                row.DRIVER_ID, \n",
    "#                row.DRIVER,\n",
    "#                row.NUMBER,\n",
    "#                row.RACE_ID,\n",
    "#                row.RACE_NAME,\n",
    "#                row.RACE,\n",
    "#                row.STATUS_ID,\t\n",
    "#                row.DRIVER_STATUS,\n",
    "#                row.CIRCUIT_ID,\t\n",
    "#                row.CIRCUIT_REF,\n",
    "#                row.SEASON,\n",
    "#                row.GRAND_PRIX,\t\n",
    "#                )\n",
    "#cnxn.commit()"
   ]
  },
  {
   "cell_type": "code",
   "execution_count": null,
   "id": "9bc9a2f0",
   "metadata": {},
   "outputs": [],
   "source": [
    "query = 'SELECT * FROM pfds.status'\n",
    "\n",
    "azure_status = pd.read_sql_query(query, cnxn)"
   ]
  },
  {
   "cell_type": "code",
   "execution_count": null,
   "id": "281d0a0f",
   "metadata": {},
   "outputs": [],
   "source": [
    "azure_status"
   ]
  },
  {
   "cell_type": "code",
   "execution_count": null,
   "id": "e3739cc1",
   "metadata": {},
   "outputs": [],
   "source": [
    "f1_full_data = pd.merge(web_data, status, how='left', left_on=['DRIVER','GRAND_PRIX','SEASON'], right_on = ['DRIVER','GRAND_PRIX','SEASON'])"
   ]
  },
  {
   "cell_type": "code",
   "execution_count": null,
   "id": "045f4eb2",
   "metadata": {},
   "outputs": [],
   "source": [
    "f1_full_data.head()"
   ]
  },
  {
   "cell_type": "code",
   "execution_count": null,
   "id": "fa3c9b8d",
   "metadata": {},
   "outputs": [],
   "source": [
    "f1_full_data.info()"
   ]
  },
  {
   "cell_type": "markdown",
   "id": "dc4e7ac0",
   "metadata": {},
   "source": [
    "Let us save our data set in excel format."
   ]
  },
  {
   "cell_type": "code",
   "execution_count": null,
   "id": "e5c18060",
   "metadata": {},
   "outputs": [],
   "source": [
    "f1_full_data.to_excel('f1_race_data_2015_2021.xlsx')"
   ]
  },
  {
   "cell_type": "markdown",
   "id": "4e219244",
   "metadata": {},
   "source": [
    "# API\n",
    "\n",
    "We can also make use of API functionality that will let us get the most updated information if we would require the dat to be updated constantely, which is not the case but we will make a demonstration of it.\n",
    "\n",
    "We will use the API to request all the circuits in use for seasons 2015 to 2021, this will retrieve all the circuits locations that we require for our work."
   ]
  },
  {
   "cell_type": "code",
   "execution_count": null,
   "id": "9f335f47",
   "metadata": {},
   "outputs": [],
   "source": [
    "# query API\n",
    "\n",
    "races = {'season': [],\n",
    "        'circuit_id': [],\n",
    "        'lat': [],\n",
    "        'long': [],\n",
    "        'country': []}\n",
    "\n",
    "for year in list(range(2015,2021)):\n",
    "    \n",
    "    url = 'https://ergast.com/api/f1/{}.json' \n",
    "    r = requests.get(url.format(year))\n",
    "    json = r.json()\n",
    "\n",
    "    for item in json['MRData']['RaceTable']['Races']:\n",
    "        try:\n",
    "            races['season'].append(int(item['season']))\n",
    "        except:\n",
    "            races['season'].append(None)\n",
    "\n",
    "        try:\n",
    "            races['circuit_id'].append(item['Circuit']['circuitId'])\n",
    "        except:\n",
    "            races['circuit_id'].append(None)\n",
    "\n",
    "        try:\n",
    "            races['lat'].append(float(item['Circuit']['Location']['lat']))\n",
    "        except:\n",
    "            races['lat'].append(None)\n",
    "\n",
    "        try:\n",
    "            races['long'].append(float(item['Circuit']['Location']['long']))\n",
    "        except:\n",
    "            races['long'].append(None)\n",
    "\n",
    "        try:\n",
    "            races['country'].append(item['Circuit']['Location']['country'])\n",
    "        except:\n",
    "            races['country'].append(None)\n",
    "        \n",
    "races = pd.DataFrame(races)"
   ]
  },
  {
   "cell_type": "markdown",
   "id": "1ec36ef4",
   "metadata": {},
   "source": [
    "Let us check the results from our query."
   ]
  },
  {
   "cell_type": "code",
   "execution_count": null,
   "id": "97a193e0",
   "metadata": {},
   "outputs": [],
   "source": [
    "races"
   ]
  },
  {
   "cell_type": "code",
   "execution_count": null,
   "id": "74a60919",
   "metadata": {},
   "outputs": [],
   "source": [
    "f1_circuits = races\n",
    "f1_circuits.to_excel('f1_circuits_2015_2021.xlsx', index= False) "
   ]
  },
  {
   "cell_type": "markdown",
   "id": "be8abd36",
   "metadata": {},
   "source": [
    "# Data extracted \n",
    "\n",
    "Our main data is comprised of 3 datasets\n",
    "\n",
    "1. Drivers\n",
    "2. Circuits\n",
    "3. Race data\n",
    "\n",
    "### 1. Drivers\n",
    "- **DRIVER_ID**:\t    Driver Identification\n",
    "- **DRIVER**:\t        Driver name\n",
    "- **DRIVER_REF**:\t    Driver reference (last name)\n",
    "- **DRIVER_CODE**:\t    3 letter code based on the driver name\n",
    "- **DOB**:\t            Date of birth\n",
    "- **NATIONALITY**:\t    Nationality\n",
    "    \n",
    "### 2. Circuits \n",
    "- **season**:           Season\n",
    "- **circuit_id**:       Circuit identification\n",
    "- **lat**:              Latitude\n",
    "- **long**:             Longitude\n",
    "- **country**:          Country\n",
    "\n",
    "### 3. Race data\n",
    "\n",
    "- **CLASS**:\t        Race position\n",
    "- **DRIVER**:\t        Driver name\n",
    "- **TEAM**:\t            F1 Team\n",
    "- **LAPS**:\t            Laps completed\n",
    "- **RACE_TIME**:\t    Race total time\n",
    "- **DRIVER_SNAME**:\t    Driver short name\n",
    "- **GRAND_PRIX**:\t    Grand Prix \n",
    "- **SEASON**:\t        Season year\n",
    "- **FLAP_POS**:\t        Fastest lap position\n",
    "- **FLAP_TIME**:\t    Fastest lap time\n",
    "- **F_LAP**:\t        Fastest lap\n",
    "- **FLAP_GAP**:\t        Fastest lap gap\n",
    "- **FLAP_KM/H**:\t    Fastest lap max speed\n",
    "- **FLAP_HOUR**:\t    Fastest lap time of the day\n",
    "- **BS1_POS**:\t        Sector 1 position\n",
    "- **BS1_TIME**:\t        Sector 1 time\n",
    "- **BS2_POS**:\t        Sector 2 position\n",
    "- **BS2_TIME**:\t        Sector 2 time\n",
    "- **BS3_POS**:\t        Sector 3 position\n",
    "- **BS3_TIME**:\t        Sector 3 time\n",
    "- **ST_POS**:\t        Speed trap position\n",
    "- **STKM/H**:\t        Speed trap speed\n",
    "- **I1_POS**:\t        Maximum speed intermediate 1 position\n",
    "- **I1_KM/H**:\t        Maximum speed intermediate 1 speed\n",
    "- **I2_POS**:\t        Maximum speed intermediate 2 position\n",
    "- **I2_KM/H**:\t        Maximum speed intermediate 2 speed\n",
    "- **FL_POS**:\t        Maximum speed finish line position\n",
    "- **FL_KM/H**:\t        Maximum speed finish line speed\n",
    "- **DRIVER_NO**:\t    Driver number\n",
    "- **STOPS**:\t        Number of pit stops\n",
    "- **PS_TOTAL_TIME**:\tPit stops total time\n",
    "- **QL_CLASS**:\t        Session classification position\n",
    "- **QL_TIME1**:\t        Qualification session 1 time\n",
    "- **QL_LAPS1**:\t        Qualification session 1 laps\n",
    "- **QL_TIME2**:\t        Qualification session 2 time\n",
    "- **QL_LAPS2**:\t        Qualification session 2 laps\n",
    "- **QL_TIME3**:\t        Qualification session 3 time\n",
    "- **QL_LAPS3**:\t        Qualification session 3 laps\n",
    "- **GD_CLASS**:\t        Grid position\n",
    "- **GD_TIME**:\t        Grid time\n",
    "- **DRIVER_ID**:\t    Driver identification\n",
    "- **DRIVER**:\t        Driver name\n",
    "- **NUMBER**:\t        Driver number\n",
    "- **RACE_ID**:          Race identification\n",
    "- **RACE_NAME**:\t    Race name\n",
    "- **RACE**:\t            Race short name\n",
    "- **STATUS_ID**:\t    Driver status for each race\n",
    "- **DRIVER_STATUS**:\tDecode for Status ID\n",
    "- **CIRCUIT_ID**:\t    Circuit identification\n",
    "- **CIRCUIT_REF**:\t    Circuit reference\n"
   ]
  },
  {
   "cell_type": "markdown",
   "id": "1598e15f",
   "metadata": {},
   "source": []
  }
 ],
 "metadata": {
  "kernelspec": {
   "display_name": "Python 3 (ipykernel)",
   "language": "python",
   "name": "python3"
  },
  "language_info": {
   "codemirror_mode": {
    "name": "ipython",
    "version": 3
   },
   "file_extension": ".py",
   "mimetype": "text/x-python",
   "name": "python",
   "nbconvert_exporter": "python",
   "pygments_lexer": "ipython3",
   "version": "3.9.7"
  }
 },
 "nbformat": 4,
 "nbformat_minor": 5
}
