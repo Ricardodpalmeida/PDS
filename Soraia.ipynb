{
 "cells": [
  {
   "cell_type": "markdown",
   "id": "cf06cae9",
   "metadata": {},
   "source": [
    "# Data Analysis"
   ]
  },
  {
   "cell_type": "markdown",
   "id": "3f70e276",
   "metadata": {},
   "source": [
    "**1.** Import the required libraries"
   ]
  },
  {
   "cell_type": "code",
   "execution_count": 94,
   "id": "227d1de0",
   "metadata": {},
   "outputs": [],
   "source": [
    "import matplotlib.pyplot as plt\n",
    "import seaborn as sns\n",
    "import plotly.express as px\n",
    "import chart_studio\n",
    "import chart_studio.plotly as py\n",
    "import chart_studio.tools as tls\n",
    "import pyodbc\n",
    "import pandas as pd\n",
    "import numpy as np\n",
    "import nltk"
   ]
  },
  {
   "cell_type": "code",
   "execution_count": 95,
   "id": "af8fdca2",
   "metadata": {},
   "outputs": [],
   "source": [
    "user_name = 'soraia_alves'\n",
    "api_key = 'upRwGvOoie777YLidnTM'"
   ]
  },
  {
   "cell_type": "code",
   "execution_count": 96,
   "id": "31208528",
   "metadata": {},
   "outputs": [],
   "source": [
    "tls.set_credentials_file(user_name, api_key)"
   ]
  },
  {
   "cell_type": "markdown",
   "id": "9395442c",
   "metadata": {},
   "source": [
    "**2.** Connect with SQL database to import the data from the races that occured between 2015 e 2021"
   ]
  },
  {
   "cell_type": "code",
   "execution_count": 97,
   "id": "1b2d3d43",
   "metadata": {},
   "outputs": [
    {
     "data": {
      "text/html": [
       "<div>\n",
       "<style scoped>\n",
       "    .dataframe tbody tr th:only-of-type {\n",
       "        vertical-align: middle;\n",
       "    }\n",
       "\n",
       "    .dataframe tbody tr th {\n",
       "        vertical-align: top;\n",
       "    }\n",
       "\n",
       "    .dataframe thead th {\n",
       "        text-align: right;\n",
       "    }\n",
       "</style>\n",
       "<table border=\"1\" class=\"dataframe\">\n",
       "  <thead>\n",
       "    <tr style=\"text-align: right;\">\n",
       "      <th></th>\n",
       "      <th>raceId</th>\n",
       "      <th>year</th>\n",
       "    </tr>\n",
       "  </thead>\n",
       "  <tbody>\n",
       "    <tr>\n",
       "      <th>0</th>\n",
       "      <td>926</td>\n",
       "      <td>2015</td>\n",
       "    </tr>\n",
       "    <tr>\n",
       "      <th>1</th>\n",
       "      <td>927</td>\n",
       "      <td>2015</td>\n",
       "    </tr>\n",
       "    <tr>\n",
       "      <th>2</th>\n",
       "      <td>928</td>\n",
       "      <td>2015</td>\n",
       "    </tr>\n",
       "    <tr>\n",
       "      <th>3</th>\n",
       "      <td>929</td>\n",
       "      <td>2015</td>\n",
       "    </tr>\n",
       "    <tr>\n",
       "      <th>4</th>\n",
       "      <td>930</td>\n",
       "      <td>2015</td>\n",
       "    </tr>\n",
       "  </tbody>\n",
       "</table>\n",
       "</div>"
      ],
      "text/plain": [
       "   raceId  year\n",
       "0     926  2015\n",
       "1     927  2015\n",
       "2     928  2015\n",
       "3     929  2015\n",
       "4     930  2015"
      ]
     },
     "execution_count": 97,
     "metadata": {},
     "output_type": "execute_result"
    }
   ],
   "source": [
    "server = 'f1server.database.windows.net' \n",
    "database = 'WackyRacesF1' \n",
    "username = 'PDS' \n",
    "password = 'Formula1'  \n",
    "cnxn = pyodbc.connect('DRIVER={SQL Server};SERVER='+server+';DATABASE='+database+';UID='+username+';PWD='+ password)\n",
    "cursor = cnxn.cursor()\n",
    "query = \"SELECT DISTINCT raceId, year FROM dbo.races WHERE year >= 2015 AND year <= 2021;\"\n",
    "races = pd.read_sql(query, cnxn)\n",
    "races.head()"
   ]
  },
  {
   "cell_type": "markdown",
   "id": "be343925",
   "metadata": {},
   "source": [
    "## Who has been the dominant F1 team?"
   ]
  },
  {
   "cell_type": "markdown",
   "id": "1f37ac19",
   "metadata": {},
   "source": [
    "**3.** Connect with SQL database to import the data for the `\"constructorResults\"`"
   ]
  },
  {
   "cell_type": "code",
   "execution_count": 98,
   "id": "93f44677-6090-4889-86c0-d33408bbf784",
   "metadata": {
    "scrolled": false
   },
   "outputs": [
    {
     "data": {
      "text/html": [
       "<div>\n",
       "<style scoped>\n",
       "    .dataframe tbody tr th:only-of-type {\n",
       "        vertical-align: middle;\n",
       "    }\n",
       "\n",
       "    .dataframe tbody tr th {\n",
       "        vertical-align: top;\n",
       "    }\n",
       "\n",
       "    .dataframe thead th {\n",
       "        text-align: right;\n",
       "    }\n",
       "</style>\n",
       "<table border=\"1\" class=\"dataframe\">\n",
       "  <thead>\n",
       "    <tr style=\"text-align: right;\">\n",
       "      <th></th>\n",
       "      <th>constructorResultsId</th>\n",
       "      <th>raceId</th>\n",
       "      <th>constructorId</th>\n",
       "      <th>points</th>\n",
       "      <th>status</th>\n",
       "    </tr>\n",
       "  </thead>\n",
       "  <tbody>\n",
       "    <tr>\n",
       "      <th>0</th>\n",
       "      <td>1</td>\n",
       "      <td>18</td>\n",
       "      <td>1</td>\n",
       "      <td>14.0</td>\n",
       "      <td>\\N</td>\n",
       "    </tr>\n",
       "    <tr>\n",
       "      <th>1</th>\n",
       "      <td>2</td>\n",
       "      <td>18</td>\n",
       "      <td>2</td>\n",
       "      <td>8.0</td>\n",
       "      <td>\\N</td>\n",
       "    </tr>\n",
       "    <tr>\n",
       "      <th>2</th>\n",
       "      <td>3</td>\n",
       "      <td>18</td>\n",
       "      <td>3</td>\n",
       "      <td>9.0</td>\n",
       "      <td>\\N</td>\n",
       "    </tr>\n",
       "    <tr>\n",
       "      <th>3</th>\n",
       "      <td>4</td>\n",
       "      <td>18</td>\n",
       "      <td>4</td>\n",
       "      <td>5.0</td>\n",
       "      <td>\\N</td>\n",
       "    </tr>\n",
       "    <tr>\n",
       "      <th>4</th>\n",
       "      <td>5</td>\n",
       "      <td>18</td>\n",
       "      <td>5</td>\n",
       "      <td>2.0</td>\n",
       "      <td>\\N</td>\n",
       "    </tr>\n",
       "    <tr>\n",
       "      <th>...</th>\n",
       "      <td>...</td>\n",
       "      <td>...</td>\n",
       "      <td>...</td>\n",
       "      <td>...</td>\n",
       "      <td>...</td>\n",
       "    </tr>\n",
       "    <tr>\n",
       "      <th>11965</th>\n",
       "      <td>16465</td>\n",
       "      <td>1075</td>\n",
       "      <td>213</td>\n",
       "      <td>4.0</td>\n",
       "      <td>\\N</td>\n",
       "    </tr>\n",
       "    <tr>\n",
       "      <th>11966</th>\n",
       "      <td>16466</td>\n",
       "      <td>1075</td>\n",
       "      <td>210</td>\n",
       "      <td>2.0</td>\n",
       "      <td>\\N</td>\n",
       "    </tr>\n",
       "    <tr>\n",
       "      <th>11967</th>\n",
       "      <td>16467</td>\n",
       "      <td>1075</td>\n",
       "      <td>51</td>\n",
       "      <td>0.0</td>\n",
       "      <td>\\N</td>\n",
       "    </tr>\n",
       "    <tr>\n",
       "      <th>11968</th>\n",
       "      <td>16468</td>\n",
       "      <td>1075</td>\n",
       "      <td>117</td>\n",
       "      <td>0.0</td>\n",
       "      <td>\\N</td>\n",
       "    </tr>\n",
       "    <tr>\n",
       "      <th>11969</th>\n",
       "      <td>16469</td>\n",
       "      <td>1075</td>\n",
       "      <td>3</td>\n",
       "      <td>0.0</td>\n",
       "      <td>\\N</td>\n",
       "    </tr>\n",
       "  </tbody>\n",
       "</table>\n",
       "<p>11970 rows × 5 columns</p>\n",
       "</div>"
      ],
      "text/plain": [
       "       constructorResultsId  raceId  constructorId  points status\n",
       "0                         1      18              1    14.0     \\N\n",
       "1                         2      18              2     8.0     \\N\n",
       "2                         3      18              3     9.0     \\N\n",
       "3                         4      18              4     5.0     \\N\n",
       "4                         5      18              5     2.0     \\N\n",
       "...                     ...     ...            ...     ...    ...\n",
       "11965                 16465    1075            213     4.0     \\N\n",
       "11966                 16466    1075            210     2.0     \\N\n",
       "11967                 16467    1075             51     0.0     \\N\n",
       "11968                 16468    1075            117     0.0     \\N\n",
       "11969                 16469    1075              3     0.0     \\N\n",
       "\n",
       "[11970 rows x 5 columns]"
      ]
     },
     "execution_count": 98,
     "metadata": {},
     "output_type": "execute_result"
    }
   ],
   "source": [
    "# Some other example server values are\n",
    "# server = 'localhost\\sqlexpress' # for a named instance\n",
    "# server = 'myserver,port' # to specify an alternate port\n",
    "server = 'f1server.database.windows.net' \n",
    "database = 'WackyRacesF1' \n",
    "username = 'PDS' \n",
    "password = 'Formula1'  \n",
    "cnxn = pyodbc.connect('DRIVER={SQL Server};SERVER='+server+';DATABASE='+database+';UID='+username+';PWD='+ password)\n",
    "cursor = cnxn.cursor()\n",
    "query = \"SELECT * FROM dbo.constructorResults;\"\n",
    "constructorResults = pd.read_sql(query, cnxn)\n",
    "constructorResults"
   ]
  },
  {
   "cell_type": "markdown",
   "id": "854d50ac",
   "metadata": {},
   "source": [
    "**4.** Connect with SQL database to import the data for the `\"constructors\"`"
   ]
  },
  {
   "cell_type": "code",
   "execution_count": 99,
   "id": "48c63e5d-7357-4caf-9984-0e3b8d1a88aa",
   "metadata": {
    "scrolled": false
   },
   "outputs": [
    {
     "data": {
      "text/html": [
       "<div>\n",
       "<style scoped>\n",
       "    .dataframe tbody tr th:only-of-type {\n",
       "        vertical-align: middle;\n",
       "    }\n",
       "\n",
       "    .dataframe tbody tr th {\n",
       "        vertical-align: top;\n",
       "    }\n",
       "\n",
       "    .dataframe thead th {\n",
       "        text-align: right;\n",
       "    }\n",
       "</style>\n",
       "<table border=\"1\" class=\"dataframe\">\n",
       "  <thead>\n",
       "    <tr style=\"text-align: right;\">\n",
       "      <th></th>\n",
       "      <th>constructorId</th>\n",
       "      <th>constructorRef</th>\n",
       "      <th>name</th>\n",
       "      <th>nationality</th>\n",
       "      <th>url</th>\n",
       "    </tr>\n",
       "  </thead>\n",
       "  <tbody>\n",
       "    <tr>\n",
       "      <th>0</th>\n",
       "      <td>1</td>\n",
       "      <td>mclaren</td>\n",
       "      <td>McLaren</td>\n",
       "      <td>British</td>\n",
       "      <td>http://en.wikipedia.org/wiki/McLaren</td>\n",
       "    </tr>\n",
       "    <tr>\n",
       "      <th>1</th>\n",
       "      <td>2</td>\n",
       "      <td>bmw_sauber</td>\n",
       "      <td>BMW Sauber</td>\n",
       "      <td>German</td>\n",
       "      <td>http://en.wikipedia.org/wiki/BMW_Sauber</td>\n",
       "    </tr>\n",
       "    <tr>\n",
       "      <th>2</th>\n",
       "      <td>3</td>\n",
       "      <td>williams</td>\n",
       "      <td>Williams</td>\n",
       "      <td>British</td>\n",
       "      <td>http://en.wikipedia.org/wiki/Williams_Grand_Pr...</td>\n",
       "    </tr>\n",
       "    <tr>\n",
       "      <th>3</th>\n",
       "      <td>4</td>\n",
       "      <td>renault</td>\n",
       "      <td>Renault</td>\n",
       "      <td>French</td>\n",
       "      <td>http://en.wikipedia.org/wiki/Renault_in_Formul...</td>\n",
       "    </tr>\n",
       "    <tr>\n",
       "      <th>4</th>\n",
       "      <td>5</td>\n",
       "      <td>toro_rosso</td>\n",
       "      <td>Toro Rosso</td>\n",
       "      <td>Italian</td>\n",
       "      <td>http://en.wikipedia.org/wiki/Scuderia_Toro_Rosso</td>\n",
       "    </tr>\n",
       "    <tr>\n",
       "      <th>...</th>\n",
       "      <td>...</td>\n",
       "      <td>...</td>\n",
       "      <td>...</td>\n",
       "      <td>...</td>\n",
       "      <td>...</td>\n",
       "    </tr>\n",
       "    <tr>\n",
       "      <th>206</th>\n",
       "      <td>209</td>\n",
       "      <td>manor</td>\n",
       "      <td>Manor Marussia</td>\n",
       "      <td>British</td>\n",
       "      <td>http://en.wikipedia.org/wiki/Manor_Motorsport</td>\n",
       "    </tr>\n",
       "    <tr>\n",
       "      <th>207</th>\n",
       "      <td>210</td>\n",
       "      <td>haas</td>\n",
       "      <td>Haas F1 Team</td>\n",
       "      <td>American</td>\n",
       "      <td>http://en.wikipedia.org/wiki/Haas_F1_Team</td>\n",
       "    </tr>\n",
       "    <tr>\n",
       "      <th>208</th>\n",
       "      <td>211</td>\n",
       "      <td>racing_point</td>\n",
       "      <td>Racing Point</td>\n",
       "      <td>British</td>\n",
       "      <td>http://en.wikipedia.org/wiki/Racing_Point_F1_Team</td>\n",
       "    </tr>\n",
       "    <tr>\n",
       "      <th>209</th>\n",
       "      <td>213</td>\n",
       "      <td>alphatauri</td>\n",
       "      <td>AlphaTauri</td>\n",
       "      <td>Italian</td>\n",
       "      <td>http://en.wikipedia.org/wiki/Scuderia_AlphaTauri</td>\n",
       "    </tr>\n",
       "    <tr>\n",
       "      <th>210</th>\n",
       "      <td>214</td>\n",
       "      <td>alpine</td>\n",
       "      <td>Alpine F1 Team</td>\n",
       "      <td>French</td>\n",
       "      <td>http://en.wikipedia.org/wiki/Alpine_F1_Team</td>\n",
       "    </tr>\n",
       "  </tbody>\n",
       "</table>\n",
       "<p>211 rows × 5 columns</p>\n",
       "</div>"
      ],
      "text/plain": [
       "     constructorId constructorRef            name nationality  \\\n",
       "0                1        mclaren         McLaren     British   \n",
       "1                2     bmw_sauber      BMW Sauber      German   \n",
       "2                3       williams        Williams     British   \n",
       "3                4        renault         Renault      French   \n",
       "4                5     toro_rosso      Toro Rosso     Italian   \n",
       "..             ...            ...             ...         ...   \n",
       "206            209          manor  Manor Marussia     British   \n",
       "207            210           haas    Haas F1 Team    American   \n",
       "208            211   racing_point    Racing Point     British   \n",
       "209            213     alphatauri      AlphaTauri     Italian   \n",
       "210            214         alpine  Alpine F1 Team      French   \n",
       "\n",
       "                                                   url  \n",
       "0                 http://en.wikipedia.org/wiki/McLaren  \n",
       "1              http://en.wikipedia.org/wiki/BMW_Sauber  \n",
       "2    http://en.wikipedia.org/wiki/Williams_Grand_Pr...  \n",
       "3    http://en.wikipedia.org/wiki/Renault_in_Formul...  \n",
       "4     http://en.wikipedia.org/wiki/Scuderia_Toro_Rosso  \n",
       "..                                                 ...  \n",
       "206      http://en.wikipedia.org/wiki/Manor_Motorsport  \n",
       "207          http://en.wikipedia.org/wiki/Haas_F1_Team  \n",
       "208  http://en.wikipedia.org/wiki/Racing_Point_F1_Team  \n",
       "209   http://en.wikipedia.org/wiki/Scuderia_AlphaTauri  \n",
       "210        http://en.wikipedia.org/wiki/Alpine_F1_Team  \n",
       "\n",
       "[211 rows x 5 columns]"
      ]
     },
     "execution_count": 99,
     "metadata": {},
     "output_type": "execute_result"
    }
   ],
   "source": [
    "server = 'f1server.database.windows.net' \n",
    "database = 'WackyRacesF1' \n",
    "username = 'PDS' \n",
    "password = 'Formula1'  \n",
    "cnxn = pyodbc.connect('DRIVER={SQL Server};SERVER='+server+';DATABASE='+database+';UID='+username+';PWD='+ password)\n",
    "cursor = cnxn.cursor()\n",
    "query = \"SELECT * FROM dbo.constructors;\"\n",
    "constructors = pd.read_sql(query, cnxn)\n",
    "constructors"
   ]
  },
  {
   "cell_type": "markdown",
   "id": "232fd0cc",
   "metadata": {},
   "source": [
    "**5.** Merge the data to obtain the constructor name"
   ]
  },
  {
   "cell_type": "code",
   "execution_count": 100,
   "id": "9d6dd472-6fa6-4e64-9d1e-1e8a9768e58a",
   "metadata": {
    "scrolled": false
   },
   "outputs": [
    {
     "data": {
      "text/html": [
       "<div>\n",
       "<style scoped>\n",
       "    .dataframe tbody tr th:only-of-type {\n",
       "        vertical-align: middle;\n",
       "    }\n",
       "\n",
       "    .dataframe tbody tr th {\n",
       "        vertical-align: top;\n",
       "    }\n",
       "\n",
       "    .dataframe thead th {\n",
       "        text-align: right;\n",
       "    }\n",
       "</style>\n",
       "<table border=\"1\" class=\"dataframe\">\n",
       "  <thead>\n",
       "    <tr style=\"text-align: right;\">\n",
       "      <th></th>\n",
       "      <th>constructorResultsId</th>\n",
       "      <th>raceId</th>\n",
       "      <th>constructorId</th>\n",
       "      <th>points</th>\n",
       "      <th>status</th>\n",
       "      <th>name</th>\n",
       "    </tr>\n",
       "  </thead>\n",
       "  <tbody>\n",
       "    <tr>\n",
       "      <th>0</th>\n",
       "      <td>1</td>\n",
       "      <td>18</td>\n",
       "      <td>1</td>\n",
       "      <td>14.0</td>\n",
       "      <td>\\N</td>\n",
       "      <td>McLaren</td>\n",
       "    </tr>\n",
       "    <tr>\n",
       "      <th>1</th>\n",
       "      <td>2</td>\n",
       "      <td>18</td>\n",
       "      <td>2</td>\n",
       "      <td>8.0</td>\n",
       "      <td>\\N</td>\n",
       "      <td>BMW Sauber</td>\n",
       "    </tr>\n",
       "    <tr>\n",
       "      <th>2</th>\n",
       "      <td>3</td>\n",
       "      <td>18</td>\n",
       "      <td>3</td>\n",
       "      <td>9.0</td>\n",
       "      <td>\\N</td>\n",
       "      <td>Williams</td>\n",
       "    </tr>\n",
       "    <tr>\n",
       "      <th>3</th>\n",
       "      <td>4</td>\n",
       "      <td>18</td>\n",
       "      <td>4</td>\n",
       "      <td>5.0</td>\n",
       "      <td>\\N</td>\n",
       "      <td>Renault</td>\n",
       "    </tr>\n",
       "    <tr>\n",
       "      <th>4</th>\n",
       "      <td>5</td>\n",
       "      <td>18</td>\n",
       "      <td>5</td>\n",
       "      <td>2.0</td>\n",
       "      <td>\\N</td>\n",
       "      <td>Toro Rosso</td>\n",
       "    </tr>\n",
       "    <tr>\n",
       "      <th>...</th>\n",
       "      <td>...</td>\n",
       "      <td>...</td>\n",
       "      <td>...</td>\n",
       "      <td>...</td>\n",
       "      <td>...</td>\n",
       "      <td>...</td>\n",
       "    </tr>\n",
       "    <tr>\n",
       "      <th>11965</th>\n",
       "      <td>16465</td>\n",
       "      <td>1075</td>\n",
       "      <td>213</td>\n",
       "      <td>4.0</td>\n",
       "      <td>\\N</td>\n",
       "      <td>AlphaTauri</td>\n",
       "    </tr>\n",
       "    <tr>\n",
       "      <th>11966</th>\n",
       "      <td>16466</td>\n",
       "      <td>1075</td>\n",
       "      <td>210</td>\n",
       "      <td>2.0</td>\n",
       "      <td>\\N</td>\n",
       "      <td>Haas F1 Team</td>\n",
       "    </tr>\n",
       "    <tr>\n",
       "      <th>11967</th>\n",
       "      <td>16467</td>\n",
       "      <td>1075</td>\n",
       "      <td>51</td>\n",
       "      <td>0.0</td>\n",
       "      <td>\\N</td>\n",
       "      <td>Alfa Romeo</td>\n",
       "    </tr>\n",
       "    <tr>\n",
       "      <th>11968</th>\n",
       "      <td>16468</td>\n",
       "      <td>1075</td>\n",
       "      <td>117</td>\n",
       "      <td>0.0</td>\n",
       "      <td>\\N</td>\n",
       "      <td>Aston Martin</td>\n",
       "    </tr>\n",
       "    <tr>\n",
       "      <th>11969</th>\n",
       "      <td>16469</td>\n",
       "      <td>1075</td>\n",
       "      <td>3</td>\n",
       "      <td>0.0</td>\n",
       "      <td>\\N</td>\n",
       "      <td>Williams</td>\n",
       "    </tr>\n",
       "  </tbody>\n",
       "</table>\n",
       "<p>11970 rows × 6 columns</p>\n",
       "</div>"
      ],
      "text/plain": [
       "       constructorResultsId  raceId  constructorId  points status  \\\n",
       "0                         1      18              1    14.0     \\N   \n",
       "1                         2      18              2     8.0     \\N   \n",
       "2                         3      18              3     9.0     \\N   \n",
       "3                         4      18              4     5.0     \\N   \n",
       "4                         5      18              5     2.0     \\N   \n",
       "...                     ...     ...            ...     ...    ...   \n",
       "11965                 16465    1075            213     4.0     \\N   \n",
       "11966                 16466    1075            210     2.0     \\N   \n",
       "11967                 16467    1075             51     0.0     \\N   \n",
       "11968                 16468    1075            117     0.0     \\N   \n",
       "11969                 16469    1075              3     0.0     \\N   \n",
       "\n",
       "               name  \n",
       "0           McLaren  \n",
       "1        BMW Sauber  \n",
       "2          Williams  \n",
       "3           Renault  \n",
       "4        Toro Rosso  \n",
       "...             ...  \n",
       "11965    AlphaTauri  \n",
       "11966  Haas F1 Team  \n",
       "11967    Alfa Romeo  \n",
       "11968  Aston Martin  \n",
       "11969      Williams  \n",
       "\n",
       "[11970 rows x 6 columns]"
      ]
     },
     "execution_count": 100,
     "metadata": {},
     "output_type": "execute_result"
    }
   ],
   "source": [
    "equipas_nome = constructorResults.merge(constructors[['constructorId', 'name']], how='left', on='constructorId')\n",
    "equipas_nome"
   ]
  },
  {
   "cell_type": "markdown",
   "id": "4db6fa63",
   "metadata": {},
   "source": [
    "**6.** Merge the data to obtain year"
   ]
  },
  {
   "cell_type": "code",
   "execution_count": 101,
   "id": "29fc9a34",
   "metadata": {
    "scrolled": true
   },
   "outputs": [
    {
     "data": {
      "text/html": [
       "<div>\n",
       "<style scoped>\n",
       "    .dataframe tbody tr th:only-of-type {\n",
       "        vertical-align: middle;\n",
       "    }\n",
       "\n",
       "    .dataframe tbody tr th {\n",
       "        vertical-align: top;\n",
       "    }\n",
       "\n",
       "    .dataframe thead th {\n",
       "        text-align: right;\n",
       "    }\n",
       "</style>\n",
       "<table border=\"1\" class=\"dataframe\">\n",
       "  <thead>\n",
       "    <tr style=\"text-align: right;\">\n",
       "      <th></th>\n",
       "      <th>constructorResultsId</th>\n",
       "      <th>raceId</th>\n",
       "      <th>constructorId</th>\n",
       "      <th>points</th>\n",
       "      <th>status</th>\n",
       "      <th>name</th>\n",
       "      <th>year</th>\n",
       "    </tr>\n",
       "  </thead>\n",
       "  <tbody>\n",
       "    <tr>\n",
       "      <th>0</th>\n",
       "      <td>15015</td>\n",
       "      <td>926</td>\n",
       "      <td>131</td>\n",
       "      <td>43.0</td>\n",
       "      <td>\\N</td>\n",
       "      <td>Mercedes</td>\n",
       "      <td>2015</td>\n",
       "    </tr>\n",
       "    <tr>\n",
       "      <th>1</th>\n",
       "      <td>15016</td>\n",
       "      <td>926</td>\n",
       "      <td>6</td>\n",
       "      <td>15.0</td>\n",
       "      <td>\\N</td>\n",
       "      <td>Ferrari</td>\n",
       "      <td>2015</td>\n",
       "    </tr>\n",
       "    <tr>\n",
       "      <th>2</th>\n",
       "      <td>15017</td>\n",
       "      <td>926</td>\n",
       "      <td>3</td>\n",
       "      <td>12.0</td>\n",
       "      <td>\\N</td>\n",
       "      <td>Williams</td>\n",
       "      <td>2015</td>\n",
       "    </tr>\n",
       "    <tr>\n",
       "      <th>3</th>\n",
       "      <td>15018</td>\n",
       "      <td>926</td>\n",
       "      <td>15</td>\n",
       "      <td>14.0</td>\n",
       "      <td>\\N</td>\n",
       "      <td>Sauber</td>\n",
       "      <td>2015</td>\n",
       "    </tr>\n",
       "    <tr>\n",
       "      <th>4</th>\n",
       "      <td>15019</td>\n",
       "      <td>926</td>\n",
       "      <td>9</td>\n",
       "      <td>8.0</td>\n",
       "      <td>\\N</td>\n",
       "      <td>Red Bull</td>\n",
       "      <td>2015</td>\n",
       "    </tr>\n",
       "    <tr>\n",
       "      <th>...</th>\n",
       "      <td>...</td>\n",
       "      <td>...</td>\n",
       "      <td>...</td>\n",
       "      <td>...</td>\n",
       "      <td>...</td>\n",
       "      <td>...</td>\n",
       "      <td>...</td>\n",
       "    </tr>\n",
       "    <tr>\n",
       "      <th>1429</th>\n",
       "      <td>16445</td>\n",
       "      <td>1073</td>\n",
       "      <td>214</td>\n",
       "      <td>6.0</td>\n",
       "      <td>\\N</td>\n",
       "      <td>Alpine F1 Team</td>\n",
       "      <td>2021</td>\n",
       "    </tr>\n",
       "    <tr>\n",
       "      <th>1430</th>\n",
       "      <td>16446</td>\n",
       "      <td>1073</td>\n",
       "      <td>117</td>\n",
       "      <td>0.0</td>\n",
       "      <td>\\N</td>\n",
       "      <td>Aston Martin</td>\n",
       "      <td>2021</td>\n",
       "    </tr>\n",
       "    <tr>\n",
       "      <th>1431</th>\n",
       "      <td>16447</td>\n",
       "      <td>1073</td>\n",
       "      <td>210</td>\n",
       "      <td>0.0</td>\n",
       "      <td>\\N</td>\n",
       "      <td>Haas F1 Team</td>\n",
       "      <td>2021</td>\n",
       "    </tr>\n",
       "    <tr>\n",
       "      <th>1432</th>\n",
       "      <td>16448</td>\n",
       "      <td>1073</td>\n",
       "      <td>3</td>\n",
       "      <td>0.0</td>\n",
       "      <td>\\N</td>\n",
       "      <td>Williams</td>\n",
       "      <td>2021</td>\n",
       "    </tr>\n",
       "    <tr>\n",
       "      <th>1433</th>\n",
       "      <td>16449</td>\n",
       "      <td>1073</td>\n",
       "      <td>51</td>\n",
       "      <td>0.0</td>\n",
       "      <td>\\N</td>\n",
       "      <td>Alfa Romeo</td>\n",
       "      <td>2021</td>\n",
       "    </tr>\n",
       "  </tbody>\n",
       "</table>\n",
       "<p>1434 rows × 7 columns</p>\n",
       "</div>"
      ],
      "text/plain": [
       "      constructorResultsId  raceId  constructorId  points status  \\\n",
       "0                    15015     926            131    43.0     \\N   \n",
       "1                    15016     926              6    15.0     \\N   \n",
       "2                    15017     926              3    12.0     \\N   \n",
       "3                    15018     926             15    14.0     \\N   \n",
       "4                    15019     926              9     8.0     \\N   \n",
       "...                    ...     ...            ...     ...    ...   \n",
       "1429                 16445    1073            214     6.0     \\N   \n",
       "1430                 16446    1073            117     0.0     \\N   \n",
       "1431                 16447    1073            210     0.0     \\N   \n",
       "1432                 16448    1073              3     0.0     \\N   \n",
       "1433                 16449    1073             51     0.0     \\N   \n",
       "\n",
       "                name  year  \n",
       "0           Mercedes  2015  \n",
       "1            Ferrari  2015  \n",
       "2           Williams  2015  \n",
       "3             Sauber  2015  \n",
       "4           Red Bull  2015  \n",
       "...              ...   ...  \n",
       "1429  Alpine F1 Team  2021  \n",
       "1430    Aston Martin  2021  \n",
       "1431    Haas F1 Team  2021  \n",
       "1432        Williams  2021  \n",
       "1433      Alfa Romeo  2021  \n",
       "\n",
       "[1434 rows x 7 columns]"
      ]
     },
     "execution_count": 101,
     "metadata": {},
     "output_type": "execute_result"
    }
   ],
   "source": [
    "equipas_year = equipas_nome.merge(races, how='inner', on='raceId')\n",
    "equipas_year"
   ]
  },
  {
   "cell_type": "markdown",
   "id": "20ba9f9d",
   "metadata": {},
   "source": [
    "**7.** Keep only the required columns, while grouping the data by `\"year\"` and `\"constructor name\"`"
   ]
  },
  {
   "cell_type": "code",
   "execution_count": 102,
   "id": "e599a06d",
   "metadata": {
    "scrolled": false
   },
   "outputs": [
    {
     "data": {
      "text/html": [
       "<div>\n",
       "<style scoped>\n",
       "    .dataframe tbody tr th:only-of-type {\n",
       "        vertical-align: middle;\n",
       "    }\n",
       "\n",
       "    .dataframe tbody tr th {\n",
       "        vertical-align: top;\n",
       "    }\n",
       "\n",
       "    .dataframe thead th {\n",
       "        text-align: right;\n",
       "    }\n",
       "</style>\n",
       "<table border=\"1\" class=\"dataframe\">\n",
       "  <thead>\n",
       "    <tr style=\"text-align: right;\">\n",
       "      <th></th>\n",
       "      <th>year</th>\n",
       "      <th>name</th>\n",
       "      <th>points</th>\n",
       "    </tr>\n",
       "  </thead>\n",
       "  <tbody>\n",
       "    <tr>\n",
       "      <th>0</th>\n",
       "      <td>2015</td>\n",
       "      <td>Ferrari</td>\n",
       "      <td>428.0</td>\n",
       "    </tr>\n",
       "    <tr>\n",
       "      <th>1</th>\n",
       "      <td>2015</td>\n",
       "      <td>Force India</td>\n",
       "      <td>136.0</td>\n",
       "    </tr>\n",
       "    <tr>\n",
       "      <th>2</th>\n",
       "      <td>2015</td>\n",
       "      <td>Lotus F1</td>\n",
       "      <td>78.0</td>\n",
       "    </tr>\n",
       "    <tr>\n",
       "      <th>3</th>\n",
       "      <td>2015</td>\n",
       "      <td>Manor Marussia</td>\n",
       "      <td>0.0</td>\n",
       "    </tr>\n",
       "    <tr>\n",
       "      <th>4</th>\n",
       "      <td>2015</td>\n",
       "      <td>Marussia</td>\n",
       "      <td>0.0</td>\n",
       "    </tr>\n",
       "    <tr>\n",
       "      <th>...</th>\n",
       "      <td>...</td>\n",
       "      <td>...</td>\n",
       "      <td>...</td>\n",
       "    </tr>\n",
       "    <tr>\n",
       "      <th>67</th>\n",
       "      <td>2021</td>\n",
       "      <td>Haas F1 Team</td>\n",
       "      <td>0.0</td>\n",
       "    </tr>\n",
       "    <tr>\n",
       "      <th>68</th>\n",
       "      <td>2021</td>\n",
       "      <td>McLaren</td>\n",
       "      <td>275.0</td>\n",
       "    </tr>\n",
       "    <tr>\n",
       "      <th>69</th>\n",
       "      <td>2021</td>\n",
       "      <td>Mercedes</td>\n",
       "      <td>613.5</td>\n",
       "    </tr>\n",
       "    <tr>\n",
       "      <th>70</th>\n",
       "      <td>2021</td>\n",
       "      <td>Red Bull</td>\n",
       "      <td>585.5</td>\n",
       "    </tr>\n",
       "    <tr>\n",
       "      <th>71</th>\n",
       "      <td>2021</td>\n",
       "      <td>Williams</td>\n",
       "      <td>23.0</td>\n",
       "    </tr>\n",
       "  </tbody>\n",
       "</table>\n",
       "<p>72 rows × 3 columns</p>\n",
       "</div>"
      ],
      "text/plain": [
       "    year            name  points\n",
       "0   2015         Ferrari   428.0\n",
       "1   2015     Force India   136.0\n",
       "2   2015        Lotus F1    78.0\n",
       "3   2015  Manor Marussia     0.0\n",
       "4   2015        Marussia     0.0\n",
       "..   ...             ...     ...\n",
       "67  2021    Haas F1 Team     0.0\n",
       "68  2021         McLaren   275.0\n",
       "69  2021        Mercedes   613.5\n",
       "70  2021        Red Bull   585.5\n",
       "71  2021        Williams    23.0\n",
       "\n",
       "[72 rows x 3 columns]"
      ]
     },
     "execution_count": 102,
     "metadata": {},
     "output_type": "execute_result"
    }
   ],
   "source": [
    "equipas = equipas_year.groupby(['year','name'])['points'].sum().reset_index()\n",
    "equipas"
   ]
  },
  {
   "cell_type": "markdown",
   "id": "09e7fd33",
   "metadata": {},
   "source": [
    "**8.** Create an interactive plot to show the `\"Top Constructors per Year\"`, using the *Plotly* library"
   ]
  },
  {
   "cell_type": "code",
   "execution_count": 103,
   "id": "004d24cb",
   "metadata": {
    "scrolled": false
   },
   "outputs": [
    {
     "data": {
      "application/vnd.plotly.v1+json": {
       "config": {
        "plotlyServerURL": "https://plotly.com"
       },
       "data": [
        {
         "legendgroup": "Ferrari",
         "line": {
          "color": "#636efa",
          "dash": "solid"
         },
         "marker": {
          "symbol": "circle"
         },
         "mode": "markers+lines",
         "name": "Ferrari",
         "orientation": "v",
         "showlegend": true,
         "type": "scatter",
         "x": [
          2015,
          2016,
          2017,
          2018,
          2019,
          2020,
          2021
         ],
         "xaxis": "x",
         "y": [
          428,
          398,
          522,
          571,
          504,
          131,
          323.5
         ],
         "yaxis": "y"
        },
        {
         "legendgroup": "Force India",
         "line": {
          "color": "#EF553B",
          "dash": "solid"
         },
         "marker": {
          "symbol": "circle"
         },
         "mode": "markers+lines",
         "name": "Force India",
         "orientation": "v",
         "showlegend": true,
         "type": "scatter",
         "x": [
          2015,
          2016,
          2017,
          2018
         ],
         "xaxis": "x",
         "y": [
          136,
          173,
          187,
          111
         ],
         "yaxis": "y"
        },
        {
         "legendgroup": "Lotus F1",
         "line": {
          "color": "#00cc96",
          "dash": "solid"
         },
         "marker": {
          "symbol": "circle"
         },
         "mode": "markers+lines",
         "name": "Lotus F1",
         "orientation": "v",
         "showlegend": true,
         "type": "scatter",
         "x": [
          2015
         ],
         "xaxis": "x",
         "y": [
          78
         ],
         "yaxis": "y"
        },
        {
         "legendgroup": "Manor Marussia",
         "line": {
          "color": "#ab63fa",
          "dash": "solid"
         },
         "marker": {
          "symbol": "circle"
         },
         "mode": "markers+lines",
         "name": "Manor Marussia",
         "orientation": "v",
         "showlegend": true,
         "type": "scatter",
         "x": [
          2015,
          2016
         ],
         "xaxis": "x",
         "y": [
          0,
          1
         ],
         "yaxis": "y"
        },
        {
         "legendgroup": "Marussia",
         "line": {
          "color": "#FFA15A",
          "dash": "solid"
         },
         "marker": {
          "symbol": "circle"
         },
         "mode": "markers+lines",
         "name": "Marussia",
         "orientation": "v",
         "showlegend": true,
         "type": "scatter",
         "x": [
          2015
         ],
         "xaxis": "x",
         "y": [
          0
         ],
         "yaxis": "y"
        },
        {
         "legendgroup": "McLaren",
         "line": {
          "color": "#19d3f3",
          "dash": "solid"
         },
         "marker": {
          "symbol": "circle"
         },
         "mode": "markers+lines",
         "name": "McLaren",
         "orientation": "v",
         "showlegend": true,
         "type": "scatter",
         "x": [
          2015,
          2016,
          2017,
          2018,
          2019,
          2020,
          2021
         ],
         "xaxis": "x",
         "y": [
          27,
          76,
          30,
          62,
          145,
          202,
          275
         ],
         "yaxis": "y"
        },
        {
         "legendgroup": "Mercedes",
         "line": {
          "color": "#FF6692",
          "dash": "solid"
         },
         "marker": {
          "symbol": "circle"
         },
         "mode": "markers+lines",
         "name": "Mercedes",
         "orientation": "v",
         "showlegend": true,
         "type": "scatter",
         "x": [
          2015,
          2016,
          2017,
          2018,
          2019,
          2020,
          2021
         ],
         "xaxis": "x",
         "y": [
          703,
          765,
          668,
          655,
          739,
          573,
          613.5
         ],
         "yaxis": "y"
        },
        {
         "legendgroup": "Red Bull",
         "line": {
          "color": "#B6E880",
          "dash": "solid"
         },
         "marker": {
          "symbol": "circle"
         },
         "mode": "markers+lines",
         "name": "Red Bull",
         "orientation": "v",
         "showlegend": true,
         "type": "scatter",
         "x": [
          2015,
          2016,
          2017,
          2018,
          2019,
          2020,
          2021
         ],
         "xaxis": "x",
         "y": [
          187,
          468,
          368,
          419,
          417,
          319,
          585.5
         ],
         "yaxis": "y"
        },
        {
         "legendgroup": "Sauber",
         "line": {
          "color": "#FF97FF",
          "dash": "solid"
         },
         "marker": {
          "symbol": "circle"
         },
         "mode": "markers+lines",
         "name": "Sauber",
         "orientation": "v",
         "showlegend": true,
         "type": "scatter",
         "x": [
          2015,
          2016,
          2017,
          2018
         ],
         "xaxis": "x",
         "y": [
          36,
          2,
          5,
          48
         ],
         "yaxis": "y"
        },
        {
         "legendgroup": "Toro Rosso",
         "line": {
          "color": "#FECB52",
          "dash": "solid"
         },
         "marker": {
          "symbol": "circle"
         },
         "mode": "markers+lines",
         "name": "Toro Rosso",
         "orientation": "v",
         "showlegend": true,
         "type": "scatter",
         "x": [
          2015,
          2016,
          2017,
          2018,
          2019
         ],
         "xaxis": "x",
         "y": [
          67,
          63,
          53,
          33,
          85
         ],
         "yaxis": "y"
        },
        {
         "legendgroup": "Williams",
         "line": {
          "color": "#636efa",
          "dash": "solid"
         },
         "marker": {
          "symbol": "circle"
         },
         "mode": "markers+lines",
         "name": "Williams",
         "orientation": "v",
         "showlegend": true,
         "type": "scatter",
         "x": [
          2015,
          2016,
          2017,
          2018,
          2019,
          2020,
          2021
         ],
         "xaxis": "x",
         "y": [
          257,
          138,
          83,
          7,
          1,
          0,
          23
         ],
         "yaxis": "y"
        },
        {
         "legendgroup": "Haas F1 Team",
         "line": {
          "color": "#EF553B",
          "dash": "solid"
         },
         "marker": {
          "symbol": "circle"
         },
         "mode": "markers+lines",
         "name": "Haas F1 Team",
         "orientation": "v",
         "showlegend": true,
         "type": "scatter",
         "x": [
          2016,
          2017,
          2018,
          2019,
          2020,
          2021
         ],
         "xaxis": "x",
         "y": [
          29,
          47,
          93,
          28,
          3,
          0
         ],
         "yaxis": "y"
        },
        {
         "legendgroup": "Renault",
         "line": {
          "color": "#00cc96",
          "dash": "solid"
         },
         "marker": {
          "symbol": "circle"
         },
         "mode": "markers+lines",
         "name": "Renault",
         "orientation": "v",
         "showlegend": true,
         "type": "scatter",
         "x": [
          2016,
          2017,
          2018,
          2019,
          2020
         ],
         "xaxis": "x",
         "y": [
          8,
          57,
          122,
          91,
          181
         ],
         "yaxis": "y"
        },
        {
         "legendgroup": "Alfa Romeo",
         "line": {
          "color": "#ab63fa",
          "dash": "solid"
         },
         "marker": {
          "symbol": "circle"
         },
         "mode": "markers+lines",
         "name": "Alfa Romeo",
         "orientation": "v",
         "showlegend": true,
         "type": "scatter",
         "x": [
          2019,
          2020,
          2021
         ],
         "xaxis": "x",
         "y": [
          57,
          8,
          13
         ],
         "yaxis": "y"
        },
        {
         "legendgroup": "Racing Point",
         "line": {
          "color": "#FFA15A",
          "dash": "solid"
         },
         "marker": {
          "symbol": "circle"
         },
         "mode": "markers+lines",
         "name": "Racing Point",
         "orientation": "v",
         "showlegend": true,
         "type": "scatter",
         "x": [
          2019,
          2020
         ],
         "xaxis": "x",
         "y": [
          73,
          210
         ],
         "yaxis": "y"
        },
        {
         "legendgroup": "AlphaTauri",
         "line": {
          "color": "#19d3f3",
          "dash": "solid"
         },
         "marker": {
          "symbol": "circle"
         },
         "mode": "markers+lines",
         "name": "AlphaTauri",
         "orientation": "v",
         "showlegend": true,
         "type": "scatter",
         "x": [
          2020,
          2021
         ],
         "xaxis": "x",
         "y": [
          107,
          142
         ],
         "yaxis": "y"
        },
        {
         "legendgroup": "Alpine F1 Team",
         "line": {
          "color": "#FF6692",
          "dash": "solid"
         },
         "marker": {
          "symbol": "circle"
         },
         "mode": "markers+lines",
         "name": "Alpine F1 Team",
         "orientation": "v",
         "showlegend": true,
         "type": "scatter",
         "x": [
          2021
         ],
         "xaxis": "x",
         "y": [
          155
         ],
         "yaxis": "y"
        },
        {
         "legendgroup": "Aston Martin",
         "line": {
          "color": "#B6E880",
          "dash": "solid"
         },
         "marker": {
          "symbol": "circle"
         },
         "mode": "markers+lines",
         "name": "Aston Martin",
         "orientation": "v",
         "showlegend": true,
         "type": "scatter",
         "x": [
          2021
         ],
         "xaxis": "x",
         "y": [
          77
         ],
         "yaxis": "y"
        }
       ],
       "layout": {
        "hovermode": "x",
        "legend": {
         "title": {
          "text": "name"
         },
         "tracegroupgap": 0
        },
        "template": {
         "data": {
          "bar": [
           {
            "error_x": {
             "color": "#f2f5fa"
            },
            "error_y": {
             "color": "#f2f5fa"
            },
            "marker": {
             "line": {
              "color": "rgb(17,17,17)",
              "width": 0.5
             },
             "pattern": {
              "fillmode": "overlay",
              "size": 10,
              "solidity": 0.2
             }
            },
            "type": "bar"
           }
          ],
          "barpolar": [
           {
            "marker": {
             "line": {
              "color": "rgb(17,17,17)",
              "width": 0.5
             },
             "pattern": {
              "fillmode": "overlay",
              "size": 10,
              "solidity": 0.2
             }
            },
            "type": "barpolar"
           }
          ],
          "carpet": [
           {
            "aaxis": {
             "endlinecolor": "#A2B1C6",
             "gridcolor": "#506784",
             "linecolor": "#506784",
             "minorgridcolor": "#506784",
             "startlinecolor": "#A2B1C6"
            },
            "baxis": {
             "endlinecolor": "#A2B1C6",
             "gridcolor": "#506784",
             "linecolor": "#506784",
             "minorgridcolor": "#506784",
             "startlinecolor": "#A2B1C6"
            },
            "type": "carpet"
           }
          ],
          "choropleth": [
           {
            "colorbar": {
             "outlinewidth": 0,
             "ticks": ""
            },
            "type": "choropleth"
           }
          ],
          "contour": [
           {
            "colorbar": {
             "outlinewidth": 0,
             "ticks": ""
            },
            "colorscale": [
             [
              0,
              "#0d0887"
             ],
             [
              0.1111111111111111,
              "#46039f"
             ],
             [
              0.2222222222222222,
              "#7201a8"
             ],
             [
              0.3333333333333333,
              "#9c179e"
             ],
             [
              0.4444444444444444,
              "#bd3786"
             ],
             [
              0.5555555555555556,
              "#d8576b"
             ],
             [
              0.6666666666666666,
              "#ed7953"
             ],
             [
              0.7777777777777778,
              "#fb9f3a"
             ],
             [
              0.8888888888888888,
              "#fdca26"
             ],
             [
              1,
              "#f0f921"
             ]
            ],
            "type": "contour"
           }
          ],
          "contourcarpet": [
           {
            "colorbar": {
             "outlinewidth": 0,
             "ticks": ""
            },
            "type": "contourcarpet"
           }
          ],
          "heatmap": [
           {
            "colorbar": {
             "outlinewidth": 0,
             "ticks": ""
            },
            "colorscale": [
             [
              0,
              "#0d0887"
             ],
             [
              0.1111111111111111,
              "#46039f"
             ],
             [
              0.2222222222222222,
              "#7201a8"
             ],
             [
              0.3333333333333333,
              "#9c179e"
             ],
             [
              0.4444444444444444,
              "#bd3786"
             ],
             [
              0.5555555555555556,
              "#d8576b"
             ],
             [
              0.6666666666666666,
              "#ed7953"
             ],
             [
              0.7777777777777778,
              "#fb9f3a"
             ],
             [
              0.8888888888888888,
              "#fdca26"
             ],
             [
              1,
              "#f0f921"
             ]
            ],
            "type": "heatmap"
           }
          ],
          "heatmapgl": [
           {
            "colorbar": {
             "outlinewidth": 0,
             "ticks": ""
            },
            "colorscale": [
             [
              0,
              "#0d0887"
             ],
             [
              0.1111111111111111,
              "#46039f"
             ],
             [
              0.2222222222222222,
              "#7201a8"
             ],
             [
              0.3333333333333333,
              "#9c179e"
             ],
             [
              0.4444444444444444,
              "#bd3786"
             ],
             [
              0.5555555555555556,
              "#d8576b"
             ],
             [
              0.6666666666666666,
              "#ed7953"
             ],
             [
              0.7777777777777778,
              "#fb9f3a"
             ],
             [
              0.8888888888888888,
              "#fdca26"
             ],
             [
              1,
              "#f0f921"
             ]
            ],
            "type": "heatmapgl"
           }
          ],
          "histogram": [
           {
            "marker": {
             "pattern": {
              "fillmode": "overlay",
              "size": 10,
              "solidity": 0.2
             }
            },
            "type": "histogram"
           }
          ],
          "histogram2d": [
           {
            "colorbar": {
             "outlinewidth": 0,
             "ticks": ""
            },
            "colorscale": [
             [
              0,
              "#0d0887"
             ],
             [
              0.1111111111111111,
              "#46039f"
             ],
             [
              0.2222222222222222,
              "#7201a8"
             ],
             [
              0.3333333333333333,
              "#9c179e"
             ],
             [
              0.4444444444444444,
              "#bd3786"
             ],
             [
              0.5555555555555556,
              "#d8576b"
             ],
             [
              0.6666666666666666,
              "#ed7953"
             ],
             [
              0.7777777777777778,
              "#fb9f3a"
             ],
             [
              0.8888888888888888,
              "#fdca26"
             ],
             [
              1,
              "#f0f921"
             ]
            ],
            "type": "histogram2d"
           }
          ],
          "histogram2dcontour": [
           {
            "colorbar": {
             "outlinewidth": 0,
             "ticks": ""
            },
            "colorscale": [
             [
              0,
              "#0d0887"
             ],
             [
              0.1111111111111111,
              "#46039f"
             ],
             [
              0.2222222222222222,
              "#7201a8"
             ],
             [
              0.3333333333333333,
              "#9c179e"
             ],
             [
              0.4444444444444444,
              "#bd3786"
             ],
             [
              0.5555555555555556,
              "#d8576b"
             ],
             [
              0.6666666666666666,
              "#ed7953"
             ],
             [
              0.7777777777777778,
              "#fb9f3a"
             ],
             [
              0.8888888888888888,
              "#fdca26"
             ],
             [
              1,
              "#f0f921"
             ]
            ],
            "type": "histogram2dcontour"
           }
          ],
          "mesh3d": [
           {
            "colorbar": {
             "outlinewidth": 0,
             "ticks": ""
            },
            "type": "mesh3d"
           }
          ],
          "parcoords": [
           {
            "line": {
             "colorbar": {
              "outlinewidth": 0,
              "ticks": ""
             }
            },
            "type": "parcoords"
           }
          ],
          "pie": [
           {
            "automargin": true,
            "type": "pie"
           }
          ],
          "scatter": [
           {
            "marker": {
             "line": {
              "color": "#283442"
             }
            },
            "type": "scatter"
           }
          ],
          "scatter3d": [
           {
            "line": {
             "colorbar": {
              "outlinewidth": 0,
              "ticks": ""
             }
            },
            "marker": {
             "colorbar": {
              "outlinewidth": 0,
              "ticks": ""
             }
            },
            "type": "scatter3d"
           }
          ],
          "scattercarpet": [
           {
            "marker": {
             "colorbar": {
              "outlinewidth": 0,
              "ticks": ""
             }
            },
            "type": "scattercarpet"
           }
          ],
          "scattergeo": [
           {
            "marker": {
             "colorbar": {
              "outlinewidth": 0,
              "ticks": ""
             }
            },
            "type": "scattergeo"
           }
          ],
          "scattergl": [
           {
            "marker": {
             "line": {
              "color": "#283442"
             }
            },
            "type": "scattergl"
           }
          ],
          "scattermapbox": [
           {
            "marker": {
             "colorbar": {
              "outlinewidth": 0,
              "ticks": ""
             }
            },
            "type": "scattermapbox"
           }
          ],
          "scatterpolar": [
           {
            "marker": {
             "colorbar": {
              "outlinewidth": 0,
              "ticks": ""
             }
            },
            "type": "scatterpolar"
           }
          ],
          "scatterpolargl": [
           {
            "marker": {
             "colorbar": {
              "outlinewidth": 0,
              "ticks": ""
             }
            },
            "type": "scatterpolargl"
           }
          ],
          "scatterternary": [
           {
            "marker": {
             "colorbar": {
              "outlinewidth": 0,
              "ticks": ""
             }
            },
            "type": "scatterternary"
           }
          ],
          "surface": [
           {
            "colorbar": {
             "outlinewidth": 0,
             "ticks": ""
            },
            "colorscale": [
             [
              0,
              "#0d0887"
             ],
             [
              0.1111111111111111,
              "#46039f"
             ],
             [
              0.2222222222222222,
              "#7201a8"
             ],
             [
              0.3333333333333333,
              "#9c179e"
             ],
             [
              0.4444444444444444,
              "#bd3786"
             ],
             [
              0.5555555555555556,
              "#d8576b"
             ],
             [
              0.6666666666666666,
              "#ed7953"
             ],
             [
              0.7777777777777778,
              "#fb9f3a"
             ],
             [
              0.8888888888888888,
              "#fdca26"
             ],
             [
              1,
              "#f0f921"
             ]
            ],
            "type": "surface"
           }
          ],
          "table": [
           {
            "cells": {
             "fill": {
              "color": "#506784"
             },
             "line": {
              "color": "rgb(17,17,17)"
             }
            },
            "header": {
             "fill": {
              "color": "#2a3f5f"
             },
             "line": {
              "color": "rgb(17,17,17)"
             }
            },
            "type": "table"
           }
          ]
         },
         "layout": {
          "annotationdefaults": {
           "arrowcolor": "#f2f5fa",
           "arrowhead": 0,
           "arrowwidth": 1
          },
          "autotypenumbers": "strict",
          "coloraxis": {
           "colorbar": {
            "outlinewidth": 0,
            "ticks": ""
           }
          },
          "colorscale": {
           "diverging": [
            [
             0,
             "#8e0152"
            ],
            [
             0.1,
             "#c51b7d"
            ],
            [
             0.2,
             "#de77ae"
            ],
            [
             0.3,
             "#f1b6da"
            ],
            [
             0.4,
             "#fde0ef"
            ],
            [
             0.5,
             "#f7f7f7"
            ],
            [
             0.6,
             "#e6f5d0"
            ],
            [
             0.7,
             "#b8e186"
            ],
            [
             0.8,
             "#7fbc41"
            ],
            [
             0.9,
             "#4d9221"
            ],
            [
             1,
             "#276419"
            ]
           ],
           "sequential": [
            [
             0,
             "#0d0887"
            ],
            [
             0.1111111111111111,
             "#46039f"
            ],
            [
             0.2222222222222222,
             "#7201a8"
            ],
            [
             0.3333333333333333,
             "#9c179e"
            ],
            [
             0.4444444444444444,
             "#bd3786"
            ],
            [
             0.5555555555555556,
             "#d8576b"
            ],
            [
             0.6666666666666666,
             "#ed7953"
            ],
            [
             0.7777777777777778,
             "#fb9f3a"
            ],
            [
             0.8888888888888888,
             "#fdca26"
            ],
            [
             1,
             "#f0f921"
            ]
           ],
           "sequentialminus": [
            [
             0,
             "#0d0887"
            ],
            [
             0.1111111111111111,
             "#46039f"
            ],
            [
             0.2222222222222222,
             "#7201a8"
            ],
            [
             0.3333333333333333,
             "#9c179e"
            ],
            [
             0.4444444444444444,
             "#bd3786"
            ],
            [
             0.5555555555555556,
             "#d8576b"
            ],
            [
             0.6666666666666666,
             "#ed7953"
            ],
            [
             0.7777777777777778,
             "#fb9f3a"
            ],
            [
             0.8888888888888888,
             "#fdca26"
            ],
            [
             1,
             "#f0f921"
            ]
           ]
          },
          "colorway": [
           "#636efa",
           "#EF553B",
           "#00cc96",
           "#ab63fa",
           "#FFA15A",
           "#19d3f3",
           "#FF6692",
           "#B6E880",
           "#FF97FF",
           "#FECB52"
          ],
          "font": {
           "color": "#f2f5fa"
          },
          "geo": {
           "bgcolor": "rgb(17,17,17)",
           "lakecolor": "rgb(17,17,17)",
           "landcolor": "rgb(17,17,17)",
           "showlakes": true,
           "showland": true,
           "subunitcolor": "#506784"
          },
          "hoverlabel": {
           "align": "left"
          },
          "hovermode": "closest",
          "mapbox": {
           "style": "dark"
          },
          "paper_bgcolor": "rgb(17,17,17)",
          "plot_bgcolor": "rgb(17,17,17)",
          "polar": {
           "angularaxis": {
            "gridcolor": "#506784",
            "linecolor": "#506784",
            "ticks": ""
           },
           "bgcolor": "rgb(17,17,17)",
           "radialaxis": {
            "gridcolor": "#506784",
            "linecolor": "#506784",
            "ticks": ""
           }
          },
          "scene": {
           "xaxis": {
            "backgroundcolor": "rgb(17,17,17)",
            "gridcolor": "#506784",
            "gridwidth": 2,
            "linecolor": "#506784",
            "showbackground": true,
            "ticks": "",
            "zerolinecolor": "#C8D4E3"
           },
           "yaxis": {
            "backgroundcolor": "rgb(17,17,17)",
            "gridcolor": "#506784",
            "gridwidth": 2,
            "linecolor": "#506784",
            "showbackground": true,
            "ticks": "",
            "zerolinecolor": "#C8D4E3"
           },
           "zaxis": {
            "backgroundcolor": "rgb(17,17,17)",
            "gridcolor": "#506784",
            "gridwidth": 2,
            "linecolor": "#506784",
            "showbackground": true,
            "ticks": "",
            "zerolinecolor": "#C8D4E3"
           }
          },
          "shapedefaults": {
           "line": {
            "color": "#f2f5fa"
           }
          },
          "sliderdefaults": {
           "bgcolor": "#C8D4E3",
           "bordercolor": "rgb(17,17,17)",
           "borderwidth": 1,
           "tickwidth": 0
          },
          "ternary": {
           "aaxis": {
            "gridcolor": "#506784",
            "linecolor": "#506784",
            "ticks": ""
           },
           "baxis": {
            "gridcolor": "#506784",
            "linecolor": "#506784",
            "ticks": ""
           },
           "bgcolor": "rgb(17,17,17)",
           "caxis": {
            "gridcolor": "#506784",
            "linecolor": "#506784",
            "ticks": ""
           }
          },
          "title": {
           "x": 0.05
          },
          "updatemenudefaults": {
           "bgcolor": "#506784",
           "borderwidth": 0
          },
          "xaxis": {
           "automargin": true,
           "gridcolor": "#283442",
           "linecolor": "#506784",
           "ticks": "",
           "title": {
            "standoff": 15
           },
           "zerolinecolor": "#283442",
           "zerolinewidth": 2
          },
          "yaxis": {
           "automargin": true,
           "gridcolor": "#283442",
           "linecolor": "#506784",
           "ticks": "",
           "title": {
            "standoff": 15
           },
           "zerolinecolor": "#283442",
           "zerolinewidth": 2
          }
         }
        },
        "title": {
         "text": " Top Constructors per Year"
        },
        "xaxis": {
         "anchor": "y",
         "domain": [
          0,
          1
         ],
         "title": {
          "text": "year"
         }
        },
        "yaxis": {
         "anchor": "x",
         "domain": [
          0,
          1
         ],
         "title": {
          "text": "points"
         }
        }
       }
      },
      "text/html": [
       "<div>                            <div id=\"63ead2c9-4016-4464-b1c6-4ed1bdc155e3\" class=\"plotly-graph-div\" style=\"height:525px; width:100%;\"></div>            <script type=\"text/javascript\">                require([\"plotly\"], function(Plotly) {                    window.PLOTLYENV=window.PLOTLYENV || {};                                    if (document.getElementById(\"63ead2c9-4016-4464-b1c6-4ed1bdc155e3\")) {                    Plotly.newPlot(                        \"63ead2c9-4016-4464-b1c6-4ed1bdc155e3\",                        [{\"legendgroup\":\"Ferrari\",\"line\":{\"color\":\"#636efa\",\"dash\":\"solid\"},\"marker\":{\"symbol\":\"circle\"},\"mode\":\"markers+lines\",\"name\":\"Ferrari\",\"orientation\":\"v\",\"showlegend\":true,\"x\":[2015,2016,2017,2018,2019,2020,2021],\"xaxis\":\"x\",\"y\":[428.0,398.0,522.0,571.0,504.0,131.0,323.5],\"yaxis\":\"y\",\"type\":\"scatter\"},{\"legendgroup\":\"Force India\",\"line\":{\"color\":\"#EF553B\",\"dash\":\"solid\"},\"marker\":{\"symbol\":\"circle\"},\"mode\":\"markers+lines\",\"name\":\"Force India\",\"orientation\":\"v\",\"showlegend\":true,\"x\":[2015,2016,2017,2018],\"xaxis\":\"x\",\"y\":[136.0,173.0,187.0,111.0],\"yaxis\":\"y\",\"type\":\"scatter\"},{\"legendgroup\":\"Lotus F1\",\"line\":{\"color\":\"#00cc96\",\"dash\":\"solid\"},\"marker\":{\"symbol\":\"circle\"},\"mode\":\"markers+lines\",\"name\":\"Lotus F1\",\"orientation\":\"v\",\"showlegend\":true,\"x\":[2015],\"xaxis\":\"x\",\"y\":[78.0],\"yaxis\":\"y\",\"type\":\"scatter\"},{\"legendgroup\":\"Manor Marussia\",\"line\":{\"color\":\"#ab63fa\",\"dash\":\"solid\"},\"marker\":{\"symbol\":\"circle\"},\"mode\":\"markers+lines\",\"name\":\"Manor Marussia\",\"orientation\":\"v\",\"showlegend\":true,\"x\":[2015,2016],\"xaxis\":\"x\",\"y\":[0.0,1.0],\"yaxis\":\"y\",\"type\":\"scatter\"},{\"legendgroup\":\"Marussia\",\"line\":{\"color\":\"#FFA15A\",\"dash\":\"solid\"},\"marker\":{\"symbol\":\"circle\"},\"mode\":\"markers+lines\",\"name\":\"Marussia\",\"orientation\":\"v\",\"showlegend\":true,\"x\":[2015],\"xaxis\":\"x\",\"y\":[0.0],\"yaxis\":\"y\",\"type\":\"scatter\"},{\"legendgroup\":\"McLaren\",\"line\":{\"color\":\"#19d3f3\",\"dash\":\"solid\"},\"marker\":{\"symbol\":\"circle\"},\"mode\":\"markers+lines\",\"name\":\"McLaren\",\"orientation\":\"v\",\"showlegend\":true,\"x\":[2015,2016,2017,2018,2019,2020,2021],\"xaxis\":\"x\",\"y\":[27.0,76.0,30.0,62.0,145.0,202.0,275.0],\"yaxis\":\"y\",\"type\":\"scatter\"},{\"legendgroup\":\"Mercedes\",\"line\":{\"color\":\"#FF6692\",\"dash\":\"solid\"},\"marker\":{\"symbol\":\"circle\"},\"mode\":\"markers+lines\",\"name\":\"Mercedes\",\"orientation\":\"v\",\"showlegend\":true,\"x\":[2015,2016,2017,2018,2019,2020,2021],\"xaxis\":\"x\",\"y\":[703.0,765.0,668.0,655.0,739.0,573.0,613.5],\"yaxis\":\"y\",\"type\":\"scatter\"},{\"legendgroup\":\"Red Bull\",\"line\":{\"color\":\"#B6E880\",\"dash\":\"solid\"},\"marker\":{\"symbol\":\"circle\"},\"mode\":\"markers+lines\",\"name\":\"Red Bull\",\"orientation\":\"v\",\"showlegend\":true,\"x\":[2015,2016,2017,2018,2019,2020,2021],\"xaxis\":\"x\",\"y\":[187.0,468.0,368.0,419.0,417.0,319.0,585.5],\"yaxis\":\"y\",\"type\":\"scatter\"},{\"legendgroup\":\"Sauber\",\"line\":{\"color\":\"#FF97FF\",\"dash\":\"solid\"},\"marker\":{\"symbol\":\"circle\"},\"mode\":\"markers+lines\",\"name\":\"Sauber\",\"orientation\":\"v\",\"showlegend\":true,\"x\":[2015,2016,2017,2018],\"xaxis\":\"x\",\"y\":[36.0,2.0,5.0,48.0],\"yaxis\":\"y\",\"type\":\"scatter\"},{\"legendgroup\":\"Toro Rosso\",\"line\":{\"color\":\"#FECB52\",\"dash\":\"solid\"},\"marker\":{\"symbol\":\"circle\"},\"mode\":\"markers+lines\",\"name\":\"Toro Rosso\",\"orientation\":\"v\",\"showlegend\":true,\"x\":[2015,2016,2017,2018,2019],\"xaxis\":\"x\",\"y\":[67.0,63.0,53.0,33.0,85.0],\"yaxis\":\"y\",\"type\":\"scatter\"},{\"legendgroup\":\"Williams\",\"line\":{\"color\":\"#636efa\",\"dash\":\"solid\"},\"marker\":{\"symbol\":\"circle\"},\"mode\":\"markers+lines\",\"name\":\"Williams\",\"orientation\":\"v\",\"showlegend\":true,\"x\":[2015,2016,2017,2018,2019,2020,2021],\"xaxis\":\"x\",\"y\":[257.0,138.0,83.0,7.0,1.0,0.0,23.0],\"yaxis\":\"y\",\"type\":\"scatter\"},{\"legendgroup\":\"Haas F1 Team\",\"line\":{\"color\":\"#EF553B\",\"dash\":\"solid\"},\"marker\":{\"symbol\":\"circle\"},\"mode\":\"markers+lines\",\"name\":\"Haas F1 Team\",\"orientation\":\"v\",\"showlegend\":true,\"x\":[2016,2017,2018,2019,2020,2021],\"xaxis\":\"x\",\"y\":[29.0,47.0,93.0,28.0,3.0,0.0],\"yaxis\":\"y\",\"type\":\"scatter\"},{\"legendgroup\":\"Renault\",\"line\":{\"color\":\"#00cc96\",\"dash\":\"solid\"},\"marker\":{\"symbol\":\"circle\"},\"mode\":\"markers+lines\",\"name\":\"Renault\",\"orientation\":\"v\",\"showlegend\":true,\"x\":[2016,2017,2018,2019,2020],\"xaxis\":\"x\",\"y\":[8.0,57.0,122.0,91.0,181.0],\"yaxis\":\"y\",\"type\":\"scatter\"},{\"legendgroup\":\"Alfa Romeo\",\"line\":{\"color\":\"#ab63fa\",\"dash\":\"solid\"},\"marker\":{\"symbol\":\"circle\"},\"mode\":\"markers+lines\",\"name\":\"Alfa Romeo\",\"orientation\":\"v\",\"showlegend\":true,\"x\":[2019,2020,2021],\"xaxis\":\"x\",\"y\":[57.0,8.0,13.0],\"yaxis\":\"y\",\"type\":\"scatter\"},{\"legendgroup\":\"Racing Point\",\"line\":{\"color\":\"#FFA15A\",\"dash\":\"solid\"},\"marker\":{\"symbol\":\"circle\"},\"mode\":\"markers+lines\",\"name\":\"Racing Point\",\"orientation\":\"v\",\"showlegend\":true,\"x\":[2019,2020],\"xaxis\":\"x\",\"y\":[73.0,210.0],\"yaxis\":\"y\",\"type\":\"scatter\"},{\"legendgroup\":\"AlphaTauri\",\"line\":{\"color\":\"#19d3f3\",\"dash\":\"solid\"},\"marker\":{\"symbol\":\"circle\"},\"mode\":\"markers+lines\",\"name\":\"AlphaTauri\",\"orientation\":\"v\",\"showlegend\":true,\"x\":[2020,2021],\"xaxis\":\"x\",\"y\":[107.0,142.0],\"yaxis\":\"y\",\"type\":\"scatter\"},{\"legendgroup\":\"Alpine F1 Team\",\"line\":{\"color\":\"#FF6692\",\"dash\":\"solid\"},\"marker\":{\"symbol\":\"circle\"},\"mode\":\"markers+lines\",\"name\":\"Alpine F1 Team\",\"orientation\":\"v\",\"showlegend\":true,\"x\":[2021],\"xaxis\":\"x\",\"y\":[155.0],\"yaxis\":\"y\",\"type\":\"scatter\"},{\"legendgroup\":\"Aston Martin\",\"line\":{\"color\":\"#B6E880\",\"dash\":\"solid\"},\"marker\":{\"symbol\":\"circle\"},\"mode\":\"markers+lines\",\"name\":\"Aston Martin\",\"orientation\":\"v\",\"showlegend\":true,\"x\":[2021],\"xaxis\":\"x\",\"y\":[77.0],\"yaxis\":\"y\",\"type\":\"scatter\"}],                        {\"template\":{\"data\":{\"barpolar\":[{\"marker\":{\"line\":{\"color\":\"rgb(17,17,17)\",\"width\":0.5},\"pattern\":{\"fillmode\":\"overlay\",\"size\":10,\"solidity\":0.2}},\"type\":\"barpolar\"}],\"bar\":[{\"error_x\":{\"color\":\"#f2f5fa\"},\"error_y\":{\"color\":\"#f2f5fa\"},\"marker\":{\"line\":{\"color\":\"rgb(17,17,17)\",\"width\":0.5},\"pattern\":{\"fillmode\":\"overlay\",\"size\":10,\"solidity\":0.2}},\"type\":\"bar\"}],\"carpet\":[{\"aaxis\":{\"endlinecolor\":\"#A2B1C6\",\"gridcolor\":\"#506784\",\"linecolor\":\"#506784\",\"minorgridcolor\":\"#506784\",\"startlinecolor\":\"#A2B1C6\"},\"baxis\":{\"endlinecolor\":\"#A2B1C6\",\"gridcolor\":\"#506784\",\"linecolor\":\"#506784\",\"minorgridcolor\":\"#506784\",\"startlinecolor\":\"#A2B1C6\"},\"type\":\"carpet\"}],\"choropleth\":[{\"colorbar\":{\"outlinewidth\":0,\"ticks\":\"\"},\"type\":\"choropleth\"}],\"contourcarpet\":[{\"colorbar\":{\"outlinewidth\":0,\"ticks\":\"\"},\"type\":\"contourcarpet\"}],\"contour\":[{\"colorbar\":{\"outlinewidth\":0,\"ticks\":\"\"},\"colorscale\":[[0.0,\"#0d0887\"],[0.1111111111111111,\"#46039f\"],[0.2222222222222222,\"#7201a8\"],[0.3333333333333333,\"#9c179e\"],[0.4444444444444444,\"#bd3786\"],[0.5555555555555556,\"#d8576b\"],[0.6666666666666666,\"#ed7953\"],[0.7777777777777778,\"#fb9f3a\"],[0.8888888888888888,\"#fdca26\"],[1.0,\"#f0f921\"]],\"type\":\"contour\"}],\"heatmapgl\":[{\"colorbar\":{\"outlinewidth\":0,\"ticks\":\"\"},\"colorscale\":[[0.0,\"#0d0887\"],[0.1111111111111111,\"#46039f\"],[0.2222222222222222,\"#7201a8\"],[0.3333333333333333,\"#9c179e\"],[0.4444444444444444,\"#bd3786\"],[0.5555555555555556,\"#d8576b\"],[0.6666666666666666,\"#ed7953\"],[0.7777777777777778,\"#fb9f3a\"],[0.8888888888888888,\"#fdca26\"],[1.0,\"#f0f921\"]],\"type\":\"heatmapgl\"}],\"heatmap\":[{\"colorbar\":{\"outlinewidth\":0,\"ticks\":\"\"},\"colorscale\":[[0.0,\"#0d0887\"],[0.1111111111111111,\"#46039f\"],[0.2222222222222222,\"#7201a8\"],[0.3333333333333333,\"#9c179e\"],[0.4444444444444444,\"#bd3786\"],[0.5555555555555556,\"#d8576b\"],[0.6666666666666666,\"#ed7953\"],[0.7777777777777778,\"#fb9f3a\"],[0.8888888888888888,\"#fdca26\"],[1.0,\"#f0f921\"]],\"type\":\"heatmap\"}],\"histogram2dcontour\":[{\"colorbar\":{\"outlinewidth\":0,\"ticks\":\"\"},\"colorscale\":[[0.0,\"#0d0887\"],[0.1111111111111111,\"#46039f\"],[0.2222222222222222,\"#7201a8\"],[0.3333333333333333,\"#9c179e\"],[0.4444444444444444,\"#bd3786\"],[0.5555555555555556,\"#d8576b\"],[0.6666666666666666,\"#ed7953\"],[0.7777777777777778,\"#fb9f3a\"],[0.8888888888888888,\"#fdca26\"],[1.0,\"#f0f921\"]],\"type\":\"histogram2dcontour\"}],\"histogram2d\":[{\"colorbar\":{\"outlinewidth\":0,\"ticks\":\"\"},\"colorscale\":[[0.0,\"#0d0887\"],[0.1111111111111111,\"#46039f\"],[0.2222222222222222,\"#7201a8\"],[0.3333333333333333,\"#9c179e\"],[0.4444444444444444,\"#bd3786\"],[0.5555555555555556,\"#d8576b\"],[0.6666666666666666,\"#ed7953\"],[0.7777777777777778,\"#fb9f3a\"],[0.8888888888888888,\"#fdca26\"],[1.0,\"#f0f921\"]],\"type\":\"histogram2d\"}],\"histogram\":[{\"marker\":{\"pattern\":{\"fillmode\":\"overlay\",\"size\":10,\"solidity\":0.2}},\"type\":\"histogram\"}],\"mesh3d\":[{\"colorbar\":{\"outlinewidth\":0,\"ticks\":\"\"},\"type\":\"mesh3d\"}],\"parcoords\":[{\"line\":{\"colorbar\":{\"outlinewidth\":0,\"ticks\":\"\"}},\"type\":\"parcoords\"}],\"pie\":[{\"automargin\":true,\"type\":\"pie\"}],\"scatter3d\":[{\"line\":{\"colorbar\":{\"outlinewidth\":0,\"ticks\":\"\"}},\"marker\":{\"colorbar\":{\"outlinewidth\":0,\"ticks\":\"\"}},\"type\":\"scatter3d\"}],\"scattercarpet\":[{\"marker\":{\"colorbar\":{\"outlinewidth\":0,\"ticks\":\"\"}},\"type\":\"scattercarpet\"}],\"scattergeo\":[{\"marker\":{\"colorbar\":{\"outlinewidth\":0,\"ticks\":\"\"}},\"type\":\"scattergeo\"}],\"scattergl\":[{\"marker\":{\"line\":{\"color\":\"#283442\"}},\"type\":\"scattergl\"}],\"scattermapbox\":[{\"marker\":{\"colorbar\":{\"outlinewidth\":0,\"ticks\":\"\"}},\"type\":\"scattermapbox\"}],\"scatterpolargl\":[{\"marker\":{\"colorbar\":{\"outlinewidth\":0,\"ticks\":\"\"}},\"type\":\"scatterpolargl\"}],\"scatterpolar\":[{\"marker\":{\"colorbar\":{\"outlinewidth\":0,\"ticks\":\"\"}},\"type\":\"scatterpolar\"}],\"scatter\":[{\"marker\":{\"line\":{\"color\":\"#283442\"}},\"type\":\"scatter\"}],\"scatterternary\":[{\"marker\":{\"colorbar\":{\"outlinewidth\":0,\"ticks\":\"\"}},\"type\":\"scatterternary\"}],\"surface\":[{\"colorbar\":{\"outlinewidth\":0,\"ticks\":\"\"},\"colorscale\":[[0.0,\"#0d0887\"],[0.1111111111111111,\"#46039f\"],[0.2222222222222222,\"#7201a8\"],[0.3333333333333333,\"#9c179e\"],[0.4444444444444444,\"#bd3786\"],[0.5555555555555556,\"#d8576b\"],[0.6666666666666666,\"#ed7953\"],[0.7777777777777778,\"#fb9f3a\"],[0.8888888888888888,\"#fdca26\"],[1.0,\"#f0f921\"]],\"type\":\"surface\"}],\"table\":[{\"cells\":{\"fill\":{\"color\":\"#506784\"},\"line\":{\"color\":\"rgb(17,17,17)\"}},\"header\":{\"fill\":{\"color\":\"#2a3f5f\"},\"line\":{\"color\":\"rgb(17,17,17)\"}},\"type\":\"table\"}]},\"layout\":{\"annotationdefaults\":{\"arrowcolor\":\"#f2f5fa\",\"arrowhead\":0,\"arrowwidth\":1},\"autotypenumbers\":\"strict\",\"coloraxis\":{\"colorbar\":{\"outlinewidth\":0,\"ticks\":\"\"}},\"colorscale\":{\"diverging\":[[0,\"#8e0152\"],[0.1,\"#c51b7d\"],[0.2,\"#de77ae\"],[0.3,\"#f1b6da\"],[0.4,\"#fde0ef\"],[0.5,\"#f7f7f7\"],[0.6,\"#e6f5d0\"],[0.7,\"#b8e186\"],[0.8,\"#7fbc41\"],[0.9,\"#4d9221\"],[1,\"#276419\"]],\"sequential\":[[0.0,\"#0d0887\"],[0.1111111111111111,\"#46039f\"],[0.2222222222222222,\"#7201a8\"],[0.3333333333333333,\"#9c179e\"],[0.4444444444444444,\"#bd3786\"],[0.5555555555555556,\"#d8576b\"],[0.6666666666666666,\"#ed7953\"],[0.7777777777777778,\"#fb9f3a\"],[0.8888888888888888,\"#fdca26\"],[1.0,\"#f0f921\"]],\"sequentialminus\":[[0.0,\"#0d0887\"],[0.1111111111111111,\"#46039f\"],[0.2222222222222222,\"#7201a8\"],[0.3333333333333333,\"#9c179e\"],[0.4444444444444444,\"#bd3786\"],[0.5555555555555556,\"#d8576b\"],[0.6666666666666666,\"#ed7953\"],[0.7777777777777778,\"#fb9f3a\"],[0.8888888888888888,\"#fdca26\"],[1.0,\"#f0f921\"]]},\"colorway\":[\"#636efa\",\"#EF553B\",\"#00cc96\",\"#ab63fa\",\"#FFA15A\",\"#19d3f3\",\"#FF6692\",\"#B6E880\",\"#FF97FF\",\"#FECB52\"],\"font\":{\"color\":\"#f2f5fa\"},\"geo\":{\"bgcolor\":\"rgb(17,17,17)\",\"lakecolor\":\"rgb(17,17,17)\",\"landcolor\":\"rgb(17,17,17)\",\"showlakes\":true,\"showland\":true,\"subunitcolor\":\"#506784\"},\"hoverlabel\":{\"align\":\"left\"},\"hovermode\":\"closest\",\"mapbox\":{\"style\":\"dark\"},\"paper_bgcolor\":\"rgb(17,17,17)\",\"plot_bgcolor\":\"rgb(17,17,17)\",\"polar\":{\"angularaxis\":{\"gridcolor\":\"#506784\",\"linecolor\":\"#506784\",\"ticks\":\"\"},\"bgcolor\":\"rgb(17,17,17)\",\"radialaxis\":{\"gridcolor\":\"#506784\",\"linecolor\":\"#506784\",\"ticks\":\"\"}},\"scene\":{\"xaxis\":{\"backgroundcolor\":\"rgb(17,17,17)\",\"gridcolor\":\"#506784\",\"gridwidth\":2,\"linecolor\":\"#506784\",\"showbackground\":true,\"ticks\":\"\",\"zerolinecolor\":\"#C8D4E3\"},\"yaxis\":{\"backgroundcolor\":\"rgb(17,17,17)\",\"gridcolor\":\"#506784\",\"gridwidth\":2,\"linecolor\":\"#506784\",\"showbackground\":true,\"ticks\":\"\",\"zerolinecolor\":\"#C8D4E3\"},\"zaxis\":{\"backgroundcolor\":\"rgb(17,17,17)\",\"gridcolor\":\"#506784\",\"gridwidth\":2,\"linecolor\":\"#506784\",\"showbackground\":true,\"ticks\":\"\",\"zerolinecolor\":\"#C8D4E3\"}},\"shapedefaults\":{\"line\":{\"color\":\"#f2f5fa\"}},\"sliderdefaults\":{\"bgcolor\":\"#C8D4E3\",\"bordercolor\":\"rgb(17,17,17)\",\"borderwidth\":1,\"tickwidth\":0},\"ternary\":{\"aaxis\":{\"gridcolor\":\"#506784\",\"linecolor\":\"#506784\",\"ticks\":\"\"},\"baxis\":{\"gridcolor\":\"#506784\",\"linecolor\":\"#506784\",\"ticks\":\"\"},\"bgcolor\":\"rgb(17,17,17)\",\"caxis\":{\"gridcolor\":\"#506784\",\"linecolor\":\"#506784\",\"ticks\":\"\"}},\"title\":{\"x\":0.05},\"updatemenudefaults\":{\"bgcolor\":\"#506784\",\"borderwidth\":0},\"xaxis\":{\"automargin\":true,\"gridcolor\":\"#283442\",\"linecolor\":\"#506784\",\"ticks\":\"\",\"title\":{\"standoff\":15},\"zerolinecolor\":\"#283442\",\"zerolinewidth\":2},\"yaxis\":{\"automargin\":true,\"gridcolor\":\"#283442\",\"linecolor\":\"#506784\",\"ticks\":\"\",\"title\":{\"standoff\":15},\"zerolinecolor\":\"#283442\",\"zerolinewidth\":2}}},\"xaxis\":{\"anchor\":\"y\",\"domain\":[0.0,1.0],\"title\":{\"text\":\"year\"}},\"yaxis\":{\"anchor\":\"x\",\"domain\":[0.0,1.0],\"title\":{\"text\":\"points\"}},\"legend\":{\"title\":{\"text\":\"name\"},\"tracegroupgap\":0},\"title\":{\"text\":\" Top Constructors per Year\"},\"hovermode\":\"x\"},                        {\"responsive\": true}                    ).then(function(){\n",
       "                            \n",
       "var gd = document.getElementById('63ead2c9-4016-4464-b1c6-4ed1bdc155e3');\n",
       "var x = new MutationObserver(function (mutations, observer) {{\n",
       "        var display = window.getComputedStyle(gd).display;\n",
       "        if (!display || display === 'none') {{\n",
       "            console.log([gd, 'removed!']);\n",
       "            Plotly.purge(gd);\n",
       "            observer.disconnect();\n",
       "        }}\n",
       "}});\n",
       "\n",
       "// Listen for the removal of the full notebook cells\n",
       "var notebookContainer = gd.closest('#notebook-container');\n",
       "if (notebookContainer) {{\n",
       "    x.observe(notebookContainer, {childList: true});\n",
       "}}\n",
       "\n",
       "// Listen for the clearing of the current output cell\n",
       "var outputEl = gd.closest('.output');\n",
       "if (outputEl) {{\n",
       "    x.observe(outputEl, {childList: true});\n",
       "}}\n",
       "\n",
       "                        })                };                });            </script>        </div>"
      ]
     },
     "metadata": {},
     "output_type": "display_data"
    }
   ],
   "source": [
    "fig1 = px.line(equipas, x=\"year\", y=\"points\", color=\"name\", title=\" Top Constructors per Year\")\n",
    "fig1.update_traces(mode=\"markers+lines\", hovertemplate=None)\n",
    "fig1.update_layout(hovermode=\"x\")\n",
    "\n",
    "fig1.layout.template = 'plotly_dark'\n",
    "fig1.show()"
   ]
  },
  {
   "cell_type": "code",
   "execution_count": 104,
   "id": "99b110a3",
   "metadata": {},
   "outputs": [],
   "source": [
    "#top_constructor = fig1\n",
    "#py.plot(top_constructor, filename = 'top_constructor', auto_open = False)"
   ]
  },
  {
   "cell_type": "markdown",
   "id": "b2d0b661",
   "metadata": {},
   "source": [
    "## Who has been the dominant F1 driver?"
   ]
  },
  {
   "cell_type": "markdown",
   "id": "773d92ff",
   "metadata": {},
   "source": [
    "**9.** Connect with SQL database and import the data for the `\"driverStandings\"`"
   ]
  },
  {
   "cell_type": "code",
   "execution_count": 105,
   "id": "60d58436",
   "metadata": {
    "scrolled": false
   },
   "outputs": [
    {
     "data": {
      "text/html": [
       "<div>\n",
       "<style scoped>\n",
       "    .dataframe tbody tr th:only-of-type {\n",
       "        vertical-align: middle;\n",
       "    }\n",
       "\n",
       "    .dataframe tbody tr th {\n",
       "        vertical-align: top;\n",
       "    }\n",
       "\n",
       "    .dataframe thead th {\n",
       "        text-align: right;\n",
       "    }\n",
       "</style>\n",
       "<table border=\"1\" class=\"dataframe\">\n",
       "  <thead>\n",
       "    <tr style=\"text-align: right;\">\n",
       "      <th></th>\n",
       "      <th>driverStandingsId</th>\n",
       "      <th>raceId</th>\n",
       "      <th>driverId</th>\n",
       "      <th>points</th>\n",
       "      <th>position</th>\n",
       "      <th>positionText</th>\n",
       "      <th>wins</th>\n",
       "    </tr>\n",
       "  </thead>\n",
       "  <tbody>\n",
       "    <tr>\n",
       "      <th>0</th>\n",
       "      <td>1</td>\n",
       "      <td>18</td>\n",
       "      <td>1</td>\n",
       "      <td>10.0</td>\n",
       "      <td>1</td>\n",
       "      <td>1</td>\n",
       "      <td>1</td>\n",
       "    </tr>\n",
       "    <tr>\n",
       "      <th>1</th>\n",
       "      <td>2</td>\n",
       "      <td>18</td>\n",
       "      <td>2</td>\n",
       "      <td>8.0</td>\n",
       "      <td>2</td>\n",
       "      <td>2</td>\n",
       "      <td>0</td>\n",
       "    </tr>\n",
       "    <tr>\n",
       "      <th>2</th>\n",
       "      <td>3</td>\n",
       "      <td>18</td>\n",
       "      <td>3</td>\n",
       "      <td>6.0</td>\n",
       "      <td>3</td>\n",
       "      <td>3</td>\n",
       "      <td>0</td>\n",
       "    </tr>\n",
       "    <tr>\n",
       "      <th>3</th>\n",
       "      <td>4</td>\n",
       "      <td>18</td>\n",
       "      <td>4</td>\n",
       "      <td>5.0</td>\n",
       "      <td>4</td>\n",
       "      <td>4</td>\n",
       "      <td>0</td>\n",
       "    </tr>\n",
       "    <tr>\n",
       "      <th>4</th>\n",
       "      <td>5</td>\n",
       "      <td>18</td>\n",
       "      <td>5</td>\n",
       "      <td>4.0</td>\n",
       "      <td>5</td>\n",
       "      <td>5</td>\n",
       "      <td>0</td>\n",
       "    </tr>\n",
       "    <tr>\n",
       "      <th>...</th>\n",
       "      <td>...</td>\n",
       "      <td>...</td>\n",
       "      <td>...</td>\n",
       "      <td>...</td>\n",
       "      <td>...</td>\n",
       "      <td>...</td>\n",
       "      <td>...</td>\n",
       "    </tr>\n",
       "    <tr>\n",
       "      <th>33450</th>\n",
       "      <td>71287</td>\n",
       "      <td>1075</td>\n",
       "      <td>849</td>\n",
       "      <td>0.0</td>\n",
       "      <td>20</td>\n",
       "      <td>20</td>\n",
       "      <td>0</td>\n",
       "    </tr>\n",
       "    <tr>\n",
       "      <th>33451</th>\n",
       "      <td>71288</td>\n",
       "      <td>1075</td>\n",
       "      <td>807</td>\n",
       "      <td>0.0</td>\n",
       "      <td>17</td>\n",
       "      <td>17</td>\n",
       "      <td>0</td>\n",
       "    </tr>\n",
       "    <tr>\n",
       "      <th>33452</th>\n",
       "      <td>71289</td>\n",
       "      <td>1075</td>\n",
       "      <td>815</td>\n",
       "      <td>12.0</td>\n",
       "      <td>7</td>\n",
       "      <td>7</td>\n",
       "      <td>0</td>\n",
       "    </tr>\n",
       "    <tr>\n",
       "      <th>33453</th>\n",
       "      <td>71290</td>\n",
       "      <td>1075</td>\n",
       "      <td>830</td>\n",
       "      <td>25.0</td>\n",
       "      <td>3</td>\n",
       "      <td>3</td>\n",
       "      <td>1</td>\n",
       "    </tr>\n",
       "    <tr>\n",
       "      <th>33454</th>\n",
       "      <td>71291</td>\n",
       "      <td>1075</td>\n",
       "      <td>842</td>\n",
       "      <td>4.0</td>\n",
       "      <td>12</td>\n",
       "      <td>12</td>\n",
       "      <td>0</td>\n",
       "    </tr>\n",
       "  </tbody>\n",
       "</table>\n",
       "<p>33455 rows × 7 columns</p>\n",
       "</div>"
      ],
      "text/plain": [
       "       driverStandingsId  raceId  driverId  points  position positionText  \\\n",
       "0                      1      18         1    10.0         1            1   \n",
       "1                      2      18         2     8.0         2            2   \n",
       "2                      3      18         3     6.0         3            3   \n",
       "3                      4      18         4     5.0         4            4   \n",
       "4                      5      18         5     4.0         5            5   \n",
       "...                  ...     ...       ...     ...       ...          ...   \n",
       "33450              71287    1075       849     0.0        20           20   \n",
       "33451              71288    1075       807     0.0        17           17   \n",
       "33452              71289    1075       815    12.0         7            7   \n",
       "33453              71290    1075       830    25.0         3            3   \n",
       "33454              71291    1075       842     4.0        12           12   \n",
       "\n",
       "       wins  \n",
       "0         1  \n",
       "1         0  \n",
       "2         0  \n",
       "3         0  \n",
       "4         0  \n",
       "...     ...  \n",
       "33450     0  \n",
       "33451     0  \n",
       "33452     0  \n",
       "33453     1  \n",
       "33454     0  \n",
       "\n",
       "[33455 rows x 7 columns]"
      ]
     },
     "execution_count": 105,
     "metadata": {},
     "output_type": "execute_result"
    }
   ],
   "source": [
    "server = 'f1server.database.windows.net' \n",
    "database = 'WackyRacesF1' \n",
    "username = 'PDS' \n",
    "password = 'Formula1'  \n",
    "cnxn = pyodbc.connect('DRIVER={SQL Server};SERVER='+server+';DATABASE='+database+';UID='+username+';PWD='+ password)\n",
    "cursor = cnxn.cursor()\n",
    "query = \"SELECT * FROM dbo.driverStandings;\"\n",
    "driverStandings = pd.read_sql(query, cnxn)\n",
    "driverStandings"
   ]
  },
  {
   "cell_type": "markdown",
   "id": "4d5d8408",
   "metadata": {},
   "source": [
    "**10.** Connect with SQL database and inport the data for the `\"drivers\"`"
   ]
  },
  {
   "cell_type": "code",
   "execution_count": 106,
   "id": "39bd8a37",
   "metadata": {
    "scrolled": false
   },
   "outputs": [
    {
     "data": {
      "text/html": [
       "<div>\n",
       "<style scoped>\n",
       "    .dataframe tbody tr th:only-of-type {\n",
       "        vertical-align: middle;\n",
       "    }\n",
       "\n",
       "    .dataframe tbody tr th {\n",
       "        vertical-align: top;\n",
       "    }\n",
       "\n",
       "    .dataframe thead th {\n",
       "        text-align: right;\n",
       "    }\n",
       "</style>\n",
       "<table border=\"1\" class=\"dataframe\">\n",
       "  <thead>\n",
       "    <tr style=\"text-align: right;\">\n",
       "      <th></th>\n",
       "      <th>driverId</th>\n",
       "      <th>driverRef</th>\n",
       "      <th>number</th>\n",
       "      <th>code</th>\n",
       "      <th>forename</th>\n",
       "      <th>surname</th>\n",
       "      <th>dob</th>\n",
       "      <th>nationality</th>\n",
       "      <th>url</th>\n",
       "    </tr>\n",
       "  </thead>\n",
       "  <tbody>\n",
       "    <tr>\n",
       "      <th>0</th>\n",
       "      <td>1</td>\n",
       "      <td>hamilton</td>\n",
       "      <td>44.0</td>\n",
       "      <td>HAM</td>\n",
       "      <td>Lewis</td>\n",
       "      <td>Hamilton</td>\n",
       "      <td>1985-01-07</td>\n",
       "      <td>British</td>\n",
       "      <td>http://en.wikipedia.org/wiki/Lewis_Hamilton</td>\n",
       "    </tr>\n",
       "    <tr>\n",
       "      <th>1</th>\n",
       "      <td>2</td>\n",
       "      <td>heidfeld</td>\n",
       "      <td>NaN</td>\n",
       "      <td>HEI</td>\n",
       "      <td>Nick</td>\n",
       "      <td>Heidfeld</td>\n",
       "      <td>1977-05-10</td>\n",
       "      <td>German</td>\n",
       "      <td>http://en.wikipedia.org/wiki/Nick_Heidfeld</td>\n",
       "    </tr>\n",
       "    <tr>\n",
       "      <th>2</th>\n",
       "      <td>3</td>\n",
       "      <td>rosberg</td>\n",
       "      <td>6.0</td>\n",
       "      <td>ROS</td>\n",
       "      <td>Nico</td>\n",
       "      <td>Rosberg</td>\n",
       "      <td>1985-06-27</td>\n",
       "      <td>German</td>\n",
       "      <td>http://en.wikipedia.org/wiki/Nico_Rosberg</td>\n",
       "    </tr>\n",
       "    <tr>\n",
       "      <th>3</th>\n",
       "      <td>4</td>\n",
       "      <td>alonso</td>\n",
       "      <td>14.0</td>\n",
       "      <td>ALO</td>\n",
       "      <td>Fernando</td>\n",
       "      <td>Alonso</td>\n",
       "      <td>1981-07-29</td>\n",
       "      <td>Spanish</td>\n",
       "      <td>http://en.wikipedia.org/wiki/Fernando_Alonso</td>\n",
       "    </tr>\n",
       "    <tr>\n",
       "      <th>4</th>\n",
       "      <td>5</td>\n",
       "      <td>kovalainen</td>\n",
       "      <td>NaN</td>\n",
       "      <td>KOV</td>\n",
       "      <td>Heikki</td>\n",
       "      <td>Kovalainen</td>\n",
       "      <td>1981-10-19</td>\n",
       "      <td>Finnish</td>\n",
       "      <td>http://en.wikipedia.org/wiki/Heikki_Kovalainen</td>\n",
       "    </tr>\n",
       "    <tr>\n",
       "      <th>...</th>\n",
       "      <td>...</td>\n",
       "      <td>...</td>\n",
       "      <td>...</td>\n",
       "      <td>...</td>\n",
       "      <td>...</td>\n",
       "      <td>...</td>\n",
       "      <td>...</td>\n",
       "      <td>...</td>\n",
       "      <td>...</td>\n",
       "    </tr>\n",
       "    <tr>\n",
       "      <th>849</th>\n",
       "      <td>851</td>\n",
       "      <td>aitken</td>\n",
       "      <td>89.0</td>\n",
       "      <td>AIT</td>\n",
       "      <td>Jack</td>\n",
       "      <td>Aitken</td>\n",
       "      <td>1995-09-23</td>\n",
       "      <td>British</td>\n",
       "      <td>http://en.wikipedia.org/wiki/Jack_Aitken</td>\n",
       "    </tr>\n",
       "    <tr>\n",
       "      <th>850</th>\n",
       "      <td>852</td>\n",
       "      <td>tsunoda</td>\n",
       "      <td>22.0</td>\n",
       "      <td>TSU</td>\n",
       "      <td>Yuki</td>\n",
       "      <td>Tsunoda</td>\n",
       "      <td>2000-05-11</td>\n",
       "      <td>Japanese</td>\n",
       "      <td>http://en.wikipedia.org/wiki/Yuki_Tsunoda</td>\n",
       "    </tr>\n",
       "    <tr>\n",
       "      <th>851</th>\n",
       "      <td>853</td>\n",
       "      <td>mazepin</td>\n",
       "      <td>9.0</td>\n",
       "      <td>MAZ</td>\n",
       "      <td>Nikita</td>\n",
       "      <td>Mazepin</td>\n",
       "      <td>1999-03-02</td>\n",
       "      <td>Russian</td>\n",
       "      <td>http://en.wikipedia.org/wiki/Nikita_Mazepin</td>\n",
       "    </tr>\n",
       "    <tr>\n",
       "      <th>852</th>\n",
       "      <td>854</td>\n",
       "      <td>mick_schumacher</td>\n",
       "      <td>47.0</td>\n",
       "      <td>MSC</td>\n",
       "      <td>Mick</td>\n",
       "      <td>Schumacher</td>\n",
       "      <td>1999-03-22</td>\n",
       "      <td>German</td>\n",
       "      <td>http://en.wikipedia.org/wiki/Mick_Schumacher</td>\n",
       "    </tr>\n",
       "    <tr>\n",
       "      <th>853</th>\n",
       "      <td>855</td>\n",
       "      <td>zhou</td>\n",
       "      <td>24.0</td>\n",
       "      <td>ZHO</td>\n",
       "      <td>Guanyu</td>\n",
       "      <td>Zhou</td>\n",
       "      <td>1999-05-30</td>\n",
       "      <td>Chinese</td>\n",
       "      <td>http://en.wikipedia.org/wiki/Guanyu_Zhou</td>\n",
       "    </tr>\n",
       "  </tbody>\n",
       "</table>\n",
       "<p>854 rows × 9 columns</p>\n",
       "</div>"
      ],
      "text/plain": [
       "     driverId        driverRef  number code  forename     surname         dob  \\\n",
       "0           1         hamilton    44.0  HAM     Lewis    Hamilton  1985-01-07   \n",
       "1           2         heidfeld     NaN  HEI      Nick    Heidfeld  1977-05-10   \n",
       "2           3          rosberg     6.0  ROS      Nico     Rosberg  1985-06-27   \n",
       "3           4           alonso    14.0  ALO  Fernando      Alonso  1981-07-29   \n",
       "4           5       kovalainen     NaN  KOV    Heikki  Kovalainen  1981-10-19   \n",
       "..        ...              ...     ...  ...       ...         ...         ...   \n",
       "849       851           aitken    89.0  AIT      Jack      Aitken  1995-09-23   \n",
       "850       852          tsunoda    22.0  TSU      Yuki     Tsunoda  2000-05-11   \n",
       "851       853          mazepin     9.0  MAZ    Nikita     Mazepin  1999-03-02   \n",
       "852       854  mick_schumacher    47.0  MSC      Mick  Schumacher  1999-03-22   \n",
       "853       855             zhou    24.0  ZHO    Guanyu        Zhou  1999-05-30   \n",
       "\n",
       "    nationality                                             url  \n",
       "0       British     http://en.wikipedia.org/wiki/Lewis_Hamilton  \n",
       "1        German      http://en.wikipedia.org/wiki/Nick_Heidfeld  \n",
       "2        German       http://en.wikipedia.org/wiki/Nico_Rosberg  \n",
       "3       Spanish    http://en.wikipedia.org/wiki/Fernando_Alonso  \n",
       "4       Finnish  http://en.wikipedia.org/wiki/Heikki_Kovalainen  \n",
       "..          ...                                             ...  \n",
       "849     British        http://en.wikipedia.org/wiki/Jack_Aitken  \n",
       "850    Japanese       http://en.wikipedia.org/wiki/Yuki_Tsunoda  \n",
       "851     Russian     http://en.wikipedia.org/wiki/Nikita_Mazepin  \n",
       "852      German    http://en.wikipedia.org/wiki/Mick_Schumacher  \n",
       "853     Chinese        http://en.wikipedia.org/wiki/Guanyu_Zhou  \n",
       "\n",
       "[854 rows x 9 columns]"
      ]
     },
     "execution_count": 106,
     "metadata": {},
     "output_type": "execute_result"
    }
   ],
   "source": [
    "server = 'f1server.database.windows.net' \n",
    "database = 'WackyRacesF1' \n",
    "username = 'PDS' \n",
    "password = 'Formula1'  \n",
    "cnxn = pyodbc.connect('DRIVER={SQL Server};SERVER='+server+';DATABASE='+database+';UID='+username+';PWD='+ password)\n",
    "cursor = cnxn.cursor()\n",
    "query = \"SELECT * FROM dbo.drivers;\"\n",
    "drivers = pd.read_sql(query, cnxn)\n",
    "drivers"
   ]
  },
  {
   "cell_type": "markdown",
   "id": "7a996516",
   "metadata": {},
   "source": [
    "**11.** Create a new column with the driver full name"
   ]
  },
  {
   "cell_type": "code",
   "execution_count": 107,
   "id": "cdd9b9cb",
   "metadata": {},
   "outputs": [
    {
     "data": {
      "text/html": [
       "<div>\n",
       "<style scoped>\n",
       "    .dataframe tbody tr th:only-of-type {\n",
       "        vertical-align: middle;\n",
       "    }\n",
       "\n",
       "    .dataframe tbody tr th {\n",
       "        vertical-align: top;\n",
       "    }\n",
       "\n",
       "    .dataframe thead th {\n",
       "        text-align: right;\n",
       "    }\n",
       "</style>\n",
       "<table border=\"1\" class=\"dataframe\">\n",
       "  <thead>\n",
       "    <tr style=\"text-align: right;\">\n",
       "      <th></th>\n",
       "      <th>driverId</th>\n",
       "      <th>driverRef</th>\n",
       "      <th>number</th>\n",
       "      <th>code</th>\n",
       "      <th>forename</th>\n",
       "      <th>surname</th>\n",
       "      <th>dob</th>\n",
       "      <th>nationality</th>\n",
       "      <th>url</th>\n",
       "      <th>driver_name</th>\n",
       "    </tr>\n",
       "  </thead>\n",
       "  <tbody>\n",
       "    <tr>\n",
       "      <th>0</th>\n",
       "      <td>1</td>\n",
       "      <td>hamilton</td>\n",
       "      <td>44.0</td>\n",
       "      <td>HAM</td>\n",
       "      <td>Lewis</td>\n",
       "      <td>Hamilton</td>\n",
       "      <td>1985-01-07</td>\n",
       "      <td>British</td>\n",
       "      <td>http://en.wikipedia.org/wiki/Lewis_Hamilton</td>\n",
       "      <td>Lewis Hamilton</td>\n",
       "    </tr>\n",
       "    <tr>\n",
       "      <th>1</th>\n",
       "      <td>2</td>\n",
       "      <td>heidfeld</td>\n",
       "      <td>NaN</td>\n",
       "      <td>HEI</td>\n",
       "      <td>Nick</td>\n",
       "      <td>Heidfeld</td>\n",
       "      <td>1977-05-10</td>\n",
       "      <td>German</td>\n",
       "      <td>http://en.wikipedia.org/wiki/Nick_Heidfeld</td>\n",
       "      <td>Nick Heidfeld</td>\n",
       "    </tr>\n",
       "    <tr>\n",
       "      <th>2</th>\n",
       "      <td>3</td>\n",
       "      <td>rosberg</td>\n",
       "      <td>6.0</td>\n",
       "      <td>ROS</td>\n",
       "      <td>Nico</td>\n",
       "      <td>Rosberg</td>\n",
       "      <td>1985-06-27</td>\n",
       "      <td>German</td>\n",
       "      <td>http://en.wikipedia.org/wiki/Nico_Rosberg</td>\n",
       "      <td>Nico Rosberg</td>\n",
       "    </tr>\n",
       "    <tr>\n",
       "      <th>3</th>\n",
       "      <td>4</td>\n",
       "      <td>alonso</td>\n",
       "      <td>14.0</td>\n",
       "      <td>ALO</td>\n",
       "      <td>Fernando</td>\n",
       "      <td>Alonso</td>\n",
       "      <td>1981-07-29</td>\n",
       "      <td>Spanish</td>\n",
       "      <td>http://en.wikipedia.org/wiki/Fernando_Alonso</td>\n",
       "      <td>Fernando Alonso</td>\n",
       "    </tr>\n",
       "    <tr>\n",
       "      <th>4</th>\n",
       "      <td>5</td>\n",
       "      <td>kovalainen</td>\n",
       "      <td>NaN</td>\n",
       "      <td>KOV</td>\n",
       "      <td>Heikki</td>\n",
       "      <td>Kovalainen</td>\n",
       "      <td>1981-10-19</td>\n",
       "      <td>Finnish</td>\n",
       "      <td>http://en.wikipedia.org/wiki/Heikki_Kovalainen</td>\n",
       "      <td>Heikki Kovalainen</td>\n",
       "    </tr>\n",
       "  </tbody>\n",
       "</table>\n",
       "</div>"
      ],
      "text/plain": [
       "   driverId   driverRef  number code  forename     surname         dob  \\\n",
       "0         1    hamilton    44.0  HAM     Lewis    Hamilton  1985-01-07   \n",
       "1         2    heidfeld     NaN  HEI      Nick    Heidfeld  1977-05-10   \n",
       "2         3     rosberg     6.0  ROS      Nico     Rosberg  1985-06-27   \n",
       "3         4      alonso    14.0  ALO  Fernando      Alonso  1981-07-29   \n",
       "4         5  kovalainen     NaN  KOV    Heikki  Kovalainen  1981-10-19   \n",
       "\n",
       "  nationality                                             url  \\\n",
       "0     British     http://en.wikipedia.org/wiki/Lewis_Hamilton   \n",
       "1      German      http://en.wikipedia.org/wiki/Nick_Heidfeld   \n",
       "2      German       http://en.wikipedia.org/wiki/Nico_Rosberg   \n",
       "3     Spanish    http://en.wikipedia.org/wiki/Fernando_Alonso   \n",
       "4     Finnish  http://en.wikipedia.org/wiki/Heikki_Kovalainen   \n",
       "\n",
       "         driver_name  \n",
       "0     Lewis Hamilton  \n",
       "1      Nick Heidfeld  \n",
       "2       Nico Rosberg  \n",
       "3    Fernando Alonso  \n",
       "4  Heikki Kovalainen  "
      ]
     },
     "execution_count": 107,
     "metadata": {},
     "output_type": "execute_result"
    }
   ],
   "source": [
    "drivers['driver_name'] = drivers['forename'] + ' ' + drivers['surname']\n",
    "drivers.head()"
   ]
  },
  {
   "cell_type": "markdown",
   "id": "2acd7144",
   "metadata": {},
   "source": [
    "**12.** Merge the data to obtain the driver name"
   ]
  },
  {
   "cell_type": "code",
   "execution_count": 108,
   "id": "525c5734",
   "metadata": {},
   "outputs": [
    {
     "data": {
      "text/html": [
       "<div>\n",
       "<style scoped>\n",
       "    .dataframe tbody tr th:only-of-type {\n",
       "        vertical-align: middle;\n",
       "    }\n",
       "\n",
       "    .dataframe tbody tr th {\n",
       "        vertical-align: top;\n",
       "    }\n",
       "\n",
       "    .dataframe thead th {\n",
       "        text-align: right;\n",
       "    }\n",
       "</style>\n",
       "<table border=\"1\" class=\"dataframe\">\n",
       "  <thead>\n",
       "    <tr style=\"text-align: right;\">\n",
       "      <th></th>\n",
       "      <th>driverStandingsId</th>\n",
       "      <th>raceId</th>\n",
       "      <th>driverId</th>\n",
       "      <th>points</th>\n",
       "      <th>position</th>\n",
       "      <th>positionText</th>\n",
       "      <th>wins</th>\n",
       "      <th>driver_name</th>\n",
       "    </tr>\n",
       "  </thead>\n",
       "  <tbody>\n",
       "    <tr>\n",
       "      <th>0</th>\n",
       "      <td>1</td>\n",
       "      <td>18</td>\n",
       "      <td>1</td>\n",
       "      <td>10.0</td>\n",
       "      <td>1</td>\n",
       "      <td>1</td>\n",
       "      <td>1</td>\n",
       "      <td>Lewis Hamilton</td>\n",
       "    </tr>\n",
       "    <tr>\n",
       "      <th>1</th>\n",
       "      <td>9</td>\n",
       "      <td>19</td>\n",
       "      <td>1</td>\n",
       "      <td>14.0</td>\n",
       "      <td>1</td>\n",
       "      <td>1</td>\n",
       "      <td>1</td>\n",
       "      <td>Lewis Hamilton</td>\n",
       "    </tr>\n",
       "    <tr>\n",
       "      <th>2</th>\n",
       "      <td>27</td>\n",
       "      <td>20</td>\n",
       "      <td>1</td>\n",
       "      <td>14.0</td>\n",
       "      <td>3</td>\n",
       "      <td>3</td>\n",
       "      <td>1</td>\n",
       "      <td>Lewis Hamilton</td>\n",
       "    </tr>\n",
       "    <tr>\n",
       "      <th>3</th>\n",
       "      <td>48</td>\n",
       "      <td>21</td>\n",
       "      <td>1</td>\n",
       "      <td>20.0</td>\n",
       "      <td>2</td>\n",
       "      <td>2</td>\n",
       "      <td>1</td>\n",
       "      <td>Lewis Hamilton</td>\n",
       "    </tr>\n",
       "    <tr>\n",
       "      <th>4</th>\n",
       "      <td>69</td>\n",
       "      <td>22</td>\n",
       "      <td>1</td>\n",
       "      <td>28.0</td>\n",
       "      <td>3</td>\n",
       "      <td>3</td>\n",
       "      <td>1</td>\n",
       "      <td>Lewis Hamilton</td>\n",
       "    </tr>\n",
       "    <tr>\n",
       "      <th>...</th>\n",
       "      <td>...</td>\n",
       "      <td>...</td>\n",
       "      <td>...</td>\n",
       "      <td>...</td>\n",
       "      <td>...</td>\n",
       "      <td>...</td>\n",
       "      <td>...</td>\n",
       "      <td>...</td>\n",
       "    </tr>\n",
       "    <tr>\n",
       "      <th>33450</th>\n",
       "      <td>71187</td>\n",
       "      <td>87</td>\n",
       "      <td>40</td>\n",
       "      <td>3.0</td>\n",
       "      <td>21</td>\n",
       "      <td>21</td>\n",
       "      <td>0</td>\n",
       "      <td>Patrick Friesacher</td>\n",
       "    </tr>\n",
       "    <tr>\n",
       "      <th>33451</th>\n",
       "      <td>71214</td>\n",
       "      <td>88</td>\n",
       "      <td>40</td>\n",
       "      <td>3.0</td>\n",
       "      <td>21</td>\n",
       "      <td>21</td>\n",
       "      <td>0</td>\n",
       "      <td>Patrick Friesacher</td>\n",
       "    </tr>\n",
       "    <tr>\n",
       "      <th>33452</th>\n",
       "      <td>71241</td>\n",
       "      <td>89</td>\n",
       "      <td>40</td>\n",
       "      <td>3.0</td>\n",
       "      <td>21</td>\n",
       "      <td>21</td>\n",
       "      <td>0</td>\n",
       "      <td>Patrick Friesacher</td>\n",
       "    </tr>\n",
       "    <tr>\n",
       "      <th>33453</th>\n",
       "      <td>71261</td>\n",
       "      <td>1074</td>\n",
       "      <td>855</td>\n",
       "      <td>1.0</td>\n",
       "      <td>10</td>\n",
       "      <td>10</td>\n",
       "      <td>0</td>\n",
       "      <td>Guanyu Zhou</td>\n",
       "    </tr>\n",
       "    <tr>\n",
       "      <th>33454</th>\n",
       "      <td>71281</td>\n",
       "      <td>1075</td>\n",
       "      <td>855</td>\n",
       "      <td>1.0</td>\n",
       "      <td>14</td>\n",
       "      <td>14</td>\n",
       "      <td>0</td>\n",
       "      <td>Guanyu Zhou</td>\n",
       "    </tr>\n",
       "  </tbody>\n",
       "</table>\n",
       "<p>33455 rows × 8 columns</p>\n",
       "</div>"
      ],
      "text/plain": [
       "       driverStandingsId  raceId  driverId  points  position positionText  \\\n",
       "0                      1      18         1    10.0         1            1   \n",
       "1                      9      19         1    14.0         1            1   \n",
       "2                     27      20         1    14.0         3            3   \n",
       "3                     48      21         1    20.0         2            2   \n",
       "4                     69      22         1    28.0         3            3   \n",
       "...                  ...     ...       ...     ...       ...          ...   \n",
       "33450              71187      87        40     3.0        21           21   \n",
       "33451              71214      88        40     3.0        21           21   \n",
       "33452              71241      89        40     3.0        21           21   \n",
       "33453              71261    1074       855     1.0        10           10   \n",
       "33454              71281    1075       855     1.0        14           14   \n",
       "\n",
       "       wins         driver_name  \n",
       "0         1      Lewis Hamilton  \n",
       "1         1      Lewis Hamilton  \n",
       "2         1      Lewis Hamilton  \n",
       "3         1      Lewis Hamilton  \n",
       "4         1      Lewis Hamilton  \n",
       "...     ...                 ...  \n",
       "33450     0  Patrick Friesacher  \n",
       "33451     0  Patrick Friesacher  \n",
       "33452     0  Patrick Friesacher  \n",
       "33453     0         Guanyu Zhou  \n",
       "33454     0         Guanyu Zhou  \n",
       "\n",
       "[33455 rows x 8 columns]"
      ]
     },
     "execution_count": 108,
     "metadata": {},
     "output_type": "execute_result"
    }
   ],
   "source": [
    "driver_name = driverStandings.merge(drivers[['driverId', 'driver_name']], how='inner', on='driverId')\n",
    "driver_name"
   ]
  },
  {
   "cell_type": "markdown",
   "id": "b05eba55",
   "metadata": {},
   "source": [
    "**13.** Merge the data to obtain the year of each race"
   ]
  },
  {
   "cell_type": "code",
   "execution_count": 109,
   "id": "af802ef0",
   "metadata": {
    "scrolled": true
   },
   "outputs": [
    {
     "data": {
      "text/html": [
       "<div>\n",
       "<style scoped>\n",
       "    .dataframe tbody tr th:only-of-type {\n",
       "        vertical-align: middle;\n",
       "    }\n",
       "\n",
       "    .dataframe tbody tr th {\n",
       "        vertical-align: top;\n",
       "    }\n",
       "\n",
       "    .dataframe thead th {\n",
       "        text-align: right;\n",
       "    }\n",
       "</style>\n",
       "<table border=\"1\" class=\"dataframe\">\n",
       "  <thead>\n",
       "    <tr style=\"text-align: right;\">\n",
       "      <th></th>\n",
       "      <th>driverStandingsId</th>\n",
       "      <th>raceId</th>\n",
       "      <th>driverId</th>\n",
       "      <th>points</th>\n",
       "      <th>position</th>\n",
       "      <th>positionText</th>\n",
       "      <th>wins</th>\n",
       "      <th>driver_name</th>\n",
       "      <th>year</th>\n",
       "    </tr>\n",
       "  </thead>\n",
       "  <tbody>\n",
       "    <tr>\n",
       "      <th>0</th>\n",
       "      <td>67058</td>\n",
       "      <td>927</td>\n",
       "      <td>1</td>\n",
       "      <td>43.0</td>\n",
       "      <td>1</td>\n",
       "      <td>1</td>\n",
       "      <td>1</td>\n",
       "      <td>Lewis Hamilton</td>\n",
       "      <td>2015</td>\n",
       "    </tr>\n",
       "    <tr>\n",
       "      <th>1</th>\n",
       "      <td>67059</td>\n",
       "      <td>927</td>\n",
       "      <td>3</td>\n",
       "      <td>33.0</td>\n",
       "      <td>3</td>\n",
       "      <td>3</td>\n",
       "      <td>0</td>\n",
       "      <td>Nico Rosberg</td>\n",
       "      <td>2015</td>\n",
       "    </tr>\n",
       "    <tr>\n",
       "      <th>2</th>\n",
       "      <td>67077</td>\n",
       "      <td>927</td>\n",
       "      <td>4</td>\n",
       "      <td>0.0</td>\n",
       "      <td>20</td>\n",
       "      <td>20</td>\n",
       "      <td>0</td>\n",
       "      <td>Fernando Alonso</td>\n",
       "      <td>2015</td>\n",
       "    </tr>\n",
       "    <tr>\n",
       "      <th>3</th>\n",
       "      <td>67069</td>\n",
       "      <td>927</td>\n",
       "      <td>8</td>\n",
       "      <td>12.0</td>\n",
       "      <td>5</td>\n",
       "      <td>5</td>\n",
       "      <td>0</td>\n",
       "      <td>Kimi Räikkönen</td>\n",
       "      <td>2015</td>\n",
       "    </tr>\n",
       "    <tr>\n",
       "      <th>4</th>\n",
       "      <td>67068</td>\n",
       "      <td>927</td>\n",
       "      <td>18</td>\n",
       "      <td>0.0</td>\n",
       "      <td>16</td>\n",
       "      <td>16</td>\n",
       "      <td>0</td>\n",
       "      <td>Jenson Button</td>\n",
       "      <td>2015</td>\n",
       "    </tr>\n",
       "    <tr>\n",
       "      <th>...</th>\n",
       "      <td>...</td>\n",
       "      <td>...</td>\n",
       "      <td>...</td>\n",
       "      <td>...</td>\n",
       "      <td>...</td>\n",
       "      <td>...</td>\n",
       "      <td>...</td>\n",
       "      <td>...</td>\n",
       "      <td>...</td>\n",
       "    </tr>\n",
       "    <tr>\n",
       "      <th>2990</th>\n",
       "      <td>70753</td>\n",
       "      <td>1073</td>\n",
       "      <td>847</td>\n",
       "      <td>16.0</td>\n",
       "      <td>15</td>\n",
       "      <td>15</td>\n",
       "      <td>0</td>\n",
       "      <td>George Russell</td>\n",
       "      <td>2021</td>\n",
       "    </tr>\n",
       "    <tr>\n",
       "      <th>2991</th>\n",
       "      <td>70757</td>\n",
       "      <td>1073</td>\n",
       "      <td>849</td>\n",
       "      <td>7.0</td>\n",
       "      <td>17</td>\n",
       "      <td>17</td>\n",
       "      <td>0</td>\n",
       "      <td>Nicholas Latifi</td>\n",
       "      <td>2021</td>\n",
       "    </tr>\n",
       "    <tr>\n",
       "      <th>2992</th>\n",
       "      <td>70748</td>\n",
       "      <td>1073</td>\n",
       "      <td>852</td>\n",
       "      <td>32.0</td>\n",
       "      <td>14</td>\n",
       "      <td>14</td>\n",
       "      <td>0</td>\n",
       "      <td>Yuki Tsunoda</td>\n",
       "      <td>2021</td>\n",
       "    </tr>\n",
       "    <tr>\n",
       "      <th>2993</th>\n",
       "      <td>70755</td>\n",
       "      <td>1073</td>\n",
       "      <td>854</td>\n",
       "      <td>0.0</td>\n",
       "      <td>19</td>\n",
       "      <td>19</td>\n",
       "      <td>0</td>\n",
       "      <td>Mick Schumacher</td>\n",
       "      <td>2021</td>\n",
       "    </tr>\n",
       "    <tr>\n",
       "      <th>2994</th>\n",
       "      <td>70759</td>\n",
       "      <td>1073</td>\n",
       "      <td>853</td>\n",
       "      <td>0.0</td>\n",
       "      <td>21</td>\n",
       "      <td>21</td>\n",
       "      <td>0</td>\n",
       "      <td>Nikita Mazepin</td>\n",
       "      <td>2021</td>\n",
       "    </tr>\n",
       "  </tbody>\n",
       "</table>\n",
       "<p>2995 rows × 9 columns</p>\n",
       "</div>"
      ],
      "text/plain": [
       "      driverStandingsId  raceId  driverId  points  position positionText  \\\n",
       "0                 67058     927         1    43.0         1            1   \n",
       "1                 67059     927         3    33.0         3            3   \n",
       "2                 67077     927         4     0.0        20           20   \n",
       "3                 67069     927         8    12.0         5            5   \n",
       "4                 67068     927        18     0.0        16           16   \n",
       "...                 ...     ...       ...     ...       ...          ...   \n",
       "2990              70753    1073       847    16.0        15           15   \n",
       "2991              70757    1073       849     7.0        17           17   \n",
       "2992              70748    1073       852    32.0        14           14   \n",
       "2993              70755    1073       854     0.0        19           19   \n",
       "2994              70759    1073       853     0.0        21           21   \n",
       "\n",
       "      wins      driver_name  year  \n",
       "0        1   Lewis Hamilton  2015  \n",
       "1        0     Nico Rosberg  2015  \n",
       "2        0  Fernando Alonso  2015  \n",
       "3        0   Kimi Räikkönen  2015  \n",
       "4        0    Jenson Button  2015  \n",
       "...    ...              ...   ...  \n",
       "2990     0   George Russell  2021  \n",
       "2991     0  Nicholas Latifi  2021  \n",
       "2992     0     Yuki Tsunoda  2021  \n",
       "2993     0  Mick Schumacher  2021  \n",
       "2994     0   Nikita Mazepin  2021  \n",
       "\n",
       "[2995 rows x 9 columns]"
      ]
     },
     "execution_count": 109,
     "metadata": {},
     "output_type": "execute_result"
    }
   ],
   "source": [
    "driver_year = driver_name.merge(races, how='inner', on='raceId')\n",
    "driver_year"
   ]
  },
  {
   "cell_type": "markdown",
   "id": "41c06896",
   "metadata": {},
   "source": [
    "**14.** Filter the winning positions"
   ]
  },
  {
   "cell_type": "code",
   "execution_count": 110,
   "id": "fdd2eeb7",
   "metadata": {},
   "outputs": [
    {
     "data": {
      "text/html": [
       "<div>\n",
       "<style scoped>\n",
       "    .dataframe tbody tr th:only-of-type {\n",
       "        vertical-align: middle;\n",
       "    }\n",
       "\n",
       "    .dataframe tbody tr th {\n",
       "        vertical-align: top;\n",
       "    }\n",
       "\n",
       "    .dataframe thead th {\n",
       "        text-align: right;\n",
       "    }\n",
       "</style>\n",
       "<table border=\"1\" class=\"dataframe\">\n",
       "  <thead>\n",
       "    <tr style=\"text-align: right;\">\n",
       "      <th></th>\n",
       "      <th>driverStandingsId</th>\n",
       "      <th>raceId</th>\n",
       "      <th>driverId</th>\n",
       "      <th>points</th>\n",
       "      <th>position</th>\n",
       "      <th>positionText</th>\n",
       "      <th>wins</th>\n",
       "      <th>driver_name</th>\n",
       "      <th>year</th>\n",
       "    </tr>\n",
       "  </thead>\n",
       "  <tbody>\n",
       "    <tr>\n",
       "      <th>0</th>\n",
       "      <td>67058</td>\n",
       "      <td>927</td>\n",
       "      <td>1</td>\n",
       "      <td>43.0</td>\n",
       "      <td>1</td>\n",
       "      <td>1</td>\n",
       "      <td>1</td>\n",
       "      <td>Lewis Hamilton</td>\n",
       "      <td>2015</td>\n",
       "    </tr>\n",
       "    <tr>\n",
       "      <th>21</th>\n",
       "      <td>67079</td>\n",
       "      <td>928</td>\n",
       "      <td>1</td>\n",
       "      <td>68.0</td>\n",
       "      <td>1</td>\n",
       "      <td>1</td>\n",
       "      <td>2</td>\n",
       "      <td>Lewis Hamilton</td>\n",
       "      <td>2015</td>\n",
       "    </tr>\n",
       "    <tr>\n",
       "      <th>42</th>\n",
       "      <td>67100</td>\n",
       "      <td>929</td>\n",
       "      <td>1</td>\n",
       "      <td>93.0</td>\n",
       "      <td>1</td>\n",
       "      <td>1</td>\n",
       "      <td>3</td>\n",
       "      <td>Lewis Hamilton</td>\n",
       "      <td>2015</td>\n",
       "    </tr>\n",
       "    <tr>\n",
       "      <th>63</th>\n",
       "      <td>67121</td>\n",
       "      <td>930</td>\n",
       "      <td>1</td>\n",
       "      <td>111.0</td>\n",
       "      <td>1</td>\n",
       "      <td>1</td>\n",
       "      <td>3</td>\n",
       "      <td>Lewis Hamilton</td>\n",
       "      <td>2015</td>\n",
       "    </tr>\n",
       "    <tr>\n",
       "      <th>84</th>\n",
       "      <td>67142</td>\n",
       "      <td>931</td>\n",
       "      <td>1</td>\n",
       "      <td>126.0</td>\n",
       "      <td>1</td>\n",
       "      <td>1</td>\n",
       "      <td>3</td>\n",
       "      <td>Lewis Hamilton</td>\n",
       "      <td>2015</td>\n",
       "    </tr>\n",
       "    <tr>\n",
       "      <th>...</th>\n",
       "      <td>...</td>\n",
       "      <td>...</td>\n",
       "      <td>...</td>\n",
       "      <td>...</td>\n",
       "      <td>...</td>\n",
       "      <td>...</td>\n",
       "      <td>...</td>\n",
       "      <td>...</td>\n",
       "      <td>...</td>\n",
       "    </tr>\n",
       "    <tr>\n",
       "      <th>2899</th>\n",
       "      <td>70657</td>\n",
       "      <td>1070</td>\n",
       "      <td>830</td>\n",
       "      <td>312.5</td>\n",
       "      <td>1</td>\n",
       "      <td>1</td>\n",
       "      <td>9</td>\n",
       "      <td>Max Verstappen</td>\n",
       "      <td>2021</td>\n",
       "    </tr>\n",
       "    <tr>\n",
       "      <th>2920</th>\n",
       "      <td>70678</td>\n",
       "      <td>1071</td>\n",
       "      <td>830</td>\n",
       "      <td>332.5</td>\n",
       "      <td>1</td>\n",
       "      <td>1</td>\n",
       "      <td>9</td>\n",
       "      <td>Max Verstappen</td>\n",
       "      <td>2021</td>\n",
       "    </tr>\n",
       "    <tr>\n",
       "      <th>2941</th>\n",
       "      <td>70699</td>\n",
       "      <td>1051</td>\n",
       "      <td>830</td>\n",
       "      <td>351.5</td>\n",
       "      <td>1</td>\n",
       "      <td>1</td>\n",
       "      <td>9</td>\n",
       "      <td>Max Verstappen</td>\n",
       "      <td>2021</td>\n",
       "    </tr>\n",
       "    <tr>\n",
       "      <th>2962</th>\n",
       "      <td>70720</td>\n",
       "      <td>1072</td>\n",
       "      <td>830</td>\n",
       "      <td>369.5</td>\n",
       "      <td>1</td>\n",
       "      <td>1</td>\n",
       "      <td>9</td>\n",
       "      <td>Max Verstappen</td>\n",
       "      <td>2021</td>\n",
       "    </tr>\n",
       "    <tr>\n",
       "      <th>2983</th>\n",
       "      <td>70741</td>\n",
       "      <td>1073</td>\n",
       "      <td>830</td>\n",
       "      <td>395.5</td>\n",
       "      <td>1</td>\n",
       "      <td>1</td>\n",
       "      <td>10</td>\n",
       "      <td>Max Verstappen</td>\n",
       "      <td>2021</td>\n",
       "    </tr>\n",
       "  </tbody>\n",
       "</table>\n",
       "<p>141 rows × 9 columns</p>\n",
       "</div>"
      ],
      "text/plain": [
       "      driverStandingsId  raceId  driverId  points  position positionText  \\\n",
       "0                 67058     927         1    43.0         1            1   \n",
       "21                67079     928         1    68.0         1            1   \n",
       "42                67100     929         1    93.0         1            1   \n",
       "63                67121     930         1   111.0         1            1   \n",
       "84                67142     931         1   126.0         1            1   \n",
       "...                 ...     ...       ...     ...       ...          ...   \n",
       "2899              70657    1070       830   312.5         1            1   \n",
       "2920              70678    1071       830   332.5         1            1   \n",
       "2941              70699    1051       830   351.5         1            1   \n",
       "2962              70720    1072       830   369.5         1            1   \n",
       "2983              70741    1073       830   395.5         1            1   \n",
       "\n",
       "      wins     driver_name  year  \n",
       "0        1  Lewis Hamilton  2015  \n",
       "21       2  Lewis Hamilton  2015  \n",
       "42       3  Lewis Hamilton  2015  \n",
       "63       3  Lewis Hamilton  2015  \n",
       "84       3  Lewis Hamilton  2015  \n",
       "...    ...             ...   ...  \n",
       "2899     9  Max Verstappen  2021  \n",
       "2920     9  Max Verstappen  2021  \n",
       "2941     9  Max Verstappen  2021  \n",
       "2962     9  Max Verstappen  2021  \n",
       "2983    10  Max Verstappen  2021  \n",
       "\n",
       "[141 rows x 9 columns]"
      ]
     },
     "execution_count": 110,
     "metadata": {},
     "output_type": "execute_result"
    }
   ],
   "source": [
    "pilotos_wins = driver_year[driver_year['position'] == 1]\n",
    "pilotos_wins"
   ]
  },
  {
   "cell_type": "markdown",
   "id": "489e12af",
   "metadata": {},
   "source": [
    "**15.** Keep only the required columns, while grouping the data by `\"year\"` and `\"driver_name\"`"
   ]
  },
  {
   "cell_type": "code",
   "execution_count": 111,
   "id": "e8403adb",
   "metadata": {
    "scrolled": false
   },
   "outputs": [
    {
     "data": {
      "text/html": [
       "<div>\n",
       "<style scoped>\n",
       "    .dataframe tbody tr th:only-of-type {\n",
       "        vertical-align: middle;\n",
       "    }\n",
       "\n",
       "    .dataframe tbody tr th {\n",
       "        vertical-align: top;\n",
       "    }\n",
       "\n",
       "    .dataframe thead th {\n",
       "        text-align: right;\n",
       "    }\n",
       "</style>\n",
       "<table border=\"1\" class=\"dataframe\">\n",
       "  <thead>\n",
       "    <tr style=\"text-align: right;\">\n",
       "      <th></th>\n",
       "      <th>year</th>\n",
       "      <th>driver_name</th>\n",
       "      <th>position</th>\n",
       "    </tr>\n",
       "  </thead>\n",
       "  <tbody>\n",
       "    <tr>\n",
       "      <th>0</th>\n",
       "      <td>2015</td>\n",
       "      <td>Lewis Hamilton</td>\n",
       "      <td>19</td>\n",
       "    </tr>\n",
       "    <tr>\n",
       "      <th>1</th>\n",
       "      <td>2016</td>\n",
       "      <td>Lewis Hamilton</td>\n",
       "      <td>4</td>\n",
       "    </tr>\n",
       "    <tr>\n",
       "      <th>2</th>\n",
       "      <td>2016</td>\n",
       "      <td>Nico Rosberg</td>\n",
       "      <td>17</td>\n",
       "    </tr>\n",
       "    <tr>\n",
       "      <th>3</th>\n",
       "      <td>2017</td>\n",
       "      <td>Lewis Hamilton</td>\n",
       "      <td>8</td>\n",
       "    </tr>\n",
       "    <tr>\n",
       "      <th>4</th>\n",
       "      <td>2017</td>\n",
       "      <td>Sebastian Vettel</td>\n",
       "      <td>12</td>\n",
       "    </tr>\n",
       "    <tr>\n",
       "      <th>5</th>\n",
       "      <td>2018</td>\n",
       "      <td>Lewis Hamilton</td>\n",
       "      <td>15</td>\n",
       "    </tr>\n",
       "    <tr>\n",
       "      <th>6</th>\n",
       "      <td>2018</td>\n",
       "      <td>Sebastian Vettel</td>\n",
       "      <td>6</td>\n",
       "    </tr>\n",
       "    <tr>\n",
       "      <th>7</th>\n",
       "      <td>2019</td>\n",
       "      <td>Lewis Hamilton</td>\n",
       "      <td>18</td>\n",
       "    </tr>\n",
       "    <tr>\n",
       "      <th>8</th>\n",
       "      <td>2019</td>\n",
       "      <td>Valtteri Bottas</td>\n",
       "      <td>3</td>\n",
       "    </tr>\n",
       "    <tr>\n",
       "      <th>9</th>\n",
       "      <td>2020</td>\n",
       "      <td>Lewis Hamilton</td>\n",
       "      <td>15</td>\n",
       "    </tr>\n",
       "    <tr>\n",
       "      <th>10</th>\n",
       "      <td>2020</td>\n",
       "      <td>Valtteri Bottas</td>\n",
       "      <td>2</td>\n",
       "    </tr>\n",
       "    <tr>\n",
       "      <th>11</th>\n",
       "      <td>2021</td>\n",
       "      <td>Lewis Hamilton</td>\n",
       "      <td>7</td>\n",
       "    </tr>\n",
       "    <tr>\n",
       "      <th>12</th>\n",
       "      <td>2021</td>\n",
       "      <td>Max Verstappen</td>\n",
       "      <td>15</td>\n",
       "    </tr>\n",
       "  </tbody>\n",
       "</table>\n",
       "</div>"
      ],
      "text/plain": [
       "    year       driver_name  position\n",
       "0   2015    Lewis Hamilton        19\n",
       "1   2016    Lewis Hamilton         4\n",
       "2   2016      Nico Rosberg        17\n",
       "3   2017    Lewis Hamilton         8\n",
       "4   2017  Sebastian Vettel        12\n",
       "5   2018    Lewis Hamilton        15\n",
       "6   2018  Sebastian Vettel         6\n",
       "7   2019    Lewis Hamilton        18\n",
       "8   2019   Valtteri Bottas         3\n",
       "9   2020    Lewis Hamilton        15\n",
       "10  2020   Valtteri Bottas         2\n",
       "11  2021    Lewis Hamilton         7\n",
       "12  2021    Max Verstappen        15"
      ]
     },
     "execution_count": 111,
     "metadata": {},
     "output_type": "execute_result"
    }
   ],
   "source": [
    "pilotos = pilotos_wins.groupby(['year','driver_name'])['position'].sum().reset_index()\n",
    "pilotos"
   ]
  },
  {
   "cell_type": "markdown",
   "id": "f20964e6",
   "metadata": {},
   "source": [
    "**16.** Create an interactive plot to show the `\"Top Drivers per Year\"`, using the *Plotly* library"
   ]
  },
  {
   "cell_type": "code",
   "execution_count": 112,
   "id": "05ca56f5",
   "metadata": {
    "scrolled": false
   },
   "outputs": [
    {
     "data": {
      "application/vnd.plotly.v1+json": {
       "config": {
        "plotlyServerURL": "https://plotly.com"
       },
       "data": [
        {
         "alignmentgroup": "True",
         "bingroup": "y",
         "histfunc": "count",
         "hovertemplate": "driver_name=Lewis Hamilton<br>count=%{x}<br>year=%{y}<extra></extra>",
         "legendgroup": "Lewis Hamilton",
         "marker": {
          "color": "#636efa",
          "pattern": {
           "shape": ""
          }
         },
         "name": "Lewis Hamilton",
         "offsetgroup": "Lewis Hamilton",
         "orientation": "h",
         "showlegend": true,
         "type": "histogram",
         "x": [
          1,
          2,
          3,
          3,
          3,
          4,
          1,
          4,
          5,
          5,
          6,
          7,
          7,
          8,
          10,
          10,
          10,
          9,
          10,
          5,
          6,
          6,
          6,
          6,
          7,
          7,
          8,
          9,
          9,
          9,
          9,
          1,
          2,
          2,
          3,
          4,
          5,
          5,
          6,
          7,
          8,
          9,
          9,
          9,
          10,
          11,
          2,
          3,
          4,
          5,
          6,
          6,
          7,
          7,
          8,
          8,
          8,
          8,
          9,
          9,
          10,
          10,
          10,
          11,
          2,
          3,
          3,
          4,
          5,
          5,
          6,
          6,
          7,
          8,
          9,
          10,
          11,
          11,
          11,
          1,
          1,
          2,
          3,
          4,
          4,
          5
         ],
         "xaxis": "x",
         "y": [
          2015,
          2015,
          2015,
          2015,
          2015,
          2015,
          2015,
          2015,
          2015,
          2015,
          2015,
          2015,
          2015,
          2015,
          2015,
          2015,
          2015,
          2015,
          2015,
          2016,
          2016,
          2016,
          2016,
          2017,
          2017,
          2017,
          2017,
          2017,
          2017,
          2017,
          2017,
          2018,
          2018,
          2018,
          2018,
          2018,
          2018,
          2018,
          2018,
          2018,
          2018,
          2018,
          2018,
          2018,
          2018,
          2018,
          2019,
          2019,
          2019,
          2019,
          2019,
          2019,
          2019,
          2019,
          2019,
          2019,
          2019,
          2019,
          2019,
          2019,
          2019,
          2019,
          2019,
          2019,
          2020,
          2020,
          2020,
          2020,
          2020,
          2020,
          2020,
          2020,
          2020,
          2020,
          2020,
          2020,
          2020,
          2020,
          2020,
          2021,
          2021,
          2021,
          2021,
          2021,
          2021,
          2021
         ],
         "yaxis": "y"
        },
        {
         "alignmentgroup": "True",
         "bingroup": "y",
         "histfunc": "count",
         "hovertemplate": "driver_name=Nico Rosberg<br>count=%{x}<br>year=%{y}<extra></extra>",
         "legendgroup": "Nico Rosberg",
         "marker": {
          "color": "#EF553B",
          "pattern": {
           "shape": ""
          }
         },
         "name": "Nico Rosberg",
         "offsetgroup": "Nico Rosberg",
         "orientation": "h",
         "showlegend": true,
         "type": "histogram",
         "x": [
          2,
          3,
          4,
          4,
          4,
          4,
          5,
          5,
          5,
          8,
          8,
          9,
          9,
          9,
          1,
          9,
          9
         ],
         "xaxis": "x",
         "y": [
          2016,
          2016,
          2016,
          2016,
          2016,
          2016,
          2016,
          2016,
          2016,
          2016,
          2016,
          2016,
          2016,
          2016,
          2016,
          2016,
          2016
         ],
         "yaxis": "y"
        },
        {
         "alignmentgroup": "True",
         "bingroup": "y",
         "histfunc": "count",
         "hovertemplate": "driver_name=Sebastian Vettel<br>count=%{x}<br>year=%{y}<extra></extra>",
         "legendgroup": "Sebastian Vettel",
         "marker": {
          "color": "#00cc96",
          "pattern": {
           "shape": ""
          }
         },
         "name": "Sebastian Vettel",
         "offsetgroup": "Sebastian Vettel",
         "orientation": "h",
         "showlegend": true,
         "type": "histogram",
         "x": [
          1,
          1,
          2,
          2,
          2,
          3,
          3,
          3,
          3,
          3,
          4,
          4,
          1,
          2,
          2,
          3,
          3,
          4
         ],
         "xaxis": "x",
         "y": [
          2017,
          2017,
          2017,
          2017,
          2017,
          2017,
          2017,
          2017,
          2017,
          2017,
          2017,
          2017,
          2018,
          2018,
          2018,
          2018,
          2018,
          2018
         ],
         "yaxis": "y"
        },
        {
         "alignmentgroup": "True",
         "bingroup": "y",
         "histfunc": "count",
         "hovertemplate": "driver_name=Valtteri Bottas<br>count=%{x}<br>year=%{y}<extra></extra>",
         "legendgroup": "Valtteri Bottas",
         "marker": {
          "color": "#ab63fa",
          "pattern": {
           "shape": ""
          }
         },
         "name": "Valtteri Bottas",
         "offsetgroup": "Valtteri Bottas",
         "orientation": "h",
         "showlegend": true,
         "type": "histogram",
         "x": [
          1,
          2,
          1,
          1,
          1
         ],
         "xaxis": "x",
         "y": [
          2019,
          2019,
          2019,
          2020,
          2020
         ],
         "yaxis": "y"
        },
        {
         "alignmentgroup": "True",
         "bingroup": "y",
         "histfunc": "count",
         "hovertemplate": "driver_name=Max Verstappen<br>count=%{x}<br>year=%{y}<extra></extra>",
         "legendgroup": "Max Verstappen",
         "marker": {
          "color": "#FFA15A",
          "pattern": {
           "shape": ""
          }
         },
         "name": "Max Verstappen",
         "offsetgroup": "Max Verstappen",
         "orientation": "h",
         "showlegend": true,
         "type": "histogram",
         "x": [
          2,
          2,
          3,
          4,
          5,
          5,
          7,
          7,
          7,
          8,
          9,
          9,
          9,
          9,
          10
         ],
         "xaxis": "x",
         "y": [
          2021,
          2021,
          2021,
          2021,
          2021,
          2021,
          2021,
          2021,
          2021,
          2021,
          2021,
          2021,
          2021,
          2021,
          2021
         ],
         "yaxis": "y"
        }
       ],
       "layout": {
        "barmode": "group",
        "legend": {
         "title": {
          "text": "driver_name"
         },
         "tracegroupgap": 0
        },
        "template": {
         "data": {
          "bar": [
           {
            "error_x": {
             "color": "#f2f5fa"
            },
            "error_y": {
             "color": "#f2f5fa"
            },
            "marker": {
             "line": {
              "color": "rgb(17,17,17)",
              "width": 0.5
             },
             "pattern": {
              "fillmode": "overlay",
              "size": 10,
              "solidity": 0.2
             }
            },
            "type": "bar"
           }
          ],
          "barpolar": [
           {
            "marker": {
             "line": {
              "color": "rgb(17,17,17)",
              "width": 0.5
             },
             "pattern": {
              "fillmode": "overlay",
              "size": 10,
              "solidity": 0.2
             }
            },
            "type": "barpolar"
           }
          ],
          "carpet": [
           {
            "aaxis": {
             "endlinecolor": "#A2B1C6",
             "gridcolor": "#506784",
             "linecolor": "#506784",
             "minorgridcolor": "#506784",
             "startlinecolor": "#A2B1C6"
            },
            "baxis": {
             "endlinecolor": "#A2B1C6",
             "gridcolor": "#506784",
             "linecolor": "#506784",
             "minorgridcolor": "#506784",
             "startlinecolor": "#A2B1C6"
            },
            "type": "carpet"
           }
          ],
          "choropleth": [
           {
            "colorbar": {
             "outlinewidth": 0,
             "ticks": ""
            },
            "type": "choropleth"
           }
          ],
          "contour": [
           {
            "colorbar": {
             "outlinewidth": 0,
             "ticks": ""
            },
            "colorscale": [
             [
              0,
              "#0d0887"
             ],
             [
              0.1111111111111111,
              "#46039f"
             ],
             [
              0.2222222222222222,
              "#7201a8"
             ],
             [
              0.3333333333333333,
              "#9c179e"
             ],
             [
              0.4444444444444444,
              "#bd3786"
             ],
             [
              0.5555555555555556,
              "#d8576b"
             ],
             [
              0.6666666666666666,
              "#ed7953"
             ],
             [
              0.7777777777777778,
              "#fb9f3a"
             ],
             [
              0.8888888888888888,
              "#fdca26"
             ],
             [
              1,
              "#f0f921"
             ]
            ],
            "type": "contour"
           }
          ],
          "contourcarpet": [
           {
            "colorbar": {
             "outlinewidth": 0,
             "ticks": ""
            },
            "type": "contourcarpet"
           }
          ],
          "heatmap": [
           {
            "colorbar": {
             "outlinewidth": 0,
             "ticks": ""
            },
            "colorscale": [
             [
              0,
              "#0d0887"
             ],
             [
              0.1111111111111111,
              "#46039f"
             ],
             [
              0.2222222222222222,
              "#7201a8"
             ],
             [
              0.3333333333333333,
              "#9c179e"
             ],
             [
              0.4444444444444444,
              "#bd3786"
             ],
             [
              0.5555555555555556,
              "#d8576b"
             ],
             [
              0.6666666666666666,
              "#ed7953"
             ],
             [
              0.7777777777777778,
              "#fb9f3a"
             ],
             [
              0.8888888888888888,
              "#fdca26"
             ],
             [
              1,
              "#f0f921"
             ]
            ],
            "type": "heatmap"
           }
          ],
          "heatmapgl": [
           {
            "colorbar": {
             "outlinewidth": 0,
             "ticks": ""
            },
            "colorscale": [
             [
              0,
              "#0d0887"
             ],
             [
              0.1111111111111111,
              "#46039f"
             ],
             [
              0.2222222222222222,
              "#7201a8"
             ],
             [
              0.3333333333333333,
              "#9c179e"
             ],
             [
              0.4444444444444444,
              "#bd3786"
             ],
             [
              0.5555555555555556,
              "#d8576b"
             ],
             [
              0.6666666666666666,
              "#ed7953"
             ],
             [
              0.7777777777777778,
              "#fb9f3a"
             ],
             [
              0.8888888888888888,
              "#fdca26"
             ],
             [
              1,
              "#f0f921"
             ]
            ],
            "type": "heatmapgl"
           }
          ],
          "histogram": [
           {
            "marker": {
             "pattern": {
              "fillmode": "overlay",
              "size": 10,
              "solidity": 0.2
             }
            },
            "type": "histogram"
           }
          ],
          "histogram2d": [
           {
            "colorbar": {
             "outlinewidth": 0,
             "ticks": ""
            },
            "colorscale": [
             [
              0,
              "#0d0887"
             ],
             [
              0.1111111111111111,
              "#46039f"
             ],
             [
              0.2222222222222222,
              "#7201a8"
             ],
             [
              0.3333333333333333,
              "#9c179e"
             ],
             [
              0.4444444444444444,
              "#bd3786"
             ],
             [
              0.5555555555555556,
              "#d8576b"
             ],
             [
              0.6666666666666666,
              "#ed7953"
             ],
             [
              0.7777777777777778,
              "#fb9f3a"
             ],
             [
              0.8888888888888888,
              "#fdca26"
             ],
             [
              1,
              "#f0f921"
             ]
            ],
            "type": "histogram2d"
           }
          ],
          "histogram2dcontour": [
           {
            "colorbar": {
             "outlinewidth": 0,
             "ticks": ""
            },
            "colorscale": [
             [
              0,
              "#0d0887"
             ],
             [
              0.1111111111111111,
              "#46039f"
             ],
             [
              0.2222222222222222,
              "#7201a8"
             ],
             [
              0.3333333333333333,
              "#9c179e"
             ],
             [
              0.4444444444444444,
              "#bd3786"
             ],
             [
              0.5555555555555556,
              "#d8576b"
             ],
             [
              0.6666666666666666,
              "#ed7953"
             ],
             [
              0.7777777777777778,
              "#fb9f3a"
             ],
             [
              0.8888888888888888,
              "#fdca26"
             ],
             [
              1,
              "#f0f921"
             ]
            ],
            "type": "histogram2dcontour"
           }
          ],
          "mesh3d": [
           {
            "colorbar": {
             "outlinewidth": 0,
             "ticks": ""
            },
            "type": "mesh3d"
           }
          ],
          "parcoords": [
           {
            "line": {
             "colorbar": {
              "outlinewidth": 0,
              "ticks": ""
             }
            },
            "type": "parcoords"
           }
          ],
          "pie": [
           {
            "automargin": true,
            "type": "pie"
           }
          ],
          "scatter": [
           {
            "marker": {
             "line": {
              "color": "#283442"
             }
            },
            "type": "scatter"
           }
          ],
          "scatter3d": [
           {
            "line": {
             "colorbar": {
              "outlinewidth": 0,
              "ticks": ""
             }
            },
            "marker": {
             "colorbar": {
              "outlinewidth": 0,
              "ticks": ""
             }
            },
            "type": "scatter3d"
           }
          ],
          "scattercarpet": [
           {
            "marker": {
             "colorbar": {
              "outlinewidth": 0,
              "ticks": ""
             }
            },
            "type": "scattercarpet"
           }
          ],
          "scattergeo": [
           {
            "marker": {
             "colorbar": {
              "outlinewidth": 0,
              "ticks": ""
             }
            },
            "type": "scattergeo"
           }
          ],
          "scattergl": [
           {
            "marker": {
             "line": {
              "color": "#283442"
             }
            },
            "type": "scattergl"
           }
          ],
          "scattermapbox": [
           {
            "marker": {
             "colorbar": {
              "outlinewidth": 0,
              "ticks": ""
             }
            },
            "type": "scattermapbox"
           }
          ],
          "scatterpolar": [
           {
            "marker": {
             "colorbar": {
              "outlinewidth": 0,
              "ticks": ""
             }
            },
            "type": "scatterpolar"
           }
          ],
          "scatterpolargl": [
           {
            "marker": {
             "colorbar": {
              "outlinewidth": 0,
              "ticks": ""
             }
            },
            "type": "scatterpolargl"
           }
          ],
          "scatterternary": [
           {
            "marker": {
             "colorbar": {
              "outlinewidth": 0,
              "ticks": ""
             }
            },
            "type": "scatterternary"
           }
          ],
          "surface": [
           {
            "colorbar": {
             "outlinewidth": 0,
             "ticks": ""
            },
            "colorscale": [
             [
              0,
              "#0d0887"
             ],
             [
              0.1111111111111111,
              "#46039f"
             ],
             [
              0.2222222222222222,
              "#7201a8"
             ],
             [
              0.3333333333333333,
              "#9c179e"
             ],
             [
              0.4444444444444444,
              "#bd3786"
             ],
             [
              0.5555555555555556,
              "#d8576b"
             ],
             [
              0.6666666666666666,
              "#ed7953"
             ],
             [
              0.7777777777777778,
              "#fb9f3a"
             ],
             [
              0.8888888888888888,
              "#fdca26"
             ],
             [
              1,
              "#f0f921"
             ]
            ],
            "type": "surface"
           }
          ],
          "table": [
           {
            "cells": {
             "fill": {
              "color": "#506784"
             },
             "line": {
              "color": "rgb(17,17,17)"
             }
            },
            "header": {
             "fill": {
              "color": "#2a3f5f"
             },
             "line": {
              "color": "rgb(17,17,17)"
             }
            },
            "type": "table"
           }
          ]
         },
         "layout": {
          "annotationdefaults": {
           "arrowcolor": "#f2f5fa",
           "arrowhead": 0,
           "arrowwidth": 1
          },
          "autotypenumbers": "strict",
          "coloraxis": {
           "colorbar": {
            "outlinewidth": 0,
            "ticks": ""
           }
          },
          "colorscale": {
           "diverging": [
            [
             0,
             "#8e0152"
            ],
            [
             0.1,
             "#c51b7d"
            ],
            [
             0.2,
             "#de77ae"
            ],
            [
             0.3,
             "#f1b6da"
            ],
            [
             0.4,
             "#fde0ef"
            ],
            [
             0.5,
             "#f7f7f7"
            ],
            [
             0.6,
             "#e6f5d0"
            ],
            [
             0.7,
             "#b8e186"
            ],
            [
             0.8,
             "#7fbc41"
            ],
            [
             0.9,
             "#4d9221"
            ],
            [
             1,
             "#276419"
            ]
           ],
           "sequential": [
            [
             0,
             "#0d0887"
            ],
            [
             0.1111111111111111,
             "#46039f"
            ],
            [
             0.2222222222222222,
             "#7201a8"
            ],
            [
             0.3333333333333333,
             "#9c179e"
            ],
            [
             0.4444444444444444,
             "#bd3786"
            ],
            [
             0.5555555555555556,
             "#d8576b"
            ],
            [
             0.6666666666666666,
             "#ed7953"
            ],
            [
             0.7777777777777778,
             "#fb9f3a"
            ],
            [
             0.8888888888888888,
             "#fdca26"
            ],
            [
             1,
             "#f0f921"
            ]
           ],
           "sequentialminus": [
            [
             0,
             "#0d0887"
            ],
            [
             0.1111111111111111,
             "#46039f"
            ],
            [
             0.2222222222222222,
             "#7201a8"
            ],
            [
             0.3333333333333333,
             "#9c179e"
            ],
            [
             0.4444444444444444,
             "#bd3786"
            ],
            [
             0.5555555555555556,
             "#d8576b"
            ],
            [
             0.6666666666666666,
             "#ed7953"
            ],
            [
             0.7777777777777778,
             "#fb9f3a"
            ],
            [
             0.8888888888888888,
             "#fdca26"
            ],
            [
             1,
             "#f0f921"
            ]
           ]
          },
          "colorway": [
           "#636efa",
           "#EF553B",
           "#00cc96",
           "#ab63fa",
           "#FFA15A",
           "#19d3f3",
           "#FF6692",
           "#B6E880",
           "#FF97FF",
           "#FECB52"
          ],
          "font": {
           "color": "#f2f5fa"
          },
          "geo": {
           "bgcolor": "rgb(17,17,17)",
           "lakecolor": "rgb(17,17,17)",
           "landcolor": "rgb(17,17,17)",
           "showlakes": true,
           "showland": true,
           "subunitcolor": "#506784"
          },
          "hoverlabel": {
           "align": "left"
          },
          "hovermode": "closest",
          "mapbox": {
           "style": "dark"
          },
          "paper_bgcolor": "rgb(17,17,17)",
          "plot_bgcolor": "rgb(17,17,17)",
          "polar": {
           "angularaxis": {
            "gridcolor": "#506784",
            "linecolor": "#506784",
            "ticks": ""
           },
           "bgcolor": "rgb(17,17,17)",
           "radialaxis": {
            "gridcolor": "#506784",
            "linecolor": "#506784",
            "ticks": ""
           }
          },
          "scene": {
           "xaxis": {
            "backgroundcolor": "rgb(17,17,17)",
            "gridcolor": "#506784",
            "gridwidth": 2,
            "linecolor": "#506784",
            "showbackground": true,
            "ticks": "",
            "zerolinecolor": "#C8D4E3"
           },
           "yaxis": {
            "backgroundcolor": "rgb(17,17,17)",
            "gridcolor": "#506784",
            "gridwidth": 2,
            "linecolor": "#506784",
            "showbackground": true,
            "ticks": "",
            "zerolinecolor": "#C8D4E3"
           },
           "zaxis": {
            "backgroundcolor": "rgb(17,17,17)",
            "gridcolor": "#506784",
            "gridwidth": 2,
            "linecolor": "#506784",
            "showbackground": true,
            "ticks": "",
            "zerolinecolor": "#C8D4E3"
           }
          },
          "shapedefaults": {
           "line": {
            "color": "#f2f5fa"
           }
          },
          "sliderdefaults": {
           "bgcolor": "#C8D4E3",
           "bordercolor": "rgb(17,17,17)",
           "borderwidth": 1,
           "tickwidth": 0
          },
          "ternary": {
           "aaxis": {
            "gridcolor": "#506784",
            "linecolor": "#506784",
            "ticks": ""
           },
           "baxis": {
            "gridcolor": "#506784",
            "linecolor": "#506784",
            "ticks": ""
           },
           "bgcolor": "rgb(17,17,17)",
           "caxis": {
            "gridcolor": "#506784",
            "linecolor": "#506784",
            "ticks": ""
           }
          },
          "title": {
           "x": 0.05
          },
          "updatemenudefaults": {
           "bgcolor": "#506784",
           "borderwidth": 0
          },
          "xaxis": {
           "automargin": true,
           "gridcolor": "#283442",
           "linecolor": "#506784",
           "ticks": "",
           "title": {
            "standoff": 15
           },
           "zerolinecolor": "#283442",
           "zerolinewidth": 2
          },
          "yaxis": {
           "automargin": true,
           "gridcolor": "#283442",
           "linecolor": "#506784",
           "ticks": "",
           "title": {
            "standoff": 15
           },
           "zerolinecolor": "#283442",
           "zerolinewidth": 2
          }
         }
        },
        "title": {
         "text": "Top Drivers per Year"
        },
        "xaxis": {
         "anchor": "y",
         "domain": [
          0,
          1
         ],
         "title": {
          "text": "count"
         }
        },
        "yaxis": {
         "anchor": "x",
         "domain": [
          0,
          1
         ],
         "title": {
          "text": "year"
         }
        }
       }
      },
      "text/html": [
       "<div>                            <div id=\"c9f2fa27-eb83-48bf-8f0b-3802cbc9db1a\" class=\"plotly-graph-div\" style=\"height:525px; width:100%;\"></div>            <script type=\"text/javascript\">                require([\"plotly\"], function(Plotly) {                    window.PLOTLYENV=window.PLOTLYENV || {};                                    if (document.getElementById(\"c9f2fa27-eb83-48bf-8f0b-3802cbc9db1a\")) {                    Plotly.newPlot(                        \"c9f2fa27-eb83-48bf-8f0b-3802cbc9db1a\",                        [{\"alignmentgroup\":\"True\",\"bingroup\":\"y\",\"histfunc\":\"count\",\"hovertemplate\":\"driver_name=Lewis Hamilton<br>count=%{x}<br>year=%{y}<extra></extra>\",\"legendgroup\":\"Lewis Hamilton\",\"marker\":{\"color\":\"#636efa\",\"pattern\":{\"shape\":\"\"}},\"name\":\"Lewis Hamilton\",\"offsetgroup\":\"Lewis Hamilton\",\"orientation\":\"h\",\"showlegend\":true,\"x\":[1,2,3,3,3,4,1,4,5,5,6,7,7,8,10,10,10,9,10,5,6,6,6,6,7,7,8,9,9,9,9,1,2,2,3,4,5,5,6,7,8,9,9,9,10,11,2,3,4,5,6,6,7,7,8,8,8,8,9,9,10,10,10,11,2,3,3,4,5,5,6,6,7,8,9,10,11,11,11,1,1,2,3,4,4,5],\"xaxis\":\"x\",\"y\":[2015,2015,2015,2015,2015,2015,2015,2015,2015,2015,2015,2015,2015,2015,2015,2015,2015,2015,2015,2016,2016,2016,2016,2017,2017,2017,2017,2017,2017,2017,2017,2018,2018,2018,2018,2018,2018,2018,2018,2018,2018,2018,2018,2018,2018,2018,2019,2019,2019,2019,2019,2019,2019,2019,2019,2019,2019,2019,2019,2019,2019,2019,2019,2019,2020,2020,2020,2020,2020,2020,2020,2020,2020,2020,2020,2020,2020,2020,2020,2021,2021,2021,2021,2021,2021,2021],\"yaxis\":\"y\",\"type\":\"histogram\"},{\"alignmentgroup\":\"True\",\"bingroup\":\"y\",\"histfunc\":\"count\",\"hovertemplate\":\"driver_name=Nico Rosberg<br>count=%{x}<br>year=%{y}<extra></extra>\",\"legendgroup\":\"Nico Rosberg\",\"marker\":{\"color\":\"#EF553B\",\"pattern\":{\"shape\":\"\"}},\"name\":\"Nico Rosberg\",\"offsetgroup\":\"Nico Rosberg\",\"orientation\":\"h\",\"showlegend\":true,\"x\":[2,3,4,4,4,4,5,5,5,8,8,9,9,9,1,9,9],\"xaxis\":\"x\",\"y\":[2016,2016,2016,2016,2016,2016,2016,2016,2016,2016,2016,2016,2016,2016,2016,2016,2016],\"yaxis\":\"y\",\"type\":\"histogram\"},{\"alignmentgroup\":\"True\",\"bingroup\":\"y\",\"histfunc\":\"count\",\"hovertemplate\":\"driver_name=Sebastian Vettel<br>count=%{x}<br>year=%{y}<extra></extra>\",\"legendgroup\":\"Sebastian Vettel\",\"marker\":{\"color\":\"#00cc96\",\"pattern\":{\"shape\":\"\"}},\"name\":\"Sebastian Vettel\",\"offsetgroup\":\"Sebastian Vettel\",\"orientation\":\"h\",\"showlegend\":true,\"x\":[1,1,2,2,2,3,3,3,3,3,4,4,1,2,2,3,3,4],\"xaxis\":\"x\",\"y\":[2017,2017,2017,2017,2017,2017,2017,2017,2017,2017,2017,2017,2018,2018,2018,2018,2018,2018],\"yaxis\":\"y\",\"type\":\"histogram\"},{\"alignmentgroup\":\"True\",\"bingroup\":\"y\",\"histfunc\":\"count\",\"hovertemplate\":\"driver_name=Valtteri Bottas<br>count=%{x}<br>year=%{y}<extra></extra>\",\"legendgroup\":\"Valtteri Bottas\",\"marker\":{\"color\":\"#ab63fa\",\"pattern\":{\"shape\":\"\"}},\"name\":\"Valtteri Bottas\",\"offsetgroup\":\"Valtteri Bottas\",\"orientation\":\"h\",\"showlegend\":true,\"x\":[1,2,1,1,1],\"xaxis\":\"x\",\"y\":[2019,2019,2019,2020,2020],\"yaxis\":\"y\",\"type\":\"histogram\"},{\"alignmentgroup\":\"True\",\"bingroup\":\"y\",\"histfunc\":\"count\",\"hovertemplate\":\"driver_name=Max Verstappen<br>count=%{x}<br>year=%{y}<extra></extra>\",\"legendgroup\":\"Max Verstappen\",\"marker\":{\"color\":\"#FFA15A\",\"pattern\":{\"shape\":\"\"}},\"name\":\"Max Verstappen\",\"offsetgroup\":\"Max Verstappen\",\"orientation\":\"h\",\"showlegend\":true,\"x\":[2,2,3,4,5,5,7,7,7,8,9,9,9,9,10],\"xaxis\":\"x\",\"y\":[2021,2021,2021,2021,2021,2021,2021,2021,2021,2021,2021,2021,2021,2021,2021],\"yaxis\":\"y\",\"type\":\"histogram\"}],                        {\"template\":{\"data\":{\"barpolar\":[{\"marker\":{\"line\":{\"color\":\"rgb(17,17,17)\",\"width\":0.5},\"pattern\":{\"fillmode\":\"overlay\",\"size\":10,\"solidity\":0.2}},\"type\":\"barpolar\"}],\"bar\":[{\"error_x\":{\"color\":\"#f2f5fa\"},\"error_y\":{\"color\":\"#f2f5fa\"},\"marker\":{\"line\":{\"color\":\"rgb(17,17,17)\",\"width\":0.5},\"pattern\":{\"fillmode\":\"overlay\",\"size\":10,\"solidity\":0.2}},\"type\":\"bar\"}],\"carpet\":[{\"aaxis\":{\"endlinecolor\":\"#A2B1C6\",\"gridcolor\":\"#506784\",\"linecolor\":\"#506784\",\"minorgridcolor\":\"#506784\",\"startlinecolor\":\"#A2B1C6\"},\"baxis\":{\"endlinecolor\":\"#A2B1C6\",\"gridcolor\":\"#506784\",\"linecolor\":\"#506784\",\"minorgridcolor\":\"#506784\",\"startlinecolor\":\"#A2B1C6\"},\"type\":\"carpet\"}],\"choropleth\":[{\"colorbar\":{\"outlinewidth\":0,\"ticks\":\"\"},\"type\":\"choropleth\"}],\"contourcarpet\":[{\"colorbar\":{\"outlinewidth\":0,\"ticks\":\"\"},\"type\":\"contourcarpet\"}],\"contour\":[{\"colorbar\":{\"outlinewidth\":0,\"ticks\":\"\"},\"colorscale\":[[0.0,\"#0d0887\"],[0.1111111111111111,\"#46039f\"],[0.2222222222222222,\"#7201a8\"],[0.3333333333333333,\"#9c179e\"],[0.4444444444444444,\"#bd3786\"],[0.5555555555555556,\"#d8576b\"],[0.6666666666666666,\"#ed7953\"],[0.7777777777777778,\"#fb9f3a\"],[0.8888888888888888,\"#fdca26\"],[1.0,\"#f0f921\"]],\"type\":\"contour\"}],\"heatmapgl\":[{\"colorbar\":{\"outlinewidth\":0,\"ticks\":\"\"},\"colorscale\":[[0.0,\"#0d0887\"],[0.1111111111111111,\"#46039f\"],[0.2222222222222222,\"#7201a8\"],[0.3333333333333333,\"#9c179e\"],[0.4444444444444444,\"#bd3786\"],[0.5555555555555556,\"#d8576b\"],[0.6666666666666666,\"#ed7953\"],[0.7777777777777778,\"#fb9f3a\"],[0.8888888888888888,\"#fdca26\"],[1.0,\"#f0f921\"]],\"type\":\"heatmapgl\"}],\"heatmap\":[{\"colorbar\":{\"outlinewidth\":0,\"ticks\":\"\"},\"colorscale\":[[0.0,\"#0d0887\"],[0.1111111111111111,\"#46039f\"],[0.2222222222222222,\"#7201a8\"],[0.3333333333333333,\"#9c179e\"],[0.4444444444444444,\"#bd3786\"],[0.5555555555555556,\"#d8576b\"],[0.6666666666666666,\"#ed7953\"],[0.7777777777777778,\"#fb9f3a\"],[0.8888888888888888,\"#fdca26\"],[1.0,\"#f0f921\"]],\"type\":\"heatmap\"}],\"histogram2dcontour\":[{\"colorbar\":{\"outlinewidth\":0,\"ticks\":\"\"},\"colorscale\":[[0.0,\"#0d0887\"],[0.1111111111111111,\"#46039f\"],[0.2222222222222222,\"#7201a8\"],[0.3333333333333333,\"#9c179e\"],[0.4444444444444444,\"#bd3786\"],[0.5555555555555556,\"#d8576b\"],[0.6666666666666666,\"#ed7953\"],[0.7777777777777778,\"#fb9f3a\"],[0.8888888888888888,\"#fdca26\"],[1.0,\"#f0f921\"]],\"type\":\"histogram2dcontour\"}],\"histogram2d\":[{\"colorbar\":{\"outlinewidth\":0,\"ticks\":\"\"},\"colorscale\":[[0.0,\"#0d0887\"],[0.1111111111111111,\"#46039f\"],[0.2222222222222222,\"#7201a8\"],[0.3333333333333333,\"#9c179e\"],[0.4444444444444444,\"#bd3786\"],[0.5555555555555556,\"#d8576b\"],[0.6666666666666666,\"#ed7953\"],[0.7777777777777778,\"#fb9f3a\"],[0.8888888888888888,\"#fdca26\"],[1.0,\"#f0f921\"]],\"type\":\"histogram2d\"}],\"histogram\":[{\"marker\":{\"pattern\":{\"fillmode\":\"overlay\",\"size\":10,\"solidity\":0.2}},\"type\":\"histogram\"}],\"mesh3d\":[{\"colorbar\":{\"outlinewidth\":0,\"ticks\":\"\"},\"type\":\"mesh3d\"}],\"parcoords\":[{\"line\":{\"colorbar\":{\"outlinewidth\":0,\"ticks\":\"\"}},\"type\":\"parcoords\"}],\"pie\":[{\"automargin\":true,\"type\":\"pie\"}],\"scatter3d\":[{\"line\":{\"colorbar\":{\"outlinewidth\":0,\"ticks\":\"\"}},\"marker\":{\"colorbar\":{\"outlinewidth\":0,\"ticks\":\"\"}},\"type\":\"scatter3d\"}],\"scattercarpet\":[{\"marker\":{\"colorbar\":{\"outlinewidth\":0,\"ticks\":\"\"}},\"type\":\"scattercarpet\"}],\"scattergeo\":[{\"marker\":{\"colorbar\":{\"outlinewidth\":0,\"ticks\":\"\"}},\"type\":\"scattergeo\"}],\"scattergl\":[{\"marker\":{\"line\":{\"color\":\"#283442\"}},\"type\":\"scattergl\"}],\"scattermapbox\":[{\"marker\":{\"colorbar\":{\"outlinewidth\":0,\"ticks\":\"\"}},\"type\":\"scattermapbox\"}],\"scatterpolargl\":[{\"marker\":{\"colorbar\":{\"outlinewidth\":0,\"ticks\":\"\"}},\"type\":\"scatterpolargl\"}],\"scatterpolar\":[{\"marker\":{\"colorbar\":{\"outlinewidth\":0,\"ticks\":\"\"}},\"type\":\"scatterpolar\"}],\"scatter\":[{\"marker\":{\"line\":{\"color\":\"#283442\"}},\"type\":\"scatter\"}],\"scatterternary\":[{\"marker\":{\"colorbar\":{\"outlinewidth\":0,\"ticks\":\"\"}},\"type\":\"scatterternary\"}],\"surface\":[{\"colorbar\":{\"outlinewidth\":0,\"ticks\":\"\"},\"colorscale\":[[0.0,\"#0d0887\"],[0.1111111111111111,\"#46039f\"],[0.2222222222222222,\"#7201a8\"],[0.3333333333333333,\"#9c179e\"],[0.4444444444444444,\"#bd3786\"],[0.5555555555555556,\"#d8576b\"],[0.6666666666666666,\"#ed7953\"],[0.7777777777777778,\"#fb9f3a\"],[0.8888888888888888,\"#fdca26\"],[1.0,\"#f0f921\"]],\"type\":\"surface\"}],\"table\":[{\"cells\":{\"fill\":{\"color\":\"#506784\"},\"line\":{\"color\":\"rgb(17,17,17)\"}},\"header\":{\"fill\":{\"color\":\"#2a3f5f\"},\"line\":{\"color\":\"rgb(17,17,17)\"}},\"type\":\"table\"}]},\"layout\":{\"annotationdefaults\":{\"arrowcolor\":\"#f2f5fa\",\"arrowhead\":0,\"arrowwidth\":1},\"autotypenumbers\":\"strict\",\"coloraxis\":{\"colorbar\":{\"outlinewidth\":0,\"ticks\":\"\"}},\"colorscale\":{\"diverging\":[[0,\"#8e0152\"],[0.1,\"#c51b7d\"],[0.2,\"#de77ae\"],[0.3,\"#f1b6da\"],[0.4,\"#fde0ef\"],[0.5,\"#f7f7f7\"],[0.6,\"#e6f5d0\"],[0.7,\"#b8e186\"],[0.8,\"#7fbc41\"],[0.9,\"#4d9221\"],[1,\"#276419\"]],\"sequential\":[[0.0,\"#0d0887\"],[0.1111111111111111,\"#46039f\"],[0.2222222222222222,\"#7201a8\"],[0.3333333333333333,\"#9c179e\"],[0.4444444444444444,\"#bd3786\"],[0.5555555555555556,\"#d8576b\"],[0.6666666666666666,\"#ed7953\"],[0.7777777777777778,\"#fb9f3a\"],[0.8888888888888888,\"#fdca26\"],[1.0,\"#f0f921\"]],\"sequentialminus\":[[0.0,\"#0d0887\"],[0.1111111111111111,\"#46039f\"],[0.2222222222222222,\"#7201a8\"],[0.3333333333333333,\"#9c179e\"],[0.4444444444444444,\"#bd3786\"],[0.5555555555555556,\"#d8576b\"],[0.6666666666666666,\"#ed7953\"],[0.7777777777777778,\"#fb9f3a\"],[0.8888888888888888,\"#fdca26\"],[1.0,\"#f0f921\"]]},\"colorway\":[\"#636efa\",\"#EF553B\",\"#00cc96\",\"#ab63fa\",\"#FFA15A\",\"#19d3f3\",\"#FF6692\",\"#B6E880\",\"#FF97FF\",\"#FECB52\"],\"font\":{\"color\":\"#f2f5fa\"},\"geo\":{\"bgcolor\":\"rgb(17,17,17)\",\"lakecolor\":\"rgb(17,17,17)\",\"landcolor\":\"rgb(17,17,17)\",\"showlakes\":true,\"showland\":true,\"subunitcolor\":\"#506784\"},\"hoverlabel\":{\"align\":\"left\"},\"hovermode\":\"closest\",\"mapbox\":{\"style\":\"dark\"},\"paper_bgcolor\":\"rgb(17,17,17)\",\"plot_bgcolor\":\"rgb(17,17,17)\",\"polar\":{\"angularaxis\":{\"gridcolor\":\"#506784\",\"linecolor\":\"#506784\",\"ticks\":\"\"},\"bgcolor\":\"rgb(17,17,17)\",\"radialaxis\":{\"gridcolor\":\"#506784\",\"linecolor\":\"#506784\",\"ticks\":\"\"}},\"scene\":{\"xaxis\":{\"backgroundcolor\":\"rgb(17,17,17)\",\"gridcolor\":\"#506784\",\"gridwidth\":2,\"linecolor\":\"#506784\",\"showbackground\":true,\"ticks\":\"\",\"zerolinecolor\":\"#C8D4E3\"},\"yaxis\":{\"backgroundcolor\":\"rgb(17,17,17)\",\"gridcolor\":\"#506784\",\"gridwidth\":2,\"linecolor\":\"#506784\",\"showbackground\":true,\"ticks\":\"\",\"zerolinecolor\":\"#C8D4E3\"},\"zaxis\":{\"backgroundcolor\":\"rgb(17,17,17)\",\"gridcolor\":\"#506784\",\"gridwidth\":2,\"linecolor\":\"#506784\",\"showbackground\":true,\"ticks\":\"\",\"zerolinecolor\":\"#C8D4E3\"}},\"shapedefaults\":{\"line\":{\"color\":\"#f2f5fa\"}},\"sliderdefaults\":{\"bgcolor\":\"#C8D4E3\",\"bordercolor\":\"rgb(17,17,17)\",\"borderwidth\":1,\"tickwidth\":0},\"ternary\":{\"aaxis\":{\"gridcolor\":\"#506784\",\"linecolor\":\"#506784\",\"ticks\":\"\"},\"baxis\":{\"gridcolor\":\"#506784\",\"linecolor\":\"#506784\",\"ticks\":\"\"},\"bgcolor\":\"rgb(17,17,17)\",\"caxis\":{\"gridcolor\":\"#506784\",\"linecolor\":\"#506784\",\"ticks\":\"\"}},\"title\":{\"x\":0.05},\"updatemenudefaults\":{\"bgcolor\":\"#506784\",\"borderwidth\":0},\"xaxis\":{\"automargin\":true,\"gridcolor\":\"#283442\",\"linecolor\":\"#506784\",\"ticks\":\"\",\"title\":{\"standoff\":15},\"zerolinecolor\":\"#283442\",\"zerolinewidth\":2},\"yaxis\":{\"automargin\":true,\"gridcolor\":\"#283442\",\"linecolor\":\"#506784\",\"ticks\":\"\",\"title\":{\"standoff\":15},\"zerolinecolor\":\"#283442\",\"zerolinewidth\":2}}},\"xaxis\":{\"anchor\":\"y\",\"domain\":[0.0,1.0],\"title\":{\"text\":\"count\"}},\"yaxis\":{\"anchor\":\"x\",\"domain\":[0.0,1.0],\"title\":{\"text\":\"year\"}},\"legend\":{\"title\":{\"text\":\"driver_name\"},\"tracegroupgap\":0},\"title\":{\"text\":\"Top Drivers per Year\"},\"barmode\":\"group\"},                        {\"responsive\": true}                    ).then(function(){\n",
       "                            \n",
       "var gd = document.getElementById('c9f2fa27-eb83-48bf-8f0b-3802cbc9db1a');\n",
       "var x = new MutationObserver(function (mutations, observer) {{\n",
       "        var display = window.getComputedStyle(gd).display;\n",
       "        if (!display || display === 'none') {{\n",
       "            console.log([gd, 'removed!']);\n",
       "            Plotly.purge(gd);\n",
       "            observer.disconnect();\n",
       "        }}\n",
       "}});\n",
       "\n",
       "// Listen for the removal of the full notebook cells\n",
       "var notebookContainer = gd.closest('#notebook-container');\n",
       "if (notebookContainer) {{\n",
       "    x.observe(notebookContainer, {childList: true});\n",
       "}}\n",
       "\n",
       "// Listen for the clearing of the current output cell\n",
       "var outputEl = gd.closest('.output');\n",
       "if (outputEl) {{\n",
       "    x.observe(outputEl, {childList: true});\n",
       "}}\n",
       "\n",
       "                        })                };                });            </script>        </div>"
      ]
     },
     "metadata": {},
     "output_type": "display_data"
    }
   ],
   "source": [
    "fig2 = px.histogram(pilotos_wins, x=\"wins\", y=\"year\", title='Top Drivers per Year',\n",
    "             color='driver_name', barmode='group',\n",
    "             histfunc='count',\n",
    "             orientation = 'h')\n",
    "fig2.layout.template = 'plotly_dark'\n",
    "\n",
    "fig2.show()"
   ]
  },
  {
   "cell_type": "code",
   "execution_count": 113,
   "id": "48b8b499",
   "metadata": {},
   "outputs": [],
   "source": [
    "#top_driver = fig2\n",
    "#py.plot(top_driver, filename = 'top_driver', auto_open = False)"
   ]
  },
  {
   "cell_type": "markdown",
   "id": "d4d50dbb",
   "metadata": {},
   "source": [
    "**17.** Import the other datasets, which were obtained by scrapping the data from the web"
   ]
  },
  {
   "cell_type": "code",
   "execution_count": 114,
   "id": "e02dc1de",
   "metadata": {
    "scrolled": true
   },
   "outputs": [
    {
     "data": {
      "text/html": [
       "<div>\n",
       "<style scoped>\n",
       "    .dataframe tbody tr th:only-of-type {\n",
       "        vertical-align: middle;\n",
       "    }\n",
       "\n",
       "    .dataframe tbody tr th {\n",
       "        vertical-align: top;\n",
       "    }\n",
       "\n",
       "    .dataframe thead th {\n",
       "        text-align: right;\n",
       "    }\n",
       "</style>\n",
       "<table border=\"1\" class=\"dataframe\">\n",
       "  <thead>\n",
       "    <tr style=\"text-align: right;\">\n",
       "      <th></th>\n",
       "      <th>season</th>\n",
       "      <th>circuit_id</th>\n",
       "      <th>lat</th>\n",
       "      <th>long</th>\n",
       "      <th>country</th>\n",
       "    </tr>\n",
       "  </thead>\n",
       "  <tbody>\n",
       "    <tr>\n",
       "      <th>0</th>\n",
       "      <td>2015</td>\n",
       "      <td>albert_park</td>\n",
       "      <td>-37.84970</td>\n",
       "      <td>144.96800</td>\n",
       "      <td>Australia</td>\n",
       "    </tr>\n",
       "    <tr>\n",
       "      <th>1</th>\n",
       "      <td>2015</td>\n",
       "      <td>sepang</td>\n",
       "      <td>2.76083</td>\n",
       "      <td>101.73800</td>\n",
       "      <td>Malaysia</td>\n",
       "    </tr>\n",
       "    <tr>\n",
       "      <th>2</th>\n",
       "      <td>2015</td>\n",
       "      <td>shanghai</td>\n",
       "      <td>31.33890</td>\n",
       "      <td>121.22000</td>\n",
       "      <td>China</td>\n",
       "    </tr>\n",
       "    <tr>\n",
       "      <th>3</th>\n",
       "      <td>2015</td>\n",
       "      <td>bahrain</td>\n",
       "      <td>26.03250</td>\n",
       "      <td>50.51060</td>\n",
       "      <td>Bahrain</td>\n",
       "    </tr>\n",
       "    <tr>\n",
       "      <th>4</th>\n",
       "      <td>2015</td>\n",
       "      <td>catalunya</td>\n",
       "      <td>41.57000</td>\n",
       "      <td>2.26111</td>\n",
       "      <td>Spain</td>\n",
       "    </tr>\n",
       "    <tr>\n",
       "      <th>...</th>\n",
       "      <td>...</td>\n",
       "      <td>...</td>\n",
       "      <td>...</td>\n",
       "      <td>...</td>\n",
       "      <td>...</td>\n",
       "    </tr>\n",
       "    <tr>\n",
       "      <th>114</th>\n",
       "      <td>2020</td>\n",
       "      <td>imola</td>\n",
       "      <td>44.34390</td>\n",
       "      <td>11.71670</td>\n",
       "      <td>Italy</td>\n",
       "    </tr>\n",
       "    <tr>\n",
       "      <th>115</th>\n",
       "      <td>2020</td>\n",
       "      <td>istanbul</td>\n",
       "      <td>40.95170</td>\n",
       "      <td>29.40500</td>\n",
       "      <td>Turkey</td>\n",
       "    </tr>\n",
       "    <tr>\n",
       "      <th>116</th>\n",
       "      <td>2020</td>\n",
       "      <td>bahrain</td>\n",
       "      <td>26.03250</td>\n",
       "      <td>50.51060</td>\n",
       "      <td>Bahrain</td>\n",
       "    </tr>\n",
       "    <tr>\n",
       "      <th>117</th>\n",
       "      <td>2020</td>\n",
       "      <td>bahrain</td>\n",
       "      <td>26.03250</td>\n",
       "      <td>50.51060</td>\n",
       "      <td>Bahrain</td>\n",
       "    </tr>\n",
       "    <tr>\n",
       "      <th>118</th>\n",
       "      <td>2020</td>\n",
       "      <td>yas_marina</td>\n",
       "      <td>24.46720</td>\n",
       "      <td>54.60310</td>\n",
       "      <td>UAE</td>\n",
       "    </tr>\n",
       "  </tbody>\n",
       "</table>\n",
       "<p>119 rows × 5 columns</p>\n",
       "</div>"
      ],
      "text/plain": [
       "     season   circuit_id       lat       long    country\n",
       "0      2015  albert_park -37.84970  144.96800  Australia\n",
       "1      2015       sepang   2.76083  101.73800   Malaysia\n",
       "2      2015     shanghai  31.33890  121.22000      China\n",
       "3      2015      bahrain  26.03250   50.51060    Bahrain\n",
       "4      2015    catalunya  41.57000    2.26111      Spain\n",
       "..      ...          ...       ...        ...        ...\n",
       "114    2020        imola  44.34390   11.71670      Italy\n",
       "115    2020     istanbul  40.95170   29.40500     Turkey\n",
       "116    2020      bahrain  26.03250   50.51060    Bahrain\n",
       "117    2020      bahrain  26.03250   50.51060    Bahrain\n",
       "118    2020   yas_marina  24.46720   54.60310        UAE\n",
       "\n",
       "[119 rows x 5 columns]"
      ]
     },
     "execution_count": 114,
     "metadata": {},
     "output_type": "execute_result"
    }
   ],
   "source": [
    "circuits = pd.read_excel('f1_circuits_2015_2021.xlsx')\n",
    "circuits"
   ]
  },
  {
   "cell_type": "code",
   "execution_count": 115,
   "id": "c7b4ca82",
   "metadata": {
    "scrolled": true
   },
   "outputs": [
    {
     "data": {
      "text/html": [
       "<div>\n",
       "<style scoped>\n",
       "    .dataframe tbody tr th:only-of-type {\n",
       "        vertical-align: middle;\n",
       "    }\n",
       "\n",
       "    .dataframe tbody tr th {\n",
       "        vertical-align: top;\n",
       "    }\n",
       "\n",
       "    .dataframe thead th {\n",
       "        text-align: right;\n",
       "    }\n",
       "</style>\n",
       "<table border=\"1\" class=\"dataframe\">\n",
       "  <thead>\n",
       "    <tr style=\"text-align: right;\">\n",
       "      <th></th>\n",
       "      <th>DRIVER_ID</th>\n",
       "      <th>DRIVER</th>\n",
       "      <th>DRIVER_REF</th>\n",
       "      <th>DRIVER_CODE</th>\n",
       "      <th>DOB</th>\n",
       "      <th>NATIONALITY</th>\n",
       "    </tr>\n",
       "  </thead>\n",
       "  <tbody>\n",
       "    <tr>\n",
       "      <th>0</th>\n",
       "      <td>1</td>\n",
       "      <td>Lewis Hamilton</td>\n",
       "      <td>hamilton</td>\n",
       "      <td>HAM</td>\n",
       "      <td>1985-01-07</td>\n",
       "      <td>British</td>\n",
       "    </tr>\n",
       "    <tr>\n",
       "      <th>1</th>\n",
       "      <td>3</td>\n",
       "      <td>Nico Rosberg</td>\n",
       "      <td>rosberg</td>\n",
       "      <td>ROS</td>\n",
       "      <td>1985-06-27</td>\n",
       "      <td>German</td>\n",
       "    </tr>\n",
       "    <tr>\n",
       "      <th>2</th>\n",
       "      <td>4</td>\n",
       "      <td>Fernando Alonso</td>\n",
       "      <td>alonso</td>\n",
       "      <td>ALO</td>\n",
       "      <td>1981-07-29</td>\n",
       "      <td>Spanish</td>\n",
       "    </tr>\n",
       "    <tr>\n",
       "      <th>3</th>\n",
       "      <td>8</td>\n",
       "      <td>Kimi Raikkonen</td>\n",
       "      <td>raikkonen</td>\n",
       "      <td>RAI</td>\n",
       "      <td>1979-10-17</td>\n",
       "      <td>Finnish</td>\n",
       "    </tr>\n",
       "    <tr>\n",
       "      <th>4</th>\n",
       "      <td>9</td>\n",
       "      <td>Robert Kubica</td>\n",
       "      <td>kubica</td>\n",
       "      <td>KUB</td>\n",
       "      <td>1984-12-07</td>\n",
       "      <td>Polish</td>\n",
       "    </tr>\n",
       "    <tr>\n",
       "      <th>5</th>\n",
       "      <td>13</td>\n",
       "      <td>Felipe Massa</td>\n",
       "      <td>massa</td>\n",
       "      <td>MAS</td>\n",
       "      <td>1981-04-25</td>\n",
       "      <td>Brazilian</td>\n",
       "    </tr>\n",
       "    <tr>\n",
       "      <th>6</th>\n",
       "      <td>16</td>\n",
       "      <td>Adrian Sutil</td>\n",
       "      <td>sutil</td>\n",
       "      <td>SUT</td>\n",
       "      <td>1983-01-11</td>\n",
       "      <td>German</td>\n",
       "    </tr>\n",
       "    <tr>\n",
       "      <th>7</th>\n",
       "      <td>18</td>\n",
       "      <td>Jenson Button</td>\n",
       "      <td>button</td>\n",
       "      <td>BUT</td>\n",
       "      <td>1980-01-19</td>\n",
       "      <td>British</td>\n",
       "    </tr>\n",
       "    <tr>\n",
       "      <th>8</th>\n",
       "      <td>20</td>\n",
       "      <td>Sebastian Vettel</td>\n",
       "      <td>vettel</td>\n",
       "      <td>VET</td>\n",
       "      <td>1987-07-03</td>\n",
       "      <td>German</td>\n",
       "    </tr>\n",
       "    <tr>\n",
       "      <th>9</th>\n",
       "      <td>154</td>\n",
       "      <td>Romain Grosjean</td>\n",
       "      <td>grosjean</td>\n",
       "      <td>GRO</td>\n",
       "      <td>1986-04-17</td>\n",
       "      <td>French</td>\n",
       "    </tr>\n",
       "    <tr>\n",
       "      <th>10</th>\n",
       "      <td>155</td>\n",
       "      <td>Kamui Kobayashi</td>\n",
       "      <td>kobayashi</td>\n",
       "      <td>KOB</td>\n",
       "      <td>1986-09-13</td>\n",
       "      <td>Japanese</td>\n",
       "    </tr>\n",
       "    <tr>\n",
       "      <th>11</th>\n",
       "      <td>807</td>\n",
       "      <td>Nico Hulkenberg</td>\n",
       "      <td>hulkenberg</td>\n",
       "      <td>HUL</td>\n",
       "      <td>1987-08-19</td>\n",
       "      <td>German</td>\n",
       "    </tr>\n",
       "    <tr>\n",
       "      <th>12</th>\n",
       "      <td>813</td>\n",
       "      <td>Pastor Maldonado</td>\n",
       "      <td>maldonado</td>\n",
       "      <td>MAL</td>\n",
       "      <td>1985-03-09</td>\n",
       "      <td>Venezuelan</td>\n",
       "    </tr>\n",
       "    <tr>\n",
       "      <th>13</th>\n",
       "      <td>815</td>\n",
       "      <td>Sergio Perez</td>\n",
       "      <td>perez</td>\n",
       "      <td>PER</td>\n",
       "      <td>1990-01-26</td>\n",
       "      <td>Mexican</td>\n",
       "    </tr>\n",
       "    <tr>\n",
       "      <th>14</th>\n",
       "      <td>817</td>\n",
       "      <td>Daniel Ricciardo</td>\n",
       "      <td>ricciardo</td>\n",
       "      <td>RIC</td>\n",
       "      <td>1989-07-01</td>\n",
       "      <td>Australian</td>\n",
       "    </tr>\n",
       "    <tr>\n",
       "      <th>15</th>\n",
       "      <td>818</td>\n",
       "      <td>Jean-Eric Vergne</td>\n",
       "      <td>vergne</td>\n",
       "      <td>VER</td>\n",
       "      <td>1990-04-25</td>\n",
       "      <td>French</td>\n",
       "    </tr>\n",
       "    <tr>\n",
       "      <th>16</th>\n",
       "      <td>820</td>\n",
       "      <td>Max Chilton</td>\n",
       "      <td>chilton</td>\n",
       "      <td>CHI</td>\n",
       "      <td>1991-04-21</td>\n",
       "      <td>British</td>\n",
       "    </tr>\n",
       "    <tr>\n",
       "      <th>17</th>\n",
       "      <td>821</td>\n",
       "      <td>Esteban Gutierrez</td>\n",
       "      <td>gutierrez</td>\n",
       "      <td>GUT</td>\n",
       "      <td>1991-08-05</td>\n",
       "      <td>Mexican</td>\n",
       "    </tr>\n",
       "    <tr>\n",
       "      <th>18</th>\n",
       "      <td>822</td>\n",
       "      <td>Valtteri Bottas</td>\n",
       "      <td>bottas</td>\n",
       "      <td>BOT</td>\n",
       "      <td>1989-08-28</td>\n",
       "      <td>Finnish</td>\n",
       "    </tr>\n",
       "    <tr>\n",
       "      <th>19</th>\n",
       "      <td>824</td>\n",
       "      <td>Jules Bianchi</td>\n",
       "      <td>jules_bianchi</td>\n",
       "      <td>BIA</td>\n",
       "      <td>1989-08-03</td>\n",
       "      <td>French</td>\n",
       "    </tr>\n",
       "    <tr>\n",
       "      <th>20</th>\n",
       "      <td>825</td>\n",
       "      <td>Kevin Magnussen</td>\n",
       "      <td>kevin_magnussen</td>\n",
       "      <td>MAG</td>\n",
       "      <td>1992-10-05</td>\n",
       "      <td>Danish</td>\n",
       "    </tr>\n",
       "    <tr>\n",
       "      <th>21</th>\n",
       "      <td>826</td>\n",
       "      <td>Daniil Kvyat</td>\n",
       "      <td>kvyat</td>\n",
       "      <td>KVY</td>\n",
       "      <td>1994-04-26</td>\n",
       "      <td>Russian</td>\n",
       "    </tr>\n",
       "    <tr>\n",
       "      <th>22</th>\n",
       "      <td>827</td>\n",
       "      <td>André Lotterer</td>\n",
       "      <td>lotterer</td>\n",
       "      <td>LOT</td>\n",
       "      <td>1981-11-19</td>\n",
       "      <td>German</td>\n",
       "    </tr>\n",
       "    <tr>\n",
       "      <th>23</th>\n",
       "      <td>828</td>\n",
       "      <td>Marcus Ericsson</td>\n",
       "      <td>ericsson</td>\n",
       "      <td>ERI</td>\n",
       "      <td>1990-09-02</td>\n",
       "      <td>Swedish</td>\n",
       "    </tr>\n",
       "    <tr>\n",
       "      <th>24</th>\n",
       "      <td>829</td>\n",
       "      <td>Will Stevens</td>\n",
       "      <td>stevens</td>\n",
       "      <td>STE</td>\n",
       "      <td>1991-06-28</td>\n",
       "      <td>British</td>\n",
       "    </tr>\n",
       "    <tr>\n",
       "      <th>25</th>\n",
       "      <td>830</td>\n",
       "      <td>Max Verstappen</td>\n",
       "      <td>max_verstappen</td>\n",
       "      <td>VER</td>\n",
       "      <td>1997-09-30</td>\n",
       "      <td>Dutch</td>\n",
       "    </tr>\n",
       "    <tr>\n",
       "      <th>26</th>\n",
       "      <td>831</td>\n",
       "      <td>Felipe Nasr</td>\n",
       "      <td>nasr</td>\n",
       "      <td>NAS</td>\n",
       "      <td>1992-08-21</td>\n",
       "      <td>Brazilian</td>\n",
       "    </tr>\n",
       "    <tr>\n",
       "      <th>27</th>\n",
       "      <td>832</td>\n",
       "      <td>Carlos Sainz</td>\n",
       "      <td>sainz</td>\n",
       "      <td>SAI</td>\n",
       "      <td>1994-09-01</td>\n",
       "      <td>Spanish</td>\n",
       "    </tr>\n",
       "    <tr>\n",
       "      <th>28</th>\n",
       "      <td>833</td>\n",
       "      <td>Roberto Merhi</td>\n",
       "      <td>merhi</td>\n",
       "      <td>MER</td>\n",
       "      <td>1991-03-22</td>\n",
       "      <td>Spanish</td>\n",
       "    </tr>\n",
       "    <tr>\n",
       "      <th>29</th>\n",
       "      <td>834</td>\n",
       "      <td>Alexander Rossi</td>\n",
       "      <td>rossi</td>\n",
       "      <td>RSS</td>\n",
       "      <td>1991-09-25</td>\n",
       "      <td>American</td>\n",
       "    </tr>\n",
       "    <tr>\n",
       "      <th>30</th>\n",
       "      <td>835</td>\n",
       "      <td>Jolyon Palmer</td>\n",
       "      <td>jolyon_palmer</td>\n",
       "      <td>PAL</td>\n",
       "      <td>1991-01-20</td>\n",
       "      <td>British</td>\n",
       "    </tr>\n",
       "    <tr>\n",
       "      <th>31</th>\n",
       "      <td>836</td>\n",
       "      <td>Pascal Wehrlein</td>\n",
       "      <td>wehrlein</td>\n",
       "      <td>WEH</td>\n",
       "      <td>1994-10-18</td>\n",
       "      <td>German</td>\n",
       "    </tr>\n",
       "    <tr>\n",
       "      <th>32</th>\n",
       "      <td>837</td>\n",
       "      <td>Rio Haryanto</td>\n",
       "      <td>haryanto</td>\n",
       "      <td>HAR</td>\n",
       "      <td>1993-01-22</td>\n",
       "      <td>Indonesian</td>\n",
       "    </tr>\n",
       "    <tr>\n",
       "      <th>33</th>\n",
       "      <td>838</td>\n",
       "      <td>Stoffel Vandoorne</td>\n",
       "      <td>vandoorne</td>\n",
       "      <td>VAN</td>\n",
       "      <td>1992-03-26</td>\n",
       "      <td>Belgian</td>\n",
       "    </tr>\n",
       "    <tr>\n",
       "      <th>34</th>\n",
       "      <td>839</td>\n",
       "      <td>Esteban Ocon</td>\n",
       "      <td>ocon</td>\n",
       "      <td>OCO</td>\n",
       "      <td>1996-09-17</td>\n",
       "      <td>French</td>\n",
       "    </tr>\n",
       "    <tr>\n",
       "      <th>35</th>\n",
       "      <td>840</td>\n",
       "      <td>Lance Stroll</td>\n",
       "      <td>stroll</td>\n",
       "      <td>STR</td>\n",
       "      <td>1998-10-29</td>\n",
       "      <td>Canadian</td>\n",
       "    </tr>\n",
       "    <tr>\n",
       "      <th>36</th>\n",
       "      <td>841</td>\n",
       "      <td>Antonio Giovinazzi</td>\n",
       "      <td>giovinazzi</td>\n",
       "      <td>GIO</td>\n",
       "      <td>1993-12-14</td>\n",
       "      <td>Italian</td>\n",
       "    </tr>\n",
       "    <tr>\n",
       "      <th>37</th>\n",
       "      <td>842</td>\n",
       "      <td>Pierre Gasly</td>\n",
       "      <td>gasly</td>\n",
       "      <td>GAS</td>\n",
       "      <td>1996-02-07</td>\n",
       "      <td>French</td>\n",
       "    </tr>\n",
       "    <tr>\n",
       "      <th>38</th>\n",
       "      <td>843</td>\n",
       "      <td>Brendon Hartley</td>\n",
       "      <td>brendon_hartley</td>\n",
       "      <td>HAR</td>\n",
       "      <td>1989-11-10</td>\n",
       "      <td>New Zealander</td>\n",
       "    </tr>\n",
       "    <tr>\n",
       "      <th>39</th>\n",
       "      <td>844</td>\n",
       "      <td>Charles Leclerc</td>\n",
       "      <td>leclerc</td>\n",
       "      <td>LEC</td>\n",
       "      <td>1997-10-16</td>\n",
       "      <td>Monegasque</td>\n",
       "    </tr>\n",
       "    <tr>\n",
       "      <th>40</th>\n",
       "      <td>845</td>\n",
       "      <td>Sergey Sirotkin</td>\n",
       "      <td>sirotkin</td>\n",
       "      <td>SIR</td>\n",
       "      <td>1995-08-27</td>\n",
       "      <td>Russian</td>\n",
       "    </tr>\n",
       "    <tr>\n",
       "      <th>41</th>\n",
       "      <td>846</td>\n",
       "      <td>Lando Norris</td>\n",
       "      <td>norris</td>\n",
       "      <td>NOR</td>\n",
       "      <td>1999-11-13</td>\n",
       "      <td>British</td>\n",
       "    </tr>\n",
       "    <tr>\n",
       "      <th>42</th>\n",
       "      <td>847</td>\n",
       "      <td>George Russell</td>\n",
       "      <td>russell</td>\n",
       "      <td>RUS</td>\n",
       "      <td>1998-02-15</td>\n",
       "      <td>British</td>\n",
       "    </tr>\n",
       "    <tr>\n",
       "      <th>43</th>\n",
       "      <td>848</td>\n",
       "      <td>Alexander Albon</td>\n",
       "      <td>albon</td>\n",
       "      <td>ALB</td>\n",
       "      <td>1996-03-23</td>\n",
       "      <td>Thai</td>\n",
       "    </tr>\n",
       "    <tr>\n",
       "      <th>44</th>\n",
       "      <td>849</td>\n",
       "      <td>Nicholas Latifi</td>\n",
       "      <td>latifi</td>\n",
       "      <td>LAT</td>\n",
       "      <td>1995-06-29</td>\n",
       "      <td>Canadian</td>\n",
       "    </tr>\n",
       "    <tr>\n",
       "      <th>45</th>\n",
       "      <td>850</td>\n",
       "      <td>Pietro Fittipaldi</td>\n",
       "      <td>pietro_fittipaldi</td>\n",
       "      <td>FIT</td>\n",
       "      <td>1996-06-25</td>\n",
       "      <td>Brazilian</td>\n",
       "    </tr>\n",
       "    <tr>\n",
       "      <th>46</th>\n",
       "      <td>851</td>\n",
       "      <td>Jack Aitken</td>\n",
       "      <td>aitken</td>\n",
       "      <td>AIT</td>\n",
       "      <td>1995-09-23</td>\n",
       "      <td>British</td>\n",
       "    </tr>\n",
       "    <tr>\n",
       "      <th>47</th>\n",
       "      <td>852</td>\n",
       "      <td>Yuki Tsunoda</td>\n",
       "      <td>tsunoda</td>\n",
       "      <td>TSU</td>\n",
       "      <td>2000-05-11</td>\n",
       "      <td>Japanese</td>\n",
       "    </tr>\n",
       "    <tr>\n",
       "      <th>48</th>\n",
       "      <td>853</td>\n",
       "      <td>Nikita Mazepin</td>\n",
       "      <td>mazepin</td>\n",
       "      <td>MAZ</td>\n",
       "      <td>1999-03-02</td>\n",
       "      <td>Russian</td>\n",
       "    </tr>\n",
       "    <tr>\n",
       "      <th>49</th>\n",
       "      <td>854</td>\n",
       "      <td>Mick Schumacher</td>\n",
       "      <td>mick_schumacher</td>\n",
       "      <td>MSC</td>\n",
       "      <td>1999-03-22</td>\n",
       "      <td>German</td>\n",
       "    </tr>\n",
       "    <tr>\n",
       "      <th>50</th>\n",
       "      <td>855</td>\n",
       "      <td>Guanyu Zhou</td>\n",
       "      <td>zhou</td>\n",
       "      <td>ZHO</td>\n",
       "      <td>1999-05-30</td>\n",
       "      <td>Chinese</td>\n",
       "    </tr>\n",
       "  </tbody>\n",
       "</table>\n",
       "</div>"
      ],
      "text/plain": [
       "    DRIVER_ID              DRIVER         DRIVER_REF DRIVER_CODE        DOB  \\\n",
       "0           1      Lewis Hamilton           hamilton         HAM 1985-01-07   \n",
       "1           3        Nico Rosberg            rosberg         ROS 1985-06-27   \n",
       "2           4     Fernando Alonso             alonso         ALO 1981-07-29   \n",
       "3           8      Kimi Raikkonen          raikkonen         RAI 1979-10-17   \n",
       "4           9       Robert Kubica             kubica         KUB 1984-12-07   \n",
       "5          13        Felipe Massa              massa         MAS 1981-04-25   \n",
       "6          16        Adrian Sutil              sutil         SUT 1983-01-11   \n",
       "7          18       Jenson Button             button         BUT 1980-01-19   \n",
       "8          20    Sebastian Vettel             vettel         VET 1987-07-03   \n",
       "9         154     Romain Grosjean           grosjean         GRO 1986-04-17   \n",
       "10        155     Kamui Kobayashi          kobayashi         KOB 1986-09-13   \n",
       "11        807     Nico Hulkenberg         hulkenberg         HUL 1987-08-19   \n",
       "12        813    Pastor Maldonado          maldonado         MAL 1985-03-09   \n",
       "13        815        Sergio Perez              perez         PER 1990-01-26   \n",
       "14        817    Daniel Ricciardo          ricciardo         RIC 1989-07-01   \n",
       "15        818    Jean-Eric Vergne             vergne         VER 1990-04-25   \n",
       "16        820         Max Chilton            chilton         CHI 1991-04-21   \n",
       "17        821   Esteban Gutierrez          gutierrez         GUT 1991-08-05   \n",
       "18        822     Valtteri Bottas             bottas         BOT 1989-08-28   \n",
       "19        824       Jules Bianchi      jules_bianchi         BIA 1989-08-03   \n",
       "20        825     Kevin Magnussen    kevin_magnussen         MAG 1992-10-05   \n",
       "21        826        Daniil Kvyat              kvyat         KVY 1994-04-26   \n",
       "22        827      André Lotterer           lotterer         LOT 1981-11-19   \n",
       "23        828     Marcus Ericsson           ericsson         ERI 1990-09-02   \n",
       "24        829        Will Stevens            stevens         STE 1991-06-28   \n",
       "25        830      Max Verstappen     max_verstappen         VER 1997-09-30   \n",
       "26        831         Felipe Nasr               nasr         NAS 1992-08-21   \n",
       "27        832        Carlos Sainz              sainz         SAI 1994-09-01   \n",
       "28        833       Roberto Merhi              merhi         MER 1991-03-22   \n",
       "29        834     Alexander Rossi              rossi         RSS 1991-09-25   \n",
       "30        835       Jolyon Palmer      jolyon_palmer         PAL 1991-01-20   \n",
       "31        836     Pascal Wehrlein           wehrlein         WEH 1994-10-18   \n",
       "32        837        Rio Haryanto           haryanto         HAR 1993-01-22   \n",
       "33        838   Stoffel Vandoorne          vandoorne         VAN 1992-03-26   \n",
       "34        839        Esteban Ocon               ocon         OCO 1996-09-17   \n",
       "35        840        Lance Stroll             stroll         STR 1998-10-29   \n",
       "36        841  Antonio Giovinazzi         giovinazzi         GIO 1993-12-14   \n",
       "37        842        Pierre Gasly              gasly         GAS 1996-02-07   \n",
       "38        843     Brendon Hartley    brendon_hartley         HAR 1989-11-10   \n",
       "39        844     Charles Leclerc            leclerc         LEC 1997-10-16   \n",
       "40        845     Sergey Sirotkin           sirotkin         SIR 1995-08-27   \n",
       "41        846        Lando Norris             norris         NOR 1999-11-13   \n",
       "42        847      George Russell            russell         RUS 1998-02-15   \n",
       "43        848     Alexander Albon              albon         ALB 1996-03-23   \n",
       "44        849     Nicholas Latifi             latifi         LAT 1995-06-29   \n",
       "45        850   Pietro Fittipaldi  pietro_fittipaldi         FIT 1996-06-25   \n",
       "46        851         Jack Aitken             aitken         AIT 1995-09-23   \n",
       "47        852        Yuki Tsunoda            tsunoda         TSU 2000-05-11   \n",
       "48        853      Nikita Mazepin            mazepin         MAZ 1999-03-02   \n",
       "49        854     Mick Schumacher    mick_schumacher         MSC 1999-03-22   \n",
       "50        855         Guanyu Zhou               zhou         ZHO 1999-05-30   \n",
       "\n",
       "      NATIONALITY  \n",
       "0         British  \n",
       "1          German  \n",
       "2         Spanish  \n",
       "3         Finnish  \n",
       "4          Polish  \n",
       "5       Brazilian  \n",
       "6          German  \n",
       "7         British  \n",
       "8          German  \n",
       "9          French  \n",
       "10       Japanese  \n",
       "11         German  \n",
       "12     Venezuelan  \n",
       "13        Mexican  \n",
       "14     Australian  \n",
       "15         French  \n",
       "16        British  \n",
       "17        Mexican  \n",
       "18        Finnish  \n",
       "19         French  \n",
       "20         Danish  \n",
       "21        Russian  \n",
       "22         German  \n",
       "23        Swedish  \n",
       "24        British  \n",
       "25          Dutch  \n",
       "26      Brazilian  \n",
       "27        Spanish  \n",
       "28        Spanish  \n",
       "29       American  \n",
       "30        British  \n",
       "31         German  \n",
       "32     Indonesian  \n",
       "33        Belgian  \n",
       "34         French  \n",
       "35       Canadian  \n",
       "36        Italian  \n",
       "37         French  \n",
       "38  New Zealander  \n",
       "39     Monegasque  \n",
       "40        Russian  \n",
       "41        British  \n",
       "42        British  \n",
       "43           Thai  \n",
       "44       Canadian  \n",
       "45      Brazilian  \n",
       "46        British  \n",
       "47       Japanese  \n",
       "48        Russian  \n",
       "49         German  \n",
       "50        Chinese  "
      ]
     },
     "execution_count": 115,
     "metadata": {},
     "output_type": "execute_result"
    }
   ],
   "source": [
    "drivers = pd.read_excel('f1_drivers_2015_2021.xlsx')\n",
    "drivers"
   ]
  },
  {
   "cell_type": "code",
   "execution_count": 116,
   "id": "1980ee65",
   "metadata": {
    "scrolled": true
   },
   "outputs": [
    {
     "data": {
      "text/html": [
       "<div>\n",
       "<style scoped>\n",
       "    .dataframe tbody tr th:only-of-type {\n",
       "        vertical-align: middle;\n",
       "    }\n",
       "\n",
       "    .dataframe tbody tr th {\n",
       "        vertical-align: top;\n",
       "    }\n",
       "\n",
       "    .dataframe thead th {\n",
       "        text-align: right;\n",
       "    }\n",
       "</style>\n",
       "<table border=\"1\" class=\"dataframe\">\n",
       "  <thead>\n",
       "    <tr style=\"text-align: right;\">\n",
       "      <th></th>\n",
       "      <th>0</th>\n",
       "      <th>1</th>\n",
       "      <th>2</th>\n",
       "      <th>3</th>\n",
       "      <th>4</th>\n",
       "    </tr>\n",
       "  </thead>\n",
       "  <tbody>\n",
       "    <tr>\n",
       "      <th>Unnamed: 0</th>\n",
       "      <td>0</td>\n",
       "      <td>1</td>\n",
       "      <td>2</td>\n",
       "      <td>3</td>\n",
       "      <td>4</td>\n",
       "    </tr>\n",
       "    <tr>\n",
       "      <th>CLASS</th>\n",
       "      <td>1</td>\n",
       "      <td>2</td>\n",
       "      <td>3</td>\n",
       "      <td>4</td>\n",
       "      <td>5</td>\n",
       "    </tr>\n",
       "    <tr>\n",
       "      <th>DRIVER</th>\n",
       "      <td>Lewis Hamilton</td>\n",
       "      <td>Max Verstappen</td>\n",
       "      <td>Valtteri Bottas</td>\n",
       "      <td>Lando Norris</td>\n",
       "      <td>Sergio Perez</td>\n",
       "    </tr>\n",
       "    <tr>\n",
       "      <th>TEAM</th>\n",
       "      <td>Mercedes-AMG Petronas F1 Team</td>\n",
       "      <td>Red Bull Racing Honda</td>\n",
       "      <td>Mercedes-AMG Petronas F1 Team</td>\n",
       "      <td>McLaren F1 Team</td>\n",
       "      <td>Red Bull Racing Honda</td>\n",
       "    </tr>\n",
       "    <tr>\n",
       "      <th>LAPS</th>\n",
       "      <td>56</td>\n",
       "      <td>56</td>\n",
       "      <td>56</td>\n",
       "      <td>56</td>\n",
       "      <td>56</td>\n",
       "    </tr>\n",
       "    <tr>\n",
       "      <th>RACE_TIME</th>\n",
       "      <td>1:32:03.897</td>\n",
       "      <td>1:32:04.642</td>\n",
       "      <td>1:32:41.280</td>\n",
       "      <td>1:32:50.363</td>\n",
       "      <td>1:32:55.944</td>\n",
       "    </tr>\n",
       "    <tr>\n",
       "      <th>DRIVER_SNAME</th>\n",
       "      <td>L. Hamilton</td>\n",
       "      <td>M. Verstappen</td>\n",
       "      <td>V. Bottas</td>\n",
       "      <td>L. Norris</td>\n",
       "      <td>S. Perez</td>\n",
       "    </tr>\n",
       "    <tr>\n",
       "      <th>GRAND_PRIX</th>\n",
       "      <td>bahrain</td>\n",
       "      <td>bahrain</td>\n",
       "      <td>bahrain</td>\n",
       "      <td>bahrain</td>\n",
       "      <td>bahrain</td>\n",
       "    </tr>\n",
       "    <tr>\n",
       "      <th>SEASON</th>\n",
       "      <td>2021</td>\n",
       "      <td>2021</td>\n",
       "      <td>2021</td>\n",
       "      <td>2021</td>\n",
       "      <td>2021</td>\n",
       "    </tr>\n",
       "    <tr>\n",
       "      <th>FLAP_POS</th>\n",
       "      <td>4.0</td>\n",
       "      <td>2.0</td>\n",
       "      <td>1.0</td>\n",
       "      <td>6.0</td>\n",
       "      <td>3.0</td>\n",
       "    </tr>\n",
       "    <tr>\n",
       "      <th>FLAP_TIME</th>\n",
       "      <td>1:34.015</td>\n",
       "      <td>1:33.228</td>\n",
       "      <td>1:32.090</td>\n",
       "      <td>1:34.396</td>\n",
       "      <td>1:33.970</td>\n",
       "    </tr>\n",
       "    <tr>\n",
       "      <th>F_LAP</th>\n",
       "      <td>44.0</td>\n",
       "      <td>41.0</td>\n",
       "      <td>56.0</td>\n",
       "      <td>38.0</td>\n",
       "      <td>44.0</td>\n",
       "    </tr>\n",
       "    <tr>\n",
       "      <th>FLAP_GAP</th>\n",
       "      <td>1.925</td>\n",
       "      <td>1.138</td>\n",
       "      <td>0.0</td>\n",
       "      <td>2.306</td>\n",
       "      <td>1.88</td>\n",
       "    </tr>\n",
       "    <tr>\n",
       "      <th>FLAP_KM/H</th>\n",
       "      <td>207.235</td>\n",
       "      <td>208.984</td>\n",
       "      <td>211.566</td>\n",
       "      <td>206.398</td>\n",
       "      <td>207.334</td>\n",
       "    </tr>\n",
       "    <tr>\n",
       "      <th>FLAP_HOUR</th>\n",
       "      <td>19:20:17</td>\n",
       "      <td>19:15:41</td>\n",
       "      <td>19:39:51</td>\n",
       "      <td>19:11:28</td>\n",
       "      <td>19:21:10</td>\n",
       "    </tr>\n",
       "    <tr>\n",
       "      <th>BS1_POS</th>\n",
       "      <td>2.0</td>\n",
       "      <td>4.0</td>\n",
       "      <td>1.0</td>\n",
       "      <td>7.0</td>\n",
       "      <td>6.0</td>\n",
       "    </tr>\n",
       "    <tr>\n",
       "      <th>BS1_TIME</th>\n",
       "      <td>29.944</td>\n",
       "      <td>30.009</td>\n",
       "      <td>29.64</td>\n",
       "      <td>30.206</td>\n",
       "      <td>30.18</td>\n",
       "    </tr>\n",
       "    <tr>\n",
       "      <th>BS2_POS</th>\n",
       "      <td>4.0</td>\n",
       "      <td>2.0</td>\n",
       "      <td>1.0</td>\n",
       "      <td>6.0</td>\n",
       "      <td>3.0</td>\n",
       "    </tr>\n",
       "    <tr>\n",
       "      <th>BS2_TIME</th>\n",
       "      <td>40.418</td>\n",
       "      <td>40.159</td>\n",
       "      <td>39.508</td>\n",
       "      <td>40.525</td>\n",
       "      <td>40.395</td>\n",
       "    </tr>\n",
       "    <tr>\n",
       "      <th>BS3_POS</th>\n",
       "      <td>3.0</td>\n",
       "      <td>2.0</td>\n",
       "      <td>1.0</td>\n",
       "      <td>5.0</td>\n",
       "      <td>6.0</td>\n",
       "    </tr>\n",
       "    <tr>\n",
       "      <th>BS3_TIME</th>\n",
       "      <td>23.141</td>\n",
       "      <td>22.995</td>\n",
       "      <td>22.942</td>\n",
       "      <td>23.207</td>\n",
       "      <td>23.231</td>\n",
       "    </tr>\n",
       "    <tr>\n",
       "      <th>ST_POS</th>\n",
       "      <td>18.0</td>\n",
       "      <td>4.0</td>\n",
       "      <td>15.0</td>\n",
       "      <td>9.0</td>\n",
       "      <td>8.0</td>\n",
       "    </tr>\n",
       "    <tr>\n",
       "      <th>ST_KM/H</th>\n",
       "      <td>315.2</td>\n",
       "      <td>327.0</td>\n",
       "      <td>318.9</td>\n",
       "      <td>324.2</td>\n",
       "      <td>324.7</td>\n",
       "    </tr>\n",
       "    <tr>\n",
       "      <th>I1_POS</th>\n",
       "      <td>10.0</td>\n",
       "      <td>15.0</td>\n",
       "      <td>11.0</td>\n",
       "      <td>16.0</td>\n",
       "      <td>5.0</td>\n",
       "    </tr>\n",
       "    <tr>\n",
       "      <th>I1_KM/H</th>\n",
       "      <td>239.5</td>\n",
       "      <td>237.9</td>\n",
       "      <td>239.5</td>\n",
       "      <td>237.6</td>\n",
       "      <td>240.5</td>\n",
       "    </tr>\n",
       "    <tr>\n",
       "      <th>I2_POS</th>\n",
       "      <td>2.0</td>\n",
       "      <td>6.0</td>\n",
       "      <td>5.0</td>\n",
       "      <td>7.0</td>\n",
       "      <td>4.0</td>\n",
       "    </tr>\n",
       "    <tr>\n",
       "      <th>I2_KM/H</th>\n",
       "      <td>267.7</td>\n",
       "      <td>266.1</td>\n",
       "      <td>266.6</td>\n",
       "      <td>263.4</td>\n",
       "      <td>267.0</td>\n",
       "    </tr>\n",
       "    <tr>\n",
       "      <th>FL_POS</th>\n",
       "      <td>13.0</td>\n",
       "      <td>12.0</td>\n",
       "      <td>16.0</td>\n",
       "      <td>8.0</td>\n",
       "      <td>17.0</td>\n",
       "    </tr>\n",
       "    <tr>\n",
       "      <th>FL_KM/H</th>\n",
       "      <td>290.4</td>\n",
       "      <td>291.1</td>\n",
       "      <td>290.0</td>\n",
       "      <td>291.8</td>\n",
       "      <td>290.0</td>\n",
       "    </tr>\n",
       "    <tr>\n",
       "      <th>DRIVER_NO</th>\n",
       "      <td>44.0</td>\n",
       "      <td>33.0</td>\n",
       "      <td>77.0</td>\n",
       "      <td>4.0</td>\n",
       "      <td>11.0</td>\n",
       "    </tr>\n",
       "    <tr>\n",
       "      <th>STOPS</th>\n",
       "      <td>2.0</td>\n",
       "      <td>2.0</td>\n",
       "      <td>3.0</td>\n",
       "      <td>2.0</td>\n",
       "      <td>3.0</td>\n",
       "    </tr>\n",
       "    <tr>\n",
       "      <th>PS_TOTAL_TIME</th>\n",
       "      <td>48.915</td>\n",
       "      <td>48.615</td>\n",
       "      <td>1:21.725</td>\n",
       "      <td>50.539</td>\n",
       "      <td>1:12.289</td>\n",
       "    </tr>\n",
       "    <tr>\n",
       "      <th>QL_CLASS</th>\n",
       "      <td>2.0</td>\n",
       "      <td>1.0</td>\n",
       "      <td>3.0</td>\n",
       "      <td>7.0</td>\n",
       "      <td>11.0</td>\n",
       "    </tr>\n",
       "    <tr>\n",
       "      <th>QL_TIME1</th>\n",
       "      <td>1:30.617</td>\n",
       "      <td>1:30.499</td>\n",
       "      <td>1:31.200</td>\n",
       "      <td>1:30.902</td>\n",
       "      <td>1:31.165</td>\n",
       "    </tr>\n",
       "    <tr>\n",
       "      <th>QL_LAPS1</th>\n",
       "      <td>6.0</td>\n",
       "      <td>3.0</td>\n",
       "      <td>5.0</td>\n",
       "      <td>6.0</td>\n",
       "      <td>5.0</td>\n",
       "    </tr>\n",
       "    <tr>\n",
       "      <th>QL_TIME2</th>\n",
       "      <td>1:30.085</td>\n",
       "      <td>1:30.318</td>\n",
       "      <td>1:30.186</td>\n",
       "      <td>1:30.099</td>\n",
       "      <td>1:30.659</td>\n",
       "    </tr>\n",
       "    <tr>\n",
       "      <th>QL_LAPS2</th>\n",
       "      <td>6.0</td>\n",
       "      <td>6.0</td>\n",
       "      <td>6.0</td>\n",
       "      <td>6.0</td>\n",
       "      <td>6.0</td>\n",
       "    </tr>\n",
       "    <tr>\n",
       "      <th>QL_TIME3</th>\n",
       "      <td>1:29.385</td>\n",
       "      <td>1:28.997</td>\n",
       "      <td>1:29.586</td>\n",
       "      <td>1:29.974</td>\n",
       "      <td>NaN</td>\n",
       "    </tr>\n",
       "    <tr>\n",
       "      <th>QL_LAPS3</th>\n",
       "      <td>6.0</td>\n",
       "      <td>6.0</td>\n",
       "      <td>6.0</td>\n",
       "      <td>6.0</td>\n",
       "      <td>NaN</td>\n",
       "    </tr>\n",
       "    <tr>\n",
       "      <th>GD_CLASS</th>\n",
       "      <td>2</td>\n",
       "      <td>1</td>\n",
       "      <td>3</td>\n",
       "      <td>7</td>\n",
       "      <td>11</td>\n",
       "    </tr>\n",
       "    <tr>\n",
       "      <th>GD_TIME</th>\n",
       "      <td>1:29.385</td>\n",
       "      <td>1:28.997</td>\n",
       "      <td>1:29.586</td>\n",
       "      <td>1:29.974</td>\n",
       "      <td>1:30.659</td>\n",
       "    </tr>\n",
       "    <tr>\n",
       "      <th>DRIVER_ID</th>\n",
       "      <td>1.0</td>\n",
       "      <td>830.0</td>\n",
       "      <td>822.0</td>\n",
       "      <td>846.0</td>\n",
       "      <td>815.0</td>\n",
       "    </tr>\n",
       "    <tr>\n",
       "      <th>NUMBER</th>\n",
       "      <td>44.0</td>\n",
       "      <td>33.0</td>\n",
       "      <td>77.0</td>\n",
       "      <td>4.0</td>\n",
       "      <td>11.0</td>\n",
       "    </tr>\n",
       "    <tr>\n",
       "      <th>RACE_ID</th>\n",
       "      <td>1052.0</td>\n",
       "      <td>1052.0</td>\n",
       "      <td>1052.0</td>\n",
       "      <td>1052.0</td>\n",
       "      <td>1052.0</td>\n",
       "    </tr>\n",
       "    <tr>\n",
       "      <th>RACE_NAME</th>\n",
       "      <td>Bahrain Grand Prix</td>\n",
       "      <td>Bahrain Grand Prix</td>\n",
       "      <td>Bahrain Grand Prix</td>\n",
       "      <td>Bahrain Grand Prix</td>\n",
       "      <td>Bahrain Grand Prix</td>\n",
       "    </tr>\n",
       "    <tr>\n",
       "      <th>RACE</th>\n",
       "      <td>Bahrain</td>\n",
       "      <td>Bahrain</td>\n",
       "      <td>Bahrain</td>\n",
       "      <td>Bahrain</td>\n",
       "      <td>Bahrain</td>\n",
       "    </tr>\n",
       "    <tr>\n",
       "      <th>STATUS_ID</th>\n",
       "      <td>1.0</td>\n",
       "      <td>1.0</td>\n",
       "      <td>1.0</td>\n",
       "      <td>1.0</td>\n",
       "      <td>1.0</td>\n",
       "    </tr>\n",
       "    <tr>\n",
       "      <th>DRIVER_STATUS</th>\n",
       "      <td>Finished</td>\n",
       "      <td>Finished</td>\n",
       "      <td>Finished</td>\n",
       "      <td>Finished</td>\n",
       "      <td>Finished</td>\n",
       "    </tr>\n",
       "    <tr>\n",
       "      <th>CIRCUIT_ID</th>\n",
       "      <td>3.0</td>\n",
       "      <td>3.0</td>\n",
       "      <td>3.0</td>\n",
       "      <td>3.0</td>\n",
       "      <td>3.0</td>\n",
       "    </tr>\n",
       "    <tr>\n",
       "      <th>CIRCUIT_REF</th>\n",
       "      <td>bahrain</td>\n",
       "      <td>bahrain</td>\n",
       "      <td>bahrain</td>\n",
       "      <td>bahrain</td>\n",
       "      <td>bahrain</td>\n",
       "    </tr>\n",
       "  </tbody>\n",
       "</table>\n",
       "</div>"
      ],
      "text/plain": [
       "                                           0                      1  \\\n",
       "Unnamed: 0                                 0                      1   \n",
       "CLASS                                      1                      2   \n",
       "DRIVER                        Lewis Hamilton         Max Verstappen   \n",
       "TEAM           Mercedes-AMG Petronas F1 Team  Red Bull Racing Honda   \n",
       "LAPS                                      56                     56   \n",
       "RACE_TIME                        1:32:03.897            1:32:04.642   \n",
       "DRIVER_SNAME                     L. Hamilton          M. Verstappen   \n",
       "GRAND_PRIX                           bahrain                bahrain   \n",
       "SEASON                                  2021                   2021   \n",
       "FLAP_POS                                 4.0                    2.0   \n",
       "FLAP_TIME                           1:34.015               1:33.228   \n",
       "F_LAP                                   44.0                   41.0   \n",
       "FLAP_GAP                               1.925                  1.138   \n",
       "FLAP_KM/H                            207.235                208.984   \n",
       "FLAP_HOUR                           19:20:17               19:15:41   \n",
       "BS1_POS                                  2.0                    4.0   \n",
       "BS1_TIME                              29.944                 30.009   \n",
       "BS2_POS                                  4.0                    2.0   \n",
       "BS2_TIME                              40.418                 40.159   \n",
       "BS3_POS                                  3.0                    2.0   \n",
       "BS3_TIME                              23.141                 22.995   \n",
       "ST_POS                                  18.0                    4.0   \n",
       "ST_KM/H                                315.2                  327.0   \n",
       "I1_POS                                  10.0                   15.0   \n",
       "I1_KM/H                                239.5                  237.9   \n",
       "I2_POS                                   2.0                    6.0   \n",
       "I2_KM/H                                267.7                  266.1   \n",
       "FL_POS                                  13.0                   12.0   \n",
       "FL_KM/H                                290.4                  291.1   \n",
       "DRIVER_NO                               44.0                   33.0   \n",
       "STOPS                                    2.0                    2.0   \n",
       "PS_TOTAL_TIME                         48.915                 48.615   \n",
       "QL_CLASS                                 2.0                    1.0   \n",
       "QL_TIME1                            1:30.617               1:30.499   \n",
       "QL_LAPS1                                 6.0                    3.0   \n",
       "QL_TIME2                            1:30.085               1:30.318   \n",
       "QL_LAPS2                                 6.0                    6.0   \n",
       "QL_TIME3                            1:29.385               1:28.997   \n",
       "QL_LAPS3                                 6.0                    6.0   \n",
       "GD_CLASS                                   2                      1   \n",
       "GD_TIME                             1:29.385               1:28.997   \n",
       "DRIVER_ID                                1.0                  830.0   \n",
       "NUMBER                                  44.0                   33.0   \n",
       "RACE_ID                               1052.0                 1052.0   \n",
       "RACE_NAME                 Bahrain Grand Prix     Bahrain Grand Prix   \n",
       "RACE                                 Bahrain                Bahrain   \n",
       "STATUS_ID                                1.0                    1.0   \n",
       "DRIVER_STATUS                       Finished               Finished   \n",
       "CIRCUIT_ID                               3.0                    3.0   \n",
       "CIRCUIT_REF                          bahrain                bahrain   \n",
       "\n",
       "                                           2                   3  \\\n",
       "Unnamed: 0                                 2                   3   \n",
       "CLASS                                      3                   4   \n",
       "DRIVER                       Valtteri Bottas        Lando Norris   \n",
       "TEAM           Mercedes-AMG Petronas F1 Team     McLaren F1 Team   \n",
       "LAPS                                      56                  56   \n",
       "RACE_TIME                        1:32:41.280         1:32:50.363   \n",
       "DRIVER_SNAME                       V. Bottas           L. Norris   \n",
       "GRAND_PRIX                           bahrain             bahrain   \n",
       "SEASON                                  2021                2021   \n",
       "FLAP_POS                                 1.0                 6.0   \n",
       "FLAP_TIME                           1:32.090            1:34.396   \n",
       "F_LAP                                   56.0                38.0   \n",
       "FLAP_GAP                                 0.0               2.306   \n",
       "FLAP_KM/H                            211.566             206.398   \n",
       "FLAP_HOUR                           19:39:51            19:11:28   \n",
       "BS1_POS                                  1.0                 7.0   \n",
       "BS1_TIME                               29.64              30.206   \n",
       "BS2_POS                                  1.0                 6.0   \n",
       "BS2_TIME                              39.508              40.525   \n",
       "BS3_POS                                  1.0                 5.0   \n",
       "BS3_TIME                              22.942              23.207   \n",
       "ST_POS                                  15.0                 9.0   \n",
       "ST_KM/H                                318.9               324.2   \n",
       "I1_POS                                  11.0                16.0   \n",
       "I1_KM/H                                239.5               237.6   \n",
       "I2_POS                                   5.0                 7.0   \n",
       "I2_KM/H                                266.6               263.4   \n",
       "FL_POS                                  16.0                 8.0   \n",
       "FL_KM/H                                290.0               291.8   \n",
       "DRIVER_NO                               77.0                 4.0   \n",
       "STOPS                                    3.0                 2.0   \n",
       "PS_TOTAL_TIME                       1:21.725              50.539   \n",
       "QL_CLASS                                 3.0                 7.0   \n",
       "QL_TIME1                            1:31.200            1:30.902   \n",
       "QL_LAPS1                                 5.0                 6.0   \n",
       "QL_TIME2                            1:30.186            1:30.099   \n",
       "QL_LAPS2                                 6.0                 6.0   \n",
       "QL_TIME3                            1:29.586            1:29.974   \n",
       "QL_LAPS3                                 6.0                 6.0   \n",
       "GD_CLASS                                   3                   7   \n",
       "GD_TIME                             1:29.586            1:29.974   \n",
       "DRIVER_ID                              822.0               846.0   \n",
       "NUMBER                                  77.0                 4.0   \n",
       "RACE_ID                               1052.0              1052.0   \n",
       "RACE_NAME                 Bahrain Grand Prix  Bahrain Grand Prix   \n",
       "RACE                                 Bahrain             Bahrain   \n",
       "STATUS_ID                                1.0                 1.0   \n",
       "DRIVER_STATUS                       Finished            Finished   \n",
       "CIRCUIT_ID                               3.0                 3.0   \n",
       "CIRCUIT_REF                          bahrain             bahrain   \n",
       "\n",
       "                                   4  \n",
       "Unnamed: 0                         4  \n",
       "CLASS                              5  \n",
       "DRIVER                  Sergio Perez  \n",
       "TEAM           Red Bull Racing Honda  \n",
       "LAPS                              56  \n",
       "RACE_TIME                1:32:55.944  \n",
       "DRIVER_SNAME                S. Perez  \n",
       "GRAND_PRIX                   bahrain  \n",
       "SEASON                          2021  \n",
       "FLAP_POS                         3.0  \n",
       "FLAP_TIME                   1:33.970  \n",
       "F_LAP                           44.0  \n",
       "FLAP_GAP                        1.88  \n",
       "FLAP_KM/H                    207.334  \n",
       "FLAP_HOUR                   19:21:10  \n",
       "BS1_POS                          6.0  \n",
       "BS1_TIME                       30.18  \n",
       "BS2_POS                          3.0  \n",
       "BS2_TIME                      40.395  \n",
       "BS3_POS                          6.0  \n",
       "BS3_TIME                      23.231  \n",
       "ST_POS                           8.0  \n",
       "ST_KM/H                        324.7  \n",
       "I1_POS                           5.0  \n",
       "I1_KM/H                        240.5  \n",
       "I2_POS                           4.0  \n",
       "I2_KM/H                        267.0  \n",
       "FL_POS                          17.0  \n",
       "FL_KM/H                        290.0  \n",
       "DRIVER_NO                       11.0  \n",
       "STOPS                            3.0  \n",
       "PS_TOTAL_TIME               1:12.289  \n",
       "QL_CLASS                        11.0  \n",
       "QL_TIME1                    1:31.165  \n",
       "QL_LAPS1                         5.0  \n",
       "QL_TIME2                    1:30.659  \n",
       "QL_LAPS2                         6.0  \n",
       "QL_TIME3                         NaN  \n",
       "QL_LAPS3                         NaN  \n",
       "GD_CLASS                          11  \n",
       "GD_TIME                     1:30.659  \n",
       "DRIVER_ID                      815.0  \n",
       "NUMBER                          11.0  \n",
       "RACE_ID                       1052.0  \n",
       "RACE_NAME         Bahrain Grand Prix  \n",
       "RACE                         Bahrain  \n",
       "STATUS_ID                        1.0  \n",
       "DRIVER_STATUS               Finished  \n",
       "CIRCUIT_ID                       3.0  \n",
       "CIRCUIT_REF                  bahrain  "
      ]
     },
     "execution_count": 116,
     "metadata": {},
     "output_type": "execute_result"
    }
   ],
   "source": [
    "races_1 = pd.read_excel('f1_race_data_2015_2021.xlsx')\n",
    "races_1.head().T"
   ]
  },
  {
   "cell_type": "code",
   "execution_count": 117,
   "id": "2f7d6599",
   "metadata": {
    "scrolled": false
   },
   "outputs": [
    {
     "data": {
      "text/plain": [
       "Index(['Unnamed: 0', 'CLASS', 'DRIVER', 'TEAM', 'LAPS', 'RACE_TIME',\n",
       "       'DRIVER_SNAME', 'GRAND_PRIX', 'SEASON', 'FLAP_POS', 'FLAP_TIME',\n",
       "       'F_LAP', 'FLAP_GAP', 'FLAP_KM/H', 'FLAP_HOUR', 'BS1_POS', 'BS1_TIME',\n",
       "       'BS2_POS', 'BS2_TIME', 'BS3_POS', 'BS3_TIME', 'ST_POS', 'ST_KM/H',\n",
       "       'I1_POS', 'I1_KM/H', 'I2_POS', 'I2_KM/H', 'FL_POS', 'FL_KM/H',\n",
       "       'DRIVER_NO', 'STOPS', 'PS_TOTAL_TIME', 'QL_CLASS', 'QL_TIME1',\n",
       "       'QL_LAPS1', 'QL_TIME2', 'QL_LAPS2', 'QL_TIME3', 'QL_LAPS3', 'GD_CLASS',\n",
       "       'GD_TIME', 'DRIVER_ID', 'NUMBER', 'RACE_ID', 'RACE_NAME', 'RACE',\n",
       "       'STATUS_ID', 'DRIVER_STATUS', 'CIRCUIT_ID', 'CIRCUIT_REF'],\n",
       "      dtype='object')"
      ]
     },
     "execution_count": 117,
     "metadata": {},
     "output_type": "execute_result"
    }
   ],
   "source": [
    "races_1.columns"
   ]
  },
  {
   "cell_type": "markdown",
   "id": "f55b27e8",
   "metadata": {},
   "source": [
    "# Which is the fastest F1 track?"
   ]
  },
  {
   "cell_type": "code",
   "execution_count": 118,
   "id": "8d087a88",
   "metadata": {
    "scrolled": false
   },
   "outputs": [
    {
     "data": {
      "text/html": [
       "<div>\n",
       "<style scoped>\n",
       "    .dataframe tbody tr th:only-of-type {\n",
       "        vertical-align: middle;\n",
       "    }\n",
       "\n",
       "    .dataframe tbody tr th {\n",
       "        vertical-align: top;\n",
       "    }\n",
       "\n",
       "    .dataframe thead th {\n",
       "        text-align: right;\n",
       "    }\n",
       "</style>\n",
       "<table border=\"1\" class=\"dataframe\">\n",
       "  <thead>\n",
       "    <tr style=\"text-align: right;\">\n",
       "      <th></th>\n",
       "      <th>GRAND_PRIX</th>\n",
       "      <th>FLAP_KM/H</th>\n",
       "      <th>SEASON</th>\n",
       "    </tr>\n",
       "  </thead>\n",
       "  <tbody>\n",
       "    <tr>\n",
       "      <th>0</th>\n",
       "      <td>bahrain</td>\n",
       "      <td>207.235</td>\n",
       "      <td>2021</td>\n",
       "    </tr>\n",
       "    <tr>\n",
       "      <th>1</th>\n",
       "      <td>bahrain</td>\n",
       "      <td>208.984</td>\n",
       "      <td>2021</td>\n",
       "    </tr>\n",
       "    <tr>\n",
       "      <th>2</th>\n",
       "      <td>bahrain</td>\n",
       "      <td>211.566</td>\n",
       "      <td>2021</td>\n",
       "    </tr>\n",
       "    <tr>\n",
       "      <th>3</th>\n",
       "      <td>bahrain</td>\n",
       "      <td>206.398</td>\n",
       "      <td>2021</td>\n",
       "    </tr>\n",
       "    <tr>\n",
       "      <th>4</th>\n",
       "      <td>bahrain</td>\n",
       "      <td>207.334</td>\n",
       "      <td>2021</td>\n",
       "    </tr>\n",
       "    <tr>\n",
       "      <th>...</th>\n",
       "      <td>...</td>\n",
       "      <td>...</td>\n",
       "      <td>...</td>\n",
       "    </tr>\n",
       "    <tr>\n",
       "      <th>2935</th>\n",
       "      <td>abu-dhabi</td>\n",
       "      <td>189.079</td>\n",
       "      <td>2015</td>\n",
       "    </tr>\n",
       "    <tr>\n",
       "      <th>2936</th>\n",
       "      <td>abu-dhabi</td>\n",
       "      <td>190.793</td>\n",
       "      <td>2015</td>\n",
       "    </tr>\n",
       "    <tr>\n",
       "      <th>2937</th>\n",
       "      <td>abu-dhabi</td>\n",
       "      <td>182.414</td>\n",
       "      <td>2015</td>\n",
       "    </tr>\n",
       "    <tr>\n",
       "      <th>2938</th>\n",
       "      <td>abu-dhabi</td>\n",
       "      <td>179.784</td>\n",
       "      <td>2015</td>\n",
       "    </tr>\n",
       "    <tr>\n",
       "      <th>2939</th>\n",
       "      <td>abu-dhabi</td>\n",
       "      <td>NaN</td>\n",
       "      <td>2015</td>\n",
       "    </tr>\n",
       "  </tbody>\n",
       "</table>\n",
       "<p>2940 rows × 3 columns</p>\n",
       "</div>"
      ],
      "text/plain": [
       "     GRAND_PRIX  FLAP_KM/H  SEASON\n",
       "0       bahrain    207.235    2021\n",
       "1       bahrain    208.984    2021\n",
       "2       bahrain    211.566    2021\n",
       "3       bahrain    206.398    2021\n",
       "4       bahrain    207.334    2021\n",
       "...         ...        ...     ...\n",
       "2935  abu-dhabi    189.079    2015\n",
       "2936  abu-dhabi    190.793    2015\n",
       "2937  abu-dhabi    182.414    2015\n",
       "2938  abu-dhabi    179.784    2015\n",
       "2939  abu-dhabi        NaN    2015\n",
       "\n",
       "[2940 rows x 3 columns]"
      ]
     },
     "execution_count": 118,
     "metadata": {},
     "output_type": "execute_result"
    }
   ],
   "source": [
    "laps = races_1[['GRAND_PRIX', 'FLAP_KM/H', 'SEASON']]\n",
    "laps"
   ]
  },
  {
   "cell_type": "code",
   "execution_count": 119,
   "id": "2a310ab0",
   "metadata": {
    "scrolled": false
   },
   "outputs": [
    {
     "name": "stdout",
     "output_type": "stream",
     "text": [
      "<class 'pandas.core.frame.DataFrame'>\n",
      "RangeIndex: 2940 entries, 0 to 2939\n",
      "Data columns (total 3 columns):\n",
      " #   Column      Non-Null Count  Dtype  \n",
      "---  ------      --------------  -----  \n",
      " 0   GRAND_PRIX  2940 non-null   object \n",
      " 1   FLAP_KM/H   2696 non-null   float64\n",
      " 2   SEASON      2940 non-null   int64  \n",
      "dtypes: float64(1), int64(1), object(1)\n",
      "memory usage: 69.0+ KB\n"
     ]
    }
   ],
   "source": [
    "laps.info()"
   ]
  },
  {
   "cell_type": "code",
   "execution_count": 120,
   "id": "46e62461",
   "metadata": {},
   "outputs": [
    {
     "name": "stderr",
     "output_type": "stream",
     "text": [
      "C:\\Users\\chezb\\AppData\\Local\\Temp/ipykernel_23168/1455886873.py:1: SettingWithCopyWarning:\n",
      "\n",
      "\n",
      "A value is trying to be set on a copy of a slice from a DataFrame.\n",
      "Try using .loc[row_indexer,col_indexer] = value instead\n",
      "\n",
      "See the caveats in the documentation: https://pandas.pydata.org/pandas-docs/stable/user_guide/indexing.html#returning-a-view-versus-a-copy\n",
      "\n"
     ]
    }
   ],
   "source": [
    "laps['SEASON'] = laps['SEASON'].astype(int)"
   ]
  },
  {
   "cell_type": "code",
   "execution_count": 121,
   "id": "afc0e388",
   "metadata": {
    "scrolled": false
   },
   "outputs": [
    {
     "data": {
      "text/html": [
       "<div>\n",
       "<style scoped>\n",
       "    .dataframe tbody tr th:only-of-type {\n",
       "        vertical-align: middle;\n",
       "    }\n",
       "\n",
       "    .dataframe tbody tr th {\n",
       "        vertical-align: top;\n",
       "    }\n",
       "\n",
       "    .dataframe thead th {\n",
       "        text-align: right;\n",
       "    }\n",
       "</style>\n",
       "<table border=\"1\" class=\"dataframe\">\n",
       "  <thead>\n",
       "    <tr style=\"text-align: right;\">\n",
       "      <th></th>\n",
       "      <th>SEASON</th>\n",
       "      <th>GRAND_PRIX</th>\n",
       "      <th>FLAP_KM/H</th>\n",
       "    </tr>\n",
       "  </thead>\n",
       "  <tbody>\n",
       "    <tr>\n",
       "      <th>0</th>\n",
       "      <td>2015</td>\n",
       "      <td>abu-dhabi</td>\n",
       "      <td>187.770789</td>\n",
       "    </tr>\n",
       "    <tr>\n",
       "      <th>1</th>\n",
       "      <td>2015</td>\n",
       "      <td>australian</td>\n",
       "      <td>207.175692</td>\n",
       "    </tr>\n",
       "    <tr>\n",
       "      <th>2</th>\n",
       "      <td>2015</td>\n",
       "      <td>austrian</td>\n",
       "      <td>210.758529</td>\n",
       "    </tr>\n",
       "    <tr>\n",
       "      <th>3</th>\n",
       "      <td>2015</td>\n",
       "      <td>bahrain</td>\n",
       "      <td>197.316000</td>\n",
       "    </tr>\n",
       "    <tr>\n",
       "      <th>4</th>\n",
       "      <td>2015</td>\n",
       "      <td>belgian</td>\n",
       "      <td>219.946444</td>\n",
       "    </tr>\n",
       "    <tr>\n",
       "      <th>...</th>\n",
       "      <td>...</td>\n",
       "      <td>...</td>\n",
       "      <td>...</td>\n",
       "    </tr>\n",
       "    <tr>\n",
       "      <th>131</th>\n",
       "      <td>2021</td>\n",
       "      <td>russian</td>\n",
       "      <td>211.886600</td>\n",
       "    </tr>\n",
       "    <tr>\n",
       "      <th>132</th>\n",
       "      <td>2021</td>\n",
       "      <td>saudi-arabia</td>\n",
       "      <td>239.258900</td>\n",
       "    </tr>\n",
       "    <tr>\n",
       "      <th>133</th>\n",
       "      <td>2021</td>\n",
       "      <td>spanish</td>\n",
       "      <td>205.642050</td>\n",
       "    </tr>\n",
       "    <tr>\n",
       "      <th>134</th>\n",
       "      <td>2021</td>\n",
       "      <td>turkish</td>\n",
       "      <td>206.676100</td>\n",
       "    </tr>\n",
       "    <tr>\n",
       "      <th>135</th>\n",
       "      <td>2021</td>\n",
       "      <td>united-states</td>\n",
       "      <td>197.076800</td>\n",
       "    </tr>\n",
       "  </tbody>\n",
       "</table>\n",
       "<p>136 rows × 3 columns</p>\n",
       "</div>"
      ],
      "text/plain": [
       "     SEASON     GRAND_PRIX   FLAP_KM/H\n",
       "0      2015      abu-dhabi  187.770789\n",
       "1      2015     australian  207.175692\n",
       "2      2015       austrian  210.758529\n",
       "3      2015        bahrain  197.316000\n",
       "4      2015        belgian  219.946444\n",
       "..      ...            ...         ...\n",
       "131    2021        russian  211.886600\n",
       "132    2021   saudi-arabia  239.258900\n",
       "133    2021        spanish  205.642050\n",
       "134    2021        turkish  206.676100\n",
       "135    2021  united-states  197.076800\n",
       "\n",
       "[136 rows x 3 columns]"
      ]
     },
     "execution_count": 121,
     "metadata": {},
     "output_type": "execute_result"
    }
   ],
   "source": [
    "fastest_lap = laps.groupby(['SEASON', 'GRAND_PRIX'])['FLAP_KM/H'].mean().reset_index()\n",
    "fastest_lap"
   ]
  },
  {
   "cell_type": "code",
   "execution_count": 122,
   "id": "a8bbf4af",
   "metadata": {
    "scrolled": true
   },
   "outputs": [
    {
     "data": {
      "application/vnd.plotly.v1+json": {
       "config": {
        "plotlyServerURL": "https://plotly.com"
       },
       "data": [
        {
         "alignmentgroup": "True",
         "bingroup": "x",
         "histfunc": "sum",
         "hovertemplate": "GRAND_PRIX=%{x}<br>SEASON=2015<br>sum of FLAP_KM/H=%{y}<extra></extra>",
         "legendgroup": "abu-dhabi",
         "marker": {
          "color": "#636efa",
          "pattern": {
           "shape": ""
          }
         },
         "name": "abu-dhabi",
         "offsetgroup": "abu-dhabi",
         "orientation": "v",
         "showlegend": true,
         "type": "histogram",
         "x": [
          "abu-dhabi"
         ],
         "xaxis": "x",
         "y": [
          187.7707894736842
         ],
         "yaxis": "y"
        },
        {
         "alignmentgroup": "True",
         "bingroup": "x",
         "histfunc": "sum",
         "hovertemplate": "GRAND_PRIX=%{x}<br>SEASON=2015<br>sum of FLAP_KM/H=%{y}<extra></extra>",
         "legendgroup": "australian",
         "marker": {
          "color": "#EF553B",
          "pattern": {
           "shape": ""
          }
         },
         "name": "australian",
         "offsetgroup": "australian",
         "orientation": "v",
         "showlegend": true,
         "type": "histogram",
         "x": [
          "australian"
         ],
         "xaxis": "x",
         "y": [
          207.17569230769232
         ],
         "yaxis": "y"
        },
        {
         "alignmentgroup": "True",
         "bingroup": "x",
         "histfunc": "sum",
         "hovertemplate": "GRAND_PRIX=%{x}<br>SEASON=2015<br>sum of FLAP_KM/H=%{y}<extra></extra>",
         "legendgroup": "austrian",
         "marker": {
          "color": "#00cc96",
          "pattern": {
           "shape": ""
          }
         },
         "name": "austrian",
         "offsetgroup": "austrian",
         "orientation": "v",
         "showlegend": true,
         "type": "histogram",
         "x": [
          "austrian"
         ],
         "xaxis": "x",
         "y": [
          210.7585294117647
         ],
         "yaxis": "y"
        },
        {
         "alignmentgroup": "True",
         "bingroup": "x",
         "histfunc": "sum",
         "hovertemplate": "GRAND_PRIX=%{x}<br>SEASON=2015<br>sum of FLAP_KM/H=%{y}<extra></extra>",
         "legendgroup": "bahrain",
         "marker": {
          "color": "#ab63fa",
          "pattern": {
           "shape": ""
          }
         },
         "name": "bahrain",
         "offsetgroup": "bahrain",
         "orientation": "v",
         "showlegend": true,
         "type": "histogram",
         "x": [
          "bahrain"
         ],
         "xaxis": "x",
         "y": [
          197.316
         ],
         "yaxis": "y"
        },
        {
         "alignmentgroup": "True",
         "bingroup": "x",
         "histfunc": "sum",
         "hovertemplate": "GRAND_PRIX=%{x}<br>SEASON=2015<br>sum of FLAP_KM/H=%{y}<extra></extra>",
         "legendgroup": "belgian",
         "marker": {
          "color": "#FFA15A",
          "pattern": {
           "shape": ""
          }
         },
         "name": "belgian",
         "offsetgroup": "belgian",
         "orientation": "v",
         "showlegend": true,
         "type": "histogram",
         "x": [
          "belgian"
         ],
         "xaxis": "x",
         "y": [
          219.94644444444444
         ],
         "yaxis": "y"
        },
        {
         "alignmentgroup": "True",
         "bingroup": "x",
         "histfunc": "sum",
         "hovertemplate": "GRAND_PRIX=%{x}<br>SEASON=2015<br>sum of FLAP_KM/H=%{y}<extra></extra>",
         "legendgroup": "brazilian",
         "marker": {
          "color": "#19d3f3",
          "pattern": {
           "shape": ""
          }
         },
         "name": "brazilian",
         "offsetgroup": "brazilian",
         "orientation": "v",
         "showlegend": true,
         "type": "histogram",
         "x": [
          "brazilian"
         ],
         "xaxis": "x",
         "y": [
          203.47326315789473
         ],
         "yaxis": "y"
        },
        {
         "alignmentgroup": "True",
         "bingroup": "x",
         "histfunc": "sum",
         "hovertemplate": "GRAND_PRIX=%{x}<br>SEASON=2015<br>sum of FLAP_KM/H=%{y}<extra></extra>",
         "legendgroup": "british",
         "marker": {
          "color": "#FF6692",
          "pattern": {
           "shape": ""
          }
         },
         "name": "british",
         "offsetgroup": "british",
         "orientation": "v",
         "showlegend": true,
         "type": "histogram",
         "x": [
          "british"
         ],
         "xaxis": "x",
         "y": [
          211.07475
         ],
         "yaxis": "y"
        },
        {
         "alignmentgroup": "True",
         "bingroup": "x",
         "histfunc": "sum",
         "hovertemplate": "GRAND_PRIX=%{x}<br>SEASON=2015<br>sum of FLAP_KM/H=%{y}<extra></extra>",
         "legendgroup": "canadian",
         "marker": {
          "color": "#B6E880",
          "pattern": {
           "shape": ""
          }
         },
         "name": "canadian",
         "offsetgroup": "canadian",
         "orientation": "v",
         "showlegend": true,
         "type": "histogram",
         "x": [
          "canadian"
         ],
         "xaxis": "x",
         "y": [
          199.9486
         ],
         "yaxis": "y"
        },
        {
         "alignmentgroup": "True",
         "bingroup": "x",
         "histfunc": "sum",
         "hovertemplate": "GRAND_PRIX=%{x}<br>SEASON=2015<br>sum of FLAP_KM/H=%{y}<extra></extra>",
         "legendgroup": "chinese",
         "marker": {
          "color": "#FF97FF",
          "pattern": {
           "shape": ""
          }
         },
         "name": "chinese",
         "offsetgroup": "chinese",
         "orientation": "v",
         "showlegend": true,
         "type": "histogram",
         "x": [
          "chinese"
         ],
         "xaxis": "x",
         "y": [
          188.99994999999998
         ],
         "yaxis": "y"
        },
        {
         "alignmentgroup": "True",
         "bingroup": "x",
         "histfunc": "sum",
         "hovertemplate": "GRAND_PRIX=%{x}<br>SEASON=2015<br>sum of FLAP_KM/H=%{y}<extra></extra>",
         "legendgroup": "hungarian",
         "marker": {
          "color": "#FECB52",
          "pattern": {
           "shape": ""
          }
         },
         "name": "hungarian",
         "offsetgroup": "hungarian",
         "orientation": "v",
         "showlegend": true,
         "type": "histogram",
         "x": [
          "hungarian"
         ],
         "xaxis": "x",
         "y": [
          180.3434
         ],
         "yaxis": "y"
        },
        {
         "alignmentgroup": "True",
         "bingroup": "x",
         "histfunc": "sum",
         "hovertemplate": "GRAND_PRIX=%{x}<br>SEASON=2015<br>sum of FLAP_KM/H=%{y}<extra></extra>",
         "legendgroup": "italian",
         "marker": {
          "color": "#636efa",
          "pattern": {
           "shape": ""
          }
         },
         "name": "italian",
         "offsetgroup": "italian",
         "orientation": "v",
         "showlegend": true,
         "type": "histogram",
         "x": [
          "italian"
         ],
         "xaxis": "x",
         "y": [
          235.99344444444444
         ],
         "yaxis": "y"
        },
        {
         "alignmentgroup": "True",
         "bingroup": "x",
         "histfunc": "sum",
         "hovertemplate": "GRAND_PRIX=%{x}<br>SEASON=2015<br>sum of FLAP_KM/H=%{y}<extra></extra>",
         "legendgroup": "japanese",
         "marker": {
          "color": "#EF553B",
          "pattern": {
           "shape": ""
          }
         },
         "name": "japanese",
         "offsetgroup": "japanese",
         "orientation": "v",
         "showlegend": true,
         "type": "histogram",
         "x": [
          "japanese"
         ],
         "xaxis": "x",
         "y": [
          211.67135
         ],
         "yaxis": "y"
        },
        {
         "alignmentgroup": "True",
         "bingroup": "x",
         "histfunc": "sum",
         "hovertemplate": "GRAND_PRIX=%{x}<br>SEASON=2015<br>sum of FLAP_KM/H=%{y}<extra></extra>",
         "legendgroup": "malaysian",
         "marker": {
          "color": "#00cc96",
          "pattern": {
           "shape": ""
          }
         },
         "name": "malaysian",
         "offsetgroup": "malaysian",
         "orientation": "v",
         "showlegend": true,
         "type": "histogram",
         "x": [
          "malaysian"
         ],
         "xaxis": "x",
         "y": [
          189.88968421052633
         ],
         "yaxis": "y"
        },
        {
         "alignmentgroup": "True",
         "bingroup": "x",
         "histfunc": "sum",
         "hovertemplate": "GRAND_PRIX=%{x}<br>SEASON=2015<br>sum of FLAP_KM/H=%{y}<extra></extra>",
         "legendgroup": "mexican",
         "marker": {
          "color": "#ab63fa",
          "pattern": {
           "shape": ""
          }
         },
         "name": "mexican",
         "offsetgroup": "mexican",
         "orientation": "v",
         "showlegend": true,
         "type": "histogram",
         "x": [
          "mexican"
         ],
         "xaxis": "x",
         "y": [
          187.6364210526316
         ],
         "yaxis": "y"
        },
        {
         "alignmentgroup": "True",
         "bingroup": "x",
         "histfunc": "sum",
         "hovertemplate": "GRAND_PRIX=%{x}<br>SEASON=2015<br>sum of FLAP_KM/H=%{y}<extra></extra>",
         "legendgroup": "monaco",
         "marker": {
          "color": "#FFA15A",
          "pattern": {
           "shape": ""
          }
         },
         "name": "monaco",
         "offsetgroup": "monaco",
         "orientation": "v",
         "showlegend": true,
         "type": "histogram",
         "x": [
          "monaco"
         ],
         "xaxis": "x",
         "y": [
          150.5396
         ],
         "yaxis": "y"
        },
        {
         "alignmentgroup": "True",
         "bingroup": "x",
         "histfunc": "sum",
         "hovertemplate": "GRAND_PRIX=%{x}<br>SEASON=2015<br>sum of FLAP_KM/H=%{y}<extra></extra>",
         "legendgroup": "russian",
         "marker": {
          "color": "#19d3f3",
          "pattern": {
           "shape": ""
          }
         },
         "name": "russian",
         "offsetgroup": "russian",
         "orientation": "v",
         "showlegend": true,
         "type": "histogram",
         "x": [
          "russian"
         ],
         "xaxis": "x",
         "y": [
          205.92899999999997
         ],
         "yaxis": "y"
        },
        {
         "alignmentgroup": "True",
         "bingroup": "x",
         "histfunc": "sum",
         "hovertemplate": "GRAND_PRIX=%{x}<br>SEASON=2015<br>sum of FLAP_KM/H=%{y}<extra></extra>",
         "legendgroup": "singapore",
         "marker": {
          "color": "#FF6692",
          "pattern": {
           "shape": ""
          }
         },
         "name": "singapore",
         "offsetgroup": "singapore",
         "orientation": "v",
         "showlegend": true,
         "type": "histogram",
         "x": [
          "singapore"
         ],
         "xaxis": "x",
         "y": [
          162.9178
         ],
         "yaxis": "y"
        },
        {
         "alignmentgroup": "True",
         "bingroup": "x",
         "histfunc": "sum",
         "hovertemplate": "GRAND_PRIX=%{x}<br>SEASON=2015<br>sum of FLAP_KM/H=%{y}<extra></extra>",
         "legendgroup": "spanish",
         "marker": {
          "color": "#B6E880",
          "pattern": {
           "shape": ""
          }
         },
         "name": "spanish",
         "offsetgroup": "spanish",
         "orientation": "v",
         "showlegend": true,
         "type": "histogram",
         "x": [
          "spanish"
         ],
         "xaxis": "x",
         "y": [
          183.24815
         ],
         "yaxis": "y"
        },
        {
         "alignmentgroup": "True",
         "bingroup": "x",
         "histfunc": "sum",
         "hovertemplate": "GRAND_PRIX=%{x}<br>SEASON=2015<br>sum of FLAP_KM/H=%{y}<extra></extra>",
         "legendgroup": "united-states",
         "marker": {
          "color": "#FF97FF",
          "pattern": {
           "shape": ""
          }
         },
         "name": "united-states",
         "offsetgroup": "united-states",
         "orientation": "v",
         "showlegend": true,
         "type": "histogram",
         "x": [
          "united-states"
         ],
         "xaxis": "x",
         "y": [
          186.5395263157895
         ],
         "yaxis": "y"
        }
       ],
       "frames": [
        {
         "data": [
          {
           "alignmentgroup": "True",
           "bingroup": "x",
           "histfunc": "sum",
           "hovertemplate": "GRAND_PRIX=%{x}<br>SEASON=2015<br>sum of FLAP_KM/H=%{y}<extra></extra>",
           "legendgroup": "abu-dhabi",
           "marker": {
            "color": "#636efa",
            "pattern": {
             "shape": ""
            }
           },
           "name": "abu-dhabi",
           "offsetgroup": "abu-dhabi",
           "orientation": "v",
           "showlegend": true,
           "type": "histogram",
           "x": [
            "abu-dhabi"
           ],
           "xaxis": "x",
           "y": [
            187.7707894736842
           ],
           "yaxis": "y"
          },
          {
           "alignmentgroup": "True",
           "bingroup": "x",
           "histfunc": "sum",
           "hovertemplate": "GRAND_PRIX=%{x}<br>SEASON=2015<br>sum of FLAP_KM/H=%{y}<extra></extra>",
           "legendgroup": "australian",
           "marker": {
            "color": "#EF553B",
            "pattern": {
             "shape": ""
            }
           },
           "name": "australian",
           "offsetgroup": "australian",
           "orientation": "v",
           "showlegend": true,
           "type": "histogram",
           "x": [
            "australian"
           ],
           "xaxis": "x",
           "y": [
            207.17569230769232
           ],
           "yaxis": "y"
          },
          {
           "alignmentgroup": "True",
           "bingroup": "x",
           "histfunc": "sum",
           "hovertemplate": "GRAND_PRIX=%{x}<br>SEASON=2015<br>sum of FLAP_KM/H=%{y}<extra></extra>",
           "legendgroup": "austrian",
           "marker": {
            "color": "#00cc96",
            "pattern": {
             "shape": ""
            }
           },
           "name": "austrian",
           "offsetgroup": "austrian",
           "orientation": "v",
           "showlegend": true,
           "type": "histogram",
           "x": [
            "austrian"
           ],
           "xaxis": "x",
           "y": [
            210.7585294117647
           ],
           "yaxis": "y"
          },
          {
           "alignmentgroup": "True",
           "bingroup": "x",
           "histfunc": "sum",
           "hovertemplate": "GRAND_PRIX=%{x}<br>SEASON=2015<br>sum of FLAP_KM/H=%{y}<extra></extra>",
           "legendgroup": "bahrain",
           "marker": {
            "color": "#ab63fa",
            "pattern": {
             "shape": ""
            }
           },
           "name": "bahrain",
           "offsetgroup": "bahrain",
           "orientation": "v",
           "showlegend": true,
           "type": "histogram",
           "x": [
            "bahrain"
           ],
           "xaxis": "x",
           "y": [
            197.316
           ],
           "yaxis": "y"
          },
          {
           "alignmentgroup": "True",
           "bingroup": "x",
           "histfunc": "sum",
           "hovertemplate": "GRAND_PRIX=%{x}<br>SEASON=2015<br>sum of FLAP_KM/H=%{y}<extra></extra>",
           "legendgroup": "belgian",
           "marker": {
            "color": "#FFA15A",
            "pattern": {
             "shape": ""
            }
           },
           "name": "belgian",
           "offsetgroup": "belgian",
           "orientation": "v",
           "showlegend": true,
           "type": "histogram",
           "x": [
            "belgian"
           ],
           "xaxis": "x",
           "y": [
            219.94644444444444
           ],
           "yaxis": "y"
          },
          {
           "alignmentgroup": "True",
           "bingroup": "x",
           "histfunc": "sum",
           "hovertemplate": "GRAND_PRIX=%{x}<br>SEASON=2015<br>sum of FLAP_KM/H=%{y}<extra></extra>",
           "legendgroup": "brazilian",
           "marker": {
            "color": "#19d3f3",
            "pattern": {
             "shape": ""
            }
           },
           "name": "brazilian",
           "offsetgroup": "brazilian",
           "orientation": "v",
           "showlegend": true,
           "type": "histogram",
           "x": [
            "brazilian"
           ],
           "xaxis": "x",
           "y": [
            203.47326315789473
           ],
           "yaxis": "y"
          },
          {
           "alignmentgroup": "True",
           "bingroup": "x",
           "histfunc": "sum",
           "hovertemplate": "GRAND_PRIX=%{x}<br>SEASON=2015<br>sum of FLAP_KM/H=%{y}<extra></extra>",
           "legendgroup": "british",
           "marker": {
            "color": "#FF6692",
            "pattern": {
             "shape": ""
            }
           },
           "name": "british",
           "offsetgroup": "british",
           "orientation": "v",
           "showlegend": true,
           "type": "histogram",
           "x": [
            "british"
           ],
           "xaxis": "x",
           "y": [
            211.07475
           ],
           "yaxis": "y"
          },
          {
           "alignmentgroup": "True",
           "bingroup": "x",
           "histfunc": "sum",
           "hovertemplate": "GRAND_PRIX=%{x}<br>SEASON=2015<br>sum of FLAP_KM/H=%{y}<extra></extra>",
           "legendgroup": "canadian",
           "marker": {
            "color": "#B6E880",
            "pattern": {
             "shape": ""
            }
           },
           "name": "canadian",
           "offsetgroup": "canadian",
           "orientation": "v",
           "showlegend": true,
           "type": "histogram",
           "x": [
            "canadian"
           ],
           "xaxis": "x",
           "y": [
            199.9486
           ],
           "yaxis": "y"
          },
          {
           "alignmentgroup": "True",
           "bingroup": "x",
           "histfunc": "sum",
           "hovertemplate": "GRAND_PRIX=%{x}<br>SEASON=2015<br>sum of FLAP_KM/H=%{y}<extra></extra>",
           "legendgroup": "chinese",
           "marker": {
            "color": "#FF97FF",
            "pattern": {
             "shape": ""
            }
           },
           "name": "chinese",
           "offsetgroup": "chinese",
           "orientation": "v",
           "showlegend": true,
           "type": "histogram",
           "x": [
            "chinese"
           ],
           "xaxis": "x",
           "y": [
            188.99994999999998
           ],
           "yaxis": "y"
          },
          {
           "alignmentgroup": "True",
           "bingroup": "x",
           "histfunc": "sum",
           "hovertemplate": "GRAND_PRIX=%{x}<br>SEASON=2015<br>sum of FLAP_KM/H=%{y}<extra></extra>",
           "legendgroup": "hungarian",
           "marker": {
            "color": "#FECB52",
            "pattern": {
             "shape": ""
            }
           },
           "name": "hungarian",
           "offsetgroup": "hungarian",
           "orientation": "v",
           "showlegend": true,
           "type": "histogram",
           "x": [
            "hungarian"
           ],
           "xaxis": "x",
           "y": [
            180.3434
           ],
           "yaxis": "y"
          },
          {
           "alignmentgroup": "True",
           "bingroup": "x",
           "histfunc": "sum",
           "hovertemplate": "GRAND_PRIX=%{x}<br>SEASON=2015<br>sum of FLAP_KM/H=%{y}<extra></extra>",
           "legendgroup": "italian",
           "marker": {
            "color": "#636efa",
            "pattern": {
             "shape": ""
            }
           },
           "name": "italian",
           "offsetgroup": "italian",
           "orientation": "v",
           "showlegend": true,
           "type": "histogram",
           "x": [
            "italian"
           ],
           "xaxis": "x",
           "y": [
            235.99344444444444
           ],
           "yaxis": "y"
          },
          {
           "alignmentgroup": "True",
           "bingroup": "x",
           "histfunc": "sum",
           "hovertemplate": "GRAND_PRIX=%{x}<br>SEASON=2015<br>sum of FLAP_KM/H=%{y}<extra></extra>",
           "legendgroup": "japanese",
           "marker": {
            "color": "#EF553B",
            "pattern": {
             "shape": ""
            }
           },
           "name": "japanese",
           "offsetgroup": "japanese",
           "orientation": "v",
           "showlegend": true,
           "type": "histogram",
           "x": [
            "japanese"
           ],
           "xaxis": "x",
           "y": [
            211.67135
           ],
           "yaxis": "y"
          },
          {
           "alignmentgroup": "True",
           "bingroup": "x",
           "histfunc": "sum",
           "hovertemplate": "GRAND_PRIX=%{x}<br>SEASON=2015<br>sum of FLAP_KM/H=%{y}<extra></extra>",
           "legendgroup": "malaysian",
           "marker": {
            "color": "#00cc96",
            "pattern": {
             "shape": ""
            }
           },
           "name": "malaysian",
           "offsetgroup": "malaysian",
           "orientation": "v",
           "showlegend": true,
           "type": "histogram",
           "x": [
            "malaysian"
           ],
           "xaxis": "x",
           "y": [
            189.88968421052633
           ],
           "yaxis": "y"
          },
          {
           "alignmentgroup": "True",
           "bingroup": "x",
           "histfunc": "sum",
           "hovertemplate": "GRAND_PRIX=%{x}<br>SEASON=2015<br>sum of FLAP_KM/H=%{y}<extra></extra>",
           "legendgroup": "mexican",
           "marker": {
            "color": "#ab63fa",
            "pattern": {
             "shape": ""
            }
           },
           "name": "mexican",
           "offsetgroup": "mexican",
           "orientation": "v",
           "showlegend": true,
           "type": "histogram",
           "x": [
            "mexican"
           ],
           "xaxis": "x",
           "y": [
            187.6364210526316
           ],
           "yaxis": "y"
          },
          {
           "alignmentgroup": "True",
           "bingroup": "x",
           "histfunc": "sum",
           "hovertemplate": "GRAND_PRIX=%{x}<br>SEASON=2015<br>sum of FLAP_KM/H=%{y}<extra></extra>",
           "legendgroup": "monaco",
           "marker": {
            "color": "#FFA15A",
            "pattern": {
             "shape": ""
            }
           },
           "name": "monaco",
           "offsetgroup": "monaco",
           "orientation": "v",
           "showlegend": true,
           "type": "histogram",
           "x": [
            "monaco"
           ],
           "xaxis": "x",
           "y": [
            150.5396
           ],
           "yaxis": "y"
          },
          {
           "alignmentgroup": "True",
           "bingroup": "x",
           "histfunc": "sum",
           "hovertemplate": "GRAND_PRIX=%{x}<br>SEASON=2015<br>sum of FLAP_KM/H=%{y}<extra></extra>",
           "legendgroup": "russian",
           "marker": {
            "color": "#19d3f3",
            "pattern": {
             "shape": ""
            }
           },
           "name": "russian",
           "offsetgroup": "russian",
           "orientation": "v",
           "showlegend": true,
           "type": "histogram",
           "x": [
            "russian"
           ],
           "xaxis": "x",
           "y": [
            205.92899999999997
           ],
           "yaxis": "y"
          },
          {
           "alignmentgroup": "True",
           "bingroup": "x",
           "histfunc": "sum",
           "hovertemplate": "GRAND_PRIX=%{x}<br>SEASON=2015<br>sum of FLAP_KM/H=%{y}<extra></extra>",
           "legendgroup": "singapore",
           "marker": {
            "color": "#FF6692",
            "pattern": {
             "shape": ""
            }
           },
           "name": "singapore",
           "offsetgroup": "singapore",
           "orientation": "v",
           "showlegend": true,
           "type": "histogram",
           "x": [
            "singapore"
           ],
           "xaxis": "x",
           "y": [
            162.9178
           ],
           "yaxis": "y"
          },
          {
           "alignmentgroup": "True",
           "bingroup": "x",
           "histfunc": "sum",
           "hovertemplate": "GRAND_PRIX=%{x}<br>SEASON=2015<br>sum of FLAP_KM/H=%{y}<extra></extra>",
           "legendgroup": "spanish",
           "marker": {
            "color": "#B6E880",
            "pattern": {
             "shape": ""
            }
           },
           "name": "spanish",
           "offsetgroup": "spanish",
           "orientation": "v",
           "showlegend": true,
           "type": "histogram",
           "x": [
            "spanish"
           ],
           "xaxis": "x",
           "y": [
            183.24815
           ],
           "yaxis": "y"
          },
          {
           "alignmentgroup": "True",
           "bingroup": "x",
           "histfunc": "sum",
           "hovertemplate": "GRAND_PRIX=%{x}<br>SEASON=2015<br>sum of FLAP_KM/H=%{y}<extra></extra>",
           "legendgroup": "united-states",
           "marker": {
            "color": "#FF97FF",
            "pattern": {
             "shape": ""
            }
           },
           "name": "united-states",
           "offsetgroup": "united-states",
           "orientation": "v",
           "showlegend": true,
           "type": "histogram",
           "x": [
            "united-states"
           ],
           "xaxis": "x",
           "y": [
            186.5395263157895
           ],
           "yaxis": "y"
          }
         ],
         "name": "2015"
        },
        {
         "data": [
          {
           "alignmentgroup": "True",
           "bingroup": "x",
           "histfunc": "sum",
           "hovertemplate": "GRAND_PRIX=%{x}<br>SEASON=2016<br>sum of FLAP_KM/H=%{y}<extra></extra>",
           "legendgroup": "abu-dhabi",
           "marker": {
            "color": "#636efa",
            "pattern": {
             "shape": ""
            }
           },
           "name": "abu-dhabi",
           "offsetgroup": "abu-dhabi",
           "orientation": "v",
           "showlegend": true,
           "type": "histogram",
           "x": [
            "abu-dhabi"
           ],
           "xaxis": "x",
           "y": [
            188.59727272727275
           ],
           "yaxis": "y"
          },
          {
           "alignmentgroup": "True",
           "bingroup": "x",
           "histfunc": "sum",
           "hovertemplate": "GRAND_PRIX=%{x}<br>SEASON=2016<br>sum of FLAP_KM/H=%{y}<extra></extra>",
           "legendgroup": "australian",
           "marker": {
            "color": "#EF553B",
            "pattern": {
             "shape": ""
            }
           },
           "name": "australian",
           "offsetgroup": "australian",
           "orientation": "v",
           "showlegend": true,
           "type": "histogram",
           "x": [
            "australian"
           ],
           "xaxis": "x",
           "y": [
            207.50904999999997
           ],
           "yaxis": "y"
          },
          {
           "alignmentgroup": "True",
           "bingroup": "x",
           "histfunc": "sum",
           "hovertemplate": "GRAND_PRIX=%{x}<br>SEASON=2016<br>sum of FLAP_KM/H=%{y}<extra></extra>",
           "legendgroup": "austrian",
           "marker": {
            "color": "#00cc96",
            "pattern": {
             "shape": ""
            }
           },
           "name": "austrian",
           "offsetgroup": "austrian",
           "orientation": "v",
           "showlegend": true,
           "type": "histogram",
           "x": [
            "austrian"
           ],
           "xaxis": "x",
           "y": [
            221.4454090909091
           ],
           "yaxis": "y"
          },
          {
           "alignmentgroup": "True",
           "bingroup": "x",
           "histfunc": "sum",
           "hovertemplate": "GRAND_PRIX=%{x}<br>SEASON=2016<br>sum of FLAP_KM/H=%{y}<extra></extra>",
           "legendgroup": "bahrain",
           "marker": {
            "color": "#ab63fa",
            "pattern": {
             "shape": ""
            }
           },
           "name": "bahrain",
           "offsetgroup": "bahrain",
           "orientation": "v",
           "showlegend": true,
           "type": "histogram",
           "x": [
            "bahrain"
           ],
           "xaxis": "x",
           "y": [
            202.03765
           ],
           "yaxis": "y"
          },
          {
           "alignmentgroup": "True",
           "bingroup": "x",
           "histfunc": "sum",
           "hovertemplate": "GRAND_PRIX=%{x}<br>SEASON=2016<br>sum of FLAP_KM/H=%{y}<extra></extra>",
           "legendgroup": "belgian",
           "marker": {
            "color": "#FFA15A",
            "pattern": {
             "shape": ""
            }
           },
           "name": "belgian",
           "offsetgroup": "belgian",
           "orientation": "v",
           "showlegend": true,
           "type": "histogram",
           "x": [
            "belgian"
           ],
           "xaxis": "x",
           "y": [
            219.87794736842102
           ],
           "yaxis": "y"
          },
          {
           "alignmentgroup": "True",
           "bingroup": "x",
           "histfunc": "sum",
           "hovertemplate": "GRAND_PRIX=%{x}<br>SEASON=2016<br>sum of FLAP_KM/H=%{y}<extra></extra>",
           "legendgroup": "brazilian",
           "marker": {
            "color": "#19d3f3",
            "pattern": {
             "shape": ""
            }
           },
           "name": "brazilian",
           "offsetgroup": "brazilian",
           "orientation": "v",
           "showlegend": true,
           "type": "histogram",
           "x": [
            "brazilian"
           ],
           "xaxis": "x",
           "y": [
            177.4882380952381
           ],
           "yaxis": "y"
          },
          {
           "alignmentgroup": "True",
           "bingroup": "x",
           "histfunc": "sum",
           "hovertemplate": "GRAND_PRIX=%{x}<br>SEASON=2016<br>sum of FLAP_KM/H=%{y}<extra></extra>",
           "legendgroup": "british",
           "marker": {
            "color": "#FF6692",
            "pattern": {
             "shape": ""
            }
           },
           "name": "british",
           "offsetgroup": "british",
           "orientation": "v",
           "showlegend": true,
           "type": "histogram",
           "x": [
            "british"
           ],
           "xaxis": "x",
           "y": [
            210.16163636363635
           ],
           "yaxis": "y"
          },
          {
           "alignmentgroup": "True",
           "bingroup": "x",
           "histfunc": "sum",
           "hovertemplate": "GRAND_PRIX=%{x}<br>SEASON=2016<br>sum of FLAP_KM/H=%{y}<extra></extra>",
           "legendgroup": "canadian",
           "marker": {
            "color": "#B6E880",
            "pattern": {
             "shape": ""
            }
           },
           "name": "canadian",
           "offsetgroup": "canadian",
           "orientation": "v",
           "showlegend": true,
           "type": "histogram",
           "x": [
            "canadian"
           ],
           "xaxis": "x",
           "y": [
            203.03472727272728
           ],
           "yaxis": "y"
          },
          {
           "alignmentgroup": "True",
           "bingroup": "x",
           "histfunc": "sum",
           "hovertemplate": "GRAND_PRIX=%{x}<br>SEASON=2016<br>sum of FLAP_KM/H=%{y}<extra></extra>",
           "legendgroup": "chinese",
           "marker": {
            "color": "#FF97FF",
            "pattern": {
             "shape": ""
            }
           },
           "name": "chinese",
           "offsetgroup": "chinese",
           "orientation": "v",
           "showlegend": true,
           "type": "histogram",
           "x": [
            "chinese"
           ],
           "xaxis": "x",
           "y": [
            193.9165909090909
           ],
           "yaxis": "y"
          },
          {
           "alignmentgroup": "True",
           "bingroup": "x",
           "histfunc": "sum",
           "hovertemplate": "GRAND_PRIX=%{x}<br>SEASON=2016<br>sum of FLAP_KM/H=%{y}<extra></extra>",
           "legendgroup": "hungarian",
           "marker": {
            "color": "#FECB52",
            "pattern": {
             "shape": ""
            }
           },
           "name": "hungarian",
           "offsetgroup": "hungarian",
           "orientation": "v",
           "showlegend": true,
           "type": "histogram",
           "x": [
            "hungarian"
           ],
           "xaxis": "x",
           "y": [
            184.9729090909091
           ],
           "yaxis": "y"
          },
          {
           "alignmentgroup": "True",
           "bingroup": "x",
           "histfunc": "sum",
           "hovertemplate": "GRAND_PRIX=%{x}<br>SEASON=2016<br>sum of FLAP_KM/H=%{y}<extra></extra>",
           "legendgroup": "italian",
           "marker": {
            "color": "#636efa",
            "pattern": {
             "shape": ""
            }
           },
           "name": "italian",
           "offsetgroup": "italian",
           "orientation": "v",
           "showlegend": true,
           "type": "histogram",
           "x": [
            "italian"
           ],
           "xaxis": "x",
           "y": [
            239.3505238095238
           ],
           "yaxis": "y"
          },
          {
           "alignmentgroup": "True",
           "bingroup": "x",
           "histfunc": "sum",
           "hovertemplate": "GRAND_PRIX=%{x}<br>SEASON=2016<br>sum of FLAP_KM/H=%{y}<extra></extra>",
           "legendgroup": "japanese",
           "marker": {
            "color": "#EF553B",
            "pattern": {
             "shape": ""
            }
           },
           "name": "japanese",
           "offsetgroup": "japanese",
           "orientation": "v",
           "showlegend": true,
           "type": "histogram",
           "x": [
            "japanese"
           ],
           "xaxis": "x",
           "y": [
            215.05131818181817
           ],
           "yaxis": "y"
          },
          {
           "alignmentgroup": "True",
           "bingroup": "x",
           "histfunc": "sum",
           "hovertemplate": "GRAND_PRIX=%{x}<br>SEASON=2016<br>sum of FLAP_KM/H=%{y}<extra></extra>",
           "legendgroup": "malaysian",
           "marker": {
            "color": "#00cc96",
            "pattern": {
             "shape": ""
            }
           },
           "name": "malaysian",
           "offsetgroup": "malaysian",
           "orientation": "v",
           "showlegend": true,
           "type": "histogram",
           "x": [
            "malaysian"
           ],
           "xaxis": "x",
           "y": [
            200.78519047619045
           ],
           "yaxis": "y"
          },
          {
           "alignmentgroup": "True",
           "bingroup": "x",
           "histfunc": "sum",
           "hovertemplate": "GRAND_PRIX=%{x}<br>SEASON=2016<br>sum of FLAP_KM/H=%{y}<extra></extra>",
           "legendgroup": "mexican",
           "marker": {
            "color": "#ab63fa",
            "pattern": {
             "shape": ""
            }
           },
           "name": "mexican",
           "offsetgroup": "mexican",
           "orientation": "v",
           "showlegend": true,
           "type": "histogram",
           "x": [
            "mexican"
           ],
           "xaxis": "x",
           "y": [
            185.80485714285714
           ],
           "yaxis": "y"
          },
          {
           "alignmentgroup": "True",
           "bingroup": "x",
           "histfunc": "sum",
           "hovertemplate": "GRAND_PRIX=%{x}<br>SEASON=2016<br>sum of FLAP_KM/H=%{y}<extra></extra>",
           "legendgroup": "monaco",
           "marker": {
            "color": "#FFA15A",
            "pattern": {
             "shape": ""
            }
           },
           "name": "monaco",
           "offsetgroup": "monaco",
           "orientation": "v",
           "showlegend": true,
           "type": "histogram",
           "x": [
            "monaco"
           ],
           "xaxis": "x",
           "y": [
            144.64981818181818
           ],
           "yaxis": "y"
          },
          {
           "alignmentgroup": "True",
           "bingroup": "x",
           "histfunc": "sum",
           "hovertemplate": "GRAND_PRIX=%{x}<br>SEASON=2016<br>sum of FLAP_KM/H=%{y}<extra></extra>",
           "legendgroup": "russian",
           "marker": {
            "color": "#19d3f3",
            "pattern": {
             "shape": ""
            }
           },
           "name": "russian",
           "offsetgroup": "russian",
           "orientation": "v",
           "showlegend": true,
           "type": "histogram",
           "x": [
            "russian"
           ],
           "xaxis": "x",
           "y": [
            207.57763157894738
           ],
           "yaxis": "y"
          },
          {
           "alignmentgroup": "True",
           "bingroup": "x",
           "histfunc": "sum",
           "hovertemplate": "GRAND_PRIX=%{x}<br>SEASON=2016<br>sum of FLAP_KM/H=%{y}<extra></extra>",
           "legendgroup": "singapore",
           "marker": {
            "color": "#FF6692",
            "pattern": {
             "shape": ""
            }
           },
           "name": "singapore",
           "offsetgroup": "singapore",
           "orientation": "v",
           "showlegend": true,
           "type": "histogram",
           "x": [
            "singapore"
           ],
           "xaxis": "x",
           "y": [
            165.14659999999998
           ],
           "yaxis": "y"
          },
          {
           "alignmentgroup": "True",
           "bingroup": "x",
           "histfunc": "sum",
           "hovertemplate": "GRAND_PRIX=%{x}<br>SEASON=2016<br>sum of FLAP_KM/H=%{y}<extra></extra>",
           "legendgroup": "spanish",
           "marker": {
            "color": "#B6E880",
            "pattern": {
             "shape": ""
            }
           },
           "name": "spanish",
           "offsetgroup": "spanish",
           "orientation": "v",
           "showlegend": true,
           "type": "histogram",
           "x": [
            "spanish"
           ],
           "xaxis": "x",
           "y": [
            187.4859
           ],
           "yaxis": "y"
          },
          {
           "alignmentgroup": "True",
           "bingroup": "x",
           "histfunc": "sum",
           "hovertemplate": "GRAND_PRIX=%{x}<br>SEASON=2016<br>sum of FLAP_KM/H=%{y}<extra></extra>",
           "legendgroup": "united-states",
           "marker": {
            "color": "#FF97FF",
            "pattern": {
             "shape": ""
            }
           },
           "name": "united-states",
           "offsetgroup": "united-states",
           "orientation": "v",
           "showlegend": true,
           "type": "histogram",
           "x": [
            "united-states"
           ],
           "xaxis": "x",
           "y": [
            191.74514285714287
           ],
           "yaxis": "y"
          },
          {
           "alignmentgroup": "True",
           "bingroup": "x",
           "histfunc": "sum",
           "hovertemplate": "GRAND_PRIX=%{x}<br>SEASON=2016<br>sum of FLAP_KM/H=%{y}<extra></extra>",
           "legendgroup": "european",
           "marker": {
            "color": "#FECB52",
            "pattern": {
             "shape": ""
            }
           },
           "name": "european",
           "offsetgroup": "european",
           "orientation": "v",
           "showlegend": true,
           "type": "histogram",
           "x": [
            "european"
           ],
           "xaxis": "x",
           "y": [
            199.62063636363638
           ],
           "yaxis": "y"
          },
          {
           "alignmentgroup": "True",
           "bingroup": "x",
           "histfunc": "sum",
           "hovertemplate": "GRAND_PRIX=%{x}<br>SEASON=2016<br>sum of FLAP_KM/H=%{y}<extra></extra>",
           "legendgroup": "german",
           "marker": {
            "color": "#636efa",
            "pattern": {
             "shape": ""
            }
           },
           "name": "german",
           "offsetgroup": "german",
           "orientation": "v",
           "showlegend": true,
           "type": "histogram",
           "x": [
            "german"
           ],
           "xaxis": "x",
           "y": [
            205.55377272727273
           ],
           "yaxis": "y"
          }
         ],
         "name": "2016"
        },
        {
         "data": [
          {
           "alignmentgroup": "True",
           "bingroup": "x",
           "histfunc": "sum",
           "hovertemplate": "GRAND_PRIX=%{x}<br>SEASON=2017<br>sum of FLAP_KM/H=%{y}<extra></extra>",
           "legendgroup": "abu-dhabi",
           "marker": {
            "color": "#636efa",
            "pattern": {
             "shape": ""
            }
           },
           "name": "abu-dhabi",
           "offsetgroup": "abu-dhabi",
           "orientation": "v",
           "showlegend": true,
           "type": "histogram",
           "x": [
            "abu-dhabi"
           ],
           "xaxis": "x",
           "y": [
            194.7422
           ],
           "yaxis": "y"
          },
          {
           "alignmentgroup": "True",
           "bingroup": "x",
           "histfunc": "sum",
           "hovertemplate": "GRAND_PRIX=%{x}<br>SEASON=2017<br>sum of FLAP_KM/H=%{y}<extra></extra>",
           "legendgroup": "australian",
           "marker": {
            "color": "#EF553B",
            "pattern": {
             "shape": ""
            }
           },
           "name": "australian",
           "offsetgroup": "australian",
           "orientation": "v",
           "showlegend": true,
           "type": "histogram",
           "x": [
            "australian"
           ],
           "xaxis": "x",
           "y": [
            215.67979999999997
           ],
           "yaxis": "y"
          },
          {
           "alignmentgroup": "True",
           "bingroup": "x",
           "histfunc": "sum",
           "hovertemplate": "GRAND_PRIX=%{x}<br>SEASON=2017<br>sum of FLAP_KM/H=%{y}<extra></extra>",
           "legendgroup": "austrian",
           "marker": {
            "color": "#00cc96",
            "pattern": {
             "shape": ""
            }
           },
           "name": "austrian",
           "offsetgroup": "austrian",
           "orientation": "v",
           "showlegend": true,
           "type": "histogram",
           "x": [
            "austrian"
           ],
           "xaxis": "x",
           "y": [
            226.9865
           ],
           "yaxis": "y"
          },
          {
           "alignmentgroup": "True",
           "bingroup": "x",
           "histfunc": "sum",
           "hovertemplate": "GRAND_PRIX=%{x}<br>SEASON=2017<br>sum of FLAP_KM/H=%{y}<extra></extra>",
           "legendgroup": "bahrain",
           "marker": {
            "color": "#ab63fa",
            "pattern": {
             "shape": ""
            }
           },
           "name": "bahrain",
           "offsetgroup": "bahrain",
           "orientation": "v",
           "showlegend": true,
           "type": "histogram",
           "x": [
            "bahrain"
           ],
           "xaxis": "x",
           "y": [
            204.56594736842106
           ],
           "yaxis": "y"
          },
          {
           "alignmentgroup": "True",
           "bingroup": "x",
           "histfunc": "sum",
           "hovertemplate": "GRAND_PRIX=%{x}<br>SEASON=2017<br>sum of FLAP_KM/H=%{y}<extra></extra>",
           "legendgroup": "belgian",
           "marker": {
            "color": "#FFA15A",
            "pattern": {
             "shape": ""
            }
           },
           "name": "belgian",
           "offsetgroup": "belgian",
           "orientation": "v",
           "showlegend": true,
           "type": "histogram",
           "x": [
            "belgian"
           ],
           "xaxis": "x",
           "y": [
            231.06747368421054
           ],
           "yaxis": "y"
          },
          {
           "alignmentgroup": "True",
           "bingroup": "x",
           "histfunc": "sum",
           "hovertemplate": "GRAND_PRIX=%{x}<br>SEASON=2017<br>sum of FLAP_KM/H=%{y}<extra></extra>",
           "legendgroup": "brazilian",
           "marker": {
            "color": "#19d3f3",
            "pattern": {
             "shape": ""
            }
           },
           "name": "brazilian",
           "offsetgroup": "brazilian",
           "orientation": "v",
           "showlegend": true,
           "type": "histogram",
           "x": [
            "brazilian"
           ],
           "xaxis": "x",
           "y": [
            212.43276470588236
           ],
           "yaxis": "y"
          },
          {
           "alignmentgroup": "True",
           "bingroup": "x",
           "histfunc": "sum",
           "hovertemplate": "GRAND_PRIX=%{x}<br>SEASON=2017<br>sum of FLAP_KM/H=%{y}<extra></extra>",
           "legendgroup": "british",
           "marker": {
            "color": "#FF6692",
            "pattern": {
             "shape": ""
            }
           },
           "name": "british",
           "offsetgroup": "british",
           "orientation": "v",
           "showlegend": true,
           "type": "histogram",
           "x": [
            "british"
           ],
           "xaxis": "x",
           "y": [
            229.0571666666667
           ],
           "yaxis": "y"
          },
          {
           "alignmentgroup": "True",
           "bingroup": "x",
           "histfunc": "sum",
           "hovertemplate": "GRAND_PRIX=%{x}<br>SEASON=2017<br>sum of FLAP_KM/H=%{y}<extra></extra>",
           "legendgroup": "canadian",
           "marker": {
            "color": "#B6E880",
            "pattern": {
             "shape": ""
            }
           },
           "name": "canadian",
           "offsetgroup": "canadian",
           "orientation": "v",
           "showlegend": true,
           "type": "histogram",
           "x": [
            "canadian"
           ],
           "xaxis": "x",
           "y": [
            205.98222222222222
           ],
           "yaxis": "y"
          },
          {
           "alignmentgroup": "True",
           "bingroup": "x",
           "histfunc": "sum",
           "hovertemplate": "GRAND_PRIX=%{x}<br>SEASON=2017<br>sum of FLAP_KM/H=%{y}<extra></extra>",
           "legendgroup": "chinese",
           "marker": {
            "color": "#FF97FF",
            "pattern": {
             "shape": ""
            }
           },
           "name": "chinese",
           "offsetgroup": "chinese",
           "orientation": "v",
           "showlegend": true,
           "type": "histogram",
           "x": [
            "chinese"
           ],
           "xaxis": "x",
           "y": [
            201.24455555555556
           ],
           "yaxis": "y"
          },
          {
           "alignmentgroup": "True",
           "bingroup": "x",
           "histfunc": "sum",
           "hovertemplate": "GRAND_PRIX=%{x}<br>SEASON=2017<br>sum of FLAP_KM/H=%{y}<extra></extra>",
           "legendgroup": "hungarian",
           "marker": {
            "color": "#FECB52",
            "pattern": {
             "shape": ""
            }
           },
           "name": "hungarian",
           "offsetgroup": "hungarian",
           "orientation": "v",
           "showlegend": true,
           "type": "histogram",
           "x": [
            "hungarian"
           ],
           "xaxis": "x",
           "y": [
            192.69715789473685
           ],
           "yaxis": "y"
          },
          {
           "alignmentgroup": "True",
           "bingroup": "x",
           "histfunc": "sum",
           "hovertemplate": "GRAND_PRIX=%{x}<br>SEASON=2017<br>sum of FLAP_KM/H=%{y}<extra></extra>",
           "legendgroup": "italian",
           "marker": {
            "color": "#636efa",
            "pattern": {
             "shape": ""
            }
           },
           "name": "italian",
           "offsetgroup": "italian",
           "orientation": "v",
           "showlegend": true,
           "type": "histogram",
           "x": [
            "italian"
           ],
           "xaxis": "x",
           "y": [
            244.29614999999998
           ],
           "yaxis": "y"
          },
          {
           "alignmentgroup": "True",
           "bingroup": "x",
           "histfunc": "sum",
           "hovertemplate": "GRAND_PRIX=%{x}<br>SEASON=2017<br>sum of FLAP_KM/H=%{y}<extra></extra>",
           "legendgroup": "japanese",
           "marker": {
            "color": "#EF553B",
            "pattern": {
             "shape": ""
            }
           },
           "name": "japanese",
           "offsetgroup": "japanese",
           "orientation": "v",
           "showlegend": true,
           "type": "histogram",
           "x": [
            "japanese"
           ],
           "xaxis": "x",
           "y": [
            217.62052631578948
           ],
           "yaxis": "y"
          },
          {
           "alignmentgroup": "True",
           "bingroup": "x",
           "histfunc": "sum",
           "hovertemplate": "GRAND_PRIX=%{x}<br>SEASON=2017<br>sum of FLAP_KM/H=%{y}<extra></extra>",
           "legendgroup": "malaysian",
           "marker": {
            "color": "#00cc96",
            "pattern": {
             "shape": ""
            }
           },
           "name": "malaysian",
           "offsetgroup": "malaysian",
           "orientation": "v",
           "showlegend": true,
           "type": "histogram",
           "x": [
            "malaysian"
           ],
           "xaxis": "x",
           "y": [
            207.83784210526315
           ],
           "yaxis": "y"
          },
          {
           "alignmentgroup": "True",
           "bingroup": "x",
           "histfunc": "sum",
           "hovertemplate": "GRAND_PRIX=%{x}<br>SEASON=2017<br>sum of FLAP_KM/H=%{y}<extra></extra>",
           "legendgroup": "mexican",
           "marker": {
            "color": "#ab63fa",
            "pattern": {
             "shape": ""
            }
           },
           "name": "mexican",
           "offsetgroup": "mexican",
           "orientation": "v",
           "showlegend": true,
           "type": "histogram",
           "x": [
            "mexican"
           ],
           "xaxis": "x",
           "y": [
            191.76330000000002
           ],
           "yaxis": "y"
          },
          {
           "alignmentgroup": "True",
           "bingroup": "x",
           "histfunc": "sum",
           "hovertemplate": "GRAND_PRIX=%{x}<br>SEASON=2017<br>sum of FLAP_KM/H=%{y}<extra></extra>",
           "legendgroup": "monaco",
           "marker": {
            "color": "#FFA15A",
            "pattern": {
             "shape": ""
            }
           },
           "name": "monaco",
           "offsetgroup": "monaco",
           "orientation": "v",
           "showlegend": true,
           "type": "histogram",
           "x": [
            "monaco"
           ],
           "xaxis": "x",
           "y": [
            157.1974
           ],
           "yaxis": "y"
          },
          {
           "alignmentgroup": "True",
           "bingroup": "x",
           "histfunc": "sum",
           "hovertemplate": "GRAND_PRIX=%{x}<br>SEASON=2017<br>sum of FLAP_KM/H=%{y}<extra></extra>",
           "legendgroup": "russian",
           "marker": {
            "color": "#19d3f3",
            "pattern": {
             "shape": ""
            }
           },
           "name": "russian",
           "offsetgroup": "russian",
           "orientation": "v",
           "showlegend": true,
           "type": "histogram",
           "x": [
            "russian"
           ],
           "xaxis": "x",
           "y": [
            212.96429411764706
           ],
           "yaxis": "y"
          },
          {
           "alignmentgroup": "True",
           "bingroup": "x",
           "histfunc": "sum",
           "hovertemplate": "GRAND_PRIX=%{x}<br>SEASON=2017<br>sum of FLAP_KM/H=%{y}<extra></extra>",
           "legendgroup": "singapore",
           "marker": {
            "color": "#FF6692",
            "pattern": {
             "shape": ""
            }
           },
           "name": "singapore",
           "offsetgroup": "singapore",
           "orientation": "v",
           "showlegend": true,
           "type": "histogram",
           "x": [
            "singapore"
           ],
           "xaxis": "x",
           "y": [
            166.23205882352943
           ],
           "yaxis": "y"
          },
          {
           "alignmentgroup": "True",
           "bingroup": "x",
           "histfunc": "sum",
           "hovertemplate": "GRAND_PRIX=%{x}<br>SEASON=2017<br>sum of FLAP_KM/H=%{y}<extra></extra>",
           "legendgroup": "spanish",
           "marker": {
            "color": "#B6E880",
            "pattern": {
             "shape": ""
            }
           },
           "name": "spanish",
           "offsetgroup": "spanish",
           "orientation": "v",
           "showlegend": true,
           "type": "histogram",
           "x": [
            "spanish"
           ],
           "xaxis": "x",
           "y": [
            195.64911111111113
           ],
           "yaxis": "y"
          },
          {
           "alignmentgroup": "True",
           "bingroup": "x",
           "histfunc": "sum",
           "hovertemplate": "GRAND_PRIX=%{x}<br>SEASON=2017<br>sum of FLAP_KM/H=%{y}<extra></extra>",
           "legendgroup": "united-states",
           "marker": {
            "color": "#FF97FF",
            "pattern": {
             "shape": ""
            }
           },
           "name": "united-states",
           "offsetgroup": "united-states",
           "orientation": "v",
           "showlegend": true,
           "type": "histogram",
           "x": [
            "united-states"
           ],
           "xaxis": "x",
           "y": [
            197.8394
           ],
           "yaxis": "y"
          },
          {
           "alignmentgroup": "True",
           "bingroup": "x",
           "histfunc": "sum",
           "hovertemplate": "GRAND_PRIX=%{x}<br>SEASON=2017<br>sum of FLAP_KM/H=%{y}<extra></extra>",
           "legendgroup": "azerbaijan",
           "marker": {
            "color": "#EF553B",
            "pattern": {
             "shape": ""
            }
           },
           "name": "azerbaijan",
           "offsetgroup": "azerbaijan",
           "orientation": "v",
           "showlegend": true,
           "type": "histogram",
           "x": [
            "azerbaijan"
           ],
           "xaxis": "x",
           "y": [
            203.45094999999998
           ],
           "yaxis": "y"
          }
         ],
         "name": "2017"
        },
        {
         "data": [
          {
           "alignmentgroup": "True",
           "bingroup": "x",
           "histfunc": "sum",
           "hovertemplate": "GRAND_PRIX=%{x}<br>SEASON=2018<br>sum of FLAP_KM/H=%{y}<extra></extra>",
           "legendgroup": "abu-dhabi",
           "marker": {
            "color": "#636efa",
            "pattern": {
             "shape": ""
            }
           },
           "name": "abu-dhabi",
           "offsetgroup": "abu-dhabi",
           "orientation": "v",
           "showlegend": true,
           "type": "histogram",
           "x": [
            "abu-dhabi"
           ],
           "xaxis": "x",
           "y": [
            194.26236842105263
           ],
           "yaxis": "y"
          },
          {
           "alignmentgroup": "True",
           "bingroup": "x",
           "histfunc": "sum",
           "hovertemplate": "GRAND_PRIX=%{x}<br>SEASON=2018<br>sum of FLAP_KM/H=%{y}<extra></extra>",
           "legendgroup": "australian",
           "marker": {
            "color": "#EF553B",
            "pattern": {
             "shape": ""
            }
           },
           "name": "australian",
           "offsetgroup": "australian",
           "orientation": "v",
           "showlegend": true,
           "type": "histogram",
           "x": [
            "australian"
           ],
           "xaxis": "x",
           "y": [
            216.7181
           ],
           "yaxis": "y"
          },
          {
           "alignmentgroup": "True",
           "bingroup": "x",
           "histfunc": "sum",
           "hovertemplate": "GRAND_PRIX=%{x}<br>SEASON=2018<br>sum of FLAP_KM/H=%{y}<extra></extra>",
           "legendgroup": "austrian",
           "marker": {
            "color": "#00cc96",
            "pattern": {
             "shape": ""
            }
           },
           "name": "austrian",
           "offsetgroup": "austrian",
           "orientation": "v",
           "showlegend": true,
           "type": "histogram",
           "x": [
            "austrian"
           ],
           "xaxis": "x",
           "y": [
            null
           ],
           "yaxis": "y"
          },
          {
           "alignmentgroup": "True",
           "bingroup": "x",
           "histfunc": "sum",
           "hovertemplate": "GRAND_PRIX=%{x}<br>SEASON=2018<br>sum of FLAP_KM/H=%{y}<extra></extra>",
           "legendgroup": "bahrain",
           "marker": {
            "color": "#ab63fa",
            "pattern": {
             "shape": ""
            }
           },
           "name": "bahrain",
           "offsetgroup": "bahrain",
           "orientation": "v",
           "showlegend": true,
           "type": "histogram",
           "x": [
            "bahrain"
           ],
           "xaxis": "x",
           "y": [
            205.81166666666667
           ],
           "yaxis": "y"
          },
          {
           "alignmentgroup": "True",
           "bingroup": "x",
           "histfunc": "sum",
           "hovertemplate": "GRAND_PRIX=%{x}<br>SEASON=2018<br>sum of FLAP_KM/H=%{y}<extra></extra>",
           "legendgroup": "belgian",
           "marker": {
            "color": "#FFA15A",
            "pattern": {
             "shape": ""
            }
           },
           "name": "belgian",
           "offsetgroup": "belgian",
           "orientation": "v",
           "showlegend": true,
           "type": "histogram",
           "x": [
            "belgian"
           ],
           "xaxis": "x",
           "y": [
            232.43441176470589
           ],
           "yaxis": "y"
          },
          {
           "alignmentgroup": "True",
           "bingroup": "x",
           "histfunc": "sum",
           "hovertemplate": "GRAND_PRIX=%{x}<br>SEASON=2018<br>sum of FLAP_KM/H=%{y}<extra></extra>",
           "legendgroup": "brazilian",
           "marker": {
            "color": "#19d3f3",
            "pattern": {
             "shape": ""
            }
           },
           "name": "brazilian",
           "offsetgroup": "brazilian",
           "orientation": "v",
           "showlegend": true,
           "type": "histogram",
           "x": [
            "brazilian"
           ],
           "xaxis": "x",
           "y": [
            null
           ],
           "yaxis": "y"
          },
          {
           "alignmentgroup": "True",
           "bingroup": "x",
           "histfunc": "sum",
           "hovertemplate": "GRAND_PRIX=%{x}<br>SEASON=2018<br>sum of FLAP_KM/H=%{y}<extra></extra>",
           "legendgroup": "british",
           "marker": {
            "color": "#FF6692",
            "pattern": {
             "shape": ""
            }
           },
           "name": "british",
           "offsetgroup": "british",
           "orientation": "v",
           "showlegend": true,
           "type": "histogram",
           "x": [
            "british"
           ],
           "xaxis": "x",
           "y": [
            227.87126315789473
           ],
           "yaxis": "y"
          },
          {
           "alignmentgroup": "True",
           "bingroup": "x",
           "histfunc": "sum",
           "hovertemplate": "GRAND_PRIX=%{x}<br>SEASON=2018<br>sum of FLAP_KM/H=%{y}<extra></extra>",
           "legendgroup": "canadian",
           "marker": {
            "color": "#B6E880",
            "pattern": {
             "shape": ""
            }
           },
           "name": "canadian",
           "offsetgroup": "canadian",
           "orientation": "v",
           "showlegend": true,
           "type": "histogram",
           "x": [
            "canadian"
           ],
           "xaxis": "x",
           "y": [
            208.9625
           ],
           "yaxis": "y"
          },
          {
           "alignmentgroup": "True",
           "bingroup": "x",
           "histfunc": "sum",
           "hovertemplate": "GRAND_PRIX=%{x}<br>SEASON=2018<br>sum of FLAP_KM/H=%{y}<extra></extra>",
           "legendgroup": "chinese",
           "marker": {
            "color": "#FF97FF",
            "pattern": {
             "shape": ""
            }
           },
           "name": "chinese",
           "offsetgroup": "chinese",
           "orientation": "v",
           "showlegend": true,
           "type": "histogram",
           "x": [
            "chinese"
           ],
           "xaxis": "x",
           "y": [
            200.9675
           ],
           "yaxis": "y"
          },
          {
           "alignmentgroup": "True",
           "bingroup": "x",
           "histfunc": "sum",
           "hovertemplate": "GRAND_PRIX=%{x}<br>SEASON=2018<br>sum of FLAP_KM/H=%{y}<extra></extra>",
           "legendgroup": "hungarian",
           "marker": {
            "color": "#FECB52",
            "pattern": {
             "shape": ""
            }
           },
           "name": "hungarian",
           "offsetgroup": "hungarian",
           "orientation": "v",
           "showlegend": true,
           "type": "histogram",
           "x": [
            "hungarian"
           ],
           "xaxis": "x",
           "y": [
            192.03536842105262
           ],
           "yaxis": "y"
          },
          {
           "alignmentgroup": "True",
           "bingroup": "x",
           "histfunc": "sum",
           "hovertemplate": "GRAND_PRIX=%{x}<br>SEASON=2018<br>sum of FLAP_KM/H=%{y}<extra></extra>",
           "legendgroup": "italian",
           "marker": {
            "color": "#636efa",
            "pattern": {
             "shape": ""
            }
           },
           "name": "italian",
           "offsetgroup": "italian",
           "orientation": "v",
           "showlegend": true,
           "type": "histogram",
           "x": [
            "italian"
           ],
           "xaxis": "x",
           "y": [
            247.81473684210525
           ],
           "yaxis": "y"
          },
          {
           "alignmentgroup": "True",
           "bingroup": "x",
           "histfunc": "sum",
           "hovertemplate": "GRAND_PRIX=%{x}<br>SEASON=2018<br>sum of FLAP_KM/H=%{y}<extra></extra>",
           "legendgroup": "japanese",
           "marker": {
            "color": "#EF553B",
            "pattern": {
             "shape": ""
            }
           },
           "name": "japanese",
           "offsetgroup": "japanese",
           "orientation": "v",
           "showlegend": true,
           "type": "histogram",
           "x": [
            "japanese"
           ],
           "xaxis": "x",
           "y": [
            221.55010000000001
           ],
           "yaxis": "y"
          },
          {
           "alignmentgroup": "True",
           "bingroup": "x",
           "histfunc": "sum",
           "hovertemplate": "GRAND_PRIX=%{x}<br>SEASON=2018<br>sum of FLAP_KM/H=%{y}<extra></extra>",
           "legendgroup": "mexican",
           "marker": {
            "color": "#ab63fa",
            "pattern": {
             "shape": ""
            }
           },
           "name": "mexican",
           "offsetgroup": "mexican",
           "orientation": "v",
           "showlegend": true,
           "type": "histogram",
           "x": [
            "mexican"
           ],
           "xaxis": "x",
           "y": [
            190.1421
           ],
           "yaxis": "y"
          },
          {
           "alignmentgroup": "True",
           "bingroup": "x",
           "histfunc": "sum",
           "hovertemplate": "GRAND_PRIX=%{x}<br>SEASON=2018<br>sum of FLAP_KM/H=%{y}<extra></extra>",
           "legendgroup": "monaco",
           "marker": {
            "color": "#FFA15A",
            "pattern": {
             "shape": ""
            }
           },
           "name": "monaco",
           "offsetgroup": "monaco",
           "orientation": "v",
           "showlegend": true,
           "type": "histogram",
           "x": [
            "monaco"
           ],
           "xaxis": "x",
           "y": [
            157.23005
           ],
           "yaxis": "y"
          },
          {
           "alignmentgroup": "True",
           "bingroup": "x",
           "histfunc": "sum",
           "hovertemplate": "GRAND_PRIX=%{x}<br>SEASON=2018<br>sum of FLAP_KM/H=%{y}<extra></extra>",
           "legendgroup": "russian",
           "marker": {
            "color": "#19d3f3",
            "pattern": {
             "shape": ""
            }
           },
           "name": "russian",
           "offsetgroup": "russian",
           "orientation": "v",
           "showlegend": true,
           "type": "histogram",
           "x": [
            "russian"
           ],
           "xaxis": "x",
           "y": [
            213.48645000000002
           ],
           "yaxis": "y"
          },
          {
           "alignmentgroup": "True",
           "bingroup": "x",
           "histfunc": "sum",
           "hovertemplate": "GRAND_PRIX=%{x}<br>SEASON=2018<br>sum of FLAP_KM/H=%{y}<extra></extra>",
           "legendgroup": "singapore",
           "marker": {
            "color": "#FF6692",
            "pattern": {
             "shape": ""
            }
           },
           "name": "singapore",
           "offsetgroup": "singapore",
           "orientation": "v",
           "showlegend": true,
           "type": "histogram",
           "x": [
            "singapore"
           ],
           "xaxis": "x",
           "y": [
            174.0512105263158
           ],
           "yaxis": "y"
          },
          {
           "alignmentgroup": "True",
           "bingroup": "x",
           "histfunc": "sum",
           "hovertemplate": "GRAND_PRIX=%{x}<br>SEASON=2018<br>sum of FLAP_KM/H=%{y}<extra></extra>",
           "legendgroup": "spanish",
           "marker": {
            "color": "#B6E880",
            "pattern": {
             "shape": ""
            }
           },
           "name": "spanish",
           "offsetgroup": "spanish",
           "orientation": "v",
           "showlegend": true,
           "type": "histogram",
           "x": [
            "spanish"
           ],
           "xaxis": "x",
           "y": [
            207.0826470588235
           ],
           "yaxis": "y"
          },
          {
           "alignmentgroup": "True",
           "bingroup": "x",
           "histfunc": "sum",
           "hovertemplate": "GRAND_PRIX=%{x}<br>SEASON=2018<br>sum of FLAP_KM/H=%{y}<extra></extra>",
           "legendgroup": "united-states",
           "marker": {
            "color": "#FF97FF",
            "pattern": {
             "shape": ""
            }
           },
           "name": "united-states",
           "offsetgroup": "united-states",
           "orientation": "v",
           "showlegend": true,
           "type": "histogram",
           "x": [
            "united-states"
           ],
           "xaxis": "x",
           "y": [
            199.42494444444444
           ],
           "yaxis": "y"
          },
          {
           "alignmentgroup": "True",
           "bingroup": "x",
           "histfunc": "sum",
           "hovertemplate": "GRAND_PRIX=%{x}<br>SEASON=2018<br>sum of FLAP_KM/H=%{y}<extra></extra>",
           "legendgroup": "german",
           "marker": {
            "color": "#636efa",
            "pattern": {
             "shape": ""
            }
           },
           "name": "german",
           "offsetgroup": "german",
           "orientation": "v",
           "showlegend": true,
           "type": "histogram",
           "x": [
            "german"
           ],
           "xaxis": "x",
           "y": [
            212.72975000000002
           ],
           "yaxis": "y"
          },
          {
           "alignmentgroup": "True",
           "bingroup": "x",
           "histfunc": "sum",
           "hovertemplate": "GRAND_PRIX=%{x}<br>SEASON=2018<br>sum of FLAP_KM/H=%{y}<extra></extra>",
           "legendgroup": "azerbaijan",
           "marker": {
            "color": "#EF553B",
            "pattern": {
             "shape": ""
            }
           },
           "name": "azerbaijan",
           "offsetgroup": "azerbaijan",
           "orientation": "v",
           "showlegend": true,
           "type": "histogram",
           "x": [
            "azerbaijan"
           ],
           "xaxis": "x",
           "y": [
            202.16466666666668
           ],
           "yaxis": "y"
          },
          {
           "alignmentgroup": "True",
           "bingroup": "x",
           "histfunc": "sum",
           "hovertemplate": "GRAND_PRIX=%{x}<br>SEASON=2018<br>sum of FLAP_KM/H=%{y}<extra></extra>",
           "legendgroup": "french",
           "marker": {
            "color": "#00cc96",
            "pattern": {
             "shape": ""
            }
           },
           "name": "french",
           "offsetgroup": "french",
           "orientation": "v",
           "showlegend": true,
           "type": "histogram",
           "x": [
            "french"
           ],
           "xaxis": "x",
           "y": [
            219.37555555555556
           ],
           "yaxis": "y"
          }
         ],
         "name": "2018"
        },
        {
         "data": [
          {
           "alignmentgroup": "True",
           "bingroup": "x",
           "histfunc": "sum",
           "hovertemplate": "GRAND_PRIX=%{x}<br>SEASON=2019<br>sum of FLAP_KM/H=%{y}<extra></extra>",
           "legendgroup": "abu-dhabi",
           "marker": {
            "color": "#636efa",
            "pattern": {
             "shape": ""
            }
           },
           "name": "abu-dhabi",
           "offsetgroup": "abu-dhabi",
           "orientation": "v",
           "showlegend": true,
           "type": "histogram",
           "x": [
            "abu-dhabi"
           ],
           "xaxis": "x",
           "y": [
            195.7052
           ],
           "yaxis": "y"
          },
          {
           "alignmentgroup": "True",
           "bingroup": "x",
           "histfunc": "sum",
           "hovertemplate": "GRAND_PRIX=%{x}<br>SEASON=2019<br>sum of FLAP_KM/H=%{y}<extra></extra>",
           "legendgroup": "australian",
           "marker": {
            "color": "#EF553B",
            "pattern": {
             "shape": ""
            }
           },
           "name": "australian",
           "offsetgroup": "australian",
           "orientation": "v",
           "showlegend": true,
           "type": "histogram",
           "x": [
            "australian"
           ],
           "xaxis": "x",
           "y": [
            216.88085
           ],
           "yaxis": "y"
          },
          {
           "alignmentgroup": "True",
           "bingroup": "x",
           "histfunc": "sum",
           "hovertemplate": "GRAND_PRIX=%{x}<br>SEASON=2019<br>sum of FLAP_KM/H=%{y}<extra></extra>",
           "legendgroup": "bahrain",
           "marker": {
            "color": "#ab63fa",
            "pattern": {
             "shape": ""
            }
           },
           "name": "bahrain",
           "offsetgroup": "bahrain",
           "orientation": "v",
           "showlegend": true,
           "type": "histogram",
           "x": [
            "bahrain"
           ],
           "xaxis": "x",
           "y": [
            203.59949999999998
           ],
           "yaxis": "y"
          },
          {
           "alignmentgroup": "True",
           "bingroup": "x",
           "histfunc": "sum",
           "hovertemplate": "GRAND_PRIX=%{x}<br>SEASON=2019<br>sum of FLAP_KM/H=%{y}<extra></extra>",
           "legendgroup": "belgian",
           "marker": {
            "color": "#FFA15A",
            "pattern": {
             "shape": ""
            }
           },
           "name": "belgian",
           "offsetgroup": "belgian",
           "orientation": "v",
           "showlegend": true,
           "type": "histogram",
           "x": [
            "belgian"
           ],
           "xaxis": "x",
           "y": [
            233.0036111111111
           ],
           "yaxis": "y"
          },
          {
           "alignmentgroup": "True",
           "bingroup": "x",
           "histfunc": "sum",
           "hovertemplate": "GRAND_PRIX=%{x}<br>SEASON=2019<br>sum of FLAP_KM/H=%{y}<extra></extra>",
           "legendgroup": "brazilian",
           "marker": {
            "color": "#19d3f3",
            "pattern": {
             "shape": ""
            }
           },
           "name": "brazilian",
           "offsetgroup": "brazilian",
           "orientation": "v",
           "showlegend": true,
           "type": "histogram",
           "x": [
            "brazilian"
           ],
           "xaxis": "x",
           "y": [
            214.11325000000002
           ],
           "yaxis": "y"
          },
          {
           "alignmentgroup": "True",
           "bingroup": "x",
           "histfunc": "sum",
           "hovertemplate": "GRAND_PRIX=%{x}<br>SEASON=2019<br>sum of FLAP_KM/H=%{y}<extra></extra>",
           "legendgroup": "british",
           "marker": {
            "color": "#FF6692",
            "pattern": {
             "shape": ""
            }
           },
           "name": "british",
           "offsetgroup": "british",
           "orientation": "v",
           "showlegend": true,
           "type": "histogram",
           "x": [
            "british"
           ],
           "xaxis": "x",
           "y": [
            235.32644999999997
           ],
           "yaxis": "y"
          },
          {
           "alignmentgroup": "True",
           "bingroup": "x",
           "histfunc": "sum",
           "hovertemplate": "GRAND_PRIX=%{x}<br>SEASON=2019<br>sum of FLAP_KM/H=%{y}<extra></extra>",
           "legendgroup": "canadian",
           "marker": {
            "color": "#B6E880",
            "pattern": {
             "shape": ""
            }
           },
           "name": "canadian",
           "offsetgroup": "canadian",
           "orientation": "v",
           "showlegend": true,
           "type": "histogram",
           "x": [
            "canadian"
           ],
           "xaxis": "x",
           "y": [
            null
           ],
           "yaxis": "y"
          },
          {
           "alignmentgroup": "True",
           "bingroup": "x",
           "histfunc": "sum",
           "hovertemplate": "GRAND_PRIX=%{x}<br>SEASON=2019<br>sum of FLAP_KM/H=%{y}<extra></extra>",
           "legendgroup": "chinese",
           "marker": {
            "color": "#FF97FF",
            "pattern": {
             "shape": ""
            }
           },
           "name": "chinese",
           "offsetgroup": "chinese",
           "orientation": "v",
           "showlegend": true,
           "type": "histogram",
           "x": [
            "chinese"
           ],
           "xaxis": "x",
           "y": [
            201.83499999999998
           ],
           "yaxis": "y"
          },
          {
           "alignmentgroup": "True",
           "bingroup": "x",
           "histfunc": "sum",
           "hovertemplate": "GRAND_PRIX=%{x}<br>SEASON=2019<br>sum of FLAP_KM/H=%{y}<extra></extra>",
           "legendgroup": "hungarian",
           "marker": {
            "color": "#FECB52",
            "pattern": {
             "shape": ""
            }
           },
           "name": "hungarian",
           "offsetgroup": "hungarian",
           "orientation": "v",
           "showlegend": true,
           "type": "histogram",
           "x": [
            "hungarian"
           ],
           "xaxis": "x",
           "y": [
            194.83554999999998
           ],
           "yaxis": "y"
          },
          {
           "alignmentgroup": "True",
           "bingroup": "x",
           "histfunc": "sum",
           "hovertemplate": "GRAND_PRIX=%{x}<br>SEASON=2019<br>sum of FLAP_KM/H=%{y}<extra></extra>",
           "legendgroup": "italian",
           "marker": {
            "color": "#636efa",
            "pattern": {
             "shape": ""
            }
           },
           "name": "italian",
           "offsetgroup": "italian",
           "orientation": "v",
           "showlegend": true,
           "type": "histogram",
           "x": [
            "italian"
           ],
           "xaxis": "x",
           "y": [
            248.377
           ],
           "yaxis": "y"
          },
          {
           "alignmentgroup": "True",
           "bingroup": "x",
           "histfunc": "sum",
           "hovertemplate": "GRAND_PRIX=%{x}<br>SEASON=2019<br>sum of FLAP_KM/H=%{y}<extra></extra>",
           "legendgroup": "japanese",
           "marker": {
            "color": "#EF553B",
            "pattern": {
             "shape": ""
            }
           },
           "name": "japanese",
           "offsetgroup": "japanese",
           "orientation": "v",
           "showlegend": true,
           "type": "histogram",
           "x": [
            "japanese"
           ],
           "xaxis": "x",
           "y": [
            223.3385
           ],
           "yaxis": "y"
          },
          {
           "alignmentgroup": "True",
           "bingroup": "x",
           "histfunc": "sum",
           "hovertemplate": "GRAND_PRIX=%{x}<br>SEASON=2019<br>sum of FLAP_KM/H=%{y}<extra></extra>",
           "legendgroup": "monaco",
           "marker": {
            "color": "#FFA15A",
            "pattern": {
             "shape": ""
            }
           },
           "name": "monaco",
           "offsetgroup": "monaco",
           "orientation": "v",
           "showlegend": true,
           "type": "histogram",
           "x": [
            "monaco"
           ],
           "xaxis": "x",
           "y": [
            157.3321
           ],
           "yaxis": "y"
          },
          {
           "alignmentgroup": "True",
           "bingroup": "x",
           "histfunc": "sum",
           "hovertemplate": "GRAND_PRIX=%{x}<br>SEASON=2019<br>sum of FLAP_KM/H=%{y}<extra></extra>",
           "legendgroup": "russian",
           "marker": {
            "color": "#19d3f3",
            "pattern": {
             "shape": ""
            }
           },
           "name": "russian",
           "offsetgroup": "russian",
           "orientation": "v",
           "showlegend": true,
           "type": "histogram",
           "x": [
            "russian"
           ],
           "xaxis": "x",
           "y": [
            214.05284210526315
           ],
           "yaxis": "y"
          },
          {
           "alignmentgroup": "True",
           "bingroup": "x",
           "histfunc": "sum",
           "hovertemplate": "GRAND_PRIX=%{x}<br>SEASON=2019<br>sum of FLAP_KM/H=%{y}<extra></extra>",
           "legendgroup": "singapore",
           "marker": {
            "color": "#FF6692",
            "pattern": {
             "shape": ""
            }
           },
           "name": "singapore",
           "offsetgroup": "singapore",
           "orientation": "v",
           "showlegend": true,
           "type": "histogram",
           "x": [
            "singapore"
           ],
           "xaxis": "x",
           "y": [
            172.80345
           ],
           "yaxis": "y"
          },
          {
           "alignmentgroup": "True",
           "bingroup": "x",
           "histfunc": "sum",
           "hovertemplate": "GRAND_PRIX=%{x}<br>SEASON=2019<br>sum of FLAP_KM/H=%{y}<extra></extra>",
           "legendgroup": "spanish",
           "marker": {
            "color": "#B6E880",
            "pattern": {
             "shape": ""
            }
           },
           "name": "spanish",
           "offsetgroup": "spanish",
           "orientation": "v",
           "showlegend": true,
           "type": "histogram",
           "x": [
            "spanish"
           ],
           "xaxis": "x",
           "y": [
            206.92075
           ],
           "yaxis": "y"
          },
          {
           "alignmentgroup": "True",
           "bingroup": "x",
           "histfunc": "sum",
           "hovertemplate": "GRAND_PRIX=%{x}<br>SEASON=2019<br>sum of FLAP_KM/H=%{y}<extra></extra>",
           "legendgroup": "united-states",
           "marker": {
            "color": "#FF97FF",
            "pattern": {
             "shape": ""
            }
           },
           "name": "united-states",
           "offsetgroup": "united-states",
           "orientation": "v",
           "showlegend": true,
           "type": "histogram",
           "x": [
            "united-states"
           ],
           "xaxis": "x",
           "y": [
            199.0766
           ],
           "yaxis": "y"
          },
          {
           "alignmentgroup": "True",
           "bingroup": "x",
           "histfunc": "sum",
           "hovertemplate": "GRAND_PRIX=%{x}<br>SEASON=2019<br>sum of FLAP_KM/H=%{y}<extra></extra>",
           "legendgroup": "german",
           "marker": {
            "color": "#636efa",
            "pattern": {
             "shape": ""
            }
           },
           "name": "german",
           "offsetgroup": "german",
           "orientation": "v",
           "showlegend": true,
           "type": "histogram",
           "x": [
            "german"
           ],
           "xaxis": "x",
           "y": [
            205.1212105263158
           ],
           "yaxis": "y"
          },
          {
           "alignmentgroup": "True",
           "bingroup": "x",
           "histfunc": "sum",
           "hovertemplate": "GRAND_PRIX=%{x}<br>SEASON=2019<br>sum of FLAP_KM/H=%{y}<extra></extra>",
           "legendgroup": "azerbaijan",
           "marker": {
            "color": "#EF553B",
            "pattern": {
             "shape": ""
            }
           },
           "name": "azerbaijan",
           "offsetgroup": "azerbaijan",
           "orientation": "v",
           "showlegend": true,
           "type": "histogram",
           "x": [
            "azerbaijan"
           ],
           "xaxis": "x",
           "y": [
            203.97775
           ],
           "yaxis": "y"
          },
          {
           "alignmentgroup": "True",
           "bingroup": "x",
           "histfunc": "sum",
           "hovertemplate": "GRAND_PRIX=%{x}<br>SEASON=2019<br>sum of FLAP_KM/H=%{y}<extra></extra>",
           "legendgroup": "french",
           "marker": {
            "color": "#00cc96",
            "pattern": {
             "shape": ""
            }
           },
           "name": "french",
           "offsetgroup": "french",
           "orientation": "v",
           "showlegend": true,
           "type": "histogram",
           "x": [
            "french"
           ],
           "xaxis": "x",
           "y": [
            221.90574999999998
           ],
           "yaxis": "y"
          }
         ],
         "name": "2019"
        },
        {
         "data": [
          {
           "alignmentgroup": "True",
           "bingroup": "x",
           "histfunc": "sum",
           "hovertemplate": "GRAND_PRIX=%{x}<br>SEASON=2020<br>sum of FLAP_KM/H=%{y}<extra></extra>",
           "legendgroup": "abu-dhabi",
           "marker": {
            "color": "#636efa",
            "pattern": {
             "shape": ""
            }
           },
           "name": "abu-dhabi",
           "offsetgroup": "abu-dhabi",
           "orientation": "v",
           "showlegend": true,
           "type": "histogram",
           "x": [
            "abu-dhabi"
           ],
           "xaxis": "x",
           "y": [
            196.079
           ],
           "yaxis": "y"
          },
          {
           "alignmentgroup": "True",
           "bingroup": "x",
           "histfunc": "sum",
           "hovertemplate": "GRAND_PRIX=%{x}<br>SEASON=2020<br>sum of FLAP_KM/H=%{y}<extra></extra>",
           "legendgroup": "austrian",
           "marker": {
            "color": "#00cc96",
            "pattern": {
             "shape": ""
            }
           },
           "name": "austrian",
           "offsetgroup": "austrian",
           "orientation": "v",
           "showlegend": true,
           "type": "histogram",
           "x": [
            "austrian"
           ],
           "xaxis": "x",
           "y": [
            225.7371282051282
           ],
           "yaxis": "y"
          },
          {
           "alignmentgroup": "True",
           "bingroup": "x",
           "histfunc": "sum",
           "hovertemplate": "GRAND_PRIX=%{x}<br>SEASON=2020<br>sum of FLAP_KM/H=%{y}<extra></extra>",
           "legendgroup": "bahrain",
           "marker": {
            "color": "#ab63fa",
            "pattern": {
             "shape": ""
            }
           },
           "name": "bahrain",
           "offsetgroup": "bahrain",
           "orientation": "v",
           "showlegend": true,
           "type": "histogram",
           "x": [
            "bahrain"
           ],
           "xaxis": "x",
           "y": [
            207.63277777777776
           ],
           "yaxis": "y"
          },
          {
           "alignmentgroup": "True",
           "bingroup": "x",
           "histfunc": "sum",
           "hovertemplate": "GRAND_PRIX=%{x}<br>SEASON=2020<br>sum of FLAP_KM/H=%{y}<extra></extra>",
           "legendgroup": "belgian",
           "marker": {
            "color": "#FFA15A",
            "pattern": {
             "shape": ""
            }
           },
           "name": "belgian",
           "offsetgroup": "belgian",
           "orientation": "v",
           "showlegend": true,
           "type": "histogram",
           "x": [
            "belgian"
           ],
           "xaxis": "x",
           "y": [
            231.48047368421052
           ],
           "yaxis": "y"
          },
          {
           "alignmentgroup": "True",
           "bingroup": "x",
           "histfunc": "sum",
           "hovertemplate": "GRAND_PRIX=%{x}<br>SEASON=2020<br>sum of FLAP_KM/H=%{y}<extra></extra>",
           "legendgroup": "british",
           "marker": {
            "color": "#FF6692",
            "pattern": {
             "shape": ""
            }
           },
           "name": "british",
           "offsetgroup": "british",
           "orientation": "v",
           "showlegend": true,
           "type": "histogram",
           "x": [
            "british"
           ],
           "xaxis": "x",
           "y": [
            235.0447894736842
           ],
           "yaxis": "y"
          },
          {
           "alignmentgroup": "True",
           "bingroup": "x",
           "histfunc": "sum",
           "hovertemplate": "GRAND_PRIX=%{x}<br>SEASON=2020<br>sum of FLAP_KM/H=%{y}<extra></extra>",
           "legendgroup": "hungarian",
           "marker": {
            "color": "#FECB52",
            "pattern": {
             "shape": ""
            }
           },
           "name": "hungarian",
           "offsetgroup": "hungarian",
           "orientation": "v",
           "showlegend": true,
           "type": "histogram",
           "x": [
            "hungarian"
           ],
           "xaxis": "x",
           "y": [
            197.1901
           ],
           "yaxis": "y"
          },
          {
           "alignmentgroup": "True",
           "bingroup": "x",
           "histfunc": "sum",
           "hovertemplate": "GRAND_PRIX=%{x}<br>SEASON=2020<br>sum of FLAP_KM/H=%{y}<extra></extra>",
           "legendgroup": "italian",
           "marker": {
            "color": "#636efa",
            "pattern": {
             "shape": ""
            }
           },
           "name": "italian",
           "offsetgroup": "italian",
           "orientation": "v",
           "showlegend": true,
           "type": "histogram",
           "x": [
            "italian"
           ],
           "xaxis": "x",
           "y": [
            246.3585
           ],
           "yaxis": "y"
          },
          {
           "alignmentgroup": "True",
           "bingroup": "x",
           "histfunc": "sum",
           "hovertemplate": "GRAND_PRIX=%{x}<br>SEASON=2020<br>sum of FLAP_KM/H=%{y}<extra></extra>",
           "legendgroup": "russian",
           "marker": {
            "color": "#19d3f3",
            "pattern": {
             "shape": ""
            }
           },
           "name": "russian",
           "offsetgroup": "russian",
           "orientation": "v",
           "showlegend": true,
           "type": "histogram",
           "x": [
            "russian"
           ],
           "xaxis": "x",
           "y": [
            213.46666666666667
           ],
           "yaxis": "y"
          },
          {
           "alignmentgroup": "True",
           "bingroup": "x",
           "histfunc": "sum",
           "hovertemplate": "GRAND_PRIX=%{x}<br>SEASON=2020<br>sum of FLAP_KM/H=%{y}<extra></extra>",
           "legendgroup": "spanish",
           "marker": {
            "color": "#B6E880",
            "pattern": {
             "shape": ""
            }
           },
           "name": "spanish",
           "offsetgroup": "spanish",
           "orientation": "v",
           "showlegend": true,
           "type": "histogram",
           "x": [
            "spanish"
           ],
           "xaxis": "x",
           "y": [
            204.57750000000001
           ],
           "yaxis": "y"
          },
          {
           "alignmentgroup": "True",
           "bingroup": "x",
           "histfunc": "sum",
           "hovertemplate": "GRAND_PRIX=%{x}<br>SEASON=2020<br>sum of FLAP_KM/H=%{y}<extra></extra>",
           "legendgroup": "emilia-romagna",
           "marker": {
            "color": "#ab63fa",
            "pattern": {
             "shape": ""
            }
           },
           "name": "emilia-romagna",
           "offsetgroup": "emilia-romagna",
           "orientation": "v",
           "showlegend": true,
           "type": "histogram",
           "x": [
            "emilia-romagna"
           ],
           "xaxis": "x",
           "y": [
            226.40099999999998
           ],
           "yaxis": "y"
          },
          {
           "alignmentgroup": "True",
           "bingroup": "x",
           "histfunc": "sum",
           "hovertemplate": "GRAND_PRIX=%{x}<br>SEASON=2020<br>sum of FLAP_KM/H=%{y}<extra></extra>",
           "legendgroup": "portuguese",
           "marker": {
            "color": "#FFA15A",
            "pattern": {
             "shape": ""
            }
           },
           "name": "portuguese",
           "offsetgroup": "portuguese",
           "orientation": "v",
           "showlegend": true,
           "type": "histogram",
           "x": [
            "portuguese"
           ],
           "xaxis": "x",
           "y": [
            207.76115
           ],
           "yaxis": "y"
          },
          {
           "alignmentgroup": "True",
           "bingroup": "x",
           "histfunc": "sum",
           "hovertemplate": "GRAND_PRIX=%{x}<br>SEASON=2020<br>sum of FLAP_KM/H=%{y}<extra></extra>",
           "legendgroup": "pries-der-eifel",
           "marker": {
            "color": "#19d3f3",
            "pattern": {
             "shape": ""
            }
           },
           "name": "pries-der-eifel",
           "offsetgroup": "pries-der-eifel",
           "orientation": "v",
           "showlegend": true,
           "type": "histogram",
           "x": [
            "pries-der-eifel"
           ],
           "xaxis": "x",
           "y": [
            203.83105
           ],
           "yaxis": "y"
          },
          {
           "alignmentgroup": "True",
           "bingroup": "x",
           "histfunc": "sum",
           "hovertemplate": "GRAND_PRIX=%{x}<br>SEASON=2020<br>sum of FLAP_KM/H=%{y}<extra></extra>",
           "legendgroup": "sakhir",
           "marker": {
            "color": "#FF6692",
            "pattern": {
             "shape": ""
            }
           },
           "name": "sakhir",
           "offsetgroup": "sakhir",
           "orientation": "v",
           "showlegend": true,
           "type": "histogram",
           "x": [
            "sakhir"
           ],
           "xaxis": "x",
           "y": [
            null
           ],
           "yaxis": "y"
          },
          {
           "alignmentgroup": "True",
           "bingroup": "x",
           "histfunc": "sum",
           "hovertemplate": "GRAND_PRIX=%{x}<br>SEASON=2020<br>sum of FLAP_KM/H=%{y}<extra></extra>",
           "legendgroup": "turkish",
           "marker": {
            "color": "#B6E880",
            "pattern": {
             "shape": ""
            }
           },
           "name": "turkish",
           "offsetgroup": "turkish",
           "orientation": "v",
           "showlegend": true,
           "type": "histogram",
           "x": [
            "turkish"
           ],
           "xaxis": "x",
           "y": [
            190.54065
           ],
           "yaxis": "y"
          },
          {
           "alignmentgroup": "True",
           "bingroup": "x",
           "histfunc": "sum",
           "hovertemplate": "GRAND_PRIX=%{x}<br>SEASON=2020<br>sum of FLAP_KM/H=%{y}<extra></extra>",
           "legendgroup": "tuscan",
           "marker": {
            "color": "#FF97FF",
            "pattern": {
             "shape": ""
            }
           },
           "name": "tuscan",
           "offsetgroup": "tuscan",
           "orientation": "v",
           "showlegend": true,
           "type": "histogram",
           "x": [
            "tuscan"
           ],
           "xaxis": "x",
           "y": [
            208.05327777777777
           ],
           "yaxis": "y"
          }
         ],
         "name": "2020"
        },
        {
         "data": [
          {
           "alignmentgroup": "True",
           "bingroup": "x",
           "histfunc": "sum",
           "hovertemplate": "GRAND_PRIX=%{x}<br>SEASON=2021<br>sum of FLAP_KM/H=%{y}<extra></extra>",
           "legendgroup": "abu-dhabi",
           "marker": {
            "color": "#636efa",
            "pattern": {
             "shape": ""
            }
           },
           "name": "abu-dhabi",
           "offsetgroup": "abu-dhabi",
           "orientation": "v",
           "showlegend": true,
           "type": "histogram",
           "x": [
            "abu-dhabi"
           ],
           "xaxis": "x",
           "y": [
            215.87110526315792
           ],
           "yaxis": "y"
          },
          {
           "alignmentgroup": "True",
           "bingroup": "x",
           "histfunc": "sum",
           "hovertemplate": "GRAND_PRIX=%{x}<br>SEASON=2021<br>sum of FLAP_KM/H=%{y}<extra></extra>",
           "legendgroup": "austrian",
           "marker": {
            "color": "#00cc96",
            "pattern": {
             "shape": ""
            }
           },
           "name": "austrian",
           "offsetgroup": "austrian",
           "orientation": "v",
           "showlegend": true,
           "type": "histogram",
           "x": [
            "austrian"
           ],
           "xaxis": "x",
           "y": [
            225.72642105263157
           ],
           "yaxis": "y"
          },
          {
           "alignmentgroup": "True",
           "bingroup": "x",
           "histfunc": "sum",
           "hovertemplate": "GRAND_PRIX=%{x}<br>SEASON=2021<br>sum of FLAP_KM/H=%{y}<extra></extra>",
           "legendgroup": "bahrain",
           "marker": {
            "color": "#ab63fa",
            "pattern": {
             "shape": ""
            }
           },
           "name": "bahrain",
           "offsetgroup": "bahrain",
           "orientation": "v",
           "showlegend": true,
           "type": "histogram",
           "x": [
            "bahrain"
           ],
           "xaxis": "x",
           "y": [
            205.58700000000002
           ],
           "yaxis": "y"
          },
          {
           "alignmentgroup": "True",
           "bingroup": "x",
           "histfunc": "sum",
           "hovertemplate": "GRAND_PRIX=%{x}<br>SEASON=2021<br>sum of FLAP_KM/H=%{y}<extra></extra>",
           "legendgroup": "belgian",
           "marker": {
            "color": "#FFA15A",
            "pattern": {
             "shape": ""
            }
           },
           "name": "belgian",
           "offsetgroup": "belgian",
           "orientation": "v",
           "showlegend": true,
           "type": "histogram",
           "x": [
            "belgian"
           ],
           "xaxis": "x",
           "y": [
            null
           ],
           "yaxis": "y"
          },
          {
           "alignmentgroup": "True",
           "bingroup": "x",
           "histfunc": "sum",
           "hovertemplate": "GRAND_PRIX=%{x}<br>SEASON=2021<br>sum of FLAP_KM/H=%{y}<extra></extra>",
           "legendgroup": "brazilian",
           "marker": {
            "color": "#19d3f3",
            "pattern": {
             "shape": ""
            }
           },
           "name": "brazilian",
           "offsetgroup": "brazilian",
           "orientation": "v",
           "showlegend": true,
           "type": "histogram",
           "x": [
            "brazilian"
           ],
           "xaxis": "x",
           "y": [
            210.94455
           ],
           "yaxis": "y"
          },
          {
           "alignmentgroup": "True",
           "bingroup": "x",
           "histfunc": "sum",
           "hovertemplate": "GRAND_PRIX=%{x}<br>SEASON=2021<br>sum of FLAP_KM/H=%{y}<extra></extra>",
           "legendgroup": "british",
           "marker": {
            "color": "#FF6692",
            "pattern": {
             "shape": ""
            }
           },
           "name": "british",
           "offsetgroup": "british",
           "orientation": "v",
           "showlegend": true,
           "type": "histogram",
           "x": [
            "british"
           ],
           "xaxis": "x",
           "y": [
            231.88947368421051
           ],
           "yaxis": "y"
          },
          {
           "alignmentgroup": "True",
           "bingroup": "x",
           "histfunc": "sum",
           "hovertemplate": "GRAND_PRIX=%{x}<br>SEASON=2021<br>sum of FLAP_KM/H=%{y}<extra></extra>",
           "legendgroup": "hungarian",
           "marker": {
            "color": "#FECB52",
            "pattern": {
             "shape": ""
            }
           },
           "name": "hungarian",
           "offsetgroup": "hungarian",
           "orientation": "v",
           "showlegend": true,
           "type": "histogram",
           "x": [
            "hungarian"
           ],
           "xaxis": "x",
           "y": [
            193.7635
           ],
           "yaxis": "y"
          },
          {
           "alignmentgroup": "True",
           "bingroup": "x",
           "histfunc": "sum",
           "hovertemplate": "GRAND_PRIX=%{x}<br>SEASON=2021<br>sum of FLAP_KM/H=%{y}<extra></extra>",
           "legendgroup": "italian",
           "marker": {
            "color": "#636efa",
            "pattern": {
             "shape": ""
            }
           },
           "name": "italian",
           "offsetgroup": "italian",
           "orientation": "v",
           "showlegend": true,
           "type": "histogram",
           "x": [
            "italian"
           ],
           "xaxis": "x",
           "y": [
            243.00410526315792
           ],
           "yaxis": "y"
          },
          {
           "alignmentgroup": "True",
           "bingroup": "x",
           "histfunc": "sum",
           "hovertemplate": "GRAND_PRIX=%{x}<br>SEASON=2021<br>sum of FLAP_KM/H=%{y}<extra></extra>",
           "legendgroup": "mexican",
           "marker": {
            "color": "#ab63fa",
            "pattern": {
             "shape": ""
            }
           },
           "name": "mexican",
           "offsetgroup": "mexican",
           "orientation": "v",
           "showlegend": true,
           "type": "histogram",
           "x": [
            "mexican"
           ],
           "xaxis": "x",
           "y": [
            192.4201111111111
           ],
           "yaxis": "y"
          },
          {
           "alignmentgroup": "True",
           "bingroup": "x",
           "histfunc": "sum",
           "hovertemplate": "GRAND_PRIX=%{x}<br>SEASON=2021<br>sum of FLAP_KM/H=%{y}<extra></extra>",
           "legendgroup": "monaco",
           "marker": {
            "color": "#FFA15A",
            "pattern": {
             "shape": ""
            }
           },
           "name": "monaco",
           "offsetgroup": "monaco",
           "orientation": "v",
           "showlegend": true,
           "type": "histogram",
           "x": [
            "monaco"
           ],
           "xaxis": "x",
           "y": [
            160.06373684210524
           ],
           "yaxis": "y"
          },
          {
           "alignmentgroup": "True",
           "bingroup": "x",
           "histfunc": "sum",
           "hovertemplate": "GRAND_PRIX=%{x}<br>SEASON=2021<br>sum of FLAP_KM/H=%{y}<extra></extra>",
           "legendgroup": "russian",
           "marker": {
            "color": "#19d3f3",
            "pattern": {
             "shape": ""
            }
           },
           "name": "russian",
           "offsetgroup": "russian",
           "orientation": "v",
           "showlegend": true,
           "type": "histogram",
           "x": [
            "russian"
           ],
           "xaxis": "x",
           "y": [
            211.8866
           ],
           "yaxis": "y"
          },
          {
           "alignmentgroup": "True",
           "bingroup": "x",
           "histfunc": "sum",
           "hovertemplate": "GRAND_PRIX=%{x}<br>SEASON=2021<br>sum of FLAP_KM/H=%{y}<extra></extra>",
           "legendgroup": "spanish",
           "marker": {
            "color": "#B6E880",
            "pattern": {
             "shape": ""
            }
           },
           "name": "spanish",
           "offsetgroup": "spanish",
           "orientation": "v",
           "showlegend": true,
           "type": "histogram",
           "x": [
            "spanish"
           ],
           "xaxis": "x",
           "y": [
            205.64205
           ],
           "yaxis": "y"
          },
          {
           "alignmentgroup": "True",
           "bingroup": "x",
           "histfunc": "sum",
           "hovertemplate": "GRAND_PRIX=%{x}<br>SEASON=2021<br>sum of FLAP_KM/H=%{y}<extra></extra>",
           "legendgroup": "united-states",
           "marker": {
            "color": "#FF97FF",
            "pattern": {
             "shape": ""
            }
           },
           "name": "united-states",
           "offsetgroup": "united-states",
           "orientation": "v",
           "showlegend": true,
           "type": "histogram",
           "x": [
            "united-states"
           ],
           "xaxis": "x",
           "y": [
            197.0768
           ],
           "yaxis": "y"
          },
          {
           "alignmentgroup": "True",
           "bingroup": "x",
           "histfunc": "sum",
           "hovertemplate": "GRAND_PRIX=%{x}<br>SEASON=2021<br>sum of FLAP_KM/H=%{y}<extra></extra>",
           "legendgroup": "azerbaijan",
           "marker": {
            "color": "#EF553B",
            "pattern": {
             "shape": ""
            }
           },
           "name": "azerbaijan",
           "offsetgroup": "azerbaijan",
           "orientation": "v",
           "showlegend": true,
           "type": "histogram",
           "x": [
            "azerbaijan"
           ],
           "xaxis": "x",
           "y": [
            204.0479
           ],
           "yaxis": "y"
          },
          {
           "alignmentgroup": "True",
           "bingroup": "x",
           "histfunc": "sum",
           "hovertemplate": "GRAND_PRIX=%{x}<br>SEASON=2021<br>sum of FLAP_KM/H=%{y}<extra></extra>",
           "legendgroup": "french",
           "marker": {
            "color": "#00cc96",
            "pattern": {
             "shape": ""
            }
           },
           "name": "french",
           "offsetgroup": "french",
           "orientation": "v",
           "showlegend": true,
           "type": "histogram",
           "x": [
            "french"
           ],
           "xaxis": "x",
           "y": [
            214.65545000000003
           ],
           "yaxis": "y"
          },
          {
           "alignmentgroup": "True",
           "bingroup": "x",
           "histfunc": "sum",
           "hovertemplate": "GRAND_PRIX=%{x}<br>SEASON=2021<br>sum of FLAP_KM/H=%{y}<extra></extra>",
           "legendgroup": "emilia-romagna",
           "marker": {
            "color": "#ab63fa",
            "pattern": {
             "shape": ""
            }
           },
           "name": "emilia-romagna",
           "offsetgroup": "emilia-romagna",
           "orientation": "v",
           "showlegend": true,
           "type": "histogram",
           "x": [
            "emilia-romagna"
           ],
           "xaxis": "x",
           "y": [
            221.9531052631579
           ],
           "yaxis": "y"
          },
          {
           "alignmentgroup": "True",
           "bingroup": "x",
           "histfunc": "sum",
           "hovertemplate": "GRAND_PRIX=%{x}<br>SEASON=2021<br>sum of FLAP_KM/H=%{y}<extra></extra>",
           "legendgroup": "portuguese",
           "marker": {
            "color": "#FFA15A",
            "pattern": {
             "shape": ""
            }
           },
           "name": "portuguese",
           "offsetgroup": "portuguese",
           "orientation": "v",
           "showlegend": true,
           "type": "histogram",
           "x": [
            "portuguese"
           ],
           "xaxis": "x",
           "y": [
            204.64557894736842
           ],
           "yaxis": "y"
          },
          {
           "alignmentgroup": "True",
           "bingroup": "x",
           "histfunc": "sum",
           "hovertemplate": "GRAND_PRIX=%{x}<br>SEASON=2021<br>sum of FLAP_KM/H=%{y}<extra></extra>",
           "legendgroup": "turkish",
           "marker": {
            "color": "#B6E880",
            "pattern": {
             "shape": ""
            }
           },
           "name": "turkish",
           "offsetgroup": "turkish",
           "orientation": "v",
           "showlegend": true,
           "type": "histogram",
           "x": [
            "turkish"
           ],
           "xaxis": "x",
           "y": [
            206.6761
           ],
           "yaxis": "y"
          },
          {
           "alignmentgroup": "True",
           "bingroup": "x",
           "histfunc": "sum",
           "hovertemplate": "GRAND_PRIX=%{x}<br>SEASON=2021<br>sum of FLAP_KM/H=%{y}<extra></extra>",
           "legendgroup": "dutch",
           "marker": {
            "color": "#FECB52",
            "pattern": {
             "shape": ""
            }
           },
           "name": "dutch",
           "offsetgroup": "dutch",
           "orientation": "v",
           "showlegend": true,
           "type": "histogram",
           "x": [
            "dutch"
           ],
           "xaxis": "x",
           "y": [
            null
           ],
           "yaxis": "y"
          },
          {
           "alignmentgroup": "True",
           "bingroup": "x",
           "histfunc": "sum",
           "hovertemplate": "GRAND_PRIX=%{x}<br>SEASON=2021<br>sum of FLAP_KM/H=%{y}<extra></extra>",
           "legendgroup": "qatar",
           "marker": {
            "color": "#636efa",
            "pattern": {
             "shape": ""
            }
           },
           "name": "qatar",
           "offsetgroup": "qatar",
           "orientation": "v",
           "showlegend": true,
           "type": "histogram",
           "x": [
            "qatar"
           ],
           "xaxis": "x",
           "y": [
            223.5314
           ],
           "yaxis": "y"
          },
          {
           "alignmentgroup": "True",
           "bingroup": "x",
           "histfunc": "sum",
           "hovertemplate": "GRAND_PRIX=%{x}<br>SEASON=2021<br>sum of FLAP_KM/H=%{y}<extra></extra>",
           "legendgroup": "saudi-arabia",
           "marker": {
            "color": "#EF553B",
            "pattern": {
             "shape": ""
            }
           },
           "name": "saudi-arabia",
           "offsetgroup": "saudi-arabia",
           "orientation": "v",
           "showlegend": true,
           "type": "histogram",
           "x": [
            "saudi-arabia"
           ],
           "xaxis": "x",
           "y": [
            239.25889999999998
           ],
           "yaxis": "y"
          }
         ],
         "name": "2021"
        }
       ],
       "layout": {
        "barmode": "relative",
        "legend": {
         "title": {
          "text": "GRAND_PRIX"
         },
         "tracegroupgap": 0
        },
        "margin": {
         "t": 60
        },
        "sliders": [
         {
          "active": 0,
          "currentvalue": {
           "prefix": "SEASON="
          },
          "len": 0.9,
          "pad": {
           "b": 10,
           "t": 60
          },
          "steps": [
           {
            "args": [
             [
              "2015"
             ],
             {
              "frame": {
               "duration": 0,
               "redraw": true
              },
              "fromcurrent": true,
              "mode": "immediate",
              "transition": {
               "duration": 0,
               "easing": "linear"
              }
             }
            ],
            "label": "2015",
            "method": "animate"
           },
           {
            "args": [
             [
              "2016"
             ],
             {
              "frame": {
               "duration": 0,
               "redraw": true
              },
              "fromcurrent": true,
              "mode": "immediate",
              "transition": {
               "duration": 0,
               "easing": "linear"
              }
             }
            ],
            "label": "2016",
            "method": "animate"
           },
           {
            "args": [
             [
              "2017"
             ],
             {
              "frame": {
               "duration": 0,
               "redraw": true
              },
              "fromcurrent": true,
              "mode": "immediate",
              "transition": {
               "duration": 0,
               "easing": "linear"
              }
             }
            ],
            "label": "2017",
            "method": "animate"
           },
           {
            "args": [
             [
              "2018"
             ],
             {
              "frame": {
               "duration": 0,
               "redraw": true
              },
              "fromcurrent": true,
              "mode": "immediate",
              "transition": {
               "duration": 0,
               "easing": "linear"
              }
             }
            ],
            "label": "2018",
            "method": "animate"
           },
           {
            "args": [
             [
              "2019"
             ],
             {
              "frame": {
               "duration": 0,
               "redraw": true
              },
              "fromcurrent": true,
              "mode": "immediate",
              "transition": {
               "duration": 0,
               "easing": "linear"
              }
             }
            ],
            "label": "2019",
            "method": "animate"
           },
           {
            "args": [
             [
              "2020"
             ],
             {
              "frame": {
               "duration": 0,
               "redraw": true
              },
              "fromcurrent": true,
              "mode": "immediate",
              "transition": {
               "duration": 0,
               "easing": "linear"
              }
             }
            ],
            "label": "2020",
            "method": "animate"
           },
           {
            "args": [
             [
              "2021"
             ],
             {
              "frame": {
               "duration": 0,
               "redraw": true
              },
              "fromcurrent": true,
              "mode": "immediate",
              "transition": {
               "duration": 0,
               "easing": "linear"
              }
             }
            ],
            "label": "2021",
            "method": "animate"
           }
          ],
          "x": 0.1,
          "xanchor": "left",
          "y": 0,
          "yanchor": "top"
         }
        ],
        "template": {
         "data": {
          "bar": [
           {
            "error_x": {
             "color": "#f2f5fa"
            },
            "error_y": {
             "color": "#f2f5fa"
            },
            "marker": {
             "line": {
              "color": "rgb(17,17,17)",
              "width": 0.5
             },
             "pattern": {
              "fillmode": "overlay",
              "size": 10,
              "solidity": 0.2
             }
            },
            "type": "bar"
           }
          ],
          "barpolar": [
           {
            "marker": {
             "line": {
              "color": "rgb(17,17,17)",
              "width": 0.5
             },
             "pattern": {
              "fillmode": "overlay",
              "size": 10,
              "solidity": 0.2
             }
            },
            "type": "barpolar"
           }
          ],
          "carpet": [
           {
            "aaxis": {
             "endlinecolor": "#A2B1C6",
             "gridcolor": "#506784",
             "linecolor": "#506784",
             "minorgridcolor": "#506784",
             "startlinecolor": "#A2B1C6"
            },
            "baxis": {
             "endlinecolor": "#A2B1C6",
             "gridcolor": "#506784",
             "linecolor": "#506784",
             "minorgridcolor": "#506784",
             "startlinecolor": "#A2B1C6"
            },
            "type": "carpet"
           }
          ],
          "choropleth": [
           {
            "colorbar": {
             "outlinewidth": 0,
             "ticks": ""
            },
            "type": "choropleth"
           }
          ],
          "contour": [
           {
            "colorbar": {
             "outlinewidth": 0,
             "ticks": ""
            },
            "colorscale": [
             [
              0,
              "#0d0887"
             ],
             [
              0.1111111111111111,
              "#46039f"
             ],
             [
              0.2222222222222222,
              "#7201a8"
             ],
             [
              0.3333333333333333,
              "#9c179e"
             ],
             [
              0.4444444444444444,
              "#bd3786"
             ],
             [
              0.5555555555555556,
              "#d8576b"
             ],
             [
              0.6666666666666666,
              "#ed7953"
             ],
             [
              0.7777777777777778,
              "#fb9f3a"
             ],
             [
              0.8888888888888888,
              "#fdca26"
             ],
             [
              1,
              "#f0f921"
             ]
            ],
            "type": "contour"
           }
          ],
          "contourcarpet": [
           {
            "colorbar": {
             "outlinewidth": 0,
             "ticks": ""
            },
            "type": "contourcarpet"
           }
          ],
          "heatmap": [
           {
            "colorbar": {
             "outlinewidth": 0,
             "ticks": ""
            },
            "colorscale": [
             [
              0,
              "#0d0887"
             ],
             [
              0.1111111111111111,
              "#46039f"
             ],
             [
              0.2222222222222222,
              "#7201a8"
             ],
             [
              0.3333333333333333,
              "#9c179e"
             ],
             [
              0.4444444444444444,
              "#bd3786"
             ],
             [
              0.5555555555555556,
              "#d8576b"
             ],
             [
              0.6666666666666666,
              "#ed7953"
             ],
             [
              0.7777777777777778,
              "#fb9f3a"
             ],
             [
              0.8888888888888888,
              "#fdca26"
             ],
             [
              1,
              "#f0f921"
             ]
            ],
            "type": "heatmap"
           }
          ],
          "heatmapgl": [
           {
            "colorbar": {
             "outlinewidth": 0,
             "ticks": ""
            },
            "colorscale": [
             [
              0,
              "#0d0887"
             ],
             [
              0.1111111111111111,
              "#46039f"
             ],
             [
              0.2222222222222222,
              "#7201a8"
             ],
             [
              0.3333333333333333,
              "#9c179e"
             ],
             [
              0.4444444444444444,
              "#bd3786"
             ],
             [
              0.5555555555555556,
              "#d8576b"
             ],
             [
              0.6666666666666666,
              "#ed7953"
             ],
             [
              0.7777777777777778,
              "#fb9f3a"
             ],
             [
              0.8888888888888888,
              "#fdca26"
             ],
             [
              1,
              "#f0f921"
             ]
            ],
            "type": "heatmapgl"
           }
          ],
          "histogram": [
           {
            "marker": {
             "pattern": {
              "fillmode": "overlay",
              "size": 10,
              "solidity": 0.2
             }
            },
            "type": "histogram"
           }
          ],
          "histogram2d": [
           {
            "colorbar": {
             "outlinewidth": 0,
             "ticks": ""
            },
            "colorscale": [
             [
              0,
              "#0d0887"
             ],
             [
              0.1111111111111111,
              "#46039f"
             ],
             [
              0.2222222222222222,
              "#7201a8"
             ],
             [
              0.3333333333333333,
              "#9c179e"
             ],
             [
              0.4444444444444444,
              "#bd3786"
             ],
             [
              0.5555555555555556,
              "#d8576b"
             ],
             [
              0.6666666666666666,
              "#ed7953"
             ],
             [
              0.7777777777777778,
              "#fb9f3a"
             ],
             [
              0.8888888888888888,
              "#fdca26"
             ],
             [
              1,
              "#f0f921"
             ]
            ],
            "type": "histogram2d"
           }
          ],
          "histogram2dcontour": [
           {
            "colorbar": {
             "outlinewidth": 0,
             "ticks": ""
            },
            "colorscale": [
             [
              0,
              "#0d0887"
             ],
             [
              0.1111111111111111,
              "#46039f"
             ],
             [
              0.2222222222222222,
              "#7201a8"
             ],
             [
              0.3333333333333333,
              "#9c179e"
             ],
             [
              0.4444444444444444,
              "#bd3786"
             ],
             [
              0.5555555555555556,
              "#d8576b"
             ],
             [
              0.6666666666666666,
              "#ed7953"
             ],
             [
              0.7777777777777778,
              "#fb9f3a"
             ],
             [
              0.8888888888888888,
              "#fdca26"
             ],
             [
              1,
              "#f0f921"
             ]
            ],
            "type": "histogram2dcontour"
           }
          ],
          "mesh3d": [
           {
            "colorbar": {
             "outlinewidth": 0,
             "ticks": ""
            },
            "type": "mesh3d"
           }
          ],
          "parcoords": [
           {
            "line": {
             "colorbar": {
              "outlinewidth": 0,
              "ticks": ""
             }
            },
            "type": "parcoords"
           }
          ],
          "pie": [
           {
            "automargin": true,
            "type": "pie"
           }
          ],
          "scatter": [
           {
            "marker": {
             "line": {
              "color": "#283442"
             }
            },
            "type": "scatter"
           }
          ],
          "scatter3d": [
           {
            "line": {
             "colorbar": {
              "outlinewidth": 0,
              "ticks": ""
             }
            },
            "marker": {
             "colorbar": {
              "outlinewidth": 0,
              "ticks": ""
             }
            },
            "type": "scatter3d"
           }
          ],
          "scattercarpet": [
           {
            "marker": {
             "colorbar": {
              "outlinewidth": 0,
              "ticks": ""
             }
            },
            "type": "scattercarpet"
           }
          ],
          "scattergeo": [
           {
            "marker": {
             "colorbar": {
              "outlinewidth": 0,
              "ticks": ""
             }
            },
            "type": "scattergeo"
           }
          ],
          "scattergl": [
           {
            "marker": {
             "line": {
              "color": "#283442"
             }
            },
            "type": "scattergl"
           }
          ],
          "scattermapbox": [
           {
            "marker": {
             "colorbar": {
              "outlinewidth": 0,
              "ticks": ""
             }
            },
            "type": "scattermapbox"
           }
          ],
          "scatterpolar": [
           {
            "marker": {
             "colorbar": {
              "outlinewidth": 0,
              "ticks": ""
             }
            },
            "type": "scatterpolar"
           }
          ],
          "scatterpolargl": [
           {
            "marker": {
             "colorbar": {
              "outlinewidth": 0,
              "ticks": ""
             }
            },
            "type": "scatterpolargl"
           }
          ],
          "scatterternary": [
           {
            "marker": {
             "colorbar": {
              "outlinewidth": 0,
              "ticks": ""
             }
            },
            "type": "scatterternary"
           }
          ],
          "surface": [
           {
            "colorbar": {
             "outlinewidth": 0,
             "ticks": ""
            },
            "colorscale": [
             [
              0,
              "#0d0887"
             ],
             [
              0.1111111111111111,
              "#46039f"
             ],
             [
              0.2222222222222222,
              "#7201a8"
             ],
             [
              0.3333333333333333,
              "#9c179e"
             ],
             [
              0.4444444444444444,
              "#bd3786"
             ],
             [
              0.5555555555555556,
              "#d8576b"
             ],
             [
              0.6666666666666666,
              "#ed7953"
             ],
             [
              0.7777777777777778,
              "#fb9f3a"
             ],
             [
              0.8888888888888888,
              "#fdca26"
             ],
             [
              1,
              "#f0f921"
             ]
            ],
            "type": "surface"
           }
          ],
          "table": [
           {
            "cells": {
             "fill": {
              "color": "#506784"
             },
             "line": {
              "color": "rgb(17,17,17)"
             }
            },
            "header": {
             "fill": {
              "color": "#2a3f5f"
             },
             "line": {
              "color": "rgb(17,17,17)"
             }
            },
            "type": "table"
           }
          ]
         },
         "layout": {
          "annotationdefaults": {
           "arrowcolor": "#f2f5fa",
           "arrowhead": 0,
           "arrowwidth": 1
          },
          "autotypenumbers": "strict",
          "coloraxis": {
           "colorbar": {
            "outlinewidth": 0,
            "ticks": ""
           }
          },
          "colorscale": {
           "diverging": [
            [
             0,
             "#8e0152"
            ],
            [
             0.1,
             "#c51b7d"
            ],
            [
             0.2,
             "#de77ae"
            ],
            [
             0.3,
             "#f1b6da"
            ],
            [
             0.4,
             "#fde0ef"
            ],
            [
             0.5,
             "#f7f7f7"
            ],
            [
             0.6,
             "#e6f5d0"
            ],
            [
             0.7,
             "#b8e186"
            ],
            [
             0.8,
             "#7fbc41"
            ],
            [
             0.9,
             "#4d9221"
            ],
            [
             1,
             "#276419"
            ]
           ],
           "sequential": [
            [
             0,
             "#0d0887"
            ],
            [
             0.1111111111111111,
             "#46039f"
            ],
            [
             0.2222222222222222,
             "#7201a8"
            ],
            [
             0.3333333333333333,
             "#9c179e"
            ],
            [
             0.4444444444444444,
             "#bd3786"
            ],
            [
             0.5555555555555556,
             "#d8576b"
            ],
            [
             0.6666666666666666,
             "#ed7953"
            ],
            [
             0.7777777777777778,
             "#fb9f3a"
            ],
            [
             0.8888888888888888,
             "#fdca26"
            ],
            [
             1,
             "#f0f921"
            ]
           ],
           "sequentialminus": [
            [
             0,
             "#0d0887"
            ],
            [
             0.1111111111111111,
             "#46039f"
            ],
            [
             0.2222222222222222,
             "#7201a8"
            ],
            [
             0.3333333333333333,
             "#9c179e"
            ],
            [
             0.4444444444444444,
             "#bd3786"
            ],
            [
             0.5555555555555556,
             "#d8576b"
            ],
            [
             0.6666666666666666,
             "#ed7953"
            ],
            [
             0.7777777777777778,
             "#fb9f3a"
            ],
            [
             0.8888888888888888,
             "#fdca26"
            ],
            [
             1,
             "#f0f921"
            ]
           ]
          },
          "colorway": [
           "#636efa",
           "#EF553B",
           "#00cc96",
           "#ab63fa",
           "#FFA15A",
           "#19d3f3",
           "#FF6692",
           "#B6E880",
           "#FF97FF",
           "#FECB52"
          ],
          "font": {
           "color": "#f2f5fa"
          },
          "geo": {
           "bgcolor": "rgb(17,17,17)",
           "lakecolor": "rgb(17,17,17)",
           "landcolor": "rgb(17,17,17)",
           "showlakes": true,
           "showland": true,
           "subunitcolor": "#506784"
          },
          "hoverlabel": {
           "align": "left"
          },
          "hovermode": "closest",
          "mapbox": {
           "style": "dark"
          },
          "paper_bgcolor": "rgb(17,17,17)",
          "plot_bgcolor": "rgb(17,17,17)",
          "polar": {
           "angularaxis": {
            "gridcolor": "#506784",
            "linecolor": "#506784",
            "ticks": ""
           },
           "bgcolor": "rgb(17,17,17)",
           "radialaxis": {
            "gridcolor": "#506784",
            "linecolor": "#506784",
            "ticks": ""
           }
          },
          "scene": {
           "xaxis": {
            "backgroundcolor": "rgb(17,17,17)",
            "gridcolor": "#506784",
            "gridwidth": 2,
            "linecolor": "#506784",
            "showbackground": true,
            "ticks": "",
            "zerolinecolor": "#C8D4E3"
           },
           "yaxis": {
            "backgroundcolor": "rgb(17,17,17)",
            "gridcolor": "#506784",
            "gridwidth": 2,
            "linecolor": "#506784",
            "showbackground": true,
            "ticks": "",
            "zerolinecolor": "#C8D4E3"
           },
           "zaxis": {
            "backgroundcolor": "rgb(17,17,17)",
            "gridcolor": "#506784",
            "gridwidth": 2,
            "linecolor": "#506784",
            "showbackground": true,
            "ticks": "",
            "zerolinecolor": "#C8D4E3"
           }
          },
          "shapedefaults": {
           "line": {
            "color": "#f2f5fa"
           }
          },
          "sliderdefaults": {
           "bgcolor": "#C8D4E3",
           "bordercolor": "rgb(17,17,17)",
           "borderwidth": 1,
           "tickwidth": 0
          },
          "ternary": {
           "aaxis": {
            "gridcolor": "#506784",
            "linecolor": "#506784",
            "ticks": ""
           },
           "baxis": {
            "gridcolor": "#506784",
            "linecolor": "#506784",
            "ticks": ""
           },
           "bgcolor": "rgb(17,17,17)",
           "caxis": {
            "gridcolor": "#506784",
            "linecolor": "#506784",
            "ticks": ""
           }
          },
          "title": {
           "x": 0.05
          },
          "updatemenudefaults": {
           "bgcolor": "#506784",
           "borderwidth": 0
          },
          "xaxis": {
           "automargin": true,
           "gridcolor": "#283442",
           "linecolor": "#506784",
           "ticks": "",
           "title": {
            "standoff": 15
           },
           "zerolinecolor": "#283442",
           "zerolinewidth": 2
          },
          "yaxis": {
           "automargin": true,
           "gridcolor": "#283442",
           "linecolor": "#506784",
           "ticks": "",
           "title": {
            "standoff": 15
           },
           "zerolinecolor": "#283442",
           "zerolinewidth": 2
          }
         }
        },
        "updatemenus": [
         {
          "buttons": [
           {
            "args": [
             null,
             {
              "frame": {
               "duration": 500,
               "redraw": true
              },
              "fromcurrent": true,
              "mode": "immediate",
              "transition": {
               "duration": 500,
               "easing": "linear"
              }
             }
            ],
            "label": "&#9654;",
            "method": "animate"
           },
           {
            "args": [
             [
              null
             ],
             {
              "frame": {
               "duration": 0,
               "redraw": true
              },
              "fromcurrent": true,
              "mode": "immediate",
              "transition": {
               "duration": 0,
               "easing": "linear"
              }
             }
            ],
            "label": "&#9724;",
            "method": "animate"
           }
          ],
          "direction": "left",
          "pad": {
           "r": 10,
           "t": 70
          },
          "showactive": false,
          "type": "buttons",
          "x": 0.1,
          "xanchor": "right",
          "y": 0,
          "yanchor": "top"
         }
        ],
        "xaxis": {
         "anchor": "y",
         "categoryarray": [
          "abu-dhabi",
          "australian",
          "austrian",
          "bahrain",
          "belgian",
          "brazilian",
          "british",
          "canadian",
          "chinese",
          "hungarian",
          "italian",
          "japanese",
          "malaysian",
          "mexican",
          "monaco",
          "russian",
          "singapore",
          "spanish",
          "united-states",
          "european",
          "german",
          "azerbaijan",
          "french",
          "emilia-romagna",
          "portuguese",
          "pries-der-eifel",
          "sakhir",
          "turkish",
          "tuscan",
          "dutch",
          "qatar",
          "saudi-arabia"
         ],
         "categoryorder": "array",
         "domain": [
          0,
          1
         ],
         "title": {
          "text": "GRAND_PRIX"
         }
        },
        "yaxis": {
         "anchor": "x",
         "domain": [
          0,
          1
         ],
         "title": {
          "text": "sum of FLAP_KM/H"
         }
        }
       }
      },
      "text/html": [
       "<div>                            <div id=\"6473e058-c713-4cb1-abf6-b2457c280e56\" class=\"plotly-graph-div\" style=\"height:525px; width:100%;\"></div>            <script type=\"text/javascript\">                require([\"plotly\"], function(Plotly) {                    window.PLOTLYENV=window.PLOTLYENV || {};                                    if (document.getElementById(\"6473e058-c713-4cb1-abf6-b2457c280e56\")) {                    Plotly.newPlot(                        \"6473e058-c713-4cb1-abf6-b2457c280e56\",                        [{\"alignmentgroup\":\"True\",\"bingroup\":\"x\",\"histfunc\":\"sum\",\"hovertemplate\":\"GRAND_PRIX=%{x}<br>SEASON=2015<br>sum of FLAP_KM/H=%{y}<extra></extra>\",\"legendgroup\":\"abu-dhabi\",\"marker\":{\"color\":\"#636efa\",\"pattern\":{\"shape\":\"\"}},\"name\":\"abu-dhabi\",\"offsetgroup\":\"abu-dhabi\",\"orientation\":\"v\",\"showlegend\":true,\"x\":[\"abu-dhabi\"],\"xaxis\":\"x\",\"y\":[187.7707894736842],\"yaxis\":\"y\",\"type\":\"histogram\"},{\"alignmentgroup\":\"True\",\"bingroup\":\"x\",\"histfunc\":\"sum\",\"hovertemplate\":\"GRAND_PRIX=%{x}<br>SEASON=2015<br>sum of FLAP_KM/H=%{y}<extra></extra>\",\"legendgroup\":\"australian\",\"marker\":{\"color\":\"#EF553B\",\"pattern\":{\"shape\":\"\"}},\"name\":\"australian\",\"offsetgroup\":\"australian\",\"orientation\":\"v\",\"showlegend\":true,\"x\":[\"australian\"],\"xaxis\":\"x\",\"y\":[207.17569230769232],\"yaxis\":\"y\",\"type\":\"histogram\"},{\"alignmentgroup\":\"True\",\"bingroup\":\"x\",\"histfunc\":\"sum\",\"hovertemplate\":\"GRAND_PRIX=%{x}<br>SEASON=2015<br>sum of FLAP_KM/H=%{y}<extra></extra>\",\"legendgroup\":\"austrian\",\"marker\":{\"color\":\"#00cc96\",\"pattern\":{\"shape\":\"\"}},\"name\":\"austrian\",\"offsetgroup\":\"austrian\",\"orientation\":\"v\",\"showlegend\":true,\"x\":[\"austrian\"],\"xaxis\":\"x\",\"y\":[210.7585294117647],\"yaxis\":\"y\",\"type\":\"histogram\"},{\"alignmentgroup\":\"True\",\"bingroup\":\"x\",\"histfunc\":\"sum\",\"hovertemplate\":\"GRAND_PRIX=%{x}<br>SEASON=2015<br>sum of FLAP_KM/H=%{y}<extra></extra>\",\"legendgroup\":\"bahrain\",\"marker\":{\"color\":\"#ab63fa\",\"pattern\":{\"shape\":\"\"}},\"name\":\"bahrain\",\"offsetgroup\":\"bahrain\",\"orientation\":\"v\",\"showlegend\":true,\"x\":[\"bahrain\"],\"xaxis\":\"x\",\"y\":[197.316],\"yaxis\":\"y\",\"type\":\"histogram\"},{\"alignmentgroup\":\"True\",\"bingroup\":\"x\",\"histfunc\":\"sum\",\"hovertemplate\":\"GRAND_PRIX=%{x}<br>SEASON=2015<br>sum of FLAP_KM/H=%{y}<extra></extra>\",\"legendgroup\":\"belgian\",\"marker\":{\"color\":\"#FFA15A\",\"pattern\":{\"shape\":\"\"}},\"name\":\"belgian\",\"offsetgroup\":\"belgian\",\"orientation\":\"v\",\"showlegend\":true,\"x\":[\"belgian\"],\"xaxis\":\"x\",\"y\":[219.94644444444444],\"yaxis\":\"y\",\"type\":\"histogram\"},{\"alignmentgroup\":\"True\",\"bingroup\":\"x\",\"histfunc\":\"sum\",\"hovertemplate\":\"GRAND_PRIX=%{x}<br>SEASON=2015<br>sum of FLAP_KM/H=%{y}<extra></extra>\",\"legendgroup\":\"brazilian\",\"marker\":{\"color\":\"#19d3f3\",\"pattern\":{\"shape\":\"\"}},\"name\":\"brazilian\",\"offsetgroup\":\"brazilian\",\"orientation\":\"v\",\"showlegend\":true,\"x\":[\"brazilian\"],\"xaxis\":\"x\",\"y\":[203.47326315789473],\"yaxis\":\"y\",\"type\":\"histogram\"},{\"alignmentgroup\":\"True\",\"bingroup\":\"x\",\"histfunc\":\"sum\",\"hovertemplate\":\"GRAND_PRIX=%{x}<br>SEASON=2015<br>sum of FLAP_KM/H=%{y}<extra></extra>\",\"legendgroup\":\"british\",\"marker\":{\"color\":\"#FF6692\",\"pattern\":{\"shape\":\"\"}},\"name\":\"british\",\"offsetgroup\":\"british\",\"orientation\":\"v\",\"showlegend\":true,\"x\":[\"british\"],\"xaxis\":\"x\",\"y\":[211.07475],\"yaxis\":\"y\",\"type\":\"histogram\"},{\"alignmentgroup\":\"True\",\"bingroup\":\"x\",\"histfunc\":\"sum\",\"hovertemplate\":\"GRAND_PRIX=%{x}<br>SEASON=2015<br>sum of FLAP_KM/H=%{y}<extra></extra>\",\"legendgroup\":\"canadian\",\"marker\":{\"color\":\"#B6E880\",\"pattern\":{\"shape\":\"\"}},\"name\":\"canadian\",\"offsetgroup\":\"canadian\",\"orientation\":\"v\",\"showlegend\":true,\"x\":[\"canadian\"],\"xaxis\":\"x\",\"y\":[199.9486],\"yaxis\":\"y\",\"type\":\"histogram\"},{\"alignmentgroup\":\"True\",\"bingroup\":\"x\",\"histfunc\":\"sum\",\"hovertemplate\":\"GRAND_PRIX=%{x}<br>SEASON=2015<br>sum of FLAP_KM/H=%{y}<extra></extra>\",\"legendgroup\":\"chinese\",\"marker\":{\"color\":\"#FF97FF\",\"pattern\":{\"shape\":\"\"}},\"name\":\"chinese\",\"offsetgroup\":\"chinese\",\"orientation\":\"v\",\"showlegend\":true,\"x\":[\"chinese\"],\"xaxis\":\"x\",\"y\":[188.99994999999998],\"yaxis\":\"y\",\"type\":\"histogram\"},{\"alignmentgroup\":\"True\",\"bingroup\":\"x\",\"histfunc\":\"sum\",\"hovertemplate\":\"GRAND_PRIX=%{x}<br>SEASON=2015<br>sum of FLAP_KM/H=%{y}<extra></extra>\",\"legendgroup\":\"hungarian\",\"marker\":{\"color\":\"#FECB52\",\"pattern\":{\"shape\":\"\"}},\"name\":\"hungarian\",\"offsetgroup\":\"hungarian\",\"orientation\":\"v\",\"showlegend\":true,\"x\":[\"hungarian\"],\"xaxis\":\"x\",\"y\":[180.3434],\"yaxis\":\"y\",\"type\":\"histogram\"},{\"alignmentgroup\":\"True\",\"bingroup\":\"x\",\"histfunc\":\"sum\",\"hovertemplate\":\"GRAND_PRIX=%{x}<br>SEASON=2015<br>sum of FLAP_KM/H=%{y}<extra></extra>\",\"legendgroup\":\"italian\",\"marker\":{\"color\":\"#636efa\",\"pattern\":{\"shape\":\"\"}},\"name\":\"italian\",\"offsetgroup\":\"italian\",\"orientation\":\"v\",\"showlegend\":true,\"x\":[\"italian\"],\"xaxis\":\"x\",\"y\":[235.99344444444444],\"yaxis\":\"y\",\"type\":\"histogram\"},{\"alignmentgroup\":\"True\",\"bingroup\":\"x\",\"histfunc\":\"sum\",\"hovertemplate\":\"GRAND_PRIX=%{x}<br>SEASON=2015<br>sum of FLAP_KM/H=%{y}<extra></extra>\",\"legendgroup\":\"japanese\",\"marker\":{\"color\":\"#EF553B\",\"pattern\":{\"shape\":\"\"}},\"name\":\"japanese\",\"offsetgroup\":\"japanese\",\"orientation\":\"v\",\"showlegend\":true,\"x\":[\"japanese\"],\"xaxis\":\"x\",\"y\":[211.67135],\"yaxis\":\"y\",\"type\":\"histogram\"},{\"alignmentgroup\":\"True\",\"bingroup\":\"x\",\"histfunc\":\"sum\",\"hovertemplate\":\"GRAND_PRIX=%{x}<br>SEASON=2015<br>sum of FLAP_KM/H=%{y}<extra></extra>\",\"legendgroup\":\"malaysian\",\"marker\":{\"color\":\"#00cc96\",\"pattern\":{\"shape\":\"\"}},\"name\":\"malaysian\",\"offsetgroup\":\"malaysian\",\"orientation\":\"v\",\"showlegend\":true,\"x\":[\"malaysian\"],\"xaxis\":\"x\",\"y\":[189.88968421052633],\"yaxis\":\"y\",\"type\":\"histogram\"},{\"alignmentgroup\":\"True\",\"bingroup\":\"x\",\"histfunc\":\"sum\",\"hovertemplate\":\"GRAND_PRIX=%{x}<br>SEASON=2015<br>sum of FLAP_KM/H=%{y}<extra></extra>\",\"legendgroup\":\"mexican\",\"marker\":{\"color\":\"#ab63fa\",\"pattern\":{\"shape\":\"\"}},\"name\":\"mexican\",\"offsetgroup\":\"mexican\",\"orientation\":\"v\",\"showlegend\":true,\"x\":[\"mexican\"],\"xaxis\":\"x\",\"y\":[187.6364210526316],\"yaxis\":\"y\",\"type\":\"histogram\"},{\"alignmentgroup\":\"True\",\"bingroup\":\"x\",\"histfunc\":\"sum\",\"hovertemplate\":\"GRAND_PRIX=%{x}<br>SEASON=2015<br>sum of FLAP_KM/H=%{y}<extra></extra>\",\"legendgroup\":\"monaco\",\"marker\":{\"color\":\"#FFA15A\",\"pattern\":{\"shape\":\"\"}},\"name\":\"monaco\",\"offsetgroup\":\"monaco\",\"orientation\":\"v\",\"showlegend\":true,\"x\":[\"monaco\"],\"xaxis\":\"x\",\"y\":[150.5396],\"yaxis\":\"y\",\"type\":\"histogram\"},{\"alignmentgroup\":\"True\",\"bingroup\":\"x\",\"histfunc\":\"sum\",\"hovertemplate\":\"GRAND_PRIX=%{x}<br>SEASON=2015<br>sum of FLAP_KM/H=%{y}<extra></extra>\",\"legendgroup\":\"russian\",\"marker\":{\"color\":\"#19d3f3\",\"pattern\":{\"shape\":\"\"}},\"name\":\"russian\",\"offsetgroup\":\"russian\",\"orientation\":\"v\",\"showlegend\":true,\"x\":[\"russian\"],\"xaxis\":\"x\",\"y\":[205.92899999999997],\"yaxis\":\"y\",\"type\":\"histogram\"},{\"alignmentgroup\":\"True\",\"bingroup\":\"x\",\"histfunc\":\"sum\",\"hovertemplate\":\"GRAND_PRIX=%{x}<br>SEASON=2015<br>sum of FLAP_KM/H=%{y}<extra></extra>\",\"legendgroup\":\"singapore\",\"marker\":{\"color\":\"#FF6692\",\"pattern\":{\"shape\":\"\"}},\"name\":\"singapore\",\"offsetgroup\":\"singapore\",\"orientation\":\"v\",\"showlegend\":true,\"x\":[\"singapore\"],\"xaxis\":\"x\",\"y\":[162.9178],\"yaxis\":\"y\",\"type\":\"histogram\"},{\"alignmentgroup\":\"True\",\"bingroup\":\"x\",\"histfunc\":\"sum\",\"hovertemplate\":\"GRAND_PRIX=%{x}<br>SEASON=2015<br>sum of FLAP_KM/H=%{y}<extra></extra>\",\"legendgroup\":\"spanish\",\"marker\":{\"color\":\"#B6E880\",\"pattern\":{\"shape\":\"\"}},\"name\":\"spanish\",\"offsetgroup\":\"spanish\",\"orientation\":\"v\",\"showlegend\":true,\"x\":[\"spanish\"],\"xaxis\":\"x\",\"y\":[183.24815],\"yaxis\":\"y\",\"type\":\"histogram\"},{\"alignmentgroup\":\"True\",\"bingroup\":\"x\",\"histfunc\":\"sum\",\"hovertemplate\":\"GRAND_PRIX=%{x}<br>SEASON=2015<br>sum of FLAP_KM/H=%{y}<extra></extra>\",\"legendgroup\":\"united-states\",\"marker\":{\"color\":\"#FF97FF\",\"pattern\":{\"shape\":\"\"}},\"name\":\"united-states\",\"offsetgroup\":\"united-states\",\"orientation\":\"v\",\"showlegend\":true,\"x\":[\"united-states\"],\"xaxis\":\"x\",\"y\":[186.5395263157895],\"yaxis\":\"y\",\"type\":\"histogram\"}],                        {\"template\":{\"data\":{\"barpolar\":[{\"marker\":{\"line\":{\"color\":\"rgb(17,17,17)\",\"width\":0.5},\"pattern\":{\"fillmode\":\"overlay\",\"size\":10,\"solidity\":0.2}},\"type\":\"barpolar\"}],\"bar\":[{\"error_x\":{\"color\":\"#f2f5fa\"},\"error_y\":{\"color\":\"#f2f5fa\"},\"marker\":{\"line\":{\"color\":\"rgb(17,17,17)\",\"width\":0.5},\"pattern\":{\"fillmode\":\"overlay\",\"size\":10,\"solidity\":0.2}},\"type\":\"bar\"}],\"carpet\":[{\"aaxis\":{\"endlinecolor\":\"#A2B1C6\",\"gridcolor\":\"#506784\",\"linecolor\":\"#506784\",\"minorgridcolor\":\"#506784\",\"startlinecolor\":\"#A2B1C6\"},\"baxis\":{\"endlinecolor\":\"#A2B1C6\",\"gridcolor\":\"#506784\",\"linecolor\":\"#506784\",\"minorgridcolor\":\"#506784\",\"startlinecolor\":\"#A2B1C6\"},\"type\":\"carpet\"}],\"choropleth\":[{\"colorbar\":{\"outlinewidth\":0,\"ticks\":\"\"},\"type\":\"choropleth\"}],\"contourcarpet\":[{\"colorbar\":{\"outlinewidth\":0,\"ticks\":\"\"},\"type\":\"contourcarpet\"}],\"contour\":[{\"colorbar\":{\"outlinewidth\":0,\"ticks\":\"\"},\"colorscale\":[[0.0,\"#0d0887\"],[0.1111111111111111,\"#46039f\"],[0.2222222222222222,\"#7201a8\"],[0.3333333333333333,\"#9c179e\"],[0.4444444444444444,\"#bd3786\"],[0.5555555555555556,\"#d8576b\"],[0.6666666666666666,\"#ed7953\"],[0.7777777777777778,\"#fb9f3a\"],[0.8888888888888888,\"#fdca26\"],[1.0,\"#f0f921\"]],\"type\":\"contour\"}],\"heatmapgl\":[{\"colorbar\":{\"outlinewidth\":0,\"ticks\":\"\"},\"colorscale\":[[0.0,\"#0d0887\"],[0.1111111111111111,\"#46039f\"],[0.2222222222222222,\"#7201a8\"],[0.3333333333333333,\"#9c179e\"],[0.4444444444444444,\"#bd3786\"],[0.5555555555555556,\"#d8576b\"],[0.6666666666666666,\"#ed7953\"],[0.7777777777777778,\"#fb9f3a\"],[0.8888888888888888,\"#fdca26\"],[1.0,\"#f0f921\"]],\"type\":\"heatmapgl\"}],\"heatmap\":[{\"colorbar\":{\"outlinewidth\":0,\"ticks\":\"\"},\"colorscale\":[[0.0,\"#0d0887\"],[0.1111111111111111,\"#46039f\"],[0.2222222222222222,\"#7201a8\"],[0.3333333333333333,\"#9c179e\"],[0.4444444444444444,\"#bd3786\"],[0.5555555555555556,\"#d8576b\"],[0.6666666666666666,\"#ed7953\"],[0.7777777777777778,\"#fb9f3a\"],[0.8888888888888888,\"#fdca26\"],[1.0,\"#f0f921\"]],\"type\":\"heatmap\"}],\"histogram2dcontour\":[{\"colorbar\":{\"outlinewidth\":0,\"ticks\":\"\"},\"colorscale\":[[0.0,\"#0d0887\"],[0.1111111111111111,\"#46039f\"],[0.2222222222222222,\"#7201a8\"],[0.3333333333333333,\"#9c179e\"],[0.4444444444444444,\"#bd3786\"],[0.5555555555555556,\"#d8576b\"],[0.6666666666666666,\"#ed7953\"],[0.7777777777777778,\"#fb9f3a\"],[0.8888888888888888,\"#fdca26\"],[1.0,\"#f0f921\"]],\"type\":\"histogram2dcontour\"}],\"histogram2d\":[{\"colorbar\":{\"outlinewidth\":0,\"ticks\":\"\"},\"colorscale\":[[0.0,\"#0d0887\"],[0.1111111111111111,\"#46039f\"],[0.2222222222222222,\"#7201a8\"],[0.3333333333333333,\"#9c179e\"],[0.4444444444444444,\"#bd3786\"],[0.5555555555555556,\"#d8576b\"],[0.6666666666666666,\"#ed7953\"],[0.7777777777777778,\"#fb9f3a\"],[0.8888888888888888,\"#fdca26\"],[1.0,\"#f0f921\"]],\"type\":\"histogram2d\"}],\"histogram\":[{\"marker\":{\"pattern\":{\"fillmode\":\"overlay\",\"size\":10,\"solidity\":0.2}},\"type\":\"histogram\"}],\"mesh3d\":[{\"colorbar\":{\"outlinewidth\":0,\"ticks\":\"\"},\"type\":\"mesh3d\"}],\"parcoords\":[{\"line\":{\"colorbar\":{\"outlinewidth\":0,\"ticks\":\"\"}},\"type\":\"parcoords\"}],\"pie\":[{\"automargin\":true,\"type\":\"pie\"}],\"scatter3d\":[{\"line\":{\"colorbar\":{\"outlinewidth\":0,\"ticks\":\"\"}},\"marker\":{\"colorbar\":{\"outlinewidth\":0,\"ticks\":\"\"}},\"type\":\"scatter3d\"}],\"scattercarpet\":[{\"marker\":{\"colorbar\":{\"outlinewidth\":0,\"ticks\":\"\"}},\"type\":\"scattercarpet\"}],\"scattergeo\":[{\"marker\":{\"colorbar\":{\"outlinewidth\":0,\"ticks\":\"\"}},\"type\":\"scattergeo\"}],\"scattergl\":[{\"marker\":{\"line\":{\"color\":\"#283442\"}},\"type\":\"scattergl\"}],\"scattermapbox\":[{\"marker\":{\"colorbar\":{\"outlinewidth\":0,\"ticks\":\"\"}},\"type\":\"scattermapbox\"}],\"scatterpolargl\":[{\"marker\":{\"colorbar\":{\"outlinewidth\":0,\"ticks\":\"\"}},\"type\":\"scatterpolargl\"}],\"scatterpolar\":[{\"marker\":{\"colorbar\":{\"outlinewidth\":0,\"ticks\":\"\"}},\"type\":\"scatterpolar\"}],\"scatter\":[{\"marker\":{\"line\":{\"color\":\"#283442\"}},\"type\":\"scatter\"}],\"scatterternary\":[{\"marker\":{\"colorbar\":{\"outlinewidth\":0,\"ticks\":\"\"}},\"type\":\"scatterternary\"}],\"surface\":[{\"colorbar\":{\"outlinewidth\":0,\"ticks\":\"\"},\"colorscale\":[[0.0,\"#0d0887\"],[0.1111111111111111,\"#46039f\"],[0.2222222222222222,\"#7201a8\"],[0.3333333333333333,\"#9c179e\"],[0.4444444444444444,\"#bd3786\"],[0.5555555555555556,\"#d8576b\"],[0.6666666666666666,\"#ed7953\"],[0.7777777777777778,\"#fb9f3a\"],[0.8888888888888888,\"#fdca26\"],[1.0,\"#f0f921\"]],\"type\":\"surface\"}],\"table\":[{\"cells\":{\"fill\":{\"color\":\"#506784\"},\"line\":{\"color\":\"rgb(17,17,17)\"}},\"header\":{\"fill\":{\"color\":\"#2a3f5f\"},\"line\":{\"color\":\"rgb(17,17,17)\"}},\"type\":\"table\"}]},\"layout\":{\"annotationdefaults\":{\"arrowcolor\":\"#f2f5fa\",\"arrowhead\":0,\"arrowwidth\":1},\"autotypenumbers\":\"strict\",\"coloraxis\":{\"colorbar\":{\"outlinewidth\":0,\"ticks\":\"\"}},\"colorscale\":{\"diverging\":[[0,\"#8e0152\"],[0.1,\"#c51b7d\"],[0.2,\"#de77ae\"],[0.3,\"#f1b6da\"],[0.4,\"#fde0ef\"],[0.5,\"#f7f7f7\"],[0.6,\"#e6f5d0\"],[0.7,\"#b8e186\"],[0.8,\"#7fbc41\"],[0.9,\"#4d9221\"],[1,\"#276419\"]],\"sequential\":[[0.0,\"#0d0887\"],[0.1111111111111111,\"#46039f\"],[0.2222222222222222,\"#7201a8\"],[0.3333333333333333,\"#9c179e\"],[0.4444444444444444,\"#bd3786\"],[0.5555555555555556,\"#d8576b\"],[0.6666666666666666,\"#ed7953\"],[0.7777777777777778,\"#fb9f3a\"],[0.8888888888888888,\"#fdca26\"],[1.0,\"#f0f921\"]],\"sequentialminus\":[[0.0,\"#0d0887\"],[0.1111111111111111,\"#46039f\"],[0.2222222222222222,\"#7201a8\"],[0.3333333333333333,\"#9c179e\"],[0.4444444444444444,\"#bd3786\"],[0.5555555555555556,\"#d8576b\"],[0.6666666666666666,\"#ed7953\"],[0.7777777777777778,\"#fb9f3a\"],[0.8888888888888888,\"#fdca26\"],[1.0,\"#f0f921\"]]},\"colorway\":[\"#636efa\",\"#EF553B\",\"#00cc96\",\"#ab63fa\",\"#FFA15A\",\"#19d3f3\",\"#FF6692\",\"#B6E880\",\"#FF97FF\",\"#FECB52\"],\"font\":{\"color\":\"#f2f5fa\"},\"geo\":{\"bgcolor\":\"rgb(17,17,17)\",\"lakecolor\":\"rgb(17,17,17)\",\"landcolor\":\"rgb(17,17,17)\",\"showlakes\":true,\"showland\":true,\"subunitcolor\":\"#506784\"},\"hoverlabel\":{\"align\":\"left\"},\"hovermode\":\"closest\",\"mapbox\":{\"style\":\"dark\"},\"paper_bgcolor\":\"rgb(17,17,17)\",\"plot_bgcolor\":\"rgb(17,17,17)\",\"polar\":{\"angularaxis\":{\"gridcolor\":\"#506784\",\"linecolor\":\"#506784\",\"ticks\":\"\"},\"bgcolor\":\"rgb(17,17,17)\",\"radialaxis\":{\"gridcolor\":\"#506784\",\"linecolor\":\"#506784\",\"ticks\":\"\"}},\"scene\":{\"xaxis\":{\"backgroundcolor\":\"rgb(17,17,17)\",\"gridcolor\":\"#506784\",\"gridwidth\":2,\"linecolor\":\"#506784\",\"showbackground\":true,\"ticks\":\"\",\"zerolinecolor\":\"#C8D4E3\"},\"yaxis\":{\"backgroundcolor\":\"rgb(17,17,17)\",\"gridcolor\":\"#506784\",\"gridwidth\":2,\"linecolor\":\"#506784\",\"showbackground\":true,\"ticks\":\"\",\"zerolinecolor\":\"#C8D4E3\"},\"zaxis\":{\"backgroundcolor\":\"rgb(17,17,17)\",\"gridcolor\":\"#506784\",\"gridwidth\":2,\"linecolor\":\"#506784\",\"showbackground\":true,\"ticks\":\"\",\"zerolinecolor\":\"#C8D4E3\"}},\"shapedefaults\":{\"line\":{\"color\":\"#f2f5fa\"}},\"sliderdefaults\":{\"bgcolor\":\"#C8D4E3\",\"bordercolor\":\"rgb(17,17,17)\",\"borderwidth\":1,\"tickwidth\":0},\"ternary\":{\"aaxis\":{\"gridcolor\":\"#506784\",\"linecolor\":\"#506784\",\"ticks\":\"\"},\"baxis\":{\"gridcolor\":\"#506784\",\"linecolor\":\"#506784\",\"ticks\":\"\"},\"bgcolor\":\"rgb(17,17,17)\",\"caxis\":{\"gridcolor\":\"#506784\",\"linecolor\":\"#506784\",\"ticks\":\"\"}},\"title\":{\"x\":0.05},\"updatemenudefaults\":{\"bgcolor\":\"#506784\",\"borderwidth\":0},\"xaxis\":{\"automargin\":true,\"gridcolor\":\"#283442\",\"linecolor\":\"#506784\",\"ticks\":\"\",\"title\":{\"standoff\":15},\"zerolinecolor\":\"#283442\",\"zerolinewidth\":2},\"yaxis\":{\"automargin\":true,\"gridcolor\":\"#283442\",\"linecolor\":\"#506784\",\"ticks\":\"\",\"title\":{\"standoff\":15},\"zerolinecolor\":\"#283442\",\"zerolinewidth\":2}}},\"xaxis\":{\"anchor\":\"y\",\"domain\":[0.0,1.0],\"title\":{\"text\":\"GRAND_PRIX\"},\"categoryorder\":\"array\",\"categoryarray\":[\"abu-dhabi\",\"australian\",\"austrian\",\"bahrain\",\"belgian\",\"brazilian\",\"british\",\"canadian\",\"chinese\",\"hungarian\",\"italian\",\"japanese\",\"malaysian\",\"mexican\",\"monaco\",\"russian\",\"singapore\",\"spanish\",\"united-states\",\"european\",\"german\",\"azerbaijan\",\"french\",\"emilia-romagna\",\"portuguese\",\"pries-der-eifel\",\"sakhir\",\"turkish\",\"tuscan\",\"dutch\",\"qatar\",\"saudi-arabia\"]},\"yaxis\":{\"anchor\":\"x\",\"domain\":[0.0,1.0],\"title\":{\"text\":\"sum of FLAP_KM/H\"}},\"legend\":{\"title\":{\"text\":\"GRAND_PRIX\"},\"tracegroupgap\":0},\"margin\":{\"t\":60},\"barmode\":\"relative\",\"updatemenus\":[{\"buttons\":[{\"args\":[null,{\"frame\":{\"duration\":500,\"redraw\":true},\"mode\":\"immediate\",\"fromcurrent\":true,\"transition\":{\"duration\":500,\"easing\":\"linear\"}}],\"label\":\"&#9654;\",\"method\":\"animate\"},{\"args\":[[null],{\"frame\":{\"duration\":0,\"redraw\":true},\"mode\":\"immediate\",\"fromcurrent\":true,\"transition\":{\"duration\":0,\"easing\":\"linear\"}}],\"label\":\"&#9724;\",\"method\":\"animate\"}],\"direction\":\"left\",\"pad\":{\"r\":10,\"t\":70},\"showactive\":false,\"type\":\"buttons\",\"x\":0.1,\"xanchor\":\"right\",\"y\":0,\"yanchor\":\"top\"}],\"sliders\":[{\"active\":0,\"currentvalue\":{\"prefix\":\"SEASON=\"},\"len\":0.9,\"pad\":{\"b\":10,\"t\":60},\"steps\":[{\"args\":[[\"2015\"],{\"frame\":{\"duration\":0,\"redraw\":true},\"mode\":\"immediate\",\"fromcurrent\":true,\"transition\":{\"duration\":0,\"easing\":\"linear\"}}],\"label\":\"2015\",\"method\":\"animate\"},{\"args\":[[\"2016\"],{\"frame\":{\"duration\":0,\"redraw\":true},\"mode\":\"immediate\",\"fromcurrent\":true,\"transition\":{\"duration\":0,\"easing\":\"linear\"}}],\"label\":\"2016\",\"method\":\"animate\"},{\"args\":[[\"2017\"],{\"frame\":{\"duration\":0,\"redraw\":true},\"mode\":\"immediate\",\"fromcurrent\":true,\"transition\":{\"duration\":0,\"easing\":\"linear\"}}],\"label\":\"2017\",\"method\":\"animate\"},{\"args\":[[\"2018\"],{\"frame\":{\"duration\":0,\"redraw\":true},\"mode\":\"immediate\",\"fromcurrent\":true,\"transition\":{\"duration\":0,\"easing\":\"linear\"}}],\"label\":\"2018\",\"method\":\"animate\"},{\"args\":[[\"2019\"],{\"frame\":{\"duration\":0,\"redraw\":true},\"mode\":\"immediate\",\"fromcurrent\":true,\"transition\":{\"duration\":0,\"easing\":\"linear\"}}],\"label\":\"2019\",\"method\":\"animate\"},{\"args\":[[\"2020\"],{\"frame\":{\"duration\":0,\"redraw\":true},\"mode\":\"immediate\",\"fromcurrent\":true,\"transition\":{\"duration\":0,\"easing\":\"linear\"}}],\"label\":\"2020\",\"method\":\"animate\"},{\"args\":[[\"2021\"],{\"frame\":{\"duration\":0,\"redraw\":true},\"mode\":\"immediate\",\"fromcurrent\":true,\"transition\":{\"duration\":0,\"easing\":\"linear\"}}],\"label\":\"2021\",\"method\":\"animate\"}],\"x\":0.1,\"xanchor\":\"left\",\"y\":0,\"yanchor\":\"top\"}]},                        {\"responsive\": true}                    ).then(function(){\n",
       "                            Plotly.addFrames('6473e058-c713-4cb1-abf6-b2457c280e56', [{\"data\":[{\"alignmentgroup\":\"True\",\"bingroup\":\"x\",\"histfunc\":\"sum\",\"hovertemplate\":\"GRAND_PRIX=%{x}<br>SEASON=2015<br>sum of FLAP_KM/H=%{y}<extra></extra>\",\"legendgroup\":\"abu-dhabi\",\"marker\":{\"color\":\"#636efa\",\"pattern\":{\"shape\":\"\"}},\"name\":\"abu-dhabi\",\"offsetgroup\":\"abu-dhabi\",\"orientation\":\"v\",\"showlegend\":true,\"x\":[\"abu-dhabi\"],\"xaxis\":\"x\",\"y\":[187.7707894736842],\"yaxis\":\"y\",\"type\":\"histogram\"},{\"alignmentgroup\":\"True\",\"bingroup\":\"x\",\"histfunc\":\"sum\",\"hovertemplate\":\"GRAND_PRIX=%{x}<br>SEASON=2015<br>sum of FLAP_KM/H=%{y}<extra></extra>\",\"legendgroup\":\"australian\",\"marker\":{\"color\":\"#EF553B\",\"pattern\":{\"shape\":\"\"}},\"name\":\"australian\",\"offsetgroup\":\"australian\",\"orientation\":\"v\",\"showlegend\":true,\"x\":[\"australian\"],\"xaxis\":\"x\",\"y\":[207.17569230769232],\"yaxis\":\"y\",\"type\":\"histogram\"},{\"alignmentgroup\":\"True\",\"bingroup\":\"x\",\"histfunc\":\"sum\",\"hovertemplate\":\"GRAND_PRIX=%{x}<br>SEASON=2015<br>sum of FLAP_KM/H=%{y}<extra></extra>\",\"legendgroup\":\"austrian\",\"marker\":{\"color\":\"#00cc96\",\"pattern\":{\"shape\":\"\"}},\"name\":\"austrian\",\"offsetgroup\":\"austrian\",\"orientation\":\"v\",\"showlegend\":true,\"x\":[\"austrian\"],\"xaxis\":\"x\",\"y\":[210.7585294117647],\"yaxis\":\"y\",\"type\":\"histogram\"},{\"alignmentgroup\":\"True\",\"bingroup\":\"x\",\"histfunc\":\"sum\",\"hovertemplate\":\"GRAND_PRIX=%{x}<br>SEASON=2015<br>sum of FLAP_KM/H=%{y}<extra></extra>\",\"legendgroup\":\"bahrain\",\"marker\":{\"color\":\"#ab63fa\",\"pattern\":{\"shape\":\"\"}},\"name\":\"bahrain\",\"offsetgroup\":\"bahrain\",\"orientation\":\"v\",\"showlegend\":true,\"x\":[\"bahrain\"],\"xaxis\":\"x\",\"y\":[197.316],\"yaxis\":\"y\",\"type\":\"histogram\"},{\"alignmentgroup\":\"True\",\"bingroup\":\"x\",\"histfunc\":\"sum\",\"hovertemplate\":\"GRAND_PRIX=%{x}<br>SEASON=2015<br>sum of FLAP_KM/H=%{y}<extra></extra>\",\"legendgroup\":\"belgian\",\"marker\":{\"color\":\"#FFA15A\",\"pattern\":{\"shape\":\"\"}},\"name\":\"belgian\",\"offsetgroup\":\"belgian\",\"orientation\":\"v\",\"showlegend\":true,\"x\":[\"belgian\"],\"xaxis\":\"x\",\"y\":[219.94644444444444],\"yaxis\":\"y\",\"type\":\"histogram\"},{\"alignmentgroup\":\"True\",\"bingroup\":\"x\",\"histfunc\":\"sum\",\"hovertemplate\":\"GRAND_PRIX=%{x}<br>SEASON=2015<br>sum of FLAP_KM/H=%{y}<extra></extra>\",\"legendgroup\":\"brazilian\",\"marker\":{\"color\":\"#19d3f3\",\"pattern\":{\"shape\":\"\"}},\"name\":\"brazilian\",\"offsetgroup\":\"brazilian\",\"orientation\":\"v\",\"showlegend\":true,\"x\":[\"brazilian\"],\"xaxis\":\"x\",\"y\":[203.47326315789473],\"yaxis\":\"y\",\"type\":\"histogram\"},{\"alignmentgroup\":\"True\",\"bingroup\":\"x\",\"histfunc\":\"sum\",\"hovertemplate\":\"GRAND_PRIX=%{x}<br>SEASON=2015<br>sum of FLAP_KM/H=%{y}<extra></extra>\",\"legendgroup\":\"british\",\"marker\":{\"color\":\"#FF6692\",\"pattern\":{\"shape\":\"\"}},\"name\":\"british\",\"offsetgroup\":\"british\",\"orientation\":\"v\",\"showlegend\":true,\"x\":[\"british\"],\"xaxis\":\"x\",\"y\":[211.07475],\"yaxis\":\"y\",\"type\":\"histogram\"},{\"alignmentgroup\":\"True\",\"bingroup\":\"x\",\"histfunc\":\"sum\",\"hovertemplate\":\"GRAND_PRIX=%{x}<br>SEASON=2015<br>sum of FLAP_KM/H=%{y}<extra></extra>\",\"legendgroup\":\"canadian\",\"marker\":{\"color\":\"#B6E880\",\"pattern\":{\"shape\":\"\"}},\"name\":\"canadian\",\"offsetgroup\":\"canadian\",\"orientation\":\"v\",\"showlegend\":true,\"x\":[\"canadian\"],\"xaxis\":\"x\",\"y\":[199.9486],\"yaxis\":\"y\",\"type\":\"histogram\"},{\"alignmentgroup\":\"True\",\"bingroup\":\"x\",\"histfunc\":\"sum\",\"hovertemplate\":\"GRAND_PRIX=%{x}<br>SEASON=2015<br>sum of FLAP_KM/H=%{y}<extra></extra>\",\"legendgroup\":\"chinese\",\"marker\":{\"color\":\"#FF97FF\",\"pattern\":{\"shape\":\"\"}},\"name\":\"chinese\",\"offsetgroup\":\"chinese\",\"orientation\":\"v\",\"showlegend\":true,\"x\":[\"chinese\"],\"xaxis\":\"x\",\"y\":[188.99994999999998],\"yaxis\":\"y\",\"type\":\"histogram\"},{\"alignmentgroup\":\"True\",\"bingroup\":\"x\",\"histfunc\":\"sum\",\"hovertemplate\":\"GRAND_PRIX=%{x}<br>SEASON=2015<br>sum of FLAP_KM/H=%{y}<extra></extra>\",\"legendgroup\":\"hungarian\",\"marker\":{\"color\":\"#FECB52\",\"pattern\":{\"shape\":\"\"}},\"name\":\"hungarian\",\"offsetgroup\":\"hungarian\",\"orientation\":\"v\",\"showlegend\":true,\"x\":[\"hungarian\"],\"xaxis\":\"x\",\"y\":[180.3434],\"yaxis\":\"y\",\"type\":\"histogram\"},{\"alignmentgroup\":\"True\",\"bingroup\":\"x\",\"histfunc\":\"sum\",\"hovertemplate\":\"GRAND_PRIX=%{x}<br>SEASON=2015<br>sum of FLAP_KM/H=%{y}<extra></extra>\",\"legendgroup\":\"italian\",\"marker\":{\"color\":\"#636efa\",\"pattern\":{\"shape\":\"\"}},\"name\":\"italian\",\"offsetgroup\":\"italian\",\"orientation\":\"v\",\"showlegend\":true,\"x\":[\"italian\"],\"xaxis\":\"x\",\"y\":[235.99344444444444],\"yaxis\":\"y\",\"type\":\"histogram\"},{\"alignmentgroup\":\"True\",\"bingroup\":\"x\",\"histfunc\":\"sum\",\"hovertemplate\":\"GRAND_PRIX=%{x}<br>SEASON=2015<br>sum of FLAP_KM/H=%{y}<extra></extra>\",\"legendgroup\":\"japanese\",\"marker\":{\"color\":\"#EF553B\",\"pattern\":{\"shape\":\"\"}},\"name\":\"japanese\",\"offsetgroup\":\"japanese\",\"orientation\":\"v\",\"showlegend\":true,\"x\":[\"japanese\"],\"xaxis\":\"x\",\"y\":[211.67135],\"yaxis\":\"y\",\"type\":\"histogram\"},{\"alignmentgroup\":\"True\",\"bingroup\":\"x\",\"histfunc\":\"sum\",\"hovertemplate\":\"GRAND_PRIX=%{x}<br>SEASON=2015<br>sum of FLAP_KM/H=%{y}<extra></extra>\",\"legendgroup\":\"malaysian\",\"marker\":{\"color\":\"#00cc96\",\"pattern\":{\"shape\":\"\"}},\"name\":\"malaysian\",\"offsetgroup\":\"malaysian\",\"orientation\":\"v\",\"showlegend\":true,\"x\":[\"malaysian\"],\"xaxis\":\"x\",\"y\":[189.88968421052633],\"yaxis\":\"y\",\"type\":\"histogram\"},{\"alignmentgroup\":\"True\",\"bingroup\":\"x\",\"histfunc\":\"sum\",\"hovertemplate\":\"GRAND_PRIX=%{x}<br>SEASON=2015<br>sum of FLAP_KM/H=%{y}<extra></extra>\",\"legendgroup\":\"mexican\",\"marker\":{\"color\":\"#ab63fa\",\"pattern\":{\"shape\":\"\"}},\"name\":\"mexican\",\"offsetgroup\":\"mexican\",\"orientation\":\"v\",\"showlegend\":true,\"x\":[\"mexican\"],\"xaxis\":\"x\",\"y\":[187.6364210526316],\"yaxis\":\"y\",\"type\":\"histogram\"},{\"alignmentgroup\":\"True\",\"bingroup\":\"x\",\"histfunc\":\"sum\",\"hovertemplate\":\"GRAND_PRIX=%{x}<br>SEASON=2015<br>sum of FLAP_KM/H=%{y}<extra></extra>\",\"legendgroup\":\"monaco\",\"marker\":{\"color\":\"#FFA15A\",\"pattern\":{\"shape\":\"\"}},\"name\":\"monaco\",\"offsetgroup\":\"monaco\",\"orientation\":\"v\",\"showlegend\":true,\"x\":[\"monaco\"],\"xaxis\":\"x\",\"y\":[150.5396],\"yaxis\":\"y\",\"type\":\"histogram\"},{\"alignmentgroup\":\"True\",\"bingroup\":\"x\",\"histfunc\":\"sum\",\"hovertemplate\":\"GRAND_PRIX=%{x}<br>SEASON=2015<br>sum of FLAP_KM/H=%{y}<extra></extra>\",\"legendgroup\":\"russian\",\"marker\":{\"color\":\"#19d3f3\",\"pattern\":{\"shape\":\"\"}},\"name\":\"russian\",\"offsetgroup\":\"russian\",\"orientation\":\"v\",\"showlegend\":true,\"x\":[\"russian\"],\"xaxis\":\"x\",\"y\":[205.92899999999997],\"yaxis\":\"y\",\"type\":\"histogram\"},{\"alignmentgroup\":\"True\",\"bingroup\":\"x\",\"histfunc\":\"sum\",\"hovertemplate\":\"GRAND_PRIX=%{x}<br>SEASON=2015<br>sum of FLAP_KM/H=%{y}<extra></extra>\",\"legendgroup\":\"singapore\",\"marker\":{\"color\":\"#FF6692\",\"pattern\":{\"shape\":\"\"}},\"name\":\"singapore\",\"offsetgroup\":\"singapore\",\"orientation\":\"v\",\"showlegend\":true,\"x\":[\"singapore\"],\"xaxis\":\"x\",\"y\":[162.9178],\"yaxis\":\"y\",\"type\":\"histogram\"},{\"alignmentgroup\":\"True\",\"bingroup\":\"x\",\"histfunc\":\"sum\",\"hovertemplate\":\"GRAND_PRIX=%{x}<br>SEASON=2015<br>sum of FLAP_KM/H=%{y}<extra></extra>\",\"legendgroup\":\"spanish\",\"marker\":{\"color\":\"#B6E880\",\"pattern\":{\"shape\":\"\"}},\"name\":\"spanish\",\"offsetgroup\":\"spanish\",\"orientation\":\"v\",\"showlegend\":true,\"x\":[\"spanish\"],\"xaxis\":\"x\",\"y\":[183.24815],\"yaxis\":\"y\",\"type\":\"histogram\"},{\"alignmentgroup\":\"True\",\"bingroup\":\"x\",\"histfunc\":\"sum\",\"hovertemplate\":\"GRAND_PRIX=%{x}<br>SEASON=2015<br>sum of FLAP_KM/H=%{y}<extra></extra>\",\"legendgroup\":\"united-states\",\"marker\":{\"color\":\"#FF97FF\",\"pattern\":{\"shape\":\"\"}},\"name\":\"united-states\",\"offsetgroup\":\"united-states\",\"orientation\":\"v\",\"showlegend\":true,\"x\":[\"united-states\"],\"xaxis\":\"x\",\"y\":[186.5395263157895],\"yaxis\":\"y\",\"type\":\"histogram\"}],\"name\":\"2015\"},{\"data\":[{\"alignmentgroup\":\"True\",\"bingroup\":\"x\",\"histfunc\":\"sum\",\"hovertemplate\":\"GRAND_PRIX=%{x}<br>SEASON=2016<br>sum of FLAP_KM/H=%{y}<extra></extra>\",\"legendgroup\":\"abu-dhabi\",\"marker\":{\"color\":\"#636efa\",\"pattern\":{\"shape\":\"\"}},\"name\":\"abu-dhabi\",\"offsetgroup\":\"abu-dhabi\",\"orientation\":\"v\",\"showlegend\":true,\"x\":[\"abu-dhabi\"],\"xaxis\":\"x\",\"y\":[188.59727272727275],\"yaxis\":\"y\",\"type\":\"histogram\"},{\"alignmentgroup\":\"True\",\"bingroup\":\"x\",\"histfunc\":\"sum\",\"hovertemplate\":\"GRAND_PRIX=%{x}<br>SEASON=2016<br>sum of FLAP_KM/H=%{y}<extra></extra>\",\"legendgroup\":\"australian\",\"marker\":{\"color\":\"#EF553B\",\"pattern\":{\"shape\":\"\"}},\"name\":\"australian\",\"offsetgroup\":\"australian\",\"orientation\":\"v\",\"showlegend\":true,\"x\":[\"australian\"],\"xaxis\":\"x\",\"y\":[207.50904999999997],\"yaxis\":\"y\",\"type\":\"histogram\"},{\"alignmentgroup\":\"True\",\"bingroup\":\"x\",\"histfunc\":\"sum\",\"hovertemplate\":\"GRAND_PRIX=%{x}<br>SEASON=2016<br>sum of FLAP_KM/H=%{y}<extra></extra>\",\"legendgroup\":\"austrian\",\"marker\":{\"color\":\"#00cc96\",\"pattern\":{\"shape\":\"\"}},\"name\":\"austrian\",\"offsetgroup\":\"austrian\",\"orientation\":\"v\",\"showlegend\":true,\"x\":[\"austrian\"],\"xaxis\":\"x\",\"y\":[221.4454090909091],\"yaxis\":\"y\",\"type\":\"histogram\"},{\"alignmentgroup\":\"True\",\"bingroup\":\"x\",\"histfunc\":\"sum\",\"hovertemplate\":\"GRAND_PRIX=%{x}<br>SEASON=2016<br>sum of FLAP_KM/H=%{y}<extra></extra>\",\"legendgroup\":\"bahrain\",\"marker\":{\"color\":\"#ab63fa\",\"pattern\":{\"shape\":\"\"}},\"name\":\"bahrain\",\"offsetgroup\":\"bahrain\",\"orientation\":\"v\",\"showlegend\":true,\"x\":[\"bahrain\"],\"xaxis\":\"x\",\"y\":[202.03765],\"yaxis\":\"y\",\"type\":\"histogram\"},{\"alignmentgroup\":\"True\",\"bingroup\":\"x\",\"histfunc\":\"sum\",\"hovertemplate\":\"GRAND_PRIX=%{x}<br>SEASON=2016<br>sum of FLAP_KM/H=%{y}<extra></extra>\",\"legendgroup\":\"belgian\",\"marker\":{\"color\":\"#FFA15A\",\"pattern\":{\"shape\":\"\"}},\"name\":\"belgian\",\"offsetgroup\":\"belgian\",\"orientation\":\"v\",\"showlegend\":true,\"x\":[\"belgian\"],\"xaxis\":\"x\",\"y\":[219.87794736842102],\"yaxis\":\"y\",\"type\":\"histogram\"},{\"alignmentgroup\":\"True\",\"bingroup\":\"x\",\"histfunc\":\"sum\",\"hovertemplate\":\"GRAND_PRIX=%{x}<br>SEASON=2016<br>sum of FLAP_KM/H=%{y}<extra></extra>\",\"legendgroup\":\"brazilian\",\"marker\":{\"color\":\"#19d3f3\",\"pattern\":{\"shape\":\"\"}},\"name\":\"brazilian\",\"offsetgroup\":\"brazilian\",\"orientation\":\"v\",\"showlegend\":true,\"x\":[\"brazilian\"],\"xaxis\":\"x\",\"y\":[177.4882380952381],\"yaxis\":\"y\",\"type\":\"histogram\"},{\"alignmentgroup\":\"True\",\"bingroup\":\"x\",\"histfunc\":\"sum\",\"hovertemplate\":\"GRAND_PRIX=%{x}<br>SEASON=2016<br>sum of FLAP_KM/H=%{y}<extra></extra>\",\"legendgroup\":\"british\",\"marker\":{\"color\":\"#FF6692\",\"pattern\":{\"shape\":\"\"}},\"name\":\"british\",\"offsetgroup\":\"british\",\"orientation\":\"v\",\"showlegend\":true,\"x\":[\"british\"],\"xaxis\":\"x\",\"y\":[210.16163636363635],\"yaxis\":\"y\",\"type\":\"histogram\"},{\"alignmentgroup\":\"True\",\"bingroup\":\"x\",\"histfunc\":\"sum\",\"hovertemplate\":\"GRAND_PRIX=%{x}<br>SEASON=2016<br>sum of FLAP_KM/H=%{y}<extra></extra>\",\"legendgroup\":\"canadian\",\"marker\":{\"color\":\"#B6E880\",\"pattern\":{\"shape\":\"\"}},\"name\":\"canadian\",\"offsetgroup\":\"canadian\",\"orientation\":\"v\",\"showlegend\":true,\"x\":[\"canadian\"],\"xaxis\":\"x\",\"y\":[203.03472727272728],\"yaxis\":\"y\",\"type\":\"histogram\"},{\"alignmentgroup\":\"True\",\"bingroup\":\"x\",\"histfunc\":\"sum\",\"hovertemplate\":\"GRAND_PRIX=%{x}<br>SEASON=2016<br>sum of FLAP_KM/H=%{y}<extra></extra>\",\"legendgroup\":\"chinese\",\"marker\":{\"color\":\"#FF97FF\",\"pattern\":{\"shape\":\"\"}},\"name\":\"chinese\",\"offsetgroup\":\"chinese\",\"orientation\":\"v\",\"showlegend\":true,\"x\":[\"chinese\"],\"xaxis\":\"x\",\"y\":[193.9165909090909],\"yaxis\":\"y\",\"type\":\"histogram\"},{\"alignmentgroup\":\"True\",\"bingroup\":\"x\",\"histfunc\":\"sum\",\"hovertemplate\":\"GRAND_PRIX=%{x}<br>SEASON=2016<br>sum of FLAP_KM/H=%{y}<extra></extra>\",\"legendgroup\":\"hungarian\",\"marker\":{\"color\":\"#FECB52\",\"pattern\":{\"shape\":\"\"}},\"name\":\"hungarian\",\"offsetgroup\":\"hungarian\",\"orientation\":\"v\",\"showlegend\":true,\"x\":[\"hungarian\"],\"xaxis\":\"x\",\"y\":[184.9729090909091],\"yaxis\":\"y\",\"type\":\"histogram\"},{\"alignmentgroup\":\"True\",\"bingroup\":\"x\",\"histfunc\":\"sum\",\"hovertemplate\":\"GRAND_PRIX=%{x}<br>SEASON=2016<br>sum of FLAP_KM/H=%{y}<extra></extra>\",\"legendgroup\":\"italian\",\"marker\":{\"color\":\"#636efa\",\"pattern\":{\"shape\":\"\"}},\"name\":\"italian\",\"offsetgroup\":\"italian\",\"orientation\":\"v\",\"showlegend\":true,\"x\":[\"italian\"],\"xaxis\":\"x\",\"y\":[239.3505238095238],\"yaxis\":\"y\",\"type\":\"histogram\"},{\"alignmentgroup\":\"True\",\"bingroup\":\"x\",\"histfunc\":\"sum\",\"hovertemplate\":\"GRAND_PRIX=%{x}<br>SEASON=2016<br>sum of FLAP_KM/H=%{y}<extra></extra>\",\"legendgroup\":\"japanese\",\"marker\":{\"color\":\"#EF553B\",\"pattern\":{\"shape\":\"\"}},\"name\":\"japanese\",\"offsetgroup\":\"japanese\",\"orientation\":\"v\",\"showlegend\":true,\"x\":[\"japanese\"],\"xaxis\":\"x\",\"y\":[215.05131818181817],\"yaxis\":\"y\",\"type\":\"histogram\"},{\"alignmentgroup\":\"True\",\"bingroup\":\"x\",\"histfunc\":\"sum\",\"hovertemplate\":\"GRAND_PRIX=%{x}<br>SEASON=2016<br>sum of FLAP_KM/H=%{y}<extra></extra>\",\"legendgroup\":\"malaysian\",\"marker\":{\"color\":\"#00cc96\",\"pattern\":{\"shape\":\"\"}},\"name\":\"malaysian\",\"offsetgroup\":\"malaysian\",\"orientation\":\"v\",\"showlegend\":true,\"x\":[\"malaysian\"],\"xaxis\":\"x\",\"y\":[200.78519047619045],\"yaxis\":\"y\",\"type\":\"histogram\"},{\"alignmentgroup\":\"True\",\"bingroup\":\"x\",\"histfunc\":\"sum\",\"hovertemplate\":\"GRAND_PRIX=%{x}<br>SEASON=2016<br>sum of FLAP_KM/H=%{y}<extra></extra>\",\"legendgroup\":\"mexican\",\"marker\":{\"color\":\"#ab63fa\",\"pattern\":{\"shape\":\"\"}},\"name\":\"mexican\",\"offsetgroup\":\"mexican\",\"orientation\":\"v\",\"showlegend\":true,\"x\":[\"mexican\"],\"xaxis\":\"x\",\"y\":[185.80485714285714],\"yaxis\":\"y\",\"type\":\"histogram\"},{\"alignmentgroup\":\"True\",\"bingroup\":\"x\",\"histfunc\":\"sum\",\"hovertemplate\":\"GRAND_PRIX=%{x}<br>SEASON=2016<br>sum of FLAP_KM/H=%{y}<extra></extra>\",\"legendgroup\":\"monaco\",\"marker\":{\"color\":\"#FFA15A\",\"pattern\":{\"shape\":\"\"}},\"name\":\"monaco\",\"offsetgroup\":\"monaco\",\"orientation\":\"v\",\"showlegend\":true,\"x\":[\"monaco\"],\"xaxis\":\"x\",\"y\":[144.64981818181818],\"yaxis\":\"y\",\"type\":\"histogram\"},{\"alignmentgroup\":\"True\",\"bingroup\":\"x\",\"histfunc\":\"sum\",\"hovertemplate\":\"GRAND_PRIX=%{x}<br>SEASON=2016<br>sum of FLAP_KM/H=%{y}<extra></extra>\",\"legendgroup\":\"russian\",\"marker\":{\"color\":\"#19d3f3\",\"pattern\":{\"shape\":\"\"}},\"name\":\"russian\",\"offsetgroup\":\"russian\",\"orientation\":\"v\",\"showlegend\":true,\"x\":[\"russian\"],\"xaxis\":\"x\",\"y\":[207.57763157894738],\"yaxis\":\"y\",\"type\":\"histogram\"},{\"alignmentgroup\":\"True\",\"bingroup\":\"x\",\"histfunc\":\"sum\",\"hovertemplate\":\"GRAND_PRIX=%{x}<br>SEASON=2016<br>sum of FLAP_KM/H=%{y}<extra></extra>\",\"legendgroup\":\"singapore\",\"marker\":{\"color\":\"#FF6692\",\"pattern\":{\"shape\":\"\"}},\"name\":\"singapore\",\"offsetgroup\":\"singapore\",\"orientation\":\"v\",\"showlegend\":true,\"x\":[\"singapore\"],\"xaxis\":\"x\",\"y\":[165.14659999999998],\"yaxis\":\"y\",\"type\":\"histogram\"},{\"alignmentgroup\":\"True\",\"bingroup\":\"x\",\"histfunc\":\"sum\",\"hovertemplate\":\"GRAND_PRIX=%{x}<br>SEASON=2016<br>sum of FLAP_KM/H=%{y}<extra></extra>\",\"legendgroup\":\"spanish\",\"marker\":{\"color\":\"#B6E880\",\"pattern\":{\"shape\":\"\"}},\"name\":\"spanish\",\"offsetgroup\":\"spanish\",\"orientation\":\"v\",\"showlegend\":true,\"x\":[\"spanish\"],\"xaxis\":\"x\",\"y\":[187.4859],\"yaxis\":\"y\",\"type\":\"histogram\"},{\"alignmentgroup\":\"True\",\"bingroup\":\"x\",\"histfunc\":\"sum\",\"hovertemplate\":\"GRAND_PRIX=%{x}<br>SEASON=2016<br>sum of FLAP_KM/H=%{y}<extra></extra>\",\"legendgroup\":\"united-states\",\"marker\":{\"color\":\"#FF97FF\",\"pattern\":{\"shape\":\"\"}},\"name\":\"united-states\",\"offsetgroup\":\"united-states\",\"orientation\":\"v\",\"showlegend\":true,\"x\":[\"united-states\"],\"xaxis\":\"x\",\"y\":[191.74514285714287],\"yaxis\":\"y\",\"type\":\"histogram\"},{\"alignmentgroup\":\"True\",\"bingroup\":\"x\",\"histfunc\":\"sum\",\"hovertemplate\":\"GRAND_PRIX=%{x}<br>SEASON=2016<br>sum of FLAP_KM/H=%{y}<extra></extra>\",\"legendgroup\":\"european\",\"marker\":{\"color\":\"#FECB52\",\"pattern\":{\"shape\":\"\"}},\"name\":\"european\",\"offsetgroup\":\"european\",\"orientation\":\"v\",\"showlegend\":true,\"x\":[\"european\"],\"xaxis\":\"x\",\"y\":[199.62063636363638],\"yaxis\":\"y\",\"type\":\"histogram\"},{\"alignmentgroup\":\"True\",\"bingroup\":\"x\",\"histfunc\":\"sum\",\"hovertemplate\":\"GRAND_PRIX=%{x}<br>SEASON=2016<br>sum of FLAP_KM/H=%{y}<extra></extra>\",\"legendgroup\":\"german\",\"marker\":{\"color\":\"#636efa\",\"pattern\":{\"shape\":\"\"}},\"name\":\"german\",\"offsetgroup\":\"german\",\"orientation\":\"v\",\"showlegend\":true,\"x\":[\"german\"],\"xaxis\":\"x\",\"y\":[205.55377272727273],\"yaxis\":\"y\",\"type\":\"histogram\"}],\"name\":\"2016\"},{\"data\":[{\"alignmentgroup\":\"True\",\"bingroup\":\"x\",\"histfunc\":\"sum\",\"hovertemplate\":\"GRAND_PRIX=%{x}<br>SEASON=2017<br>sum of FLAP_KM/H=%{y}<extra></extra>\",\"legendgroup\":\"abu-dhabi\",\"marker\":{\"color\":\"#636efa\",\"pattern\":{\"shape\":\"\"}},\"name\":\"abu-dhabi\",\"offsetgroup\":\"abu-dhabi\",\"orientation\":\"v\",\"showlegend\":true,\"x\":[\"abu-dhabi\"],\"xaxis\":\"x\",\"y\":[194.7422],\"yaxis\":\"y\",\"type\":\"histogram\"},{\"alignmentgroup\":\"True\",\"bingroup\":\"x\",\"histfunc\":\"sum\",\"hovertemplate\":\"GRAND_PRIX=%{x}<br>SEASON=2017<br>sum of FLAP_KM/H=%{y}<extra></extra>\",\"legendgroup\":\"australian\",\"marker\":{\"color\":\"#EF553B\",\"pattern\":{\"shape\":\"\"}},\"name\":\"australian\",\"offsetgroup\":\"australian\",\"orientation\":\"v\",\"showlegend\":true,\"x\":[\"australian\"],\"xaxis\":\"x\",\"y\":[215.67979999999997],\"yaxis\":\"y\",\"type\":\"histogram\"},{\"alignmentgroup\":\"True\",\"bingroup\":\"x\",\"histfunc\":\"sum\",\"hovertemplate\":\"GRAND_PRIX=%{x}<br>SEASON=2017<br>sum of FLAP_KM/H=%{y}<extra></extra>\",\"legendgroup\":\"austrian\",\"marker\":{\"color\":\"#00cc96\",\"pattern\":{\"shape\":\"\"}},\"name\":\"austrian\",\"offsetgroup\":\"austrian\",\"orientation\":\"v\",\"showlegend\":true,\"x\":[\"austrian\"],\"xaxis\":\"x\",\"y\":[226.9865],\"yaxis\":\"y\",\"type\":\"histogram\"},{\"alignmentgroup\":\"True\",\"bingroup\":\"x\",\"histfunc\":\"sum\",\"hovertemplate\":\"GRAND_PRIX=%{x}<br>SEASON=2017<br>sum of FLAP_KM/H=%{y}<extra></extra>\",\"legendgroup\":\"bahrain\",\"marker\":{\"color\":\"#ab63fa\",\"pattern\":{\"shape\":\"\"}},\"name\":\"bahrain\",\"offsetgroup\":\"bahrain\",\"orientation\":\"v\",\"showlegend\":true,\"x\":[\"bahrain\"],\"xaxis\":\"x\",\"y\":[204.56594736842106],\"yaxis\":\"y\",\"type\":\"histogram\"},{\"alignmentgroup\":\"True\",\"bingroup\":\"x\",\"histfunc\":\"sum\",\"hovertemplate\":\"GRAND_PRIX=%{x}<br>SEASON=2017<br>sum of FLAP_KM/H=%{y}<extra></extra>\",\"legendgroup\":\"belgian\",\"marker\":{\"color\":\"#FFA15A\",\"pattern\":{\"shape\":\"\"}},\"name\":\"belgian\",\"offsetgroup\":\"belgian\",\"orientation\":\"v\",\"showlegend\":true,\"x\":[\"belgian\"],\"xaxis\":\"x\",\"y\":[231.06747368421054],\"yaxis\":\"y\",\"type\":\"histogram\"},{\"alignmentgroup\":\"True\",\"bingroup\":\"x\",\"histfunc\":\"sum\",\"hovertemplate\":\"GRAND_PRIX=%{x}<br>SEASON=2017<br>sum of FLAP_KM/H=%{y}<extra></extra>\",\"legendgroup\":\"brazilian\",\"marker\":{\"color\":\"#19d3f3\",\"pattern\":{\"shape\":\"\"}},\"name\":\"brazilian\",\"offsetgroup\":\"brazilian\",\"orientation\":\"v\",\"showlegend\":true,\"x\":[\"brazilian\"],\"xaxis\":\"x\",\"y\":[212.43276470588236],\"yaxis\":\"y\",\"type\":\"histogram\"},{\"alignmentgroup\":\"True\",\"bingroup\":\"x\",\"histfunc\":\"sum\",\"hovertemplate\":\"GRAND_PRIX=%{x}<br>SEASON=2017<br>sum of FLAP_KM/H=%{y}<extra></extra>\",\"legendgroup\":\"british\",\"marker\":{\"color\":\"#FF6692\",\"pattern\":{\"shape\":\"\"}},\"name\":\"british\",\"offsetgroup\":\"british\",\"orientation\":\"v\",\"showlegend\":true,\"x\":[\"british\"],\"xaxis\":\"x\",\"y\":[229.0571666666667],\"yaxis\":\"y\",\"type\":\"histogram\"},{\"alignmentgroup\":\"True\",\"bingroup\":\"x\",\"histfunc\":\"sum\",\"hovertemplate\":\"GRAND_PRIX=%{x}<br>SEASON=2017<br>sum of FLAP_KM/H=%{y}<extra></extra>\",\"legendgroup\":\"canadian\",\"marker\":{\"color\":\"#B6E880\",\"pattern\":{\"shape\":\"\"}},\"name\":\"canadian\",\"offsetgroup\":\"canadian\",\"orientation\":\"v\",\"showlegend\":true,\"x\":[\"canadian\"],\"xaxis\":\"x\",\"y\":[205.98222222222222],\"yaxis\":\"y\",\"type\":\"histogram\"},{\"alignmentgroup\":\"True\",\"bingroup\":\"x\",\"histfunc\":\"sum\",\"hovertemplate\":\"GRAND_PRIX=%{x}<br>SEASON=2017<br>sum of FLAP_KM/H=%{y}<extra></extra>\",\"legendgroup\":\"chinese\",\"marker\":{\"color\":\"#FF97FF\",\"pattern\":{\"shape\":\"\"}},\"name\":\"chinese\",\"offsetgroup\":\"chinese\",\"orientation\":\"v\",\"showlegend\":true,\"x\":[\"chinese\"],\"xaxis\":\"x\",\"y\":[201.24455555555556],\"yaxis\":\"y\",\"type\":\"histogram\"},{\"alignmentgroup\":\"True\",\"bingroup\":\"x\",\"histfunc\":\"sum\",\"hovertemplate\":\"GRAND_PRIX=%{x}<br>SEASON=2017<br>sum of FLAP_KM/H=%{y}<extra></extra>\",\"legendgroup\":\"hungarian\",\"marker\":{\"color\":\"#FECB52\",\"pattern\":{\"shape\":\"\"}},\"name\":\"hungarian\",\"offsetgroup\":\"hungarian\",\"orientation\":\"v\",\"showlegend\":true,\"x\":[\"hungarian\"],\"xaxis\":\"x\",\"y\":[192.69715789473685],\"yaxis\":\"y\",\"type\":\"histogram\"},{\"alignmentgroup\":\"True\",\"bingroup\":\"x\",\"histfunc\":\"sum\",\"hovertemplate\":\"GRAND_PRIX=%{x}<br>SEASON=2017<br>sum of FLAP_KM/H=%{y}<extra></extra>\",\"legendgroup\":\"italian\",\"marker\":{\"color\":\"#636efa\",\"pattern\":{\"shape\":\"\"}},\"name\":\"italian\",\"offsetgroup\":\"italian\",\"orientation\":\"v\",\"showlegend\":true,\"x\":[\"italian\"],\"xaxis\":\"x\",\"y\":[244.29614999999998],\"yaxis\":\"y\",\"type\":\"histogram\"},{\"alignmentgroup\":\"True\",\"bingroup\":\"x\",\"histfunc\":\"sum\",\"hovertemplate\":\"GRAND_PRIX=%{x}<br>SEASON=2017<br>sum of FLAP_KM/H=%{y}<extra></extra>\",\"legendgroup\":\"japanese\",\"marker\":{\"color\":\"#EF553B\",\"pattern\":{\"shape\":\"\"}},\"name\":\"japanese\",\"offsetgroup\":\"japanese\",\"orientation\":\"v\",\"showlegend\":true,\"x\":[\"japanese\"],\"xaxis\":\"x\",\"y\":[217.62052631578948],\"yaxis\":\"y\",\"type\":\"histogram\"},{\"alignmentgroup\":\"True\",\"bingroup\":\"x\",\"histfunc\":\"sum\",\"hovertemplate\":\"GRAND_PRIX=%{x}<br>SEASON=2017<br>sum of FLAP_KM/H=%{y}<extra></extra>\",\"legendgroup\":\"malaysian\",\"marker\":{\"color\":\"#00cc96\",\"pattern\":{\"shape\":\"\"}},\"name\":\"malaysian\",\"offsetgroup\":\"malaysian\",\"orientation\":\"v\",\"showlegend\":true,\"x\":[\"malaysian\"],\"xaxis\":\"x\",\"y\":[207.83784210526315],\"yaxis\":\"y\",\"type\":\"histogram\"},{\"alignmentgroup\":\"True\",\"bingroup\":\"x\",\"histfunc\":\"sum\",\"hovertemplate\":\"GRAND_PRIX=%{x}<br>SEASON=2017<br>sum of FLAP_KM/H=%{y}<extra></extra>\",\"legendgroup\":\"mexican\",\"marker\":{\"color\":\"#ab63fa\",\"pattern\":{\"shape\":\"\"}},\"name\":\"mexican\",\"offsetgroup\":\"mexican\",\"orientation\":\"v\",\"showlegend\":true,\"x\":[\"mexican\"],\"xaxis\":\"x\",\"y\":[191.76330000000002],\"yaxis\":\"y\",\"type\":\"histogram\"},{\"alignmentgroup\":\"True\",\"bingroup\":\"x\",\"histfunc\":\"sum\",\"hovertemplate\":\"GRAND_PRIX=%{x}<br>SEASON=2017<br>sum of FLAP_KM/H=%{y}<extra></extra>\",\"legendgroup\":\"monaco\",\"marker\":{\"color\":\"#FFA15A\",\"pattern\":{\"shape\":\"\"}},\"name\":\"monaco\",\"offsetgroup\":\"monaco\",\"orientation\":\"v\",\"showlegend\":true,\"x\":[\"monaco\"],\"xaxis\":\"x\",\"y\":[157.1974],\"yaxis\":\"y\",\"type\":\"histogram\"},{\"alignmentgroup\":\"True\",\"bingroup\":\"x\",\"histfunc\":\"sum\",\"hovertemplate\":\"GRAND_PRIX=%{x}<br>SEASON=2017<br>sum of FLAP_KM/H=%{y}<extra></extra>\",\"legendgroup\":\"russian\",\"marker\":{\"color\":\"#19d3f3\",\"pattern\":{\"shape\":\"\"}},\"name\":\"russian\",\"offsetgroup\":\"russian\",\"orientation\":\"v\",\"showlegend\":true,\"x\":[\"russian\"],\"xaxis\":\"x\",\"y\":[212.96429411764706],\"yaxis\":\"y\",\"type\":\"histogram\"},{\"alignmentgroup\":\"True\",\"bingroup\":\"x\",\"histfunc\":\"sum\",\"hovertemplate\":\"GRAND_PRIX=%{x}<br>SEASON=2017<br>sum of FLAP_KM/H=%{y}<extra></extra>\",\"legendgroup\":\"singapore\",\"marker\":{\"color\":\"#FF6692\",\"pattern\":{\"shape\":\"\"}},\"name\":\"singapore\",\"offsetgroup\":\"singapore\",\"orientation\":\"v\",\"showlegend\":true,\"x\":[\"singapore\"],\"xaxis\":\"x\",\"y\":[166.23205882352943],\"yaxis\":\"y\",\"type\":\"histogram\"},{\"alignmentgroup\":\"True\",\"bingroup\":\"x\",\"histfunc\":\"sum\",\"hovertemplate\":\"GRAND_PRIX=%{x}<br>SEASON=2017<br>sum of FLAP_KM/H=%{y}<extra></extra>\",\"legendgroup\":\"spanish\",\"marker\":{\"color\":\"#B6E880\",\"pattern\":{\"shape\":\"\"}},\"name\":\"spanish\",\"offsetgroup\":\"spanish\",\"orientation\":\"v\",\"showlegend\":true,\"x\":[\"spanish\"],\"xaxis\":\"x\",\"y\":[195.64911111111113],\"yaxis\":\"y\",\"type\":\"histogram\"},{\"alignmentgroup\":\"True\",\"bingroup\":\"x\",\"histfunc\":\"sum\",\"hovertemplate\":\"GRAND_PRIX=%{x}<br>SEASON=2017<br>sum of FLAP_KM/H=%{y}<extra></extra>\",\"legendgroup\":\"united-states\",\"marker\":{\"color\":\"#FF97FF\",\"pattern\":{\"shape\":\"\"}},\"name\":\"united-states\",\"offsetgroup\":\"united-states\",\"orientation\":\"v\",\"showlegend\":true,\"x\":[\"united-states\"],\"xaxis\":\"x\",\"y\":[197.8394],\"yaxis\":\"y\",\"type\":\"histogram\"},{\"alignmentgroup\":\"True\",\"bingroup\":\"x\",\"histfunc\":\"sum\",\"hovertemplate\":\"GRAND_PRIX=%{x}<br>SEASON=2017<br>sum of FLAP_KM/H=%{y}<extra></extra>\",\"legendgroup\":\"azerbaijan\",\"marker\":{\"color\":\"#EF553B\",\"pattern\":{\"shape\":\"\"}},\"name\":\"azerbaijan\",\"offsetgroup\":\"azerbaijan\",\"orientation\":\"v\",\"showlegend\":true,\"x\":[\"azerbaijan\"],\"xaxis\":\"x\",\"y\":[203.45094999999998],\"yaxis\":\"y\",\"type\":\"histogram\"}],\"name\":\"2017\"},{\"data\":[{\"alignmentgroup\":\"True\",\"bingroup\":\"x\",\"histfunc\":\"sum\",\"hovertemplate\":\"GRAND_PRIX=%{x}<br>SEASON=2018<br>sum of FLAP_KM/H=%{y}<extra></extra>\",\"legendgroup\":\"abu-dhabi\",\"marker\":{\"color\":\"#636efa\",\"pattern\":{\"shape\":\"\"}},\"name\":\"abu-dhabi\",\"offsetgroup\":\"abu-dhabi\",\"orientation\":\"v\",\"showlegend\":true,\"x\":[\"abu-dhabi\"],\"xaxis\":\"x\",\"y\":[194.26236842105263],\"yaxis\":\"y\",\"type\":\"histogram\"},{\"alignmentgroup\":\"True\",\"bingroup\":\"x\",\"histfunc\":\"sum\",\"hovertemplate\":\"GRAND_PRIX=%{x}<br>SEASON=2018<br>sum of FLAP_KM/H=%{y}<extra></extra>\",\"legendgroup\":\"australian\",\"marker\":{\"color\":\"#EF553B\",\"pattern\":{\"shape\":\"\"}},\"name\":\"australian\",\"offsetgroup\":\"australian\",\"orientation\":\"v\",\"showlegend\":true,\"x\":[\"australian\"],\"xaxis\":\"x\",\"y\":[216.7181],\"yaxis\":\"y\",\"type\":\"histogram\"},{\"alignmentgroup\":\"True\",\"bingroup\":\"x\",\"histfunc\":\"sum\",\"hovertemplate\":\"GRAND_PRIX=%{x}<br>SEASON=2018<br>sum of FLAP_KM/H=%{y}<extra></extra>\",\"legendgroup\":\"austrian\",\"marker\":{\"color\":\"#00cc96\",\"pattern\":{\"shape\":\"\"}},\"name\":\"austrian\",\"offsetgroup\":\"austrian\",\"orientation\":\"v\",\"showlegend\":true,\"x\":[\"austrian\"],\"xaxis\":\"x\",\"y\":[null],\"yaxis\":\"y\",\"type\":\"histogram\"},{\"alignmentgroup\":\"True\",\"bingroup\":\"x\",\"histfunc\":\"sum\",\"hovertemplate\":\"GRAND_PRIX=%{x}<br>SEASON=2018<br>sum of FLAP_KM/H=%{y}<extra></extra>\",\"legendgroup\":\"bahrain\",\"marker\":{\"color\":\"#ab63fa\",\"pattern\":{\"shape\":\"\"}},\"name\":\"bahrain\",\"offsetgroup\":\"bahrain\",\"orientation\":\"v\",\"showlegend\":true,\"x\":[\"bahrain\"],\"xaxis\":\"x\",\"y\":[205.81166666666667],\"yaxis\":\"y\",\"type\":\"histogram\"},{\"alignmentgroup\":\"True\",\"bingroup\":\"x\",\"histfunc\":\"sum\",\"hovertemplate\":\"GRAND_PRIX=%{x}<br>SEASON=2018<br>sum of FLAP_KM/H=%{y}<extra></extra>\",\"legendgroup\":\"belgian\",\"marker\":{\"color\":\"#FFA15A\",\"pattern\":{\"shape\":\"\"}},\"name\":\"belgian\",\"offsetgroup\":\"belgian\",\"orientation\":\"v\",\"showlegend\":true,\"x\":[\"belgian\"],\"xaxis\":\"x\",\"y\":[232.43441176470589],\"yaxis\":\"y\",\"type\":\"histogram\"},{\"alignmentgroup\":\"True\",\"bingroup\":\"x\",\"histfunc\":\"sum\",\"hovertemplate\":\"GRAND_PRIX=%{x}<br>SEASON=2018<br>sum of FLAP_KM/H=%{y}<extra></extra>\",\"legendgroup\":\"brazilian\",\"marker\":{\"color\":\"#19d3f3\",\"pattern\":{\"shape\":\"\"}},\"name\":\"brazilian\",\"offsetgroup\":\"brazilian\",\"orientation\":\"v\",\"showlegend\":true,\"x\":[\"brazilian\"],\"xaxis\":\"x\",\"y\":[null],\"yaxis\":\"y\",\"type\":\"histogram\"},{\"alignmentgroup\":\"True\",\"bingroup\":\"x\",\"histfunc\":\"sum\",\"hovertemplate\":\"GRAND_PRIX=%{x}<br>SEASON=2018<br>sum of FLAP_KM/H=%{y}<extra></extra>\",\"legendgroup\":\"british\",\"marker\":{\"color\":\"#FF6692\",\"pattern\":{\"shape\":\"\"}},\"name\":\"british\",\"offsetgroup\":\"british\",\"orientation\":\"v\",\"showlegend\":true,\"x\":[\"british\"],\"xaxis\":\"x\",\"y\":[227.87126315789473],\"yaxis\":\"y\",\"type\":\"histogram\"},{\"alignmentgroup\":\"True\",\"bingroup\":\"x\",\"histfunc\":\"sum\",\"hovertemplate\":\"GRAND_PRIX=%{x}<br>SEASON=2018<br>sum of FLAP_KM/H=%{y}<extra></extra>\",\"legendgroup\":\"canadian\",\"marker\":{\"color\":\"#B6E880\",\"pattern\":{\"shape\":\"\"}},\"name\":\"canadian\",\"offsetgroup\":\"canadian\",\"orientation\":\"v\",\"showlegend\":true,\"x\":[\"canadian\"],\"xaxis\":\"x\",\"y\":[208.9625],\"yaxis\":\"y\",\"type\":\"histogram\"},{\"alignmentgroup\":\"True\",\"bingroup\":\"x\",\"histfunc\":\"sum\",\"hovertemplate\":\"GRAND_PRIX=%{x}<br>SEASON=2018<br>sum of FLAP_KM/H=%{y}<extra></extra>\",\"legendgroup\":\"chinese\",\"marker\":{\"color\":\"#FF97FF\",\"pattern\":{\"shape\":\"\"}},\"name\":\"chinese\",\"offsetgroup\":\"chinese\",\"orientation\":\"v\",\"showlegend\":true,\"x\":[\"chinese\"],\"xaxis\":\"x\",\"y\":[200.9675],\"yaxis\":\"y\",\"type\":\"histogram\"},{\"alignmentgroup\":\"True\",\"bingroup\":\"x\",\"histfunc\":\"sum\",\"hovertemplate\":\"GRAND_PRIX=%{x}<br>SEASON=2018<br>sum of FLAP_KM/H=%{y}<extra></extra>\",\"legendgroup\":\"hungarian\",\"marker\":{\"color\":\"#FECB52\",\"pattern\":{\"shape\":\"\"}},\"name\":\"hungarian\",\"offsetgroup\":\"hungarian\",\"orientation\":\"v\",\"showlegend\":true,\"x\":[\"hungarian\"],\"xaxis\":\"x\",\"y\":[192.03536842105262],\"yaxis\":\"y\",\"type\":\"histogram\"},{\"alignmentgroup\":\"True\",\"bingroup\":\"x\",\"histfunc\":\"sum\",\"hovertemplate\":\"GRAND_PRIX=%{x}<br>SEASON=2018<br>sum of FLAP_KM/H=%{y}<extra></extra>\",\"legendgroup\":\"italian\",\"marker\":{\"color\":\"#636efa\",\"pattern\":{\"shape\":\"\"}},\"name\":\"italian\",\"offsetgroup\":\"italian\",\"orientation\":\"v\",\"showlegend\":true,\"x\":[\"italian\"],\"xaxis\":\"x\",\"y\":[247.81473684210525],\"yaxis\":\"y\",\"type\":\"histogram\"},{\"alignmentgroup\":\"True\",\"bingroup\":\"x\",\"histfunc\":\"sum\",\"hovertemplate\":\"GRAND_PRIX=%{x}<br>SEASON=2018<br>sum of FLAP_KM/H=%{y}<extra></extra>\",\"legendgroup\":\"japanese\",\"marker\":{\"color\":\"#EF553B\",\"pattern\":{\"shape\":\"\"}},\"name\":\"japanese\",\"offsetgroup\":\"japanese\",\"orientation\":\"v\",\"showlegend\":true,\"x\":[\"japanese\"],\"xaxis\":\"x\",\"y\":[221.55010000000001],\"yaxis\":\"y\",\"type\":\"histogram\"},{\"alignmentgroup\":\"True\",\"bingroup\":\"x\",\"histfunc\":\"sum\",\"hovertemplate\":\"GRAND_PRIX=%{x}<br>SEASON=2018<br>sum of FLAP_KM/H=%{y}<extra></extra>\",\"legendgroup\":\"mexican\",\"marker\":{\"color\":\"#ab63fa\",\"pattern\":{\"shape\":\"\"}},\"name\":\"mexican\",\"offsetgroup\":\"mexican\",\"orientation\":\"v\",\"showlegend\":true,\"x\":[\"mexican\"],\"xaxis\":\"x\",\"y\":[190.1421],\"yaxis\":\"y\",\"type\":\"histogram\"},{\"alignmentgroup\":\"True\",\"bingroup\":\"x\",\"histfunc\":\"sum\",\"hovertemplate\":\"GRAND_PRIX=%{x}<br>SEASON=2018<br>sum of FLAP_KM/H=%{y}<extra></extra>\",\"legendgroup\":\"monaco\",\"marker\":{\"color\":\"#FFA15A\",\"pattern\":{\"shape\":\"\"}},\"name\":\"monaco\",\"offsetgroup\":\"monaco\",\"orientation\":\"v\",\"showlegend\":true,\"x\":[\"monaco\"],\"xaxis\":\"x\",\"y\":[157.23005],\"yaxis\":\"y\",\"type\":\"histogram\"},{\"alignmentgroup\":\"True\",\"bingroup\":\"x\",\"histfunc\":\"sum\",\"hovertemplate\":\"GRAND_PRIX=%{x}<br>SEASON=2018<br>sum of FLAP_KM/H=%{y}<extra></extra>\",\"legendgroup\":\"russian\",\"marker\":{\"color\":\"#19d3f3\",\"pattern\":{\"shape\":\"\"}},\"name\":\"russian\",\"offsetgroup\":\"russian\",\"orientation\":\"v\",\"showlegend\":true,\"x\":[\"russian\"],\"xaxis\":\"x\",\"y\":[213.48645000000002],\"yaxis\":\"y\",\"type\":\"histogram\"},{\"alignmentgroup\":\"True\",\"bingroup\":\"x\",\"histfunc\":\"sum\",\"hovertemplate\":\"GRAND_PRIX=%{x}<br>SEASON=2018<br>sum of FLAP_KM/H=%{y}<extra></extra>\",\"legendgroup\":\"singapore\",\"marker\":{\"color\":\"#FF6692\",\"pattern\":{\"shape\":\"\"}},\"name\":\"singapore\",\"offsetgroup\":\"singapore\",\"orientation\":\"v\",\"showlegend\":true,\"x\":[\"singapore\"],\"xaxis\":\"x\",\"y\":[174.0512105263158],\"yaxis\":\"y\",\"type\":\"histogram\"},{\"alignmentgroup\":\"True\",\"bingroup\":\"x\",\"histfunc\":\"sum\",\"hovertemplate\":\"GRAND_PRIX=%{x}<br>SEASON=2018<br>sum of FLAP_KM/H=%{y}<extra></extra>\",\"legendgroup\":\"spanish\",\"marker\":{\"color\":\"#B6E880\",\"pattern\":{\"shape\":\"\"}},\"name\":\"spanish\",\"offsetgroup\":\"spanish\",\"orientation\":\"v\",\"showlegend\":true,\"x\":[\"spanish\"],\"xaxis\":\"x\",\"y\":[207.0826470588235],\"yaxis\":\"y\",\"type\":\"histogram\"},{\"alignmentgroup\":\"True\",\"bingroup\":\"x\",\"histfunc\":\"sum\",\"hovertemplate\":\"GRAND_PRIX=%{x}<br>SEASON=2018<br>sum of FLAP_KM/H=%{y}<extra></extra>\",\"legendgroup\":\"united-states\",\"marker\":{\"color\":\"#FF97FF\",\"pattern\":{\"shape\":\"\"}},\"name\":\"united-states\",\"offsetgroup\":\"united-states\",\"orientation\":\"v\",\"showlegend\":true,\"x\":[\"united-states\"],\"xaxis\":\"x\",\"y\":[199.42494444444444],\"yaxis\":\"y\",\"type\":\"histogram\"},{\"alignmentgroup\":\"True\",\"bingroup\":\"x\",\"histfunc\":\"sum\",\"hovertemplate\":\"GRAND_PRIX=%{x}<br>SEASON=2018<br>sum of FLAP_KM/H=%{y}<extra></extra>\",\"legendgroup\":\"german\",\"marker\":{\"color\":\"#636efa\",\"pattern\":{\"shape\":\"\"}},\"name\":\"german\",\"offsetgroup\":\"german\",\"orientation\":\"v\",\"showlegend\":true,\"x\":[\"german\"],\"xaxis\":\"x\",\"y\":[212.72975000000002],\"yaxis\":\"y\",\"type\":\"histogram\"},{\"alignmentgroup\":\"True\",\"bingroup\":\"x\",\"histfunc\":\"sum\",\"hovertemplate\":\"GRAND_PRIX=%{x}<br>SEASON=2018<br>sum of FLAP_KM/H=%{y}<extra></extra>\",\"legendgroup\":\"azerbaijan\",\"marker\":{\"color\":\"#EF553B\",\"pattern\":{\"shape\":\"\"}},\"name\":\"azerbaijan\",\"offsetgroup\":\"azerbaijan\",\"orientation\":\"v\",\"showlegend\":true,\"x\":[\"azerbaijan\"],\"xaxis\":\"x\",\"y\":[202.16466666666668],\"yaxis\":\"y\",\"type\":\"histogram\"},{\"alignmentgroup\":\"True\",\"bingroup\":\"x\",\"histfunc\":\"sum\",\"hovertemplate\":\"GRAND_PRIX=%{x}<br>SEASON=2018<br>sum of FLAP_KM/H=%{y}<extra></extra>\",\"legendgroup\":\"french\",\"marker\":{\"color\":\"#00cc96\",\"pattern\":{\"shape\":\"\"}},\"name\":\"french\",\"offsetgroup\":\"french\",\"orientation\":\"v\",\"showlegend\":true,\"x\":[\"french\"],\"xaxis\":\"x\",\"y\":[219.37555555555556],\"yaxis\":\"y\",\"type\":\"histogram\"}],\"name\":\"2018\"},{\"data\":[{\"alignmentgroup\":\"True\",\"bingroup\":\"x\",\"histfunc\":\"sum\",\"hovertemplate\":\"GRAND_PRIX=%{x}<br>SEASON=2019<br>sum of FLAP_KM/H=%{y}<extra></extra>\",\"legendgroup\":\"abu-dhabi\",\"marker\":{\"color\":\"#636efa\",\"pattern\":{\"shape\":\"\"}},\"name\":\"abu-dhabi\",\"offsetgroup\":\"abu-dhabi\",\"orientation\":\"v\",\"showlegend\":true,\"x\":[\"abu-dhabi\"],\"xaxis\":\"x\",\"y\":[195.7052],\"yaxis\":\"y\",\"type\":\"histogram\"},{\"alignmentgroup\":\"True\",\"bingroup\":\"x\",\"histfunc\":\"sum\",\"hovertemplate\":\"GRAND_PRIX=%{x}<br>SEASON=2019<br>sum of FLAP_KM/H=%{y}<extra></extra>\",\"legendgroup\":\"australian\",\"marker\":{\"color\":\"#EF553B\",\"pattern\":{\"shape\":\"\"}},\"name\":\"australian\",\"offsetgroup\":\"australian\",\"orientation\":\"v\",\"showlegend\":true,\"x\":[\"australian\"],\"xaxis\":\"x\",\"y\":[216.88085],\"yaxis\":\"y\",\"type\":\"histogram\"},{\"alignmentgroup\":\"True\",\"bingroup\":\"x\",\"histfunc\":\"sum\",\"hovertemplate\":\"GRAND_PRIX=%{x}<br>SEASON=2019<br>sum of FLAP_KM/H=%{y}<extra></extra>\",\"legendgroup\":\"bahrain\",\"marker\":{\"color\":\"#ab63fa\",\"pattern\":{\"shape\":\"\"}},\"name\":\"bahrain\",\"offsetgroup\":\"bahrain\",\"orientation\":\"v\",\"showlegend\":true,\"x\":[\"bahrain\"],\"xaxis\":\"x\",\"y\":[203.59949999999998],\"yaxis\":\"y\",\"type\":\"histogram\"},{\"alignmentgroup\":\"True\",\"bingroup\":\"x\",\"histfunc\":\"sum\",\"hovertemplate\":\"GRAND_PRIX=%{x}<br>SEASON=2019<br>sum of FLAP_KM/H=%{y}<extra></extra>\",\"legendgroup\":\"belgian\",\"marker\":{\"color\":\"#FFA15A\",\"pattern\":{\"shape\":\"\"}},\"name\":\"belgian\",\"offsetgroup\":\"belgian\",\"orientation\":\"v\",\"showlegend\":true,\"x\":[\"belgian\"],\"xaxis\":\"x\",\"y\":[233.0036111111111],\"yaxis\":\"y\",\"type\":\"histogram\"},{\"alignmentgroup\":\"True\",\"bingroup\":\"x\",\"histfunc\":\"sum\",\"hovertemplate\":\"GRAND_PRIX=%{x}<br>SEASON=2019<br>sum of FLAP_KM/H=%{y}<extra></extra>\",\"legendgroup\":\"brazilian\",\"marker\":{\"color\":\"#19d3f3\",\"pattern\":{\"shape\":\"\"}},\"name\":\"brazilian\",\"offsetgroup\":\"brazilian\",\"orientation\":\"v\",\"showlegend\":true,\"x\":[\"brazilian\"],\"xaxis\":\"x\",\"y\":[214.11325000000002],\"yaxis\":\"y\",\"type\":\"histogram\"},{\"alignmentgroup\":\"True\",\"bingroup\":\"x\",\"histfunc\":\"sum\",\"hovertemplate\":\"GRAND_PRIX=%{x}<br>SEASON=2019<br>sum of FLAP_KM/H=%{y}<extra></extra>\",\"legendgroup\":\"british\",\"marker\":{\"color\":\"#FF6692\",\"pattern\":{\"shape\":\"\"}},\"name\":\"british\",\"offsetgroup\":\"british\",\"orientation\":\"v\",\"showlegend\":true,\"x\":[\"british\"],\"xaxis\":\"x\",\"y\":[235.32644999999997],\"yaxis\":\"y\",\"type\":\"histogram\"},{\"alignmentgroup\":\"True\",\"bingroup\":\"x\",\"histfunc\":\"sum\",\"hovertemplate\":\"GRAND_PRIX=%{x}<br>SEASON=2019<br>sum of FLAP_KM/H=%{y}<extra></extra>\",\"legendgroup\":\"canadian\",\"marker\":{\"color\":\"#B6E880\",\"pattern\":{\"shape\":\"\"}},\"name\":\"canadian\",\"offsetgroup\":\"canadian\",\"orientation\":\"v\",\"showlegend\":true,\"x\":[\"canadian\"],\"xaxis\":\"x\",\"y\":[null],\"yaxis\":\"y\",\"type\":\"histogram\"},{\"alignmentgroup\":\"True\",\"bingroup\":\"x\",\"histfunc\":\"sum\",\"hovertemplate\":\"GRAND_PRIX=%{x}<br>SEASON=2019<br>sum of FLAP_KM/H=%{y}<extra></extra>\",\"legendgroup\":\"chinese\",\"marker\":{\"color\":\"#FF97FF\",\"pattern\":{\"shape\":\"\"}},\"name\":\"chinese\",\"offsetgroup\":\"chinese\",\"orientation\":\"v\",\"showlegend\":true,\"x\":[\"chinese\"],\"xaxis\":\"x\",\"y\":[201.83499999999998],\"yaxis\":\"y\",\"type\":\"histogram\"},{\"alignmentgroup\":\"True\",\"bingroup\":\"x\",\"histfunc\":\"sum\",\"hovertemplate\":\"GRAND_PRIX=%{x}<br>SEASON=2019<br>sum of FLAP_KM/H=%{y}<extra></extra>\",\"legendgroup\":\"hungarian\",\"marker\":{\"color\":\"#FECB52\",\"pattern\":{\"shape\":\"\"}},\"name\":\"hungarian\",\"offsetgroup\":\"hungarian\",\"orientation\":\"v\",\"showlegend\":true,\"x\":[\"hungarian\"],\"xaxis\":\"x\",\"y\":[194.83554999999998],\"yaxis\":\"y\",\"type\":\"histogram\"},{\"alignmentgroup\":\"True\",\"bingroup\":\"x\",\"histfunc\":\"sum\",\"hovertemplate\":\"GRAND_PRIX=%{x}<br>SEASON=2019<br>sum of FLAP_KM/H=%{y}<extra></extra>\",\"legendgroup\":\"italian\",\"marker\":{\"color\":\"#636efa\",\"pattern\":{\"shape\":\"\"}},\"name\":\"italian\",\"offsetgroup\":\"italian\",\"orientation\":\"v\",\"showlegend\":true,\"x\":[\"italian\"],\"xaxis\":\"x\",\"y\":[248.377],\"yaxis\":\"y\",\"type\":\"histogram\"},{\"alignmentgroup\":\"True\",\"bingroup\":\"x\",\"histfunc\":\"sum\",\"hovertemplate\":\"GRAND_PRIX=%{x}<br>SEASON=2019<br>sum of FLAP_KM/H=%{y}<extra></extra>\",\"legendgroup\":\"japanese\",\"marker\":{\"color\":\"#EF553B\",\"pattern\":{\"shape\":\"\"}},\"name\":\"japanese\",\"offsetgroup\":\"japanese\",\"orientation\":\"v\",\"showlegend\":true,\"x\":[\"japanese\"],\"xaxis\":\"x\",\"y\":[223.3385],\"yaxis\":\"y\",\"type\":\"histogram\"},{\"alignmentgroup\":\"True\",\"bingroup\":\"x\",\"histfunc\":\"sum\",\"hovertemplate\":\"GRAND_PRIX=%{x}<br>SEASON=2019<br>sum of FLAP_KM/H=%{y}<extra></extra>\",\"legendgroup\":\"monaco\",\"marker\":{\"color\":\"#FFA15A\",\"pattern\":{\"shape\":\"\"}},\"name\":\"monaco\",\"offsetgroup\":\"monaco\",\"orientation\":\"v\",\"showlegend\":true,\"x\":[\"monaco\"],\"xaxis\":\"x\",\"y\":[157.3321],\"yaxis\":\"y\",\"type\":\"histogram\"},{\"alignmentgroup\":\"True\",\"bingroup\":\"x\",\"histfunc\":\"sum\",\"hovertemplate\":\"GRAND_PRIX=%{x}<br>SEASON=2019<br>sum of FLAP_KM/H=%{y}<extra></extra>\",\"legendgroup\":\"russian\",\"marker\":{\"color\":\"#19d3f3\",\"pattern\":{\"shape\":\"\"}},\"name\":\"russian\",\"offsetgroup\":\"russian\",\"orientation\":\"v\",\"showlegend\":true,\"x\":[\"russian\"],\"xaxis\":\"x\",\"y\":[214.05284210526315],\"yaxis\":\"y\",\"type\":\"histogram\"},{\"alignmentgroup\":\"True\",\"bingroup\":\"x\",\"histfunc\":\"sum\",\"hovertemplate\":\"GRAND_PRIX=%{x}<br>SEASON=2019<br>sum of FLAP_KM/H=%{y}<extra></extra>\",\"legendgroup\":\"singapore\",\"marker\":{\"color\":\"#FF6692\",\"pattern\":{\"shape\":\"\"}},\"name\":\"singapore\",\"offsetgroup\":\"singapore\",\"orientation\":\"v\",\"showlegend\":true,\"x\":[\"singapore\"],\"xaxis\":\"x\",\"y\":[172.80345],\"yaxis\":\"y\",\"type\":\"histogram\"},{\"alignmentgroup\":\"True\",\"bingroup\":\"x\",\"histfunc\":\"sum\",\"hovertemplate\":\"GRAND_PRIX=%{x}<br>SEASON=2019<br>sum of FLAP_KM/H=%{y}<extra></extra>\",\"legendgroup\":\"spanish\",\"marker\":{\"color\":\"#B6E880\",\"pattern\":{\"shape\":\"\"}},\"name\":\"spanish\",\"offsetgroup\":\"spanish\",\"orientation\":\"v\",\"showlegend\":true,\"x\":[\"spanish\"],\"xaxis\":\"x\",\"y\":[206.92075],\"yaxis\":\"y\",\"type\":\"histogram\"},{\"alignmentgroup\":\"True\",\"bingroup\":\"x\",\"histfunc\":\"sum\",\"hovertemplate\":\"GRAND_PRIX=%{x}<br>SEASON=2019<br>sum of FLAP_KM/H=%{y}<extra></extra>\",\"legendgroup\":\"united-states\",\"marker\":{\"color\":\"#FF97FF\",\"pattern\":{\"shape\":\"\"}},\"name\":\"united-states\",\"offsetgroup\":\"united-states\",\"orientation\":\"v\",\"showlegend\":true,\"x\":[\"united-states\"],\"xaxis\":\"x\",\"y\":[199.0766],\"yaxis\":\"y\",\"type\":\"histogram\"},{\"alignmentgroup\":\"True\",\"bingroup\":\"x\",\"histfunc\":\"sum\",\"hovertemplate\":\"GRAND_PRIX=%{x}<br>SEASON=2019<br>sum of FLAP_KM/H=%{y}<extra></extra>\",\"legendgroup\":\"german\",\"marker\":{\"color\":\"#636efa\",\"pattern\":{\"shape\":\"\"}},\"name\":\"german\",\"offsetgroup\":\"german\",\"orientation\":\"v\",\"showlegend\":true,\"x\":[\"german\"],\"xaxis\":\"x\",\"y\":[205.1212105263158],\"yaxis\":\"y\",\"type\":\"histogram\"},{\"alignmentgroup\":\"True\",\"bingroup\":\"x\",\"histfunc\":\"sum\",\"hovertemplate\":\"GRAND_PRIX=%{x}<br>SEASON=2019<br>sum of FLAP_KM/H=%{y}<extra></extra>\",\"legendgroup\":\"azerbaijan\",\"marker\":{\"color\":\"#EF553B\",\"pattern\":{\"shape\":\"\"}},\"name\":\"azerbaijan\",\"offsetgroup\":\"azerbaijan\",\"orientation\":\"v\",\"showlegend\":true,\"x\":[\"azerbaijan\"],\"xaxis\":\"x\",\"y\":[203.97775],\"yaxis\":\"y\",\"type\":\"histogram\"},{\"alignmentgroup\":\"True\",\"bingroup\":\"x\",\"histfunc\":\"sum\",\"hovertemplate\":\"GRAND_PRIX=%{x}<br>SEASON=2019<br>sum of FLAP_KM/H=%{y}<extra></extra>\",\"legendgroup\":\"french\",\"marker\":{\"color\":\"#00cc96\",\"pattern\":{\"shape\":\"\"}},\"name\":\"french\",\"offsetgroup\":\"french\",\"orientation\":\"v\",\"showlegend\":true,\"x\":[\"french\"],\"xaxis\":\"x\",\"y\":[221.90574999999998],\"yaxis\":\"y\",\"type\":\"histogram\"}],\"name\":\"2019\"},{\"data\":[{\"alignmentgroup\":\"True\",\"bingroup\":\"x\",\"histfunc\":\"sum\",\"hovertemplate\":\"GRAND_PRIX=%{x}<br>SEASON=2020<br>sum of FLAP_KM/H=%{y}<extra></extra>\",\"legendgroup\":\"abu-dhabi\",\"marker\":{\"color\":\"#636efa\",\"pattern\":{\"shape\":\"\"}},\"name\":\"abu-dhabi\",\"offsetgroup\":\"abu-dhabi\",\"orientation\":\"v\",\"showlegend\":true,\"x\":[\"abu-dhabi\"],\"xaxis\":\"x\",\"y\":[196.079],\"yaxis\":\"y\",\"type\":\"histogram\"},{\"alignmentgroup\":\"True\",\"bingroup\":\"x\",\"histfunc\":\"sum\",\"hovertemplate\":\"GRAND_PRIX=%{x}<br>SEASON=2020<br>sum of FLAP_KM/H=%{y}<extra></extra>\",\"legendgroup\":\"austrian\",\"marker\":{\"color\":\"#00cc96\",\"pattern\":{\"shape\":\"\"}},\"name\":\"austrian\",\"offsetgroup\":\"austrian\",\"orientation\":\"v\",\"showlegend\":true,\"x\":[\"austrian\"],\"xaxis\":\"x\",\"y\":[225.7371282051282],\"yaxis\":\"y\",\"type\":\"histogram\"},{\"alignmentgroup\":\"True\",\"bingroup\":\"x\",\"histfunc\":\"sum\",\"hovertemplate\":\"GRAND_PRIX=%{x}<br>SEASON=2020<br>sum of FLAP_KM/H=%{y}<extra></extra>\",\"legendgroup\":\"bahrain\",\"marker\":{\"color\":\"#ab63fa\",\"pattern\":{\"shape\":\"\"}},\"name\":\"bahrain\",\"offsetgroup\":\"bahrain\",\"orientation\":\"v\",\"showlegend\":true,\"x\":[\"bahrain\"],\"xaxis\":\"x\",\"y\":[207.63277777777776],\"yaxis\":\"y\",\"type\":\"histogram\"},{\"alignmentgroup\":\"True\",\"bingroup\":\"x\",\"histfunc\":\"sum\",\"hovertemplate\":\"GRAND_PRIX=%{x}<br>SEASON=2020<br>sum of FLAP_KM/H=%{y}<extra></extra>\",\"legendgroup\":\"belgian\",\"marker\":{\"color\":\"#FFA15A\",\"pattern\":{\"shape\":\"\"}},\"name\":\"belgian\",\"offsetgroup\":\"belgian\",\"orientation\":\"v\",\"showlegend\":true,\"x\":[\"belgian\"],\"xaxis\":\"x\",\"y\":[231.48047368421052],\"yaxis\":\"y\",\"type\":\"histogram\"},{\"alignmentgroup\":\"True\",\"bingroup\":\"x\",\"histfunc\":\"sum\",\"hovertemplate\":\"GRAND_PRIX=%{x}<br>SEASON=2020<br>sum of FLAP_KM/H=%{y}<extra></extra>\",\"legendgroup\":\"british\",\"marker\":{\"color\":\"#FF6692\",\"pattern\":{\"shape\":\"\"}},\"name\":\"british\",\"offsetgroup\":\"british\",\"orientation\":\"v\",\"showlegend\":true,\"x\":[\"british\"],\"xaxis\":\"x\",\"y\":[235.0447894736842],\"yaxis\":\"y\",\"type\":\"histogram\"},{\"alignmentgroup\":\"True\",\"bingroup\":\"x\",\"histfunc\":\"sum\",\"hovertemplate\":\"GRAND_PRIX=%{x}<br>SEASON=2020<br>sum of FLAP_KM/H=%{y}<extra></extra>\",\"legendgroup\":\"hungarian\",\"marker\":{\"color\":\"#FECB52\",\"pattern\":{\"shape\":\"\"}},\"name\":\"hungarian\",\"offsetgroup\":\"hungarian\",\"orientation\":\"v\",\"showlegend\":true,\"x\":[\"hungarian\"],\"xaxis\":\"x\",\"y\":[197.1901],\"yaxis\":\"y\",\"type\":\"histogram\"},{\"alignmentgroup\":\"True\",\"bingroup\":\"x\",\"histfunc\":\"sum\",\"hovertemplate\":\"GRAND_PRIX=%{x}<br>SEASON=2020<br>sum of FLAP_KM/H=%{y}<extra></extra>\",\"legendgroup\":\"italian\",\"marker\":{\"color\":\"#636efa\",\"pattern\":{\"shape\":\"\"}},\"name\":\"italian\",\"offsetgroup\":\"italian\",\"orientation\":\"v\",\"showlegend\":true,\"x\":[\"italian\"],\"xaxis\":\"x\",\"y\":[246.3585],\"yaxis\":\"y\",\"type\":\"histogram\"},{\"alignmentgroup\":\"True\",\"bingroup\":\"x\",\"histfunc\":\"sum\",\"hovertemplate\":\"GRAND_PRIX=%{x}<br>SEASON=2020<br>sum of FLAP_KM/H=%{y}<extra></extra>\",\"legendgroup\":\"russian\",\"marker\":{\"color\":\"#19d3f3\",\"pattern\":{\"shape\":\"\"}},\"name\":\"russian\",\"offsetgroup\":\"russian\",\"orientation\":\"v\",\"showlegend\":true,\"x\":[\"russian\"],\"xaxis\":\"x\",\"y\":[213.46666666666667],\"yaxis\":\"y\",\"type\":\"histogram\"},{\"alignmentgroup\":\"True\",\"bingroup\":\"x\",\"histfunc\":\"sum\",\"hovertemplate\":\"GRAND_PRIX=%{x}<br>SEASON=2020<br>sum of FLAP_KM/H=%{y}<extra></extra>\",\"legendgroup\":\"spanish\",\"marker\":{\"color\":\"#B6E880\",\"pattern\":{\"shape\":\"\"}},\"name\":\"spanish\",\"offsetgroup\":\"spanish\",\"orientation\":\"v\",\"showlegend\":true,\"x\":[\"spanish\"],\"xaxis\":\"x\",\"y\":[204.57750000000001],\"yaxis\":\"y\",\"type\":\"histogram\"},{\"alignmentgroup\":\"True\",\"bingroup\":\"x\",\"histfunc\":\"sum\",\"hovertemplate\":\"GRAND_PRIX=%{x}<br>SEASON=2020<br>sum of FLAP_KM/H=%{y}<extra></extra>\",\"legendgroup\":\"emilia-romagna\",\"marker\":{\"color\":\"#ab63fa\",\"pattern\":{\"shape\":\"\"}},\"name\":\"emilia-romagna\",\"offsetgroup\":\"emilia-romagna\",\"orientation\":\"v\",\"showlegend\":true,\"x\":[\"emilia-romagna\"],\"xaxis\":\"x\",\"y\":[226.40099999999998],\"yaxis\":\"y\",\"type\":\"histogram\"},{\"alignmentgroup\":\"True\",\"bingroup\":\"x\",\"histfunc\":\"sum\",\"hovertemplate\":\"GRAND_PRIX=%{x}<br>SEASON=2020<br>sum of FLAP_KM/H=%{y}<extra></extra>\",\"legendgroup\":\"portuguese\",\"marker\":{\"color\":\"#FFA15A\",\"pattern\":{\"shape\":\"\"}},\"name\":\"portuguese\",\"offsetgroup\":\"portuguese\",\"orientation\":\"v\",\"showlegend\":true,\"x\":[\"portuguese\"],\"xaxis\":\"x\",\"y\":[207.76115],\"yaxis\":\"y\",\"type\":\"histogram\"},{\"alignmentgroup\":\"True\",\"bingroup\":\"x\",\"histfunc\":\"sum\",\"hovertemplate\":\"GRAND_PRIX=%{x}<br>SEASON=2020<br>sum of FLAP_KM/H=%{y}<extra></extra>\",\"legendgroup\":\"pries-der-eifel\",\"marker\":{\"color\":\"#19d3f3\",\"pattern\":{\"shape\":\"\"}},\"name\":\"pries-der-eifel\",\"offsetgroup\":\"pries-der-eifel\",\"orientation\":\"v\",\"showlegend\":true,\"x\":[\"pries-der-eifel\"],\"xaxis\":\"x\",\"y\":[203.83105],\"yaxis\":\"y\",\"type\":\"histogram\"},{\"alignmentgroup\":\"True\",\"bingroup\":\"x\",\"histfunc\":\"sum\",\"hovertemplate\":\"GRAND_PRIX=%{x}<br>SEASON=2020<br>sum of FLAP_KM/H=%{y}<extra></extra>\",\"legendgroup\":\"sakhir\",\"marker\":{\"color\":\"#FF6692\",\"pattern\":{\"shape\":\"\"}},\"name\":\"sakhir\",\"offsetgroup\":\"sakhir\",\"orientation\":\"v\",\"showlegend\":true,\"x\":[\"sakhir\"],\"xaxis\":\"x\",\"y\":[null],\"yaxis\":\"y\",\"type\":\"histogram\"},{\"alignmentgroup\":\"True\",\"bingroup\":\"x\",\"histfunc\":\"sum\",\"hovertemplate\":\"GRAND_PRIX=%{x}<br>SEASON=2020<br>sum of FLAP_KM/H=%{y}<extra></extra>\",\"legendgroup\":\"turkish\",\"marker\":{\"color\":\"#B6E880\",\"pattern\":{\"shape\":\"\"}},\"name\":\"turkish\",\"offsetgroup\":\"turkish\",\"orientation\":\"v\",\"showlegend\":true,\"x\":[\"turkish\"],\"xaxis\":\"x\",\"y\":[190.54065],\"yaxis\":\"y\",\"type\":\"histogram\"},{\"alignmentgroup\":\"True\",\"bingroup\":\"x\",\"histfunc\":\"sum\",\"hovertemplate\":\"GRAND_PRIX=%{x}<br>SEASON=2020<br>sum of FLAP_KM/H=%{y}<extra></extra>\",\"legendgroup\":\"tuscan\",\"marker\":{\"color\":\"#FF97FF\",\"pattern\":{\"shape\":\"\"}},\"name\":\"tuscan\",\"offsetgroup\":\"tuscan\",\"orientation\":\"v\",\"showlegend\":true,\"x\":[\"tuscan\"],\"xaxis\":\"x\",\"y\":[208.05327777777777],\"yaxis\":\"y\",\"type\":\"histogram\"}],\"name\":\"2020\"},{\"data\":[{\"alignmentgroup\":\"True\",\"bingroup\":\"x\",\"histfunc\":\"sum\",\"hovertemplate\":\"GRAND_PRIX=%{x}<br>SEASON=2021<br>sum of FLAP_KM/H=%{y}<extra></extra>\",\"legendgroup\":\"abu-dhabi\",\"marker\":{\"color\":\"#636efa\",\"pattern\":{\"shape\":\"\"}},\"name\":\"abu-dhabi\",\"offsetgroup\":\"abu-dhabi\",\"orientation\":\"v\",\"showlegend\":true,\"x\":[\"abu-dhabi\"],\"xaxis\":\"x\",\"y\":[215.87110526315792],\"yaxis\":\"y\",\"type\":\"histogram\"},{\"alignmentgroup\":\"True\",\"bingroup\":\"x\",\"histfunc\":\"sum\",\"hovertemplate\":\"GRAND_PRIX=%{x}<br>SEASON=2021<br>sum of FLAP_KM/H=%{y}<extra></extra>\",\"legendgroup\":\"austrian\",\"marker\":{\"color\":\"#00cc96\",\"pattern\":{\"shape\":\"\"}},\"name\":\"austrian\",\"offsetgroup\":\"austrian\",\"orientation\":\"v\",\"showlegend\":true,\"x\":[\"austrian\"],\"xaxis\":\"x\",\"y\":[225.72642105263157],\"yaxis\":\"y\",\"type\":\"histogram\"},{\"alignmentgroup\":\"True\",\"bingroup\":\"x\",\"histfunc\":\"sum\",\"hovertemplate\":\"GRAND_PRIX=%{x}<br>SEASON=2021<br>sum of FLAP_KM/H=%{y}<extra></extra>\",\"legendgroup\":\"bahrain\",\"marker\":{\"color\":\"#ab63fa\",\"pattern\":{\"shape\":\"\"}},\"name\":\"bahrain\",\"offsetgroup\":\"bahrain\",\"orientation\":\"v\",\"showlegend\":true,\"x\":[\"bahrain\"],\"xaxis\":\"x\",\"y\":[205.58700000000002],\"yaxis\":\"y\",\"type\":\"histogram\"},{\"alignmentgroup\":\"True\",\"bingroup\":\"x\",\"histfunc\":\"sum\",\"hovertemplate\":\"GRAND_PRIX=%{x}<br>SEASON=2021<br>sum of FLAP_KM/H=%{y}<extra></extra>\",\"legendgroup\":\"belgian\",\"marker\":{\"color\":\"#FFA15A\",\"pattern\":{\"shape\":\"\"}},\"name\":\"belgian\",\"offsetgroup\":\"belgian\",\"orientation\":\"v\",\"showlegend\":true,\"x\":[\"belgian\"],\"xaxis\":\"x\",\"y\":[null],\"yaxis\":\"y\",\"type\":\"histogram\"},{\"alignmentgroup\":\"True\",\"bingroup\":\"x\",\"histfunc\":\"sum\",\"hovertemplate\":\"GRAND_PRIX=%{x}<br>SEASON=2021<br>sum of FLAP_KM/H=%{y}<extra></extra>\",\"legendgroup\":\"brazilian\",\"marker\":{\"color\":\"#19d3f3\",\"pattern\":{\"shape\":\"\"}},\"name\":\"brazilian\",\"offsetgroup\":\"brazilian\",\"orientation\":\"v\",\"showlegend\":true,\"x\":[\"brazilian\"],\"xaxis\":\"x\",\"y\":[210.94455],\"yaxis\":\"y\",\"type\":\"histogram\"},{\"alignmentgroup\":\"True\",\"bingroup\":\"x\",\"histfunc\":\"sum\",\"hovertemplate\":\"GRAND_PRIX=%{x}<br>SEASON=2021<br>sum of FLAP_KM/H=%{y}<extra></extra>\",\"legendgroup\":\"british\",\"marker\":{\"color\":\"#FF6692\",\"pattern\":{\"shape\":\"\"}},\"name\":\"british\",\"offsetgroup\":\"british\",\"orientation\":\"v\",\"showlegend\":true,\"x\":[\"british\"],\"xaxis\":\"x\",\"y\":[231.88947368421051],\"yaxis\":\"y\",\"type\":\"histogram\"},{\"alignmentgroup\":\"True\",\"bingroup\":\"x\",\"histfunc\":\"sum\",\"hovertemplate\":\"GRAND_PRIX=%{x}<br>SEASON=2021<br>sum of FLAP_KM/H=%{y}<extra></extra>\",\"legendgroup\":\"hungarian\",\"marker\":{\"color\":\"#FECB52\",\"pattern\":{\"shape\":\"\"}},\"name\":\"hungarian\",\"offsetgroup\":\"hungarian\",\"orientation\":\"v\",\"showlegend\":true,\"x\":[\"hungarian\"],\"xaxis\":\"x\",\"y\":[193.7635],\"yaxis\":\"y\",\"type\":\"histogram\"},{\"alignmentgroup\":\"True\",\"bingroup\":\"x\",\"histfunc\":\"sum\",\"hovertemplate\":\"GRAND_PRIX=%{x}<br>SEASON=2021<br>sum of FLAP_KM/H=%{y}<extra></extra>\",\"legendgroup\":\"italian\",\"marker\":{\"color\":\"#636efa\",\"pattern\":{\"shape\":\"\"}},\"name\":\"italian\",\"offsetgroup\":\"italian\",\"orientation\":\"v\",\"showlegend\":true,\"x\":[\"italian\"],\"xaxis\":\"x\",\"y\":[243.00410526315792],\"yaxis\":\"y\",\"type\":\"histogram\"},{\"alignmentgroup\":\"True\",\"bingroup\":\"x\",\"histfunc\":\"sum\",\"hovertemplate\":\"GRAND_PRIX=%{x}<br>SEASON=2021<br>sum of FLAP_KM/H=%{y}<extra></extra>\",\"legendgroup\":\"mexican\",\"marker\":{\"color\":\"#ab63fa\",\"pattern\":{\"shape\":\"\"}},\"name\":\"mexican\",\"offsetgroup\":\"mexican\",\"orientation\":\"v\",\"showlegend\":true,\"x\":[\"mexican\"],\"xaxis\":\"x\",\"y\":[192.4201111111111],\"yaxis\":\"y\",\"type\":\"histogram\"},{\"alignmentgroup\":\"True\",\"bingroup\":\"x\",\"histfunc\":\"sum\",\"hovertemplate\":\"GRAND_PRIX=%{x}<br>SEASON=2021<br>sum of FLAP_KM/H=%{y}<extra></extra>\",\"legendgroup\":\"monaco\",\"marker\":{\"color\":\"#FFA15A\",\"pattern\":{\"shape\":\"\"}},\"name\":\"monaco\",\"offsetgroup\":\"monaco\",\"orientation\":\"v\",\"showlegend\":true,\"x\":[\"monaco\"],\"xaxis\":\"x\",\"y\":[160.06373684210524],\"yaxis\":\"y\",\"type\":\"histogram\"},{\"alignmentgroup\":\"True\",\"bingroup\":\"x\",\"histfunc\":\"sum\",\"hovertemplate\":\"GRAND_PRIX=%{x}<br>SEASON=2021<br>sum of FLAP_KM/H=%{y}<extra></extra>\",\"legendgroup\":\"russian\",\"marker\":{\"color\":\"#19d3f3\",\"pattern\":{\"shape\":\"\"}},\"name\":\"russian\",\"offsetgroup\":\"russian\",\"orientation\":\"v\",\"showlegend\":true,\"x\":[\"russian\"],\"xaxis\":\"x\",\"y\":[211.8866],\"yaxis\":\"y\",\"type\":\"histogram\"},{\"alignmentgroup\":\"True\",\"bingroup\":\"x\",\"histfunc\":\"sum\",\"hovertemplate\":\"GRAND_PRIX=%{x}<br>SEASON=2021<br>sum of FLAP_KM/H=%{y}<extra></extra>\",\"legendgroup\":\"spanish\",\"marker\":{\"color\":\"#B6E880\",\"pattern\":{\"shape\":\"\"}},\"name\":\"spanish\",\"offsetgroup\":\"spanish\",\"orientation\":\"v\",\"showlegend\":true,\"x\":[\"spanish\"],\"xaxis\":\"x\",\"y\":[205.64205],\"yaxis\":\"y\",\"type\":\"histogram\"},{\"alignmentgroup\":\"True\",\"bingroup\":\"x\",\"histfunc\":\"sum\",\"hovertemplate\":\"GRAND_PRIX=%{x}<br>SEASON=2021<br>sum of FLAP_KM/H=%{y}<extra></extra>\",\"legendgroup\":\"united-states\",\"marker\":{\"color\":\"#FF97FF\",\"pattern\":{\"shape\":\"\"}},\"name\":\"united-states\",\"offsetgroup\":\"united-states\",\"orientation\":\"v\",\"showlegend\":true,\"x\":[\"united-states\"],\"xaxis\":\"x\",\"y\":[197.0768],\"yaxis\":\"y\",\"type\":\"histogram\"},{\"alignmentgroup\":\"True\",\"bingroup\":\"x\",\"histfunc\":\"sum\",\"hovertemplate\":\"GRAND_PRIX=%{x}<br>SEASON=2021<br>sum of FLAP_KM/H=%{y}<extra></extra>\",\"legendgroup\":\"azerbaijan\",\"marker\":{\"color\":\"#EF553B\",\"pattern\":{\"shape\":\"\"}},\"name\":\"azerbaijan\",\"offsetgroup\":\"azerbaijan\",\"orientation\":\"v\",\"showlegend\":true,\"x\":[\"azerbaijan\"],\"xaxis\":\"x\",\"y\":[204.0479],\"yaxis\":\"y\",\"type\":\"histogram\"},{\"alignmentgroup\":\"True\",\"bingroup\":\"x\",\"histfunc\":\"sum\",\"hovertemplate\":\"GRAND_PRIX=%{x}<br>SEASON=2021<br>sum of FLAP_KM/H=%{y}<extra></extra>\",\"legendgroup\":\"french\",\"marker\":{\"color\":\"#00cc96\",\"pattern\":{\"shape\":\"\"}},\"name\":\"french\",\"offsetgroup\":\"french\",\"orientation\":\"v\",\"showlegend\":true,\"x\":[\"french\"],\"xaxis\":\"x\",\"y\":[214.65545000000003],\"yaxis\":\"y\",\"type\":\"histogram\"},{\"alignmentgroup\":\"True\",\"bingroup\":\"x\",\"histfunc\":\"sum\",\"hovertemplate\":\"GRAND_PRIX=%{x}<br>SEASON=2021<br>sum of FLAP_KM/H=%{y}<extra></extra>\",\"legendgroup\":\"emilia-romagna\",\"marker\":{\"color\":\"#ab63fa\",\"pattern\":{\"shape\":\"\"}},\"name\":\"emilia-romagna\",\"offsetgroup\":\"emilia-romagna\",\"orientation\":\"v\",\"showlegend\":true,\"x\":[\"emilia-romagna\"],\"xaxis\":\"x\",\"y\":[221.9531052631579],\"yaxis\":\"y\",\"type\":\"histogram\"},{\"alignmentgroup\":\"True\",\"bingroup\":\"x\",\"histfunc\":\"sum\",\"hovertemplate\":\"GRAND_PRIX=%{x}<br>SEASON=2021<br>sum of FLAP_KM/H=%{y}<extra></extra>\",\"legendgroup\":\"portuguese\",\"marker\":{\"color\":\"#FFA15A\",\"pattern\":{\"shape\":\"\"}},\"name\":\"portuguese\",\"offsetgroup\":\"portuguese\",\"orientation\":\"v\",\"showlegend\":true,\"x\":[\"portuguese\"],\"xaxis\":\"x\",\"y\":[204.64557894736842],\"yaxis\":\"y\",\"type\":\"histogram\"},{\"alignmentgroup\":\"True\",\"bingroup\":\"x\",\"histfunc\":\"sum\",\"hovertemplate\":\"GRAND_PRIX=%{x}<br>SEASON=2021<br>sum of FLAP_KM/H=%{y}<extra></extra>\",\"legendgroup\":\"turkish\",\"marker\":{\"color\":\"#B6E880\",\"pattern\":{\"shape\":\"\"}},\"name\":\"turkish\",\"offsetgroup\":\"turkish\",\"orientation\":\"v\",\"showlegend\":true,\"x\":[\"turkish\"],\"xaxis\":\"x\",\"y\":[206.6761],\"yaxis\":\"y\",\"type\":\"histogram\"},{\"alignmentgroup\":\"True\",\"bingroup\":\"x\",\"histfunc\":\"sum\",\"hovertemplate\":\"GRAND_PRIX=%{x}<br>SEASON=2021<br>sum of FLAP_KM/H=%{y}<extra></extra>\",\"legendgroup\":\"dutch\",\"marker\":{\"color\":\"#FECB52\",\"pattern\":{\"shape\":\"\"}},\"name\":\"dutch\",\"offsetgroup\":\"dutch\",\"orientation\":\"v\",\"showlegend\":true,\"x\":[\"dutch\"],\"xaxis\":\"x\",\"y\":[null],\"yaxis\":\"y\",\"type\":\"histogram\"},{\"alignmentgroup\":\"True\",\"bingroup\":\"x\",\"histfunc\":\"sum\",\"hovertemplate\":\"GRAND_PRIX=%{x}<br>SEASON=2021<br>sum of FLAP_KM/H=%{y}<extra></extra>\",\"legendgroup\":\"qatar\",\"marker\":{\"color\":\"#636efa\",\"pattern\":{\"shape\":\"\"}},\"name\":\"qatar\",\"offsetgroup\":\"qatar\",\"orientation\":\"v\",\"showlegend\":true,\"x\":[\"qatar\"],\"xaxis\":\"x\",\"y\":[223.5314],\"yaxis\":\"y\",\"type\":\"histogram\"},{\"alignmentgroup\":\"True\",\"bingroup\":\"x\",\"histfunc\":\"sum\",\"hovertemplate\":\"GRAND_PRIX=%{x}<br>SEASON=2021<br>sum of FLAP_KM/H=%{y}<extra></extra>\",\"legendgroup\":\"saudi-arabia\",\"marker\":{\"color\":\"#EF553B\",\"pattern\":{\"shape\":\"\"}},\"name\":\"saudi-arabia\",\"offsetgroup\":\"saudi-arabia\",\"orientation\":\"v\",\"showlegend\":true,\"x\":[\"saudi-arabia\"],\"xaxis\":\"x\",\"y\":[239.25889999999998],\"yaxis\":\"y\",\"type\":\"histogram\"}],\"name\":\"2021\"}]);\n",
       "                        }).then(function(){\n",
       "                            \n",
       "var gd = document.getElementById('6473e058-c713-4cb1-abf6-b2457c280e56');\n",
       "var x = new MutationObserver(function (mutations, observer) {{\n",
       "        var display = window.getComputedStyle(gd).display;\n",
       "        if (!display || display === 'none') {{\n",
       "            console.log([gd, 'removed!']);\n",
       "            Plotly.purge(gd);\n",
       "            observer.disconnect();\n",
       "        }}\n",
       "}});\n",
       "\n",
       "// Listen for the removal of the full notebook cells\n",
       "var notebookContainer = gd.closest('#notebook-container');\n",
       "if (notebookContainer) {{\n",
       "    x.observe(notebookContainer, {childList: true});\n",
       "}}\n",
       "\n",
       "// Listen for the clearing of the current output cell\n",
       "var outputEl = gd.closest('.output');\n",
       "if (outputEl) {{\n",
       "    x.observe(outputEl, {childList: true});\n",
       "}}\n",
       "\n",
       "                        })                };                });            </script>        </div>"
      ]
     },
     "metadata": {},
     "output_type": "display_data"
    }
   ],
   "source": [
    "fig3 = px.histogram(fastest_lap, x=\"GRAND_PRIX\", y=\"FLAP_KM/H\", animation_frame=\"SEASON\", color='GRAND_PRIX')\n",
    "fig3.layout.template = 'plotly_dark'\n",
    "\n",
    "fig3.show()"
   ]
  },
  {
   "cell_type": "code",
   "execution_count": 123,
   "id": "a52c5a64",
   "metadata": {},
   "outputs": [],
   "source": [
    "#top_track = fig3\n",
    "#py.plot(top_track, filename = 'top_track', auto_open = False)"
   ]
  },
  {
   "cell_type": "markdown",
   "id": "b1f0c613",
   "metadata": {},
   "source": [
    "# Addicted to safety cars!"
   ]
  },
  {
   "cell_type": "code",
   "execution_count": 124,
   "id": "01872abb",
   "metadata": {},
   "outputs": [
    {
     "data": {
      "text/plain": [
       "Finished            1370\n",
       "+1 Lap               785\n",
       "+2 Laps              155\n",
       "Collision            109\n",
       "Engine                53\n",
       "Accident              52\n",
       "Brakes                45\n",
       "Power Unit            30\n",
       "Retired               29\n",
       "Gearbox               28\n",
       "Collision damage      27\n",
       "Suspension            22\n",
       "+3 Laps               19\n",
       "Wheel                 14\n",
       "Power loss            10\n",
       "Hydraulics            10\n",
       "Electronics            9\n",
       "Electrical             9\n",
       "Puncture               7\n",
       "Fuel pressure          6\n",
       "Spun off               6\n",
       "+4 Laps                6\n",
       "Overheating            6\n",
       "Oil leak               6\n",
       "Disqualified           6\n",
       "Withdrew               5\n",
       "Battery                5\n",
       "Tyre                   4\n",
       "Exhaust                4\n",
       "Turbo                  3\n",
       "Wheel nut              3\n",
       "Mechanical             3\n",
       "Water pressure         3\n",
       "Transmission           3\n",
       "Driveshaft             2\n",
       "Damage                 2\n",
       "ERS                    2\n",
       "Throttle               2\n",
       "Front wing             2\n",
       "Oil pressure           1\n",
       "Fuel system            1\n",
       "+6 Laps                1\n",
       "Brake duct             1\n",
       "Spark plugs            1\n",
       "Steering               1\n",
       "Seat                   1\n",
       "Water leak             1\n",
       "Vibrations             1\n",
       "Out of fuel            1\n",
       "Illness                1\n",
       "Debris                 1\n",
       "+5 Laps                1\n",
       "Rear wing              1\n",
       "Excluded               1\n",
       "Name: DRIVER_STATUS, dtype: int64"
      ]
     },
     "execution_count": 124,
     "metadata": {},
     "output_type": "execute_result"
    }
   ],
   "source": [
    "races_1['DRIVER_STATUS'].value_counts()"
   ]
  },
  {
   "cell_type": "code",
   "execution_count": 125,
   "id": "4b252f61",
   "metadata": {
    "scrolled": false
   },
   "outputs": [
    {
     "data": {
      "text/html": [
       "<div>\n",
       "<style scoped>\n",
       "    .dataframe tbody tr th:only-of-type {\n",
       "        vertical-align: middle;\n",
       "    }\n",
       "\n",
       "    .dataframe tbody tr th {\n",
       "        vertical-align: top;\n",
       "    }\n",
       "\n",
       "    .dataframe thead th {\n",
       "        text-align: right;\n",
       "    }\n",
       "</style>\n",
       "<table border=\"1\" class=\"dataframe\">\n",
       "  <thead>\n",
       "    <tr style=\"text-align: right;\">\n",
       "      <th></th>\n",
       "      <th>DRIVER</th>\n",
       "      <th>DRIVER_STATUS</th>\n",
       "    </tr>\n",
       "  </thead>\n",
       "  <tbody>\n",
       "    <tr>\n",
       "      <th>0</th>\n",
       "      <td>Lewis Hamilton</td>\n",
       "      <td>Finished</td>\n",
       "    </tr>\n",
       "    <tr>\n",
       "      <th>1</th>\n",
       "      <td>Max Verstappen</td>\n",
       "      <td>Finished</td>\n",
       "    </tr>\n",
       "    <tr>\n",
       "      <th>2</th>\n",
       "      <td>Valtteri Bottas</td>\n",
       "      <td>Finished</td>\n",
       "    </tr>\n",
       "    <tr>\n",
       "      <th>3</th>\n",
       "      <td>Lando Norris</td>\n",
       "      <td>Finished</td>\n",
       "    </tr>\n",
       "    <tr>\n",
       "      <th>4</th>\n",
       "      <td>Sergio Perez</td>\n",
       "      <td>Finished</td>\n",
       "    </tr>\n",
       "    <tr>\n",
       "      <th>...</th>\n",
       "      <td>...</td>\n",
       "      <td>...</td>\n",
       "    </tr>\n",
       "    <tr>\n",
       "      <th>2935</th>\n",
       "      <td>Max Verstappen</td>\n",
       "      <td>+1 Lap</td>\n",
       "    </tr>\n",
       "    <tr>\n",
       "      <th>2936</th>\n",
       "      <td>Fernando Alonso</td>\n",
       "      <td>+2 Laps</td>\n",
       "    </tr>\n",
       "    <tr>\n",
       "      <th>2937</th>\n",
       "      <td>Will Stevens</td>\n",
       "      <td>+2 Laps</td>\n",
       "    </tr>\n",
       "    <tr>\n",
       "      <th>2938</th>\n",
       "      <td>Roberto Merhi</td>\n",
       "      <td>+3 Laps</td>\n",
       "    </tr>\n",
       "    <tr>\n",
       "      <th>2939</th>\n",
       "      <td>Pastor Maldonado</td>\n",
       "      <td>Collision</td>\n",
       "    </tr>\n",
       "  </tbody>\n",
       "</table>\n",
       "<p>2940 rows × 2 columns</p>\n",
       "</div>"
      ],
      "text/plain": [
       "                DRIVER DRIVER_STATUS\n",
       "0       Lewis Hamilton      Finished\n",
       "1       Max Verstappen      Finished\n",
       "2      Valtteri Bottas      Finished\n",
       "3         Lando Norris      Finished\n",
       "4         Sergio Perez      Finished\n",
       "...                ...           ...\n",
       "2935    Max Verstappen        +1 Lap\n",
       "2936   Fernando Alonso       +2 Laps\n",
       "2937      Will Stevens       +2 Laps\n",
       "2938     Roberto Merhi       +3 Laps\n",
       "2939  Pastor Maldonado     Collision\n",
       "\n",
       "[2940 rows x 2 columns]"
      ]
     },
     "execution_count": 125,
     "metadata": {},
     "output_type": "execute_result"
    }
   ],
   "source": [
    "dnf = races_1[['DRIVER', 'DRIVER_STATUS']]\n",
    "dnf"
   ]
  },
  {
   "cell_type": "code",
   "execution_count": 126,
   "id": "e0c9a316",
   "metadata": {
    "scrolled": true
   },
   "outputs": [
    {
     "data": {
      "text/html": [
       "<div>\n",
       "<style scoped>\n",
       "    .dataframe tbody tr th:only-of-type {\n",
       "        vertical-align: middle;\n",
       "    }\n",
       "\n",
       "    .dataframe tbody tr th {\n",
       "        vertical-align: top;\n",
       "    }\n",
       "\n",
       "    .dataframe thead th {\n",
       "        text-align: right;\n",
       "    }\n",
       "</style>\n",
       "<table border=\"1\" class=\"dataframe\">\n",
       "  <thead>\n",
       "    <tr style=\"text-align: right;\">\n",
       "      <th></th>\n",
       "      <th>DRIVER</th>\n",
       "      <th>DRIVER_STATUS</th>\n",
       "    </tr>\n",
       "  </thead>\n",
       "  <tbody>\n",
       "    <tr>\n",
       "      <th>0</th>\n",
       "      <td>Alexander Albon</td>\n",
       "      <td>39</td>\n",
       "    </tr>\n",
       "    <tr>\n",
       "      <th>1</th>\n",
       "      <td>Alexander Rossi</td>\n",
       "      <td>5</td>\n",
       "    </tr>\n",
       "    <tr>\n",
       "      <th>2</th>\n",
       "      <td>Antonio Giovinazzi</td>\n",
       "      <td>63</td>\n",
       "    </tr>\n",
       "    <tr>\n",
       "      <th>3</th>\n",
       "      <td>Brendon Hartley</td>\n",
       "      <td>25</td>\n",
       "    </tr>\n",
       "    <tr>\n",
       "      <th>4</th>\n",
       "      <td>Carlos Sainz</td>\n",
       "      <td>142</td>\n",
       "    </tr>\n",
       "    <tr>\n",
       "      <th>5</th>\n",
       "      <td>Charles Leclerc</td>\n",
       "      <td>82</td>\n",
       "    </tr>\n",
       "    <tr>\n",
       "      <th>6</th>\n",
       "      <td>Daniel Ricciardo</td>\n",
       "      <td>142</td>\n",
       "    </tr>\n",
       "    <tr>\n",
       "      <th>7</th>\n",
       "      <td>Daniil Kvyat</td>\n",
       "      <td>94</td>\n",
       "    </tr>\n",
       "    <tr>\n",
       "      <th>8</th>\n",
       "      <td>Esteban Gutierrez</td>\n",
       "      <td>21</td>\n",
       "    </tr>\n",
       "    <tr>\n",
       "      <th>9</th>\n",
       "      <td>Esteban Ocon</td>\n",
       "      <td>92</td>\n",
       "    </tr>\n",
       "    <tr>\n",
       "      <th>10</th>\n",
       "      <td>Felipe Massa</td>\n",
       "      <td>59</td>\n",
       "    </tr>\n",
       "    <tr>\n",
       "      <th>11</th>\n",
       "      <td>Felipe Nasr</td>\n",
       "      <td>40</td>\n",
       "    </tr>\n",
       "    <tr>\n",
       "      <th>12</th>\n",
       "      <td>Fernando Alonso</td>\n",
       "      <td>100</td>\n",
       "    </tr>\n",
       "    <tr>\n",
       "      <th>13</th>\n",
       "      <td>George Russell</td>\n",
       "      <td>61</td>\n",
       "    </tr>\n",
       "    <tr>\n",
       "      <th>14</th>\n",
       "      <td>Jack Aitken</td>\n",
       "      <td>1</td>\n",
       "    </tr>\n",
       "    <tr>\n",
       "      <th>15</th>\n",
       "      <td>Jenson Button</td>\n",
       "      <td>41</td>\n",
       "    </tr>\n",
       "    <tr>\n",
       "      <th>16</th>\n",
       "      <td>Jolyon Palmer</td>\n",
       "      <td>37</td>\n",
       "    </tr>\n",
       "    <tr>\n",
       "      <th>17</th>\n",
       "      <td>Kevin Magnussen</td>\n",
       "      <td>101</td>\n",
       "    </tr>\n",
       "    <tr>\n",
       "      <th>18</th>\n",
       "      <td>Kimi Raikkonen</td>\n",
       "      <td>140</td>\n",
       "    </tr>\n",
       "    <tr>\n",
       "      <th>19</th>\n",
       "      <td>Lance Stroll</td>\n",
       "      <td>102</td>\n",
       "    </tr>\n",
       "    <tr>\n",
       "      <th>20</th>\n",
       "      <td>Lando Norris</td>\n",
       "      <td>61</td>\n",
       "    </tr>\n",
       "    <tr>\n",
       "      <th>21</th>\n",
       "      <td>Lewis Hamilton</td>\n",
       "      <td>141</td>\n",
       "    </tr>\n",
       "    <tr>\n",
       "      <th>22</th>\n",
       "      <td>Marcus Ericsson</td>\n",
       "      <td>81</td>\n",
       "    </tr>\n",
       "    <tr>\n",
       "      <th>23</th>\n",
       "      <td>Max Verstappen</td>\n",
       "      <td>142</td>\n",
       "    </tr>\n",
       "    <tr>\n",
       "      <th>24</th>\n",
       "      <td>Mick Schumacher</td>\n",
       "      <td>22</td>\n",
       "    </tr>\n",
       "    <tr>\n",
       "      <th>25</th>\n",
       "      <td>Nicholas Latifi</td>\n",
       "      <td>42</td>\n",
       "    </tr>\n",
       "    <tr>\n",
       "      <th>26</th>\n",
       "      <td>Nico Hulkenberg</td>\n",
       "      <td>104</td>\n",
       "    </tr>\n",
       "    <tr>\n",
       "      <th>27</th>\n",
       "      <td>Nico Rosberg</td>\n",
       "      <td>40</td>\n",
       "    </tr>\n",
       "    <tr>\n",
       "      <th>28</th>\n",
       "      <td>Nikita Mazepin</td>\n",
       "      <td>21</td>\n",
       "    </tr>\n",
       "    <tr>\n",
       "      <th>29</th>\n",
       "      <td>Pascal Wehrlein</td>\n",
       "      <td>39</td>\n",
       "    </tr>\n",
       "    <tr>\n",
       "      <th>30</th>\n",
       "      <td>Pastor Maldonado</td>\n",
       "      <td>19</td>\n",
       "    </tr>\n",
       "    <tr>\n",
       "      <th>31</th>\n",
       "      <td>Paul Di Resta</td>\n",
       "      <td>0</td>\n",
       "    </tr>\n",
       "    <tr>\n",
       "      <th>32</th>\n",
       "      <td>Pierre Gasly</td>\n",
       "      <td>87</td>\n",
       "    </tr>\n",
       "    <tr>\n",
       "      <th>33</th>\n",
       "      <td>Pietro Fittipaldi</td>\n",
       "      <td>2</td>\n",
       "    </tr>\n",
       "    <tr>\n",
       "      <th>34</th>\n",
       "      <td>Rio Haryanto</td>\n",
       "      <td>12</td>\n",
       "    </tr>\n",
       "    <tr>\n",
       "      <th>35</th>\n",
       "      <td>Robert Kubica</td>\n",
       "      <td>21</td>\n",
       "    </tr>\n",
       "    <tr>\n",
       "      <th>36</th>\n",
       "      <td>Roberto Merhi</td>\n",
       "      <td>13</td>\n",
       "    </tr>\n",
       "    <tr>\n",
       "      <th>37</th>\n",
       "      <td>Romain Grosjean</td>\n",
       "      <td>118</td>\n",
       "    </tr>\n",
       "    <tr>\n",
       "      <th>38</th>\n",
       "      <td>Sebastian Vettel</td>\n",
       "      <td>142</td>\n",
       "    </tr>\n",
       "    <tr>\n",
       "      <th>39</th>\n",
       "      <td>Sergey Sirotkin</td>\n",
       "      <td>21</td>\n",
       "    </tr>\n",
       "    <tr>\n",
       "      <th>40</th>\n",
       "      <td>Sergio Perez</td>\n",
       "      <td>138</td>\n",
       "    </tr>\n",
       "    <tr>\n",
       "      <th>41</th>\n",
       "      <td>Stoffel Vandoorne</td>\n",
       "      <td>42</td>\n",
       "    </tr>\n",
       "    <tr>\n",
       "      <th>42</th>\n",
       "      <td>Valtteri Bottas</td>\n",
       "      <td>142</td>\n",
       "    </tr>\n",
       "    <tr>\n",
       "      <th>43</th>\n",
       "      <td>Will Stevens</td>\n",
       "      <td>18</td>\n",
       "    </tr>\n",
       "    <tr>\n",
       "      <th>44</th>\n",
       "      <td>Yuki Tsunoda</td>\n",
       "      <td>22</td>\n",
       "    </tr>\n",
       "  </tbody>\n",
       "</table>\n",
       "</div>"
      ],
      "text/plain": [
       "                DRIVER  DRIVER_STATUS\n",
       "0      Alexander Albon             39\n",
       "1      Alexander Rossi              5\n",
       "2   Antonio Giovinazzi             63\n",
       "3      Brendon Hartley             25\n",
       "4         Carlos Sainz            142\n",
       "5      Charles Leclerc             82\n",
       "6     Daniel Ricciardo            142\n",
       "7         Daniil Kvyat             94\n",
       "8    Esteban Gutierrez             21\n",
       "9         Esteban Ocon             92\n",
       "10        Felipe Massa             59\n",
       "11         Felipe Nasr             40\n",
       "12     Fernando Alonso            100\n",
       "13      George Russell             61\n",
       "14         Jack Aitken              1\n",
       "15       Jenson Button             41\n",
       "16       Jolyon Palmer             37\n",
       "17     Kevin Magnussen            101\n",
       "18      Kimi Raikkonen            140\n",
       "19        Lance Stroll            102\n",
       "20        Lando Norris             61\n",
       "21      Lewis Hamilton            141\n",
       "22     Marcus Ericsson             81\n",
       "23      Max Verstappen            142\n",
       "24     Mick Schumacher             22\n",
       "25     Nicholas Latifi             42\n",
       "26     Nico Hulkenberg            104\n",
       "27        Nico Rosberg             40\n",
       "28      Nikita Mazepin             21\n",
       "29     Pascal Wehrlein             39\n",
       "30    Pastor Maldonado             19\n",
       "31       Paul Di Resta              0\n",
       "32        Pierre Gasly             87\n",
       "33   Pietro Fittipaldi              2\n",
       "34        Rio Haryanto             12\n",
       "35       Robert Kubica             21\n",
       "36       Roberto Merhi             13\n",
       "37     Romain Grosjean            118\n",
       "38    Sebastian Vettel            142\n",
       "39     Sergey Sirotkin             21\n",
       "40        Sergio Perez            138\n",
       "41   Stoffel Vandoorne             42\n",
       "42     Valtteri Bottas            142\n",
       "43        Will Stevens             18\n",
       "44        Yuki Tsunoda             22"
      ]
     },
     "execution_count": 126,
     "metadata": {},
     "output_type": "execute_result"
    }
   ],
   "source": [
    "dnf_total = dnf.groupby('DRIVER')['DRIVER_STATUS'].count().reset_index()\n",
    "dnf_total"
   ]
  },
  {
   "cell_type": "code",
   "execution_count": 127,
   "id": "6f959573",
   "metadata": {},
   "outputs": [
    {
     "data": {
      "text/html": [
       "<div>\n",
       "<style scoped>\n",
       "    .dataframe tbody tr th:only-of-type {\n",
       "        vertical-align: middle;\n",
       "    }\n",
       "\n",
       "    .dataframe tbody tr th {\n",
       "        vertical-align: top;\n",
       "    }\n",
       "\n",
       "    .dataframe thead th {\n",
       "        text-align: right;\n",
       "    }\n",
       "</style>\n",
       "<table border=\"1\" class=\"dataframe\">\n",
       "  <thead>\n",
       "    <tr style=\"text-align: right;\">\n",
       "      <th></th>\n",
       "      <th>DRIVER</th>\n",
       "      <th>Total_races</th>\n",
       "    </tr>\n",
       "  </thead>\n",
       "  <tbody>\n",
       "    <tr>\n",
       "      <th>0</th>\n",
       "      <td>Alexander Albon</td>\n",
       "      <td>39</td>\n",
       "    </tr>\n",
       "    <tr>\n",
       "      <th>1</th>\n",
       "      <td>Alexander Rossi</td>\n",
       "      <td>5</td>\n",
       "    </tr>\n",
       "    <tr>\n",
       "      <th>2</th>\n",
       "      <td>Antonio Giovinazzi</td>\n",
       "      <td>63</td>\n",
       "    </tr>\n",
       "    <tr>\n",
       "      <th>3</th>\n",
       "      <td>Brendon Hartley</td>\n",
       "      <td>25</td>\n",
       "    </tr>\n",
       "    <tr>\n",
       "      <th>4</th>\n",
       "      <td>Carlos Sainz</td>\n",
       "      <td>142</td>\n",
       "    </tr>\n",
       "  </tbody>\n",
       "</table>\n",
       "</div>"
      ],
      "text/plain": [
       "               DRIVER  Total_races\n",
       "0     Alexander Albon           39\n",
       "1     Alexander Rossi            5\n",
       "2  Antonio Giovinazzi           63\n",
       "3     Brendon Hartley           25\n",
       "4        Carlos Sainz          142"
      ]
     },
     "execution_count": 127,
     "metadata": {},
     "output_type": "execute_result"
    }
   ],
   "source": [
    "dnf_total.rename(columns={'DRIVER_STATUS':'Total_races'}, inplace=True)\n",
    "dnf_total.head()"
   ]
  },
  {
   "cell_type": "code",
   "execution_count": 128,
   "id": "274bda91",
   "metadata": {
    "scrolled": true
   },
   "outputs": [
    {
     "data": {
      "text/html": [
       "<div>\n",
       "<style scoped>\n",
       "    .dataframe tbody tr th:only-of-type {\n",
       "        vertical-align: middle;\n",
       "    }\n",
       "\n",
       "    .dataframe tbody tr th {\n",
       "        vertical-align: top;\n",
       "    }\n",
       "\n",
       "    .dataframe thead th {\n",
       "        text-align: right;\n",
       "    }\n",
       "</style>\n",
       "<table border=\"1\" class=\"dataframe\">\n",
       "  <thead>\n",
       "    <tr style=\"text-align: right;\">\n",
       "      <th></th>\n",
       "      <th>DRIVER</th>\n",
       "      <th>DRIVER_STATUS</th>\n",
       "    </tr>\n",
       "  </thead>\n",
       "  <tbody>\n",
       "    <tr>\n",
       "      <th>11</th>\n",
       "      <td>Antonio Giovinazzi</td>\n",
       "      <td>+1 Lap</td>\n",
       "    </tr>\n",
       "    <tr>\n",
       "      <th>12</th>\n",
       "      <td>Esteban Ocon</td>\n",
       "      <td>+1 Lap</td>\n",
       "    </tr>\n",
       "    <tr>\n",
       "      <th>13</th>\n",
       "      <td>George Russell</td>\n",
       "      <td>+1 Lap</td>\n",
       "    </tr>\n",
       "    <tr>\n",
       "      <th>14</th>\n",
       "      <td>Sebastian Vettel</td>\n",
       "      <td>+1 Lap</td>\n",
       "    </tr>\n",
       "    <tr>\n",
       "      <th>15</th>\n",
       "      <td>Mick Schumacher</td>\n",
       "      <td>+1 Lap</td>\n",
       "    </tr>\n",
       "    <tr>\n",
       "      <th>...</th>\n",
       "      <td>...</td>\n",
       "      <td>...</td>\n",
       "    </tr>\n",
       "    <tr>\n",
       "      <th>2935</th>\n",
       "      <td>Max Verstappen</td>\n",
       "      <td>+1 Lap</td>\n",
       "    </tr>\n",
       "    <tr>\n",
       "      <th>2936</th>\n",
       "      <td>Fernando Alonso</td>\n",
       "      <td>+2 Laps</td>\n",
       "    </tr>\n",
       "    <tr>\n",
       "      <th>2937</th>\n",
       "      <td>Will Stevens</td>\n",
       "      <td>+2 Laps</td>\n",
       "    </tr>\n",
       "    <tr>\n",
       "      <th>2938</th>\n",
       "      <td>Roberto Merhi</td>\n",
       "      <td>+3 Laps</td>\n",
       "    </tr>\n",
       "    <tr>\n",
       "      <th>2939</th>\n",
       "      <td>Pastor Maldonado</td>\n",
       "      <td>Collision</td>\n",
       "    </tr>\n",
       "  </tbody>\n",
       "</table>\n",
       "<p>1570 rows × 2 columns</p>\n",
       "</div>"
      ],
      "text/plain": [
       "                  DRIVER DRIVER_STATUS\n",
       "11    Antonio Giovinazzi        +1 Lap\n",
       "12          Esteban Ocon        +1 Lap\n",
       "13        George Russell        +1 Lap\n",
       "14      Sebastian Vettel        +1 Lap\n",
       "15       Mick Schumacher        +1 Lap\n",
       "...                  ...           ...\n",
       "2935      Max Verstappen        +1 Lap\n",
       "2936     Fernando Alonso       +2 Laps\n",
       "2937        Will Stevens       +2 Laps\n",
       "2938       Roberto Merhi       +3 Laps\n",
       "2939    Pastor Maldonado     Collision\n",
       "\n",
       "[1570 rows x 2 columns]"
      ]
     },
     "execution_count": 128,
     "metadata": {},
     "output_type": "execute_result"
    }
   ],
   "source": [
    "dnf = dnf[dnf['DRIVER_STATUS'] != 'Finished']\n",
    "dnf"
   ]
  },
  {
   "cell_type": "code",
   "execution_count": 129,
   "id": "591ae51a",
   "metadata": {
    "scrolled": true
   },
   "outputs": [
    {
     "data": {
      "text/html": [
       "<div>\n",
       "<style scoped>\n",
       "    .dataframe tbody tr th:only-of-type {\n",
       "        vertical-align: middle;\n",
       "    }\n",
       "\n",
       "    .dataframe tbody tr th {\n",
       "        vertical-align: top;\n",
       "    }\n",
       "\n",
       "    .dataframe thead th {\n",
       "        text-align: right;\n",
       "    }\n",
       "</style>\n",
       "<table border=\"1\" class=\"dataframe\">\n",
       "  <thead>\n",
       "    <tr style=\"text-align: right;\">\n",
       "      <th></th>\n",
       "      <th>DRIVER</th>\n",
       "      <th>DRIVER_STATUS</th>\n",
       "    </tr>\n",
       "  </thead>\n",
       "  <tbody>\n",
       "    <tr>\n",
       "      <th>36</th>\n",
       "      <td>Romain Grosjean</td>\n",
       "      <td>80</td>\n",
       "    </tr>\n",
       "    <tr>\n",
       "      <th>16</th>\n",
       "      <td>Kevin Magnussen</td>\n",
       "      <td>77</td>\n",
       "    </tr>\n",
       "    <tr>\n",
       "      <th>12</th>\n",
       "      <td>Fernando Alonso</td>\n",
       "      <td>70</td>\n",
       "    </tr>\n",
       "    <tr>\n",
       "      <th>21</th>\n",
       "      <td>Marcus Ericsson</td>\n",
       "      <td>70</td>\n",
       "    </tr>\n",
       "    <tr>\n",
       "      <th>4</th>\n",
       "      <td>Carlos Sainz</td>\n",
       "      <td>70</td>\n",
       "    </tr>\n",
       "    <tr>\n",
       "      <th>18</th>\n",
       "      <td>Lance Stroll</td>\n",
       "      <td>68</td>\n",
       "    </tr>\n",
       "    <tr>\n",
       "      <th>7</th>\n",
       "      <td>Daniil Kvyat</td>\n",
       "      <td>66</td>\n",
       "    </tr>\n",
       "    <tr>\n",
       "      <th>25</th>\n",
       "      <td>Nico Hulkenberg</td>\n",
       "      <td>65</td>\n",
       "    </tr>\n",
       "    <tr>\n",
       "      <th>17</th>\n",
       "      <td>Kimi Raikkonen</td>\n",
       "      <td>61</td>\n",
       "    </tr>\n",
       "    <tr>\n",
       "      <th>39</th>\n",
       "      <td>Sergio Perez</td>\n",
       "      <td>59</td>\n",
       "    </tr>\n",
       "    <tr>\n",
       "      <th>6</th>\n",
       "      <td>Daniel Ricciardo</td>\n",
       "      <td>52</td>\n",
       "    </tr>\n",
       "    <tr>\n",
       "      <th>9</th>\n",
       "      <td>Esteban Ocon</td>\n",
       "      <td>50</td>\n",
       "    </tr>\n",
       "    <tr>\n",
       "      <th>13</th>\n",
       "      <td>George Russell</td>\n",
       "      <td>48</td>\n",
       "    </tr>\n",
       "    <tr>\n",
       "      <th>2</th>\n",
       "      <td>Antonio Giovinazzi</td>\n",
       "      <td>43</td>\n",
       "    </tr>\n",
       "    <tr>\n",
       "      <th>31</th>\n",
       "      <td>Pierre Gasly</td>\n",
       "      <td>42</td>\n",
       "    </tr>\n",
       "    <tr>\n",
       "      <th>22</th>\n",
       "      <td>Max Verstappen</td>\n",
       "      <td>39</td>\n",
       "    </tr>\n",
       "    <tr>\n",
       "      <th>37</th>\n",
       "      <td>Sebastian Vettel</td>\n",
       "      <td>37</td>\n",
       "    </tr>\n",
       "    <tr>\n",
       "      <th>28</th>\n",
       "      <td>Pascal Wehrlein</td>\n",
       "      <td>37</td>\n",
       "    </tr>\n",
       "    <tr>\n",
       "      <th>40</th>\n",
       "      <td>Stoffel Vandoorne</td>\n",
       "      <td>34</td>\n",
       "    </tr>\n",
       "    <tr>\n",
       "      <th>15</th>\n",
       "      <td>Jolyon Palmer</td>\n",
       "      <td>31</td>\n",
       "    </tr>\n",
       "    <tr>\n",
       "      <th>11</th>\n",
       "      <td>Felipe Nasr</td>\n",
       "      <td>31</td>\n",
       "    </tr>\n",
       "    <tr>\n",
       "      <th>14</th>\n",
       "      <td>Jenson Button</td>\n",
       "      <td>31</td>\n",
       "    </tr>\n",
       "    <tr>\n",
       "      <th>10</th>\n",
       "      <td>Felipe Massa</td>\n",
       "      <td>29</td>\n",
       "    </tr>\n",
       "    <tr>\n",
       "      <th>5</th>\n",
       "      <td>Charles Leclerc</td>\n",
       "      <td>29</td>\n",
       "    </tr>\n",
       "    <tr>\n",
       "      <th>41</th>\n",
       "      <td>Valtteri Bottas</td>\n",
       "      <td>28</td>\n",
       "    </tr>\n",
       "    <tr>\n",
       "      <th>24</th>\n",
       "      <td>Nicholas Latifi</td>\n",
       "      <td>27</td>\n",
       "    </tr>\n",
       "    <tr>\n",
       "      <th>3</th>\n",
       "      <td>Brendon Hartley</td>\n",
       "      <td>23</td>\n",
       "    </tr>\n",
       "    <tr>\n",
       "      <th>19</th>\n",
       "      <td>Lando Norris</td>\n",
       "      <td>20</td>\n",
       "    </tr>\n",
       "    <tr>\n",
       "      <th>23</th>\n",
       "      <td>Mick Schumacher</td>\n",
       "      <td>19</td>\n",
       "    </tr>\n",
       "    <tr>\n",
       "      <th>27</th>\n",
       "      <td>Nikita Mazepin</td>\n",
       "      <td>19</td>\n",
       "    </tr>\n",
       "    <tr>\n",
       "      <th>8</th>\n",
       "      <td>Esteban Gutierrez</td>\n",
       "      <td>19</td>\n",
       "    </tr>\n",
       "    <tr>\n",
       "      <th>38</th>\n",
       "      <td>Sergey Sirotkin</td>\n",
       "      <td>19</td>\n",
       "    </tr>\n",
       "    <tr>\n",
       "      <th>34</th>\n",
       "      <td>Robert Kubica</td>\n",
       "      <td>18</td>\n",
       "    </tr>\n",
       "    <tr>\n",
       "      <th>42</th>\n",
       "      <td>Will Stevens</td>\n",
       "      <td>18</td>\n",
       "    </tr>\n",
       "    <tr>\n",
       "      <th>43</th>\n",
       "      <td>Yuki Tsunoda</td>\n",
       "      <td>15</td>\n",
       "    </tr>\n",
       "    <tr>\n",
       "      <th>35</th>\n",
       "      <td>Roberto Merhi</td>\n",
       "      <td>13</td>\n",
       "    </tr>\n",
       "    <tr>\n",
       "      <th>33</th>\n",
       "      <td>Rio Haryanto</td>\n",
       "      <td>12</td>\n",
       "    </tr>\n",
       "    <tr>\n",
       "      <th>29</th>\n",
       "      <td>Pastor Maldonado</td>\n",
       "      <td>12</td>\n",
       "    </tr>\n",
       "    <tr>\n",
       "      <th>0</th>\n",
       "      <td>Alexander Albon</td>\n",
       "      <td>12</td>\n",
       "    </tr>\n",
       "    <tr>\n",
       "      <th>20</th>\n",
       "      <td>Lewis Hamilton</td>\n",
       "      <td>6</td>\n",
       "    </tr>\n",
       "    <tr>\n",
       "      <th>1</th>\n",
       "      <td>Alexander Rossi</td>\n",
       "      <td>4</td>\n",
       "    </tr>\n",
       "    <tr>\n",
       "      <th>26</th>\n",
       "      <td>Nico Rosberg</td>\n",
       "      <td>3</td>\n",
       "    </tr>\n",
       "    <tr>\n",
       "      <th>32</th>\n",
       "      <td>Pietro Fittipaldi</td>\n",
       "      <td>1</td>\n",
       "    </tr>\n",
       "    <tr>\n",
       "      <th>30</th>\n",
       "      <td>Paul Di Resta</td>\n",
       "      <td>0</td>\n",
       "    </tr>\n",
       "  </tbody>\n",
       "</table>\n",
       "</div>"
      ],
      "text/plain": [
       "                DRIVER  DRIVER_STATUS\n",
       "36     Romain Grosjean             80\n",
       "16     Kevin Magnussen             77\n",
       "12     Fernando Alonso             70\n",
       "21     Marcus Ericsson             70\n",
       "4         Carlos Sainz             70\n",
       "18        Lance Stroll             68\n",
       "7         Daniil Kvyat             66\n",
       "25     Nico Hulkenberg             65\n",
       "17      Kimi Raikkonen             61\n",
       "39        Sergio Perez             59\n",
       "6     Daniel Ricciardo             52\n",
       "9         Esteban Ocon             50\n",
       "13      George Russell             48\n",
       "2   Antonio Giovinazzi             43\n",
       "31        Pierre Gasly             42\n",
       "22      Max Verstappen             39\n",
       "37    Sebastian Vettel             37\n",
       "28     Pascal Wehrlein             37\n",
       "40   Stoffel Vandoorne             34\n",
       "15       Jolyon Palmer             31\n",
       "11         Felipe Nasr             31\n",
       "14       Jenson Button             31\n",
       "10        Felipe Massa             29\n",
       "5      Charles Leclerc             29\n",
       "41     Valtteri Bottas             28\n",
       "24     Nicholas Latifi             27\n",
       "3      Brendon Hartley             23\n",
       "19        Lando Norris             20\n",
       "23     Mick Schumacher             19\n",
       "27      Nikita Mazepin             19\n",
       "8    Esteban Gutierrez             19\n",
       "38     Sergey Sirotkin             19\n",
       "34       Robert Kubica             18\n",
       "42        Will Stevens             18\n",
       "43        Yuki Tsunoda             15\n",
       "35       Roberto Merhi             13\n",
       "33        Rio Haryanto             12\n",
       "29    Pastor Maldonado             12\n",
       "0      Alexander Albon             12\n",
       "20      Lewis Hamilton              6\n",
       "1      Alexander Rossi              4\n",
       "26        Nico Rosberg              3\n",
       "32   Pietro Fittipaldi              1\n",
       "30       Paul Di Resta              0"
      ]
     },
     "execution_count": 129,
     "metadata": {},
     "output_type": "execute_result"
    }
   ],
   "source": [
    "more_dnf = dnf.groupby('DRIVER')['DRIVER_STATUS'].count().reset_index().sort_values(by='DRIVER_STATUS', ascending=False)\n",
    "more_dnf"
   ]
  },
  {
   "cell_type": "code",
   "execution_count": 130,
   "id": "216592e1",
   "metadata": {
    "scrolled": true
   },
   "outputs": [
    {
     "data": {
      "text/html": [
       "<div>\n",
       "<style scoped>\n",
       "    .dataframe tbody tr th:only-of-type {\n",
       "        vertical-align: middle;\n",
       "    }\n",
       "\n",
       "    .dataframe tbody tr th {\n",
       "        vertical-align: top;\n",
       "    }\n",
       "\n",
       "    .dataframe thead th {\n",
       "        text-align: right;\n",
       "    }\n",
       "</style>\n",
       "<table border=\"1\" class=\"dataframe\">\n",
       "  <thead>\n",
       "    <tr style=\"text-align: right;\">\n",
       "      <th></th>\n",
       "      <th>DRIVER</th>\n",
       "      <th>Total_DNF</th>\n",
       "    </tr>\n",
       "  </thead>\n",
       "  <tbody>\n",
       "    <tr>\n",
       "      <th>36</th>\n",
       "      <td>Romain Grosjean</td>\n",
       "      <td>80</td>\n",
       "    </tr>\n",
       "    <tr>\n",
       "      <th>16</th>\n",
       "      <td>Kevin Magnussen</td>\n",
       "      <td>77</td>\n",
       "    </tr>\n",
       "    <tr>\n",
       "      <th>12</th>\n",
       "      <td>Fernando Alonso</td>\n",
       "      <td>70</td>\n",
       "    </tr>\n",
       "    <tr>\n",
       "      <th>21</th>\n",
       "      <td>Marcus Ericsson</td>\n",
       "      <td>70</td>\n",
       "    </tr>\n",
       "    <tr>\n",
       "      <th>4</th>\n",
       "      <td>Carlos Sainz</td>\n",
       "      <td>70</td>\n",
       "    </tr>\n",
       "  </tbody>\n",
       "</table>\n",
       "</div>"
      ],
      "text/plain": [
       "             DRIVER  Total_DNF\n",
       "36  Romain Grosjean         80\n",
       "16  Kevin Magnussen         77\n",
       "12  Fernando Alonso         70\n",
       "21  Marcus Ericsson         70\n",
       "4      Carlos Sainz         70"
      ]
     },
     "execution_count": 130,
     "metadata": {},
     "output_type": "execute_result"
    }
   ],
   "source": [
    "more_dnf.rename(columns={'DRIVER_STATUS':'Total_DNF'}, inplace=True)\n",
    "more_dnf.head()"
   ]
  },
  {
   "cell_type": "code",
   "execution_count": 131,
   "id": "1fcb70fd",
   "metadata": {
    "scrolled": true
   },
   "outputs": [
    {
     "data": {
      "text/html": [
       "<div>\n",
       "<style scoped>\n",
       "    .dataframe tbody tr th:only-of-type {\n",
       "        vertical-align: middle;\n",
       "    }\n",
       "\n",
       "    .dataframe tbody tr th {\n",
       "        vertical-align: top;\n",
       "    }\n",
       "\n",
       "    .dataframe thead th {\n",
       "        text-align: right;\n",
       "    }\n",
       "</style>\n",
       "<table border=\"1\" class=\"dataframe\">\n",
       "  <thead>\n",
       "    <tr style=\"text-align: right;\">\n",
       "      <th></th>\n",
       "      <th>DRIVER</th>\n",
       "      <th>Total_DNF</th>\n",
       "      <th>Total_races</th>\n",
       "    </tr>\n",
       "  </thead>\n",
       "  <tbody>\n",
       "    <tr>\n",
       "      <th>0</th>\n",
       "      <td>Romain Grosjean</td>\n",
       "      <td>80</td>\n",
       "      <td>118</td>\n",
       "    </tr>\n",
       "    <tr>\n",
       "      <th>1</th>\n",
       "      <td>Kevin Magnussen</td>\n",
       "      <td>77</td>\n",
       "      <td>101</td>\n",
       "    </tr>\n",
       "    <tr>\n",
       "      <th>2</th>\n",
       "      <td>Fernando Alonso</td>\n",
       "      <td>70</td>\n",
       "      <td>100</td>\n",
       "    </tr>\n",
       "    <tr>\n",
       "      <th>3</th>\n",
       "      <td>Marcus Ericsson</td>\n",
       "      <td>70</td>\n",
       "      <td>81</td>\n",
       "    </tr>\n",
       "    <tr>\n",
       "      <th>4</th>\n",
       "      <td>Carlos Sainz</td>\n",
       "      <td>70</td>\n",
       "      <td>142</td>\n",
       "    </tr>\n",
       "    <tr>\n",
       "      <th>5</th>\n",
       "      <td>Lance Stroll</td>\n",
       "      <td>68</td>\n",
       "      <td>102</td>\n",
       "    </tr>\n",
       "    <tr>\n",
       "      <th>6</th>\n",
       "      <td>Daniil Kvyat</td>\n",
       "      <td>66</td>\n",
       "      <td>94</td>\n",
       "    </tr>\n",
       "    <tr>\n",
       "      <th>7</th>\n",
       "      <td>Nico Hulkenberg</td>\n",
       "      <td>65</td>\n",
       "      <td>104</td>\n",
       "    </tr>\n",
       "    <tr>\n",
       "      <th>8</th>\n",
       "      <td>Kimi Raikkonen</td>\n",
       "      <td>61</td>\n",
       "      <td>140</td>\n",
       "    </tr>\n",
       "    <tr>\n",
       "      <th>9</th>\n",
       "      <td>Sergio Perez</td>\n",
       "      <td>59</td>\n",
       "      <td>138</td>\n",
       "    </tr>\n",
       "    <tr>\n",
       "      <th>10</th>\n",
       "      <td>Daniel Ricciardo</td>\n",
       "      <td>52</td>\n",
       "      <td>142</td>\n",
       "    </tr>\n",
       "    <tr>\n",
       "      <th>11</th>\n",
       "      <td>Esteban Ocon</td>\n",
       "      <td>50</td>\n",
       "      <td>92</td>\n",
       "    </tr>\n",
       "    <tr>\n",
       "      <th>12</th>\n",
       "      <td>George Russell</td>\n",
       "      <td>48</td>\n",
       "      <td>61</td>\n",
       "    </tr>\n",
       "    <tr>\n",
       "      <th>13</th>\n",
       "      <td>Antonio Giovinazzi</td>\n",
       "      <td>43</td>\n",
       "      <td>63</td>\n",
       "    </tr>\n",
       "    <tr>\n",
       "      <th>14</th>\n",
       "      <td>Pierre Gasly</td>\n",
       "      <td>42</td>\n",
       "      <td>87</td>\n",
       "    </tr>\n",
       "    <tr>\n",
       "      <th>15</th>\n",
       "      <td>Max Verstappen</td>\n",
       "      <td>39</td>\n",
       "      <td>142</td>\n",
       "    </tr>\n",
       "    <tr>\n",
       "      <th>16</th>\n",
       "      <td>Sebastian Vettel</td>\n",
       "      <td>37</td>\n",
       "      <td>142</td>\n",
       "    </tr>\n",
       "    <tr>\n",
       "      <th>17</th>\n",
       "      <td>Pascal Wehrlein</td>\n",
       "      <td>37</td>\n",
       "      <td>39</td>\n",
       "    </tr>\n",
       "    <tr>\n",
       "      <th>18</th>\n",
       "      <td>Stoffel Vandoorne</td>\n",
       "      <td>34</td>\n",
       "      <td>42</td>\n",
       "    </tr>\n",
       "    <tr>\n",
       "      <th>19</th>\n",
       "      <td>Jolyon Palmer</td>\n",
       "      <td>31</td>\n",
       "      <td>37</td>\n",
       "    </tr>\n",
       "    <tr>\n",
       "      <th>20</th>\n",
       "      <td>Felipe Nasr</td>\n",
       "      <td>31</td>\n",
       "      <td>40</td>\n",
       "    </tr>\n",
       "    <tr>\n",
       "      <th>21</th>\n",
       "      <td>Jenson Button</td>\n",
       "      <td>31</td>\n",
       "      <td>41</td>\n",
       "    </tr>\n",
       "    <tr>\n",
       "      <th>22</th>\n",
       "      <td>Felipe Massa</td>\n",
       "      <td>29</td>\n",
       "      <td>59</td>\n",
       "    </tr>\n",
       "    <tr>\n",
       "      <th>23</th>\n",
       "      <td>Charles Leclerc</td>\n",
       "      <td>29</td>\n",
       "      <td>82</td>\n",
       "    </tr>\n",
       "    <tr>\n",
       "      <th>24</th>\n",
       "      <td>Valtteri Bottas</td>\n",
       "      <td>28</td>\n",
       "      <td>142</td>\n",
       "    </tr>\n",
       "    <tr>\n",
       "      <th>25</th>\n",
       "      <td>Nicholas Latifi</td>\n",
       "      <td>27</td>\n",
       "      <td>42</td>\n",
       "    </tr>\n",
       "    <tr>\n",
       "      <th>26</th>\n",
       "      <td>Brendon Hartley</td>\n",
       "      <td>23</td>\n",
       "      <td>25</td>\n",
       "    </tr>\n",
       "    <tr>\n",
       "      <th>27</th>\n",
       "      <td>Lando Norris</td>\n",
       "      <td>20</td>\n",
       "      <td>61</td>\n",
       "    </tr>\n",
       "    <tr>\n",
       "      <th>28</th>\n",
       "      <td>Mick Schumacher</td>\n",
       "      <td>19</td>\n",
       "      <td>22</td>\n",
       "    </tr>\n",
       "    <tr>\n",
       "      <th>29</th>\n",
       "      <td>Nikita Mazepin</td>\n",
       "      <td>19</td>\n",
       "      <td>21</td>\n",
       "    </tr>\n",
       "    <tr>\n",
       "      <th>30</th>\n",
       "      <td>Esteban Gutierrez</td>\n",
       "      <td>19</td>\n",
       "      <td>21</td>\n",
       "    </tr>\n",
       "    <tr>\n",
       "      <th>31</th>\n",
       "      <td>Sergey Sirotkin</td>\n",
       "      <td>19</td>\n",
       "      <td>21</td>\n",
       "    </tr>\n",
       "    <tr>\n",
       "      <th>32</th>\n",
       "      <td>Robert Kubica</td>\n",
       "      <td>18</td>\n",
       "      <td>21</td>\n",
       "    </tr>\n",
       "    <tr>\n",
       "      <th>33</th>\n",
       "      <td>Will Stevens</td>\n",
       "      <td>18</td>\n",
       "      <td>18</td>\n",
       "    </tr>\n",
       "    <tr>\n",
       "      <th>34</th>\n",
       "      <td>Yuki Tsunoda</td>\n",
       "      <td>15</td>\n",
       "      <td>22</td>\n",
       "    </tr>\n",
       "    <tr>\n",
       "      <th>35</th>\n",
       "      <td>Roberto Merhi</td>\n",
       "      <td>13</td>\n",
       "      <td>13</td>\n",
       "    </tr>\n",
       "    <tr>\n",
       "      <th>36</th>\n",
       "      <td>Rio Haryanto</td>\n",
       "      <td>12</td>\n",
       "      <td>12</td>\n",
       "    </tr>\n",
       "    <tr>\n",
       "      <th>37</th>\n",
       "      <td>Pastor Maldonado</td>\n",
       "      <td>12</td>\n",
       "      <td>19</td>\n",
       "    </tr>\n",
       "    <tr>\n",
       "      <th>38</th>\n",
       "      <td>Alexander Albon</td>\n",
       "      <td>12</td>\n",
       "      <td>39</td>\n",
       "    </tr>\n",
       "    <tr>\n",
       "      <th>39</th>\n",
       "      <td>Lewis Hamilton</td>\n",
       "      <td>6</td>\n",
       "      <td>141</td>\n",
       "    </tr>\n",
       "    <tr>\n",
       "      <th>40</th>\n",
       "      <td>Alexander Rossi</td>\n",
       "      <td>4</td>\n",
       "      <td>5</td>\n",
       "    </tr>\n",
       "    <tr>\n",
       "      <th>41</th>\n",
       "      <td>Nico Rosberg</td>\n",
       "      <td>3</td>\n",
       "      <td>40</td>\n",
       "    </tr>\n",
       "    <tr>\n",
       "      <th>42</th>\n",
       "      <td>Pietro Fittipaldi</td>\n",
       "      <td>1</td>\n",
       "      <td>2</td>\n",
       "    </tr>\n",
       "    <tr>\n",
       "      <th>43</th>\n",
       "      <td>Paul Di Resta</td>\n",
       "      <td>0</td>\n",
       "      <td>0</td>\n",
       "    </tr>\n",
       "  </tbody>\n",
       "</table>\n",
       "</div>"
      ],
      "text/plain": [
       "                DRIVER  Total_DNF  Total_races\n",
       "0      Romain Grosjean         80          118\n",
       "1      Kevin Magnussen         77          101\n",
       "2      Fernando Alonso         70          100\n",
       "3      Marcus Ericsson         70           81\n",
       "4         Carlos Sainz         70          142\n",
       "5         Lance Stroll         68          102\n",
       "6         Daniil Kvyat         66           94\n",
       "7      Nico Hulkenberg         65          104\n",
       "8       Kimi Raikkonen         61          140\n",
       "9         Sergio Perez         59          138\n",
       "10    Daniel Ricciardo         52          142\n",
       "11        Esteban Ocon         50           92\n",
       "12      George Russell         48           61\n",
       "13  Antonio Giovinazzi         43           63\n",
       "14        Pierre Gasly         42           87\n",
       "15      Max Verstappen         39          142\n",
       "16    Sebastian Vettel         37          142\n",
       "17     Pascal Wehrlein         37           39\n",
       "18   Stoffel Vandoorne         34           42\n",
       "19       Jolyon Palmer         31           37\n",
       "20         Felipe Nasr         31           40\n",
       "21       Jenson Button         31           41\n",
       "22        Felipe Massa         29           59\n",
       "23     Charles Leclerc         29           82\n",
       "24     Valtteri Bottas         28          142\n",
       "25     Nicholas Latifi         27           42\n",
       "26     Brendon Hartley         23           25\n",
       "27        Lando Norris         20           61\n",
       "28     Mick Schumacher         19           22\n",
       "29      Nikita Mazepin         19           21\n",
       "30   Esteban Gutierrez         19           21\n",
       "31     Sergey Sirotkin         19           21\n",
       "32       Robert Kubica         18           21\n",
       "33        Will Stevens         18           18\n",
       "34        Yuki Tsunoda         15           22\n",
       "35       Roberto Merhi         13           13\n",
       "36        Rio Haryanto         12           12\n",
       "37    Pastor Maldonado         12           19\n",
       "38     Alexander Albon         12           39\n",
       "39      Lewis Hamilton          6          141\n",
       "40     Alexander Rossi          4            5\n",
       "41        Nico Rosberg          3           40\n",
       "42   Pietro Fittipaldi          1            2\n",
       "43       Paul Di Resta          0            0"
      ]
     },
     "execution_count": 131,
     "metadata": {},
     "output_type": "execute_result"
    }
   ],
   "source": [
    "dnf_ratio = more_dnf.merge(dnf_total, how='inner', on='DRIVER')\n",
    "dnf_ratio"
   ]
  },
  {
   "cell_type": "code",
   "execution_count": 132,
   "id": "3b7117af",
   "metadata": {
    "scrolled": true
   },
   "outputs": [
    {
     "data": {
      "text/html": [
       "<div>\n",
       "<style scoped>\n",
       "    .dataframe tbody tr th:only-of-type {\n",
       "        vertical-align: middle;\n",
       "    }\n",
       "\n",
       "    .dataframe tbody tr th {\n",
       "        vertical-align: top;\n",
       "    }\n",
       "\n",
       "    .dataframe thead th {\n",
       "        text-align: right;\n",
       "    }\n",
       "</style>\n",
       "<table border=\"1\" class=\"dataframe\">\n",
       "  <thead>\n",
       "    <tr style=\"text-align: right;\">\n",
       "      <th></th>\n",
       "      <th>DRIVER</th>\n",
       "      <th>Total_DNF</th>\n",
       "      <th>Total_races</th>\n",
       "    </tr>\n",
       "  </thead>\n",
       "  <tbody>\n",
       "    <tr>\n",
       "      <th>0</th>\n",
       "      <td>Romain Grosjean</td>\n",
       "      <td>80</td>\n",
       "      <td>118</td>\n",
       "    </tr>\n",
       "    <tr>\n",
       "      <th>2</th>\n",
       "      <td>Fernando Alonso</td>\n",
       "      <td>70</td>\n",
       "      <td>100</td>\n",
       "    </tr>\n",
       "    <tr>\n",
       "      <th>4</th>\n",
       "      <td>Carlos Sainz</td>\n",
       "      <td>70</td>\n",
       "      <td>142</td>\n",
       "    </tr>\n",
       "    <tr>\n",
       "      <th>5</th>\n",
       "      <td>Lance Stroll</td>\n",
       "      <td>68</td>\n",
       "      <td>102</td>\n",
       "    </tr>\n",
       "    <tr>\n",
       "      <th>6</th>\n",
       "      <td>Daniil Kvyat</td>\n",
       "      <td>66</td>\n",
       "      <td>94</td>\n",
       "    </tr>\n",
       "    <tr>\n",
       "      <th>7</th>\n",
       "      <td>Nico Hulkenberg</td>\n",
       "      <td>65</td>\n",
       "      <td>104</td>\n",
       "    </tr>\n",
       "    <tr>\n",
       "      <th>8</th>\n",
       "      <td>Kimi Raikkonen</td>\n",
       "      <td>61</td>\n",
       "      <td>140</td>\n",
       "    </tr>\n",
       "    <tr>\n",
       "      <th>9</th>\n",
       "      <td>Sergio Perez</td>\n",
       "      <td>59</td>\n",
       "      <td>138</td>\n",
       "    </tr>\n",
       "    <tr>\n",
       "      <th>10</th>\n",
       "      <td>Daniel Ricciardo</td>\n",
       "      <td>52</td>\n",
       "      <td>142</td>\n",
       "    </tr>\n",
       "    <tr>\n",
       "      <th>11</th>\n",
       "      <td>Esteban Ocon</td>\n",
       "      <td>50</td>\n",
       "      <td>92</td>\n",
       "    </tr>\n",
       "    <tr>\n",
       "      <th>12</th>\n",
       "      <td>George Russell</td>\n",
       "      <td>48</td>\n",
       "      <td>61</td>\n",
       "    </tr>\n",
       "    <tr>\n",
       "      <th>13</th>\n",
       "      <td>Antonio Giovinazzi</td>\n",
       "      <td>43</td>\n",
       "      <td>63</td>\n",
       "    </tr>\n",
       "    <tr>\n",
       "      <th>14</th>\n",
       "      <td>Pierre Gasly</td>\n",
       "      <td>42</td>\n",
       "      <td>87</td>\n",
       "    </tr>\n",
       "    <tr>\n",
       "      <th>15</th>\n",
       "      <td>Max Verstappen</td>\n",
       "      <td>39</td>\n",
       "      <td>142</td>\n",
       "    </tr>\n",
       "    <tr>\n",
       "      <th>16</th>\n",
       "      <td>Sebastian Vettel</td>\n",
       "      <td>37</td>\n",
       "      <td>142</td>\n",
       "    </tr>\n",
       "    <tr>\n",
       "      <th>23</th>\n",
       "      <td>Charles Leclerc</td>\n",
       "      <td>29</td>\n",
       "      <td>82</td>\n",
       "    </tr>\n",
       "    <tr>\n",
       "      <th>24</th>\n",
       "      <td>Valtteri Bottas</td>\n",
       "      <td>28</td>\n",
       "      <td>142</td>\n",
       "    </tr>\n",
       "    <tr>\n",
       "      <th>25</th>\n",
       "      <td>Nicholas Latifi</td>\n",
       "      <td>27</td>\n",
       "      <td>42</td>\n",
       "    </tr>\n",
       "    <tr>\n",
       "      <th>27</th>\n",
       "      <td>Lando Norris</td>\n",
       "      <td>20</td>\n",
       "      <td>61</td>\n",
       "    </tr>\n",
       "    <tr>\n",
       "      <th>28</th>\n",
       "      <td>Mick Schumacher</td>\n",
       "      <td>19</td>\n",
       "      <td>22</td>\n",
       "    </tr>\n",
       "    <tr>\n",
       "      <th>29</th>\n",
       "      <td>Nikita Mazepin</td>\n",
       "      <td>19</td>\n",
       "      <td>21</td>\n",
       "    </tr>\n",
       "    <tr>\n",
       "      <th>32</th>\n",
       "      <td>Robert Kubica</td>\n",
       "      <td>18</td>\n",
       "      <td>21</td>\n",
       "    </tr>\n",
       "    <tr>\n",
       "      <th>34</th>\n",
       "      <td>Yuki Tsunoda</td>\n",
       "      <td>15</td>\n",
       "      <td>22</td>\n",
       "    </tr>\n",
       "    <tr>\n",
       "      <th>38</th>\n",
       "      <td>Alexander Albon</td>\n",
       "      <td>12</td>\n",
       "      <td>39</td>\n",
       "    </tr>\n",
       "    <tr>\n",
       "      <th>39</th>\n",
       "      <td>Lewis Hamilton</td>\n",
       "      <td>6</td>\n",
       "      <td>141</td>\n",
       "    </tr>\n",
       "    <tr>\n",
       "      <th>41</th>\n",
       "      <td>Nico Rosberg</td>\n",
       "      <td>3</td>\n",
       "      <td>40</td>\n",
       "    </tr>\n",
       "  </tbody>\n",
       "</table>\n",
       "</div>"
      ],
      "text/plain": [
       "                DRIVER  Total_DNF  Total_races\n",
       "0      Romain Grosjean         80          118\n",
       "2      Fernando Alonso         70          100\n",
       "4         Carlos Sainz         70          142\n",
       "5         Lance Stroll         68          102\n",
       "6         Daniil Kvyat         66           94\n",
       "7      Nico Hulkenberg         65          104\n",
       "8       Kimi Raikkonen         61          140\n",
       "9         Sergio Perez         59          138\n",
       "10    Daniel Ricciardo         52          142\n",
       "11        Esteban Ocon         50           92\n",
       "12      George Russell         48           61\n",
       "13  Antonio Giovinazzi         43           63\n",
       "14        Pierre Gasly         42           87\n",
       "15      Max Verstappen         39          142\n",
       "16    Sebastian Vettel         37          142\n",
       "23     Charles Leclerc         29           82\n",
       "24     Valtteri Bottas         28          142\n",
       "25     Nicholas Latifi         27           42\n",
       "27        Lando Norris         20           61\n",
       "28     Mick Schumacher         19           22\n",
       "29      Nikita Mazepin         19           21\n",
       "32       Robert Kubica         18           21\n",
       "34        Yuki Tsunoda         15           22\n",
       "38     Alexander Albon         12           39\n",
       "39      Lewis Hamilton          6          141\n",
       "41        Nico Rosberg          3           40"
      ]
     },
     "execution_count": 132,
     "metadata": {},
     "output_type": "execute_result"
    }
   ],
   "source": [
    "drivers = ['Romain Grosjean', 'Kevin Magnusses', 'Fernando Alonso', 'Carlos Sainz', 'Lance Stroll', 'Daniil Kvyat', 'Nico Hulkenberg', 'Kimi Raikkonen', 'Sergio Perez', 'Daniel Ricciardo', 'Esteban Ocon', 'George Russell', 'Antonio Giovinazzi', 'Pierre Gasly', 'Max Verstappen', 'Sebastian Vettel', 'Charles Leclerc', 'Valtteri Bottas', 'Nicholas Latifi', 'Lando Norris', 'Mick Schumacher', 'Nikita Mazepin', 'Robert Kubica', 'Yuki Tsunoda', 'Alexander Albon', 'Lewis Hamilton', 'Nico Rosberg']\n",
    "\n",
    "dnf_ratio = dnf_ratio[dnf_ratio['DRIVER'].isin(drivers)]\n",
    "dnf_ratio"
   ]
  },
  {
   "cell_type": "code",
   "execution_count": 133,
   "id": "9fb4d492",
   "metadata": {
    "scrolled": true
   },
   "outputs": [
    {
     "name": "stderr",
     "output_type": "stream",
     "text": [
      "C:\\Users\\chezb\\AppData\\Local\\Temp/ipykernel_23168/662863158.py:1: SettingWithCopyWarning:\n",
      "\n",
      "\n",
      "A value is trying to be set on a copy of a slice from a DataFrame.\n",
      "Try using .loc[row_indexer,col_indexer] = value instead\n",
      "\n",
      "See the caveats in the documentation: https://pandas.pydata.org/pandas-docs/stable/user_guide/indexing.html#returning-a-view-versus-a-copy\n",
      "\n"
     ]
    },
    {
     "data": {
      "text/html": [
       "<div>\n",
       "<style scoped>\n",
       "    .dataframe tbody tr th:only-of-type {\n",
       "        vertical-align: middle;\n",
       "    }\n",
       "\n",
       "    .dataframe tbody tr th {\n",
       "        vertical-align: top;\n",
       "    }\n",
       "\n",
       "    .dataframe thead th {\n",
       "        text-align: right;\n",
       "    }\n",
       "</style>\n",
       "<table border=\"1\" class=\"dataframe\">\n",
       "  <thead>\n",
       "    <tr style=\"text-align: right;\">\n",
       "      <th></th>\n",
       "      <th>DRIVER</th>\n",
       "      <th>Total_DNF</th>\n",
       "      <th>Total_races</th>\n",
       "      <th>dnf_ratio</th>\n",
       "    </tr>\n",
       "  </thead>\n",
       "  <tbody>\n",
       "    <tr>\n",
       "      <th>29</th>\n",
       "      <td>Nikita Mazepin</td>\n",
       "      <td>19</td>\n",
       "      <td>21</td>\n",
       "      <td>90.476190</td>\n",
       "    </tr>\n",
       "    <tr>\n",
       "      <th>28</th>\n",
       "      <td>Mick Schumacher</td>\n",
       "      <td>19</td>\n",
       "      <td>22</td>\n",
       "      <td>86.363636</td>\n",
       "    </tr>\n",
       "    <tr>\n",
       "      <th>32</th>\n",
       "      <td>Robert Kubica</td>\n",
       "      <td>18</td>\n",
       "      <td>21</td>\n",
       "      <td>85.714286</td>\n",
       "    </tr>\n",
       "    <tr>\n",
       "      <th>12</th>\n",
       "      <td>George Russell</td>\n",
       "      <td>48</td>\n",
       "      <td>61</td>\n",
       "      <td>78.688525</td>\n",
       "    </tr>\n",
       "    <tr>\n",
       "      <th>6</th>\n",
       "      <td>Daniil Kvyat</td>\n",
       "      <td>66</td>\n",
       "      <td>94</td>\n",
       "      <td>70.212766</td>\n",
       "    </tr>\n",
       "    <tr>\n",
       "      <th>2</th>\n",
       "      <td>Fernando Alonso</td>\n",
       "      <td>70</td>\n",
       "      <td>100</td>\n",
       "      <td>70.000000</td>\n",
       "    </tr>\n",
       "    <tr>\n",
       "      <th>13</th>\n",
       "      <td>Antonio Giovinazzi</td>\n",
       "      <td>43</td>\n",
       "      <td>63</td>\n",
       "      <td>68.253968</td>\n",
       "    </tr>\n",
       "    <tr>\n",
       "      <th>34</th>\n",
       "      <td>Yuki Tsunoda</td>\n",
       "      <td>15</td>\n",
       "      <td>22</td>\n",
       "      <td>68.181818</td>\n",
       "    </tr>\n",
       "    <tr>\n",
       "      <th>0</th>\n",
       "      <td>Romain Grosjean</td>\n",
       "      <td>80</td>\n",
       "      <td>118</td>\n",
       "      <td>67.796610</td>\n",
       "    </tr>\n",
       "    <tr>\n",
       "      <th>5</th>\n",
       "      <td>Lance Stroll</td>\n",
       "      <td>68</td>\n",
       "      <td>102</td>\n",
       "      <td>66.666667</td>\n",
       "    </tr>\n",
       "    <tr>\n",
       "      <th>25</th>\n",
       "      <td>Nicholas Latifi</td>\n",
       "      <td>27</td>\n",
       "      <td>42</td>\n",
       "      <td>64.285714</td>\n",
       "    </tr>\n",
       "    <tr>\n",
       "      <th>7</th>\n",
       "      <td>Nico Hulkenberg</td>\n",
       "      <td>65</td>\n",
       "      <td>104</td>\n",
       "      <td>62.500000</td>\n",
       "    </tr>\n",
       "    <tr>\n",
       "      <th>11</th>\n",
       "      <td>Esteban Ocon</td>\n",
       "      <td>50</td>\n",
       "      <td>92</td>\n",
       "      <td>54.347826</td>\n",
       "    </tr>\n",
       "    <tr>\n",
       "      <th>4</th>\n",
       "      <td>Carlos Sainz</td>\n",
       "      <td>70</td>\n",
       "      <td>142</td>\n",
       "      <td>49.295775</td>\n",
       "    </tr>\n",
       "    <tr>\n",
       "      <th>14</th>\n",
       "      <td>Pierre Gasly</td>\n",
       "      <td>42</td>\n",
       "      <td>87</td>\n",
       "      <td>48.275862</td>\n",
       "    </tr>\n",
       "    <tr>\n",
       "      <th>8</th>\n",
       "      <td>Kimi Raikkonen</td>\n",
       "      <td>61</td>\n",
       "      <td>140</td>\n",
       "      <td>43.571429</td>\n",
       "    </tr>\n",
       "    <tr>\n",
       "      <th>9</th>\n",
       "      <td>Sergio Perez</td>\n",
       "      <td>59</td>\n",
       "      <td>138</td>\n",
       "      <td>42.753623</td>\n",
       "    </tr>\n",
       "    <tr>\n",
       "      <th>10</th>\n",
       "      <td>Daniel Ricciardo</td>\n",
       "      <td>52</td>\n",
       "      <td>142</td>\n",
       "      <td>36.619718</td>\n",
       "    </tr>\n",
       "    <tr>\n",
       "      <th>23</th>\n",
       "      <td>Charles Leclerc</td>\n",
       "      <td>29</td>\n",
       "      <td>82</td>\n",
       "      <td>35.365854</td>\n",
       "    </tr>\n",
       "    <tr>\n",
       "      <th>27</th>\n",
       "      <td>Lando Norris</td>\n",
       "      <td>20</td>\n",
       "      <td>61</td>\n",
       "      <td>32.786885</td>\n",
       "    </tr>\n",
       "    <tr>\n",
       "      <th>38</th>\n",
       "      <td>Alexander Albon</td>\n",
       "      <td>12</td>\n",
       "      <td>39</td>\n",
       "      <td>30.769231</td>\n",
       "    </tr>\n",
       "    <tr>\n",
       "      <th>15</th>\n",
       "      <td>Max Verstappen</td>\n",
       "      <td>39</td>\n",
       "      <td>142</td>\n",
       "      <td>27.464789</td>\n",
       "    </tr>\n",
       "    <tr>\n",
       "      <th>16</th>\n",
       "      <td>Sebastian Vettel</td>\n",
       "      <td>37</td>\n",
       "      <td>142</td>\n",
       "      <td>26.056338</td>\n",
       "    </tr>\n",
       "    <tr>\n",
       "      <th>24</th>\n",
       "      <td>Valtteri Bottas</td>\n",
       "      <td>28</td>\n",
       "      <td>142</td>\n",
       "      <td>19.718310</td>\n",
       "    </tr>\n",
       "    <tr>\n",
       "      <th>41</th>\n",
       "      <td>Nico Rosberg</td>\n",
       "      <td>3</td>\n",
       "      <td>40</td>\n",
       "      <td>7.500000</td>\n",
       "    </tr>\n",
       "    <tr>\n",
       "      <th>39</th>\n",
       "      <td>Lewis Hamilton</td>\n",
       "      <td>6</td>\n",
       "      <td>141</td>\n",
       "      <td>4.255319</td>\n",
       "    </tr>\n",
       "  </tbody>\n",
       "</table>\n",
       "</div>"
      ],
      "text/plain": [
       "                DRIVER  Total_DNF  Total_races  dnf_ratio\n",
       "29      Nikita Mazepin         19           21  90.476190\n",
       "28     Mick Schumacher         19           22  86.363636\n",
       "32       Robert Kubica         18           21  85.714286\n",
       "12      George Russell         48           61  78.688525\n",
       "6         Daniil Kvyat         66           94  70.212766\n",
       "2      Fernando Alonso         70          100  70.000000\n",
       "13  Antonio Giovinazzi         43           63  68.253968\n",
       "34        Yuki Tsunoda         15           22  68.181818\n",
       "0      Romain Grosjean         80          118  67.796610\n",
       "5         Lance Stroll         68          102  66.666667\n",
       "25     Nicholas Latifi         27           42  64.285714\n",
       "7      Nico Hulkenberg         65          104  62.500000\n",
       "11        Esteban Ocon         50           92  54.347826\n",
       "4         Carlos Sainz         70          142  49.295775\n",
       "14        Pierre Gasly         42           87  48.275862\n",
       "8       Kimi Raikkonen         61          140  43.571429\n",
       "9         Sergio Perez         59          138  42.753623\n",
       "10    Daniel Ricciardo         52          142  36.619718\n",
       "23     Charles Leclerc         29           82  35.365854\n",
       "27        Lando Norris         20           61  32.786885\n",
       "38     Alexander Albon         12           39  30.769231\n",
       "15      Max Verstappen         39          142  27.464789\n",
       "16    Sebastian Vettel         37          142  26.056338\n",
       "24     Valtteri Bottas         28          142  19.718310\n",
       "41        Nico Rosberg          3           40   7.500000\n",
       "39      Lewis Hamilton          6          141   4.255319"
      ]
     },
     "execution_count": 133,
     "metadata": {},
     "output_type": "execute_result"
    }
   ],
   "source": [
    "dnf_ratio['dnf_ratio'] = dnf_ratio['Total_DNF']/dnf_ratio['Total_races']*100\n",
    "dnf_ratio = dnf_ratio.sort_values(by='dnf_ratio', ascending=False)\n",
    "dnf_ratio"
   ]
  },
  {
   "cell_type": "code",
   "execution_count": 134,
   "id": "0d925472",
   "metadata": {
    "scrolled": true
   },
   "outputs": [
    {
     "data": {
      "image/png": "[encoded data removed]",
      "text/plain": [
       "<Figure size 1440x720 with 1 Axes>"
      ]
     },
     "metadata": {
      "needs_background": "light"
     },
     "output_type": "display_data"
    }
   ],
   "source": [
    "# initialize the figure\n",
    "plt.figure(figsize=(20,10))\n",
    "ax = plt.subplot(111, polar=True)\n",
    "plt.axis('off')\n",
    "\n",
    "# Constants = parameters controling the plot layout:\n",
    "upperLimit = 100\n",
    "lowerLimit = 30\n",
    "labelPadding = 4\n",
    "\n",
    "# Compute max and min in the dataset\n",
    "max = dnf_ratio['dnf_ratio'].max()\n",
    "\n",
    "# Let's compute heights: they are a conversion of each item value in those new coordinates\n",
    "# In our example, 0 in the dataset will be converted to the lowerLimit (10)\n",
    "# The maximum will be converted to the upperLimit (100)\n",
    "slope = (max - lowerLimit) / max\n",
    "heights = slope * dnf_ratio['dnf_ratio'] + lowerLimit\n",
    "\n",
    "# Compute the width of each bar. In total we have 2*Pi = 360°\n",
    "width = 2*np.pi / len(dnf_ratio.index)\n",
    "\n",
    "# Compute the angle each bar is centered on:\n",
    "indexes = list(range(1, len(dnf_ratio.index)+1))\n",
    "angles = [element * width for element in indexes]\n",
    "angles\n",
    "\n",
    "# Draw bars\n",
    "bars = ax.bar(\n",
    "    x=angles, \n",
    "    height=heights, \n",
    "    width=width, \n",
    "    bottom=lowerLimit,\n",
    "    linewidth=2, \n",
    "    edgecolor=\"black\",\n",
    "    color=\"red\",\n",
    ")\n",
    "\n",
    "# Add labels\n",
    "for bar, angle, height, label in zip(bars,angles, heights, dnf_ratio[\"DRIVER\"]):\n",
    "\n",
    "    # Labels are rotated. Rotation must be specified in degrees :(\n",
    "    rotation = np.rad2deg(angle)\n",
    "\n",
    "    # Flip some labels upside down\n",
    "    alignment = \"\"\n",
    "    if angle >= np.pi/2 and angle < 3*np.pi/2:\n",
    "        alignment = \"right\"\n",
    "        rotation = rotation + 180\n",
    "    else: \n",
    "        alignment = \"left\"\n",
    "        \n",
    "# Finally add the labels\n",
    "    ax.text(\n",
    "        x=angle, \n",
    "        y=lowerLimit + bar.get_height() + labelPadding, \n",
    "        s=label, \n",
    "        ha=alignment,\n",
    "        va='center', \n",
    "        rotation=rotation, \n",
    "        rotation_mode=\"anchor\")"
   ]
  },
  {
   "cell_type": "markdown",
   "id": "4b2a3214",
   "metadata": {},
   "source": [
    "# Too soon to celebrate!"
   ]
  },
  {
   "cell_type": "code",
   "execution_count": 135,
   "id": "6c13def3",
   "metadata": {
    "scrolled": true
   },
   "outputs": [
    {
     "data": {
      "text/html": [
       "<div>\n",
       "<style scoped>\n",
       "    .dataframe tbody tr th:only-of-type {\n",
       "        vertical-align: middle;\n",
       "    }\n",
       "\n",
       "    .dataframe tbody tr th {\n",
       "        vertical-align: top;\n",
       "    }\n",
       "\n",
       "    .dataframe thead th {\n",
       "        text-align: right;\n",
       "    }\n",
       "</style>\n",
       "<table border=\"1\" class=\"dataframe\">\n",
       "  <thead>\n",
       "    <tr style=\"text-align: right;\">\n",
       "      <th></th>\n",
       "      <th>Unnamed: 0</th>\n",
       "      <th>CLASS</th>\n",
       "      <th>DRIVER</th>\n",
       "      <th>TEAM</th>\n",
       "      <th>LAPS</th>\n",
       "      <th>RACE_TIME</th>\n",
       "      <th>DRIVER_SNAME</th>\n",
       "      <th>GRAND_PRIX</th>\n",
       "      <th>SEASON</th>\n",
       "      <th>FLAP_POS</th>\n",
       "      <th>...</th>\n",
       "      <th>GD_TIME</th>\n",
       "      <th>DRIVER_ID</th>\n",
       "      <th>NUMBER</th>\n",
       "      <th>RACE_ID</th>\n",
       "      <th>RACE_NAME</th>\n",
       "      <th>RACE</th>\n",
       "      <th>STATUS_ID</th>\n",
       "      <th>DRIVER_STATUS</th>\n",
       "      <th>CIRCUIT_ID</th>\n",
       "      <th>CIRCUIT_REF</th>\n",
       "    </tr>\n",
       "  </thead>\n",
       "  <tbody>\n",
       "    <tr>\n",
       "      <th>0</th>\n",
       "      <td>0</td>\n",
       "      <td>1</td>\n",
       "      <td>Lewis Hamilton</td>\n",
       "      <td>Mercedes-AMG Petronas F1 Team</td>\n",
       "      <td>56</td>\n",
       "      <td>1:32:03.897</td>\n",
       "      <td>L. Hamilton</td>\n",
       "      <td>bahrain</td>\n",
       "      <td>2021</td>\n",
       "      <td>4.0</td>\n",
       "      <td>...</td>\n",
       "      <td>1:29.385</td>\n",
       "      <td>1.0</td>\n",
       "      <td>44.0</td>\n",
       "      <td>1052.0</td>\n",
       "      <td>Bahrain Grand Prix</td>\n",
       "      <td>Bahrain</td>\n",
       "      <td>1.0</td>\n",
       "      <td>Finished</td>\n",
       "      <td>3.0</td>\n",
       "      <td>bahrain</td>\n",
       "    </tr>\n",
       "    <tr>\n",
       "      <th>1</th>\n",
       "      <td>1</td>\n",
       "      <td>2</td>\n",
       "      <td>Max Verstappen</td>\n",
       "      <td>Red Bull Racing Honda</td>\n",
       "      <td>56</td>\n",
       "      <td>1:32:04.642</td>\n",
       "      <td>M. Verstappen</td>\n",
       "      <td>bahrain</td>\n",
       "      <td>2021</td>\n",
       "      <td>2.0</td>\n",
       "      <td>...</td>\n",
       "      <td>1:28.997</td>\n",
       "      <td>830.0</td>\n",
       "      <td>33.0</td>\n",
       "      <td>1052.0</td>\n",
       "      <td>Bahrain Grand Prix</td>\n",
       "      <td>Bahrain</td>\n",
       "      <td>1.0</td>\n",
       "      <td>Finished</td>\n",
       "      <td>3.0</td>\n",
       "      <td>bahrain</td>\n",
       "    </tr>\n",
       "    <tr>\n",
       "      <th>2</th>\n",
       "      <td>2</td>\n",
       "      <td>3</td>\n",
       "      <td>Valtteri Bottas</td>\n",
       "      <td>Mercedes-AMG Petronas F1 Team</td>\n",
       "      <td>56</td>\n",
       "      <td>1:32:41.280</td>\n",
       "      <td>V. Bottas</td>\n",
       "      <td>bahrain</td>\n",
       "      <td>2021</td>\n",
       "      <td>1.0</td>\n",
       "      <td>...</td>\n",
       "      <td>1:29.586</td>\n",
       "      <td>822.0</td>\n",
       "      <td>77.0</td>\n",
       "      <td>1052.0</td>\n",
       "      <td>Bahrain Grand Prix</td>\n",
       "      <td>Bahrain</td>\n",
       "      <td>1.0</td>\n",
       "      <td>Finished</td>\n",
       "      <td>3.0</td>\n",
       "      <td>bahrain</td>\n",
       "    </tr>\n",
       "    <tr>\n",
       "      <th>3</th>\n",
       "      <td>3</td>\n",
       "      <td>4</td>\n",
       "      <td>Lando Norris</td>\n",
       "      <td>McLaren F1 Team</td>\n",
       "      <td>56</td>\n",
       "      <td>1:32:50.363</td>\n",
       "      <td>L. Norris</td>\n",
       "      <td>bahrain</td>\n",
       "      <td>2021</td>\n",
       "      <td>6.0</td>\n",
       "      <td>...</td>\n",
       "      <td>1:29.974</td>\n",
       "      <td>846.0</td>\n",
       "      <td>4.0</td>\n",
       "      <td>1052.0</td>\n",
       "      <td>Bahrain Grand Prix</td>\n",
       "      <td>Bahrain</td>\n",
       "      <td>1.0</td>\n",
       "      <td>Finished</td>\n",
       "      <td>3.0</td>\n",
       "      <td>bahrain</td>\n",
       "    </tr>\n",
       "    <tr>\n",
       "      <th>4</th>\n",
       "      <td>4</td>\n",
       "      <td>5</td>\n",
       "      <td>Sergio Perez</td>\n",
       "      <td>Red Bull Racing Honda</td>\n",
       "      <td>56</td>\n",
       "      <td>1:32:55.944</td>\n",
       "      <td>S. Perez</td>\n",
       "      <td>bahrain</td>\n",
       "      <td>2021</td>\n",
       "      <td>3.0</td>\n",
       "      <td>...</td>\n",
       "      <td>1:30.659</td>\n",
       "      <td>815.0</td>\n",
       "      <td>11.0</td>\n",
       "      <td>1052.0</td>\n",
       "      <td>Bahrain Grand Prix</td>\n",
       "      <td>Bahrain</td>\n",
       "      <td>1.0</td>\n",
       "      <td>Finished</td>\n",
       "      <td>3.0</td>\n",
       "      <td>bahrain</td>\n",
       "    </tr>\n",
       "    <tr>\n",
       "      <th>...</th>\n",
       "      <td>...</td>\n",
       "      <td>...</td>\n",
       "      <td>...</td>\n",
       "      <td>...</td>\n",
       "      <td>...</td>\n",
       "      <td>...</td>\n",
       "      <td>...</td>\n",
       "      <td>...</td>\n",
       "      <td>...</td>\n",
       "      <td>...</td>\n",
       "      <td>...</td>\n",
       "      <td>...</td>\n",
       "      <td>...</td>\n",
       "      <td>...</td>\n",
       "      <td>...</td>\n",
       "      <td>...</td>\n",
       "      <td>...</td>\n",
       "      <td>...</td>\n",
       "      <td>...</td>\n",
       "      <td>...</td>\n",
       "      <td>...</td>\n",
       "    </tr>\n",
       "    <tr>\n",
       "      <th>2935</th>\n",
       "      <td>2935</td>\n",
       "      <td>16</td>\n",
       "      <td>Max Verstappen</td>\n",
       "      <td>Scuderia Toro Rosso</td>\n",
       "      <td>54</td>\n",
       "      <td>1:39:09.064</td>\n",
       "      <td>M. Verstappen</td>\n",
       "      <td>abu-dhabi</td>\n",
       "      <td>2015</td>\n",
       "      <td>6.0</td>\n",
       "      <td>...</td>\n",
       "      <td>1:42.521</td>\n",
       "      <td>830.0</td>\n",
       "      <td>33.0</td>\n",
       "      <td>945.0</td>\n",
       "      <td>Abu Dhabi Grand Prix</td>\n",
       "      <td>Abu Dhabi</td>\n",
       "      <td>11.0</td>\n",
       "      <td>+1 Lap</td>\n",
       "      <td>24.0</td>\n",
       "      <td>yas_marina</td>\n",
       "    </tr>\n",
       "    <tr>\n",
       "      <th>2936</th>\n",
       "      <td>2936</td>\n",
       "      <td>17</td>\n",
       "      <td>Fernando Alonso</td>\n",
       "      <td>McLaren Honda</td>\n",
       "      <td>53</td>\n",
       "      <td>1:39:17.721</td>\n",
       "      <td>F. Alonso</td>\n",
       "      <td>abu-dhabi</td>\n",
       "      <td>2015</td>\n",
       "      <td>3.0</td>\n",
       "      <td>...</td>\n",
       "      <td>1:43.187</td>\n",
       "      <td>4.0</td>\n",
       "      <td>14.0</td>\n",
       "      <td>945.0</td>\n",
       "      <td>Abu Dhabi Grand Prix</td>\n",
       "      <td>Abu Dhabi</td>\n",
       "      <td>12.0</td>\n",
       "      <td>+2 Laps</td>\n",
       "      <td>24.0</td>\n",
       "      <td>yas_marina</td>\n",
       "    </tr>\n",
       "    <tr>\n",
       "      <th>2937</th>\n",
       "      <td>2937</td>\n",
       "      <td>18</td>\n",
       "      <td>Will Stevens</td>\n",
       "      <td>Manor Marussia F1 Team</td>\n",
       "      <td>53</td>\n",
       "      <td>1:39:54.204</td>\n",
       "      <td>W. Stevens</td>\n",
       "      <td>abu-dhabi</td>\n",
       "      <td>2015</td>\n",
       "      <td>18.0</td>\n",
       "      <td>...</td>\n",
       "      <td>1:46.297</td>\n",
       "      <td>829.0</td>\n",
       "      <td>28.0</td>\n",
       "      <td>945.0</td>\n",
       "      <td>Abu Dhabi Grand Prix</td>\n",
       "      <td>Abu Dhabi</td>\n",
       "      <td>12.0</td>\n",
       "      <td>+2 Laps</td>\n",
       "      <td>24.0</td>\n",
       "      <td>yas_marina</td>\n",
       "    </tr>\n",
       "    <tr>\n",
       "      <th>2938</th>\n",
       "      <td>2938</td>\n",
       "      <td>19</td>\n",
       "      <td>Roberto Merhi</td>\n",
       "      <td>Manor Marussia F1 Team</td>\n",
       "      <td>52</td>\n",
       "      <td>1:39:11.622</td>\n",
       "      <td>R. Merhi</td>\n",
       "      <td>abu-dhabi</td>\n",
       "      <td>2015</td>\n",
       "      <td>19.0</td>\n",
       "      <td>...</td>\n",
       "      <td>NaN</td>\n",
       "      <td>833.0</td>\n",
       "      <td>98.0</td>\n",
       "      <td>945.0</td>\n",
       "      <td>Abu Dhabi Grand Prix</td>\n",
       "      <td>Abu Dhabi</td>\n",
       "      <td>13.0</td>\n",
       "      <td>+3 Laps</td>\n",
       "      <td>24.0</td>\n",
       "      <td>yas_marina</td>\n",
       "    </tr>\n",
       "    <tr>\n",
       "      <th>2939</th>\n",
       "      <td>2939</td>\n",
       "      <td>20</td>\n",
       "      <td>Pastor Maldonado</td>\n",
       "      <td>Lotus F1 Team</td>\n",
       "      <td>0</td>\n",
       "      <td>NaN</td>\n",
       "      <td>P. Maldonado</td>\n",
       "      <td>abu-dhabi</td>\n",
       "      <td>2015</td>\n",
       "      <td>NaN</td>\n",
       "      <td>...</td>\n",
       "      <td>1:42.807</td>\n",
       "      <td>813.0</td>\n",
       "      <td>13.0</td>\n",
       "      <td>945.0</td>\n",
       "      <td>Abu Dhabi Grand Prix</td>\n",
       "      <td>Abu Dhabi</td>\n",
       "      <td>4.0</td>\n",
       "      <td>Collision</td>\n",
       "      <td>24.0</td>\n",
       "      <td>yas_marina</td>\n",
       "    </tr>\n",
       "  </tbody>\n",
       "</table>\n",
       "<p>2940 rows × 50 columns</p>\n",
       "</div>"
      ],
      "text/plain": [
       "      Unnamed: 0 CLASS            DRIVER                           TEAM LAPS  \\\n",
       "0              0     1    Lewis Hamilton  Mercedes-AMG Petronas F1 Team   56   \n",
       "1              1     2    Max Verstappen          Red Bull Racing Honda   56   \n",
       "2              2     3   Valtteri Bottas  Mercedes-AMG Petronas F1 Team   56   \n",
       "3              3     4      Lando Norris                McLaren F1 Team   56   \n",
       "4              4     5      Sergio Perez          Red Bull Racing Honda   56   \n",
       "...          ...   ...               ...                            ...  ...   \n",
       "2935        2935    16    Max Verstappen            Scuderia Toro Rosso   54   \n",
       "2936        2936    17   Fernando Alonso                  McLaren Honda   53   \n",
       "2937        2937    18      Will Stevens         Manor Marussia F1 Team   53   \n",
       "2938        2938    19     Roberto Merhi         Manor Marussia F1 Team   52   \n",
       "2939        2939    20  Pastor Maldonado                  Lotus F1 Team    0   \n",
       "\n",
       "        RACE_TIME   DRIVER_SNAME GRAND_PRIX  SEASON  FLAP_POS  ...   GD_TIME  \\\n",
       "0     1:32:03.897    L. Hamilton    bahrain    2021       4.0  ...  1:29.385   \n",
       "1     1:32:04.642  M. Verstappen    bahrain    2021       2.0  ...  1:28.997   \n",
       "2     1:32:41.280      V. Bottas    bahrain    2021       1.0  ...  1:29.586   \n",
       "3     1:32:50.363      L. Norris    bahrain    2021       6.0  ...  1:29.974   \n",
       "4     1:32:55.944       S. Perez    bahrain    2021       3.0  ...  1:30.659   \n",
       "...           ...            ...        ...     ...       ...  ...       ...   \n",
       "2935  1:39:09.064  M. Verstappen  abu-dhabi    2015       6.0  ...  1:42.521   \n",
       "2936  1:39:17.721      F. Alonso  abu-dhabi    2015       3.0  ...  1:43.187   \n",
       "2937  1:39:54.204     W. Stevens  abu-dhabi    2015      18.0  ...  1:46.297   \n",
       "2938  1:39:11.622       R. Merhi  abu-dhabi    2015      19.0  ...       NaN   \n",
       "2939          NaN   P. Maldonado  abu-dhabi    2015       NaN  ...  1:42.807   \n",
       "\n",
       "      DRIVER_ID  NUMBER  RACE_ID             RACE_NAME       RACE  STATUS_ID  \\\n",
       "0           1.0    44.0   1052.0    Bahrain Grand Prix    Bahrain        1.0   \n",
       "1         830.0    33.0   1052.0    Bahrain Grand Prix    Bahrain        1.0   \n",
       "2         822.0    77.0   1052.0    Bahrain Grand Prix    Bahrain        1.0   \n",
       "3         846.0     4.0   1052.0    Bahrain Grand Prix    Bahrain        1.0   \n",
       "4         815.0    11.0   1052.0    Bahrain Grand Prix    Bahrain        1.0   \n",
       "...         ...     ...      ...                   ...        ...        ...   \n",
       "2935      830.0    33.0    945.0  Abu Dhabi Grand Prix  Abu Dhabi       11.0   \n",
       "2936        4.0    14.0    945.0  Abu Dhabi Grand Prix  Abu Dhabi       12.0   \n",
       "2937      829.0    28.0    945.0  Abu Dhabi Grand Prix  Abu Dhabi       12.0   \n",
       "2938      833.0    98.0    945.0  Abu Dhabi Grand Prix  Abu Dhabi       13.0   \n",
       "2939      813.0    13.0    945.0  Abu Dhabi Grand Prix  Abu Dhabi        4.0   \n",
       "\n",
       "      DRIVER_STATUS CIRCUIT_ID  CIRCUIT_REF  \n",
       "0          Finished        3.0      bahrain  \n",
       "1          Finished        3.0      bahrain  \n",
       "2          Finished        3.0      bahrain  \n",
       "3          Finished        3.0      bahrain  \n",
       "4          Finished        3.0      bahrain  \n",
       "...             ...        ...          ...  \n",
       "2935         +1 Lap       24.0   yas_marina  \n",
       "2936        +2 Laps       24.0   yas_marina  \n",
       "2937        +2 Laps       24.0   yas_marina  \n",
       "2938        +3 Laps       24.0   yas_marina  \n",
       "2939      Collision       24.0   yas_marina  \n",
       "\n",
       "[2940 rows x 50 columns]"
      ]
     },
     "execution_count": 135,
     "metadata": {},
     "output_type": "execute_result"
    }
   ],
   "source": [
    "races_1"
   ]
  },
  {
   "cell_type": "code",
   "execution_count": 136,
   "id": "867b4112",
   "metadata": {
    "scrolled": false
   },
   "outputs": [
    {
     "data": {
      "text/html": [
       "<div>\n",
       "<style scoped>\n",
       "    .dataframe tbody tr th:only-of-type {\n",
       "        vertical-align: middle;\n",
       "    }\n",
       "\n",
       "    .dataframe tbody tr th {\n",
       "        vertical-align: top;\n",
       "    }\n",
       "\n",
       "    .dataframe thead th {\n",
       "        text-align: right;\n",
       "    }\n",
       "</style>\n",
       "<table border=\"1\" class=\"dataframe\">\n",
       "  <thead>\n",
       "    <tr style=\"text-align: right;\">\n",
       "      <th></th>\n",
       "      <th>QL_CLASS</th>\n",
       "      <th>GD_CLASS</th>\n",
       "    </tr>\n",
       "  </thead>\n",
       "  <tbody>\n",
       "    <tr>\n",
       "      <th>0</th>\n",
       "      <td>2.0</td>\n",
       "      <td>2</td>\n",
       "    </tr>\n",
       "    <tr>\n",
       "      <th>1</th>\n",
       "      <td>1.0</td>\n",
       "      <td>1</td>\n",
       "    </tr>\n",
       "    <tr>\n",
       "      <th>2</th>\n",
       "      <td>3.0</td>\n",
       "      <td>3</td>\n",
       "    </tr>\n",
       "    <tr>\n",
       "      <th>3</th>\n",
       "      <td>7.0</td>\n",
       "      <td>7</td>\n",
       "    </tr>\n",
       "    <tr>\n",
       "      <th>4</th>\n",
       "      <td>11.0</td>\n",
       "      <td>11</td>\n",
       "    </tr>\n",
       "    <tr>\n",
       "      <th>...</th>\n",
       "      <td>...</td>\n",
       "      <td>...</td>\n",
       "    </tr>\n",
       "    <tr>\n",
       "      <th>2935</th>\n",
       "      <td>11.0</td>\n",
       "      <td>11</td>\n",
       "    </tr>\n",
       "    <tr>\n",
       "      <th>2936</th>\n",
       "      <td>17.0</td>\n",
       "      <td>16</td>\n",
       "    </tr>\n",
       "    <tr>\n",
       "      <th>2937</th>\n",
       "      <td>19.0</td>\n",
       "      <td>19</td>\n",
       "    </tr>\n",
       "    <tr>\n",
       "      <th>2938</th>\n",
       "      <td>20.0</td>\n",
       "      <td>NaN</td>\n",
       "    </tr>\n",
       "    <tr>\n",
       "      <th>2939</th>\n",
       "      <td>13.0</td>\n",
       "      <td>13</td>\n",
       "    </tr>\n",
       "  </tbody>\n",
       "</table>\n",
       "<p>2940 rows × 2 columns</p>\n",
       "</div>"
      ],
      "text/plain": [
       "      QL_CLASS GD_CLASS\n",
       "0          2.0        2\n",
       "1          1.0        1\n",
       "2          3.0        3\n",
       "3          7.0        7\n",
       "4         11.0       11\n",
       "...        ...      ...\n",
       "2935      11.0       11\n",
       "2936      17.0       16\n",
       "2937      19.0       19\n",
       "2938      20.0      NaN\n",
       "2939      13.0       13\n",
       "\n",
       "[2940 rows x 2 columns]"
      ]
     },
     "execution_count": 136,
     "metadata": {},
     "output_type": "execute_result"
    }
   ],
   "source": [
    "pole_win = races_1[['QL_CLASS', 'GD_CLASS']]\n",
    "pole_win"
   ]
  },
  {
   "cell_type": "code",
   "execution_count": 137,
   "id": "7a8ef165",
   "metadata": {},
   "outputs": [],
   "source": [
    "pole_win = pole_win[pole_win['GD_CLASS']!='PIT']"
   ]
  },
  {
   "cell_type": "code",
   "execution_count": 138,
   "id": "dbea57df",
   "metadata": {
    "scrolled": true
   },
   "outputs": [
    {
     "name": "stderr",
     "output_type": "stream",
     "text": [
      "C:\\Users\\chezb\\AppData\\Local\\Temp/ipykernel_23168/3054242958.py:1: SettingWithCopyWarning:\n",
      "\n",
      "\n",
      "A value is trying to be set on a copy of a slice from a DataFrame.\n",
      "Try using .loc[row_indexer,col_indexer] = value instead\n",
      "\n",
      "See the caveats in the documentation: https://pandas.pydata.org/pandas-docs/stable/user_guide/indexing.html#returning-a-view-versus-a-copy\n",
      "\n"
     ]
    }
   ],
   "source": [
    "pole_win['GD_CLASS'] = pole_win['GD_CLASS'].astype(float)"
   ]
  },
  {
   "cell_type": "code",
   "execution_count": 139,
   "id": "b4dc0414",
   "metadata": {},
   "outputs": [
    {
     "data": {
      "text/html": [
       "<div>\n",
       "<style scoped>\n",
       "    .dataframe tbody tr th:only-of-type {\n",
       "        vertical-align: middle;\n",
       "    }\n",
       "\n",
       "    .dataframe tbody tr th {\n",
       "        vertical-align: top;\n",
       "    }\n",
       "\n",
       "    .dataframe thead th {\n",
       "        text-align: right;\n",
       "    }\n",
       "</style>\n",
       "<table border=\"1\" class=\"dataframe\">\n",
       "  <thead>\n",
       "    <tr style=\"text-align: right;\">\n",
       "      <th></th>\n",
       "      <th>QL_CLASS</th>\n",
       "      <th>GD_CLASS</th>\n",
       "    </tr>\n",
       "  </thead>\n",
       "  <tbody>\n",
       "    <tr>\n",
       "      <th>0</th>\n",
       "      <td>2.0</td>\n",
       "      <td>2.0</td>\n",
       "    </tr>\n",
       "    <tr>\n",
       "      <th>1</th>\n",
       "      <td>1.0</td>\n",
       "      <td>1.0</td>\n",
       "    </tr>\n",
       "    <tr>\n",
       "      <th>2</th>\n",
       "      <td>3.0</td>\n",
       "      <td>3.0</td>\n",
       "    </tr>\n",
       "    <tr>\n",
       "      <th>3</th>\n",
       "      <td>7.0</td>\n",
       "      <td>7.0</td>\n",
       "    </tr>\n",
       "    <tr>\n",
       "      <th>4</th>\n",
       "      <td>11.0</td>\n",
       "      <td>11.0</td>\n",
       "    </tr>\n",
       "    <tr>\n",
       "      <th>...</th>\n",
       "      <td>...</td>\n",
       "      <td>...</td>\n",
       "    </tr>\n",
       "    <tr>\n",
       "      <th>2935</th>\n",
       "      <td>11.0</td>\n",
       "      <td>11.0</td>\n",
       "    </tr>\n",
       "    <tr>\n",
       "      <th>2936</th>\n",
       "      <td>17.0</td>\n",
       "      <td>16.0</td>\n",
       "    </tr>\n",
       "    <tr>\n",
       "      <th>2937</th>\n",
       "      <td>19.0</td>\n",
       "      <td>19.0</td>\n",
       "    </tr>\n",
       "    <tr>\n",
       "      <th>2938</th>\n",
       "      <td>20.0</td>\n",
       "      <td>NaN</td>\n",
       "    </tr>\n",
       "    <tr>\n",
       "      <th>2939</th>\n",
       "      <td>13.0</td>\n",
       "      <td>13.0</td>\n",
       "    </tr>\n",
       "  </tbody>\n",
       "</table>\n",
       "<p>2939 rows × 2 columns</p>\n",
       "</div>"
      ],
      "text/plain": [
       "      QL_CLASS  GD_CLASS\n",
       "0          2.0       2.0\n",
       "1          1.0       1.0\n",
       "2          3.0       3.0\n",
       "3          7.0       7.0\n",
       "4         11.0      11.0\n",
       "...        ...       ...\n",
       "2935      11.0      11.0\n",
       "2936      17.0      16.0\n",
       "2937      19.0      19.0\n",
       "2938      20.0       NaN\n",
       "2939      13.0      13.0\n",
       "\n",
       "[2939 rows x 2 columns]"
      ]
     },
     "execution_count": 139,
     "metadata": {},
     "output_type": "execute_result"
    }
   ],
   "source": [
    "pole_win"
   ]
  },
  {
   "cell_type": "code",
   "execution_count": 140,
   "id": "b2204574",
   "metadata": {
    "scrolled": false
   },
   "outputs": [
    {
     "data": {
      "image/png": "[encoded data removed]",
      "text/plain": [
       "<Figure size 864x576 with 1 Axes>"
      ]
     },
     "metadata": {
      "needs_background": "light"
     },
     "output_type": "display_data"
    }
   ],
   "source": [
    "plt.figure(figsize=(12,8))\n",
    "ax = plt.subplot(111)\n",
    "x= pole_win['QL_CLASS']\n",
    "y= pole_win['GD_CLASS']\n",
    "plt.plot('QL_CLASS', 'GD_CLASS', data=pole_win, linestyle='none', marker='^', markersize=16, markerfacecolor='black', markeredgecolor=\"red\", markeredgewidth=5)\n",
    "plt.xticks(np.arange(1,23,1))\n",
    "plt.yticks(np.arange(1,23,1))\n",
    "plt.title('Pole Position vs Final Race Position', fontsize= 16)\n",
    "ax.spines['right'].set_visible(False)\n",
    "ax.spines['top'].set_visible(False)\n",
    "plt.show()"
   ]
  },
  {
   "cell_type": "markdown",
   "id": "a744708a",
   "metadata": {},
   "source": [
    "# @F1"
   ]
  },
  {
   "cell_type": "code",
   "execution_count": 141,
   "id": "1a5a5caa",
   "metadata": {
    "scrolled": true
   },
   "outputs": [
    {
     "name": "stderr",
     "output_type": "stream",
     "text": [
      "C:\\Users\\chezb\\anaconda3\\lib\\site-packages\\IPython\\core\\interactiveshell.py:3444: DtypeWarning:\n",
      "\n",
      "Columns (5,6,7,12) have mixed types.Specify dtype option on import or set low_memory=False.\n",
      "\n"
     ]
    },
    {
     "data": {
      "text/html": [
       "<div>\n",
       "<style scoped>\n",
       "    .dataframe tbody tr th:only-of-type {\n",
       "        vertical-align: middle;\n",
       "    }\n",
       "\n",
       "    .dataframe tbody tr th {\n",
       "        vertical-align: top;\n",
       "    }\n",
       "\n",
       "    .dataframe thead th {\n",
       "        text-align: right;\n",
       "    }\n",
       "</style>\n",
       "<table border=\"1\" class=\"dataframe\">\n",
       "  <thead>\n",
       "    <tr style=\"text-align: right;\">\n",
       "      <th></th>\n",
       "      <th>user_name</th>\n",
       "      <th>user_location</th>\n",
       "      <th>user_description</th>\n",
       "      <th>user_created</th>\n",
       "      <th>user_followers</th>\n",
       "      <th>user_friends</th>\n",
       "      <th>user_favourites</th>\n",
       "      <th>user_verified</th>\n",
       "      <th>date</th>\n",
       "      <th>text</th>\n",
       "      <th>hashtags</th>\n",
       "      <th>source</th>\n",
       "      <th>is_retweet</th>\n",
       "    </tr>\n",
       "  </thead>\n",
       "  <tbody>\n",
       "    <tr>\n",
       "      <th>0</th>\n",
       "      <td>Zack Shephard</td>\n",
       "      <td>NaN</td>\n",
       "      <td>My opinions are mine ALONE. Venting is the onl...</td>\n",
       "      <td>2011-12-03 20:36:55</td>\n",
       "      <td>89.0</td>\n",
       "      <td>2598</td>\n",
       "      <td>212886</td>\n",
       "      <td>False</td>\n",
       "      <td>2021-08-01 23:59:18</td>\n",
       "      <td>The next great #F1 duo!!! @ESPNF1 https://t.co...</td>\n",
       "      <td>['F1']</td>\n",
       "      <td>Twitter for iPhone</td>\n",
       "      <td>False</td>\n",
       "    </tr>\n",
       "    <tr>\n",
       "      <th>1</th>\n",
       "      <td>Matteo Vannucci</td>\n",
       "      <td>NaN</td>\n",
       "      <td>Free speech, free ideas, random thoughts</td>\n",
       "      <td>2010-05-28 01:02:32</td>\n",
       "      <td>10.0</td>\n",
       "      <td>40</td>\n",
       "      <td>8</td>\n",
       "      <td>False</td>\n",
       "      <td>2021-08-01 23:59:10</td>\n",
       "      <td>@F1 What if…Hamilton would have gone to the pi...</td>\n",
       "      <td>['HungarianGP', 'F1']</td>\n",
       "      <td>Twitter for iPhone</td>\n",
       "      <td>False</td>\n",
       "    </tr>\n",
       "    <tr>\n",
       "      <th>2</th>\n",
       "      <td>Michelle</td>\n",
       "      <td>The Burbs</td>\n",
       "      <td>likes- movies, candy, being lazy, formula 1,  ...</td>\n",
       "      <td>2009-03-04 16:53:13</td>\n",
       "      <td>231.0</td>\n",
       "      <td>110</td>\n",
       "      <td>428</td>\n",
       "      <td>False</td>\n",
       "      <td>2021-08-01 23:58:48</td>\n",
       "      <td>This has been a tiring #f1 day... https://t.co...</td>\n",
       "      <td>['f1']</td>\n",
       "      <td>Twitter for Android</td>\n",
       "      <td>False</td>\n",
       "    </tr>\n",
       "    <tr>\n",
       "      <th>3</th>\n",
       "      <td>JoshWFC 🇧🇷</td>\n",
       "      <td>NaN</td>\n",
       "      <td>| JP10’s biggest fan | pronouns : João/Pedro |...</td>\n",
       "      <td>2021-04-05 16:14:53</td>\n",
       "      <td>156.0</td>\n",
       "      <td>443</td>\n",
       "      <td>2994</td>\n",
       "      <td>False</td>\n",
       "      <td>2021-08-01 23:58:11</td>\n",
       "      <td>Valteri Bottass tracking down Max Verstappen o...</td>\n",
       "      <td>['F1']</td>\n",
       "      <td>Twitter for iPhone</td>\n",
       "      <td>False</td>\n",
       "    </tr>\n",
       "    <tr>\n",
       "      <th>4</th>\n",
       "      <td>Ria Tagulinao</td>\n",
       "      <td>MNL</td>\n",
       "      <td>Fun-sized Filipina writer @Medium</td>\n",
       "      <td>2009-06-22 16:08:51</td>\n",
       "      <td>833.0</td>\n",
       "      <td>379</td>\n",
       "      <td>30891</td>\n",
       "      <td>False</td>\n",
       "      <td>2021-08-01 23:57:40</td>\n",
       "      <td>No words to describe the #HungarianGP so I wil...</td>\n",
       "      <td>['HungarianGP', 'F1']</td>\n",
       "      <td>Twitter for iPhone</td>\n",
       "      <td>False</td>\n",
       "    </tr>\n",
       "  </tbody>\n",
       "</table>\n",
       "</div>"
      ],
      "text/plain": [
       "         user_name user_location  \\\n",
       "0    Zack Shephard           NaN   \n",
       "1  Matteo Vannucci           NaN   \n",
       "2         Michelle     The Burbs   \n",
       "3       JoshWFC 🇧🇷           NaN   \n",
       "4    Ria Tagulinao           MNL   \n",
       "\n",
       "                                    user_description         user_created  \\\n",
       "0  My opinions are mine ALONE. Venting is the onl...  2011-12-03 20:36:55   \n",
       "1           Free speech, free ideas, random thoughts  2010-05-28 01:02:32   \n",
       "2  likes- movies, candy, being lazy, formula 1,  ...  2009-03-04 16:53:13   \n",
       "3  | JP10’s biggest fan | pronouns : João/Pedro |...  2021-04-05 16:14:53   \n",
       "4                  Fun-sized Filipina writer @Medium  2009-06-22 16:08:51   \n",
       "\n",
       "   user_followers user_friends user_favourites user_verified  \\\n",
       "0            89.0         2598          212886         False   \n",
       "1            10.0           40               8         False   \n",
       "2           231.0          110             428         False   \n",
       "3           156.0          443            2994         False   \n",
       "4           833.0          379           30891         False   \n",
       "\n",
       "                  date                                               text  \\\n",
       "0  2021-08-01 23:59:18  The next great #F1 duo!!! @ESPNF1 https://t.co...   \n",
       "1  2021-08-01 23:59:10  @F1 What if…Hamilton would have gone to the pi...   \n",
       "2  2021-08-01 23:58:48  This has been a tiring #f1 day... https://t.co...   \n",
       "3  2021-08-01 23:58:11  Valteri Bottass tracking down Max Verstappen o...   \n",
       "4  2021-08-01 23:57:40  No words to describe the #HungarianGP so I wil...   \n",
       "\n",
       "                hashtags               source is_retweet  \n",
       "0                 ['F1']   Twitter for iPhone      False  \n",
       "1  ['HungarianGP', 'F1']   Twitter for iPhone      False  \n",
       "2                 ['f1']  Twitter for Android      False  \n",
       "3                 ['F1']   Twitter for iPhone      False  \n",
       "4  ['HungarianGP', 'F1']   Twitter for iPhone      False  "
      ]
     },
     "execution_count": 141,
     "metadata": {},
     "output_type": "execute_result"
    }
   ],
   "source": [
    "tweets = pd.read_csv('F1_tweets.csv')\n",
    "tweets.head()"
   ]
  },
  {
   "cell_type": "code",
   "execution_count": 142,
   "id": "00dae80b",
   "metadata": {
    "scrolled": false
   },
   "outputs": [
    {
     "data": {
      "text/plain": [
       "0    The next great #F1 duo!!! @ESPNF1 https://t.co...\n",
       "1    @F1 What if…Hamilton would have gone to the pi...\n",
       "2    This has been a tiring #f1 day... https://t.co...\n",
       "3    Valteri Bottass tracking down Max Verstappen o...\n",
       "4    No words to describe the #HungarianGP so I wil...\n",
       "Name: text, dtype: object"
      ]
     },
     "execution_count": 142,
     "metadata": {},
     "output_type": "execute_result"
    }
   ],
   "source": [
    "tweets_text = tweets['text']\n",
    "tweets_text.head()"
   ]
  },
  {
   "cell_type": "code",
   "execution_count": 145,
   "id": "4bb14421",
   "metadata": {},
   "outputs": [
    {
     "ename": "KeyboardInterrupt",
     "evalue": "",
     "output_type": "error",
     "traceback": [
      "\u001b[1;31m---------------------------------------------------------------------------\u001b[0m",
      "\u001b[1;31mKeyboardInterrupt\u001b[0m                         Traceback (most recent call last)",
      "\u001b[1;32m~\\AppData\\Local\\Temp/ipykernel_23168/1195000556.py\u001b[0m in \u001b[0;36m<module>\u001b[1;34m\u001b[0m\n\u001b[0;32m      1\u001b[0m \u001b[0mresults\u001b[0m \u001b[1;33m=\u001b[0m \u001b[1;34m\"\"\u001b[0m\u001b[1;33m\u001b[0m\u001b[1;33m\u001b[0m\u001b[0m\n\u001b[0;32m      2\u001b[0m \u001b[1;32mfor\u001b[0m \u001b[0mi\u001b[0m\u001b[1;33m,\u001b[0m \u001b[0mtweet\u001b[0m \u001b[1;32min\u001b[0m \u001b[0menumerate\u001b[0m\u001b[1;33m(\u001b[0m\u001b[0mtweets_text\u001b[0m\u001b[1;33m)\u001b[0m\u001b[1;33m:\u001b[0m\u001b[1;33m\u001b[0m\u001b[1;33m\u001b[0m\u001b[0m\n\u001b[1;32m----> 3\u001b[1;33m     \u001b[0mresults\u001b[0m \u001b[1;33m+=\u001b[0m \u001b[0mtweet\u001b[0m\u001b[1;33m\u001b[0m\u001b[1;33m\u001b[0m\u001b[0m\n\u001b[0m",
      "\u001b[1;31mKeyboardInterrupt\u001b[0m: "
     ]
    }
   ],
   "source": [
    "results = \"\"\n",
    "for i, tweet in enumerate(tweets_text):\n",
    "    results += tweet"
   ]
  },
  {
   "cell_type": "code",
   "execution_count": null,
   "id": "71cc138b",
   "metadata": {},
   "outputs": [],
   "source": [
    "results"
   ]
  },
  {
   "cell_type": "code",
   "execution_count": null,
   "id": "cf31581b",
   "metadata": {},
   "outputs": [],
   "source": []
  }
 ],
 "metadata": {
  "kernelspec": {
   "display_name": "Python 3 (ipykernel)",
   "language": "python",
   "name": "python3"
  },
  "language_info": {
   "codemirror_mode": {
    "name": "ipython",
    "version": 3
   },
   "file_extension": ".py",
   "mimetype": "text/x-python",
   "name": "python",
   "nbconvert_exporter": "python",
   "pygments_lexer": "ipython3",
   "version": "3.9.7"
  },
  "toc-autonumbering": true
 },
 "nbformat": 4,
 "nbformat_minor": 5
}
